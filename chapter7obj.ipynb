{
 "cells": [
  {
   "cell_type": "code",
   "execution_count": 16,
   "id": "3fd6924b",
   "metadata": {},
   "outputs": [
    {
     "data": {
      "text/plain": [
       "'Hello, world!'"
      ]
     },
     "execution_count": 16,
     "metadata": {},
     "output_type": "execute_result"
    }
   ],
   "source": [
    ">>> from random import choice\n",
    ">>> x = choice(['Hello, world!', [1, 2, 'e', 'e', 4]])\n",
    "x\n"
   ]
  },
  {
   "cell_type": "code",
   "execution_count": 17,
   "id": "fc351443",
   "metadata": {},
   "outputs": [
    {
     "data": {
      "text/plain": [
       "1"
      ]
     },
     "execution_count": 17,
     "metadata": {},
     "output_type": "execute_result"
    }
   ],
   "source": [
    ">>> x.count('e')\n"
   ]
  },
  {
   "cell_type": "markdown",
   "id": "91922046",
   "metadata": {},
   "source": [
    "上面的x可以是字符串，也可是列表，但count可以自动\n",
    "匹配，这就是多态处理。"
   ]
  },
  {
   "cell_type": "markdown",
   "id": "f3f9a14a",
   "metadata": {},
   "source": [
    "如你所见，这个函数还使用了repr。repr是多态的集大成者之一，可用于任何对象，"
   ]
  },
  {
   "cell_type": "code",
   "execution_count": 18,
   "id": "473ae486",
   "metadata": {},
   "outputs": [],
   "source": [
    "def length_message(x):\n",
    "     print(\"The length of\", repr(x), \"is\", len(x))\n"
   ]
  },
  {
   "cell_type": "code",
   "execution_count": 19,
   "id": "89b2e5c8",
   "metadata": {},
   "outputs": [
    {
     "name": "stdout",
     "output_type": "stream",
     "text": [
      "The length of 'Fnord' is 5\n"
     ]
    }
   ],
   "source": [
    ">>> length_message('Fnord')\n"
   ]
  },
  {
   "cell_type": "code",
   "execution_count": 20,
   "id": "dd59f5c9",
   "metadata": {},
   "outputs": [
    {
     "name": "stdout",
     "output_type": "stream",
     "text": [
      "The length of [1, 2, 3] is 3\n"
     ]
    }
   ],
   "source": [
    ">>> length_message([1, 2, 3])\n"
   ]
  },
  {
   "cell_type": "code",
   "execution_count": 22,
   "id": "0f2e4041",
   "metadata": {},
   "outputs": [
    {
     "name": "stdout",
     "output_type": "stream",
     "text": [
      "The length of ((1, 2, 3), 12) is 2\n"
     ]
    }
   ],
   "source": [
    ">>> length_message(((1, 2, 3),12))\n"
   ]
  },
  {
   "cell_type": "code",
   "execution_count": 24,
   "id": "1fb9cf0a",
   "metadata": {},
   "outputs": [],
   "source": [
    "class Person:\n",
    "            def set_name(self, name):\n",
    "                self.name = name\n",
    "\n",
    "\n",
    "            def get_name(self):\n",
    "                return self.name\n",
    "\n",
    "\n",
    "            def greet(self):\n",
    "                print(\"Hello, world! I'm {}.\".format(self.name))\n"
   ]
  },
  {
   "cell_type": "code",
   "execution_count": 25,
   "id": "59debfbb",
   "metadata": {},
   "outputs": [
    {
     "name": "stdout",
     "output_type": "stream",
     "text": [
      "Hello, world! I'm Luke Skywalker.\n"
     ]
    }
   ],
   "source": [
    ">>> foo = Person()\n",
    ">>> bar = Person()\n",
    ">>> foo.set_name('Luke Skywalker')\n",
    ">>> bar.set_name('Anakin Skywalker')\n",
    ">>> foo.greet()\n",
    "        "
   ]
  },
  {
   "cell_type": "code",
   "execution_count": 26,
   "id": "f0b2ff0f",
   "metadata": {},
   "outputs": [
    {
     "name": "stdout",
     "output_type": "stream",
     "text": [
      "Hello, world! I'm Anakin Skywalker.\n"
     ]
    }
   ],
   "source": [
    "bar.greet()"
   ]
  },
  {
   "cell_type": "code",
   "execution_count": 27,
   "id": "05ab4c15",
   "metadata": {},
   "outputs": [
    {
     "data": {
      "text/plain": [
       "'Luke Skywalker'"
      ]
     },
     "execution_count": 27,
     "metadata": {},
     "output_type": "execute_result"
    }
   ],
   "source": [
    "foo.name\n"
   ]
  },
  {
   "cell_type": "code",
   "execution_count": 28,
   "id": "13751033",
   "metadata": {},
   "outputs": [
    {
     "name": "stdout",
     "output_type": "stream",
     "text": [
      "Hello, world! I'm Yoda.\n"
     ]
    }
   ],
   "source": [
    ">>> bar.name = 'Yoda'\n",
    ">>> bar.greet()\n"
   ]
  },
  {
   "cell_type": "markdown",
   "id": "1ce05487",
   "metadata": {},
   "source": [
    "要让方法或属性成为私有的（不能从外部访问），只需让其名称以两个下划线打头即可。"
   ]
  },
  {
   "cell_type": "code",
   "execution_count": 29,
   "id": "7db640b3",
   "metadata": {},
   "outputs": [],
   "source": [
    "class Secretive:\n",
    "        def __inaccessible(self):\n",
    "            print(\"Bet you can't see me ...\")\n",
    "\n",
    "\n",
    "        def accessible(self):\n",
    "            print(\"The secret message is:\")\n",
    "            self.__inaccessible()\n"
   ]
  },
  {
   "cell_type": "code",
   "execution_count": 30,
   "id": "5fdea714",
   "metadata": {},
   "outputs": [
    {
     "ename": "AttributeError",
     "evalue": "'Secretive' object has no attribute '__inaccessible'",
     "output_type": "error",
     "traceback": [
      "\u001b[0;31m---------------------------------------------------------------------------\u001b[0m",
      "\u001b[0;31mAttributeError\u001b[0m                            Traceback (most recent call last)",
      "Input \u001b[0;32mIn [30]\u001b[0m, in \u001b[0;36m<cell line: 2>\u001b[0;34m()\u001b[0m\n\u001b[1;32m      1\u001b[0m s \u001b[38;5;241m=\u001b[39m Secretive()\n\u001b[0;32m----> 2\u001b[0m \u001b[43ms\u001b[49m\u001b[38;5;241;43m.\u001b[39;49m\u001b[43m__inaccessible\u001b[49m()\n",
      "\u001b[0;31mAttributeError\u001b[0m: 'Secretive' object has no attribute '__inaccessible'"
     ]
    }
   ],
   "source": [
    ">>> s = Secretive()\n",
    ">>> s.__inaccessible()\n"
   ]
  },
  {
   "cell_type": "code",
   "execution_count": 31,
   "id": "f7e35606",
   "metadata": {},
   "outputs": [
    {
     "name": "stdout",
     "output_type": "stream",
     "text": [
      "The secret message is:\n",
      "Bet you can't see me ...\n"
     ]
    }
   ],
   "source": [
    ">>> s.accessible()\n"
   ]
  },
  {
   "cell_type": "markdown",
   "id": "71dceab1",
   "metadata": {},
   "source": [
    "虽然以两个下划线打头有点怪异，但这样的方法类似于其他语言中的标准私有方法。然而，幕后的处理手法并不标准：在类定义中，对所有以两个下划线打头的名称都进行转换，即在开头加上一个下划线和类名。"
   ]
  },
  {
   "cell_type": "code",
   "execution_count": 32,
   "id": "7ec802df",
   "metadata": {},
   "outputs": [
    {
     "data": {
      "text/plain": [
       "<function __main__.Secretive.__inaccessible(self)>"
      ]
     },
     "execution_count": 32,
     "metadata": {},
     "output_type": "execute_result"
    }
   ],
   "source": [
    ">>> Secretive._Secretive__inaccessible\n"
   ]
  },
  {
   "cell_type": "code",
   "execution_count": 33,
   "id": "57b21f2b",
   "metadata": {},
   "outputs": [
    {
     "name": "stdout",
     "output_type": "stream",
     "text": [
      "Bet you can't see me ...\n"
     ]
    }
   ],
   "source": [
    ">>> s._Secretive__inaccessible()\n"
   ]
  },
  {
   "cell_type": "code",
   "execution_count": 34,
   "id": "af4fe0dd",
   "metadata": {},
   "outputs": [],
   "source": [
    "class MemberCounter:\n",
    "            members = 0\n",
    "            def init(self):\n",
    "              MemberCounter.members += 1\n"
   ]
  },
  {
   "cell_type": "code",
   "execution_count": 35,
   "id": "656479ad",
   "metadata": {},
   "outputs": [
    {
     "data": {
      "text/plain": [
       "1"
      ]
     },
     "execution_count": 35,
     "metadata": {},
     "output_type": "execute_result"
    }
   ],
   "source": [
    ">>> m1 = MemberCounter()\n",
    ">>> m1.init()\n",
    ">>> MemberCounter.members\n"
   ]
  },
  {
   "cell_type": "code",
   "execution_count": 36,
   "id": "9e59b923",
   "metadata": {},
   "outputs": [
    {
     "data": {
      "text/plain": [
       "2"
      ]
     },
     "execution_count": 36,
     "metadata": {},
     "output_type": "execute_result"
    }
   ],
   "source": [
    ">>> m2 = MemberCounter()\n",
    ">>> m2.init()\n",
    ">>> MemberCounter.members\n"
   ]
  },
  {
   "cell_type": "code",
   "execution_count": 37,
   "id": "fd4129a8",
   "metadata": {},
   "outputs": [],
   "source": [
    "class Filter:\n",
    "        def init(self):\n",
    "            self.blocked = []\n",
    "        def filter(self, sequence):\n",
    "            return [x for x in sequence if x not in self.blocked]\n",
    "\n",
    "\n",
    "class SPAMFilter(Filter): # SPAMFilter是Filter的子类\n",
    "        def init(self): # 重写超类Filter的方法init\n",
    "            self.blocked = ['SPAM']\n"
   ]
  },
  {
   "cell_type": "code",
   "execution_count": 38,
   "id": "cc84717d",
   "metadata": {},
   "outputs": [
    {
     "data": {
      "text/plain": [
       "[1, 2, 3]"
      ]
     },
     "execution_count": 38,
     "metadata": {},
     "output_type": "execute_result"
    }
   ],
   "source": [
    ">>> f = Filter()\n",
    ">>> f.init()\n",
    ">>> f.filter([1, 2, 3])\n"
   ]
  },
  {
   "cell_type": "code",
   "execution_count": 39,
   "id": "2f09a4eb",
   "metadata": {},
   "outputs": [
    {
     "data": {
      "text/plain": [
       "['eggs', 'bacon']"
      ]
     },
     "execution_count": 39,
     "metadata": {},
     "output_type": "execute_result"
    }
   ],
   "source": [
    ">>> s = SPAMFilter()\n",
    ">>> s.init()\n",
    ">>> s.filter(['SPAM', 'SPAM', 'SPAM', 'SPAM', 'eggs', 'bacon', 'SPAM'])\n"
   ]
  },
  {
   "cell_type": "markdown",
   "id": "8c155316",
   "metadata": {},
   "source": [
    "请注意SPAMFilter类的定义中有两个要点。\n",
    "❑ 以提供新定义的方式重写了Filter类中方法init的定义。\n",
    "❑ 直接从Filter类继承了方法filter的定义，因此无需重新编写其定义。\n",
    "第二点说明了继承很有用的原因：可以创建大量不同的过滤器类，它们都从Filter类派生而来，并且都使用已编写好的方法filter。这就是懒惰的好处。"
   ]
  },
  {
   "cell_type": "code",
   "execution_count": null,
   "id": "5d14fb51",
   "metadata": {},
   "outputs": [],
   "source": []
  }
 ],
 "metadata": {
  "kernelspec": {
   "display_name": "Python 3 (ipykernel)",
   "language": "python",
   "name": "python3"
  },
  "language_info": {
   "codemirror_mode": {
    "name": "ipython",
    "version": 3
   },
   "file_extension": ".py",
   "mimetype": "text/x-python",
   "name": "python",
   "nbconvert_exporter": "python",
   "pygments_lexer": "ipython3",
   "version": "3.9.7"
  }
 },
 "nbformat": 4,
 "nbformat_minor": 5
}
