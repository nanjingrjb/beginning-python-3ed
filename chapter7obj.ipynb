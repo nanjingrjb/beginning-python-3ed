{
 "cells": [
  {
   "cell_type": "code",
   "execution_count": 16,
   "id": "3fd6924b",
   "metadata": {},
   "outputs": [
    {
     "data": {
      "text/plain": [
       "'Hello, world!'"
      ]
     },
     "execution_count": 16,
     "metadata": {},
     "output_type": "execute_result"
    }
   ],
   "source": [
    ">>> from random import choice\n",
    ">>> x = choice(['Hello, world!', [1, 2, 'e', 'e', 4]])\n",
    "x\n"
   ]
  },
  {
   "cell_type": "code",
   "execution_count": 17,
   "id": "fc351443",
   "metadata": {},
   "outputs": [
    {
     "data": {
      "text/plain": [
       "1"
      ]
     },
     "execution_count": 17,
     "metadata": {},
     "output_type": "execute_result"
    }
   ],
   "source": [
    ">>> x.count('e')\n"
   ]
  },
  {
   "cell_type": "markdown",
   "id": "91922046",
   "metadata": {},
   "source": [
    "上面的x可以是字符串，也可是列表，但count可以自动\n",
    "匹配，这就是多态处理。"
   ]
  },
  {
   "cell_type": "markdown",
   "id": "f3f9a14a",
   "metadata": {},
   "source": [
    "如你所见，这个函数还使用了repr。repr是多态的集大成者之一，可用于任何对象，"
   ]
  },
  {
   "cell_type": "code",
   "execution_count": 18,
   "id": "473ae486",
   "metadata": {},
   "outputs": [],
   "source": [
    "def length_message(x):\n",
    "     print(\"The length of\", repr(x), \"is\", len(x))\n"
   ]
  },
  {
   "cell_type": "code",
   "execution_count": 19,
   "id": "89b2e5c8",
   "metadata": {},
   "outputs": [
    {
     "name": "stdout",
     "output_type": "stream",
     "text": [
      "The length of 'Fnord' is 5\n"
     ]
    }
   ],
   "source": [
    ">>> length_message('Fnord')\n"
   ]
  },
  {
   "cell_type": "code",
   "execution_count": 20,
   "id": "dd59f5c9",
   "metadata": {},
   "outputs": [
    {
     "name": "stdout",
     "output_type": "stream",
     "text": [
      "The length of [1, 2, 3] is 3\n"
     ]
    }
   ],
   "source": [
    ">>> length_message([1, 2, 3])\n"
   ]
  },
  {
   "cell_type": "code",
   "execution_count": 22,
   "id": "0f2e4041",
   "metadata": {},
   "outputs": [
    {
     "name": "stdout",
     "output_type": "stream",
     "text": [
      "The length of ((1, 2, 3), 12) is 2\n"
     ]
    }
   ],
   "source": [
    ">>> length_message(((1, 2, 3),12))\n"
   ]
  },
  {
   "cell_type": "code",
   "execution_count": 24,
   "id": "1fb9cf0a",
   "metadata": {},
   "outputs": [],
   "source": [
    "class Person:\n",
    "            def set_name(self, name):\n",
    "                self.name = name\n",
    "\n",
    "\n",
    "            def get_name(self):\n",
    "                return self.name\n",
    "\n",
    "\n",
    "            def greet(self):\n",
    "                print(\"Hello, world! I'm {}.\".format(self.name))\n"
   ]
  },
  {
   "cell_type": "code",
   "execution_count": 25,
   "id": "59debfbb",
   "metadata": {},
   "outputs": [
    {
     "name": "stdout",
     "output_type": "stream",
     "text": [
      "Hello, world! I'm Luke Skywalker.\n"
     ]
    }
   ],
   "source": [
    ">>> foo = Person()\n",
    ">>> bar = Person()\n",
    ">>> foo.set_name('Luke Skywalker')\n",
    ">>> bar.set_name('Anakin Skywalker')\n",
    ">>> foo.greet()\n",
    "        "
   ]
  },
  {
   "cell_type": "code",
   "execution_count": 26,
   "id": "f0b2ff0f",
   "metadata": {},
   "outputs": [
    {
     "name": "stdout",
     "output_type": "stream",
     "text": [
      "Hello, world! I'm Anakin Skywalker.\n"
     ]
    }
   ],
   "source": [
    "bar.greet()"
   ]
  },
  {
   "cell_type": "code",
   "execution_count": 27,
   "id": "05ab4c15",
   "metadata": {},
   "outputs": [
    {
     "data": {
      "text/plain": [
       "'Luke Skywalker'"
      ]
     },
     "execution_count": 27,
     "metadata": {},
     "output_type": "execute_result"
    }
   ],
   "source": [
    "foo.name\n"
   ]
  },
  {
   "cell_type": "code",
   "execution_count": 28,
   "id": "13751033",
   "metadata": {},
   "outputs": [
    {
     "name": "stdout",
     "output_type": "stream",
     "text": [
      "Hello, world! I'm Yoda.\n"
     ]
    }
   ],
   "source": [
    ">>> bar.name = 'Yoda'\n",
    ">>> bar.greet()\n"
   ]
  },
  {
   "cell_type": "markdown",
   "id": "1ce05487",
   "metadata": {},
   "source": [
    "要让方法或属性成为私有的（不能从外部访问），只需让其名称以两个下划线打头即可。"
   ]
  },
  {
   "cell_type": "code",
   "execution_count": 29,
   "id": "7db640b3",
   "metadata": {},
   "outputs": [],
   "source": [
    "class Secretive:\n",
    "        def __inaccessible(self):\n",
    "            print(\"Bet you can't see me ...\")\n",
    "\n",
    "\n",
    "        def accessible(self):\n",
    "            print(\"The secret message is:\")\n",
    "            self.__inaccessible()\n"
   ]
  },
  {
   "cell_type": "code",
   "execution_count": 30,
   "id": "5fdea714",
   "metadata": {},
   "outputs": [
    {
     "ename": "AttributeError",
     "evalue": "'Secretive' object has no attribute '__inaccessible'",
     "output_type": "error",
     "traceback": [
      "\u001b[0;31m---------------------------------------------------------------------------\u001b[0m",
      "\u001b[0;31mAttributeError\u001b[0m                            Traceback (most recent call last)",
      "Input \u001b[0;32mIn [30]\u001b[0m, in \u001b[0;36m<cell line: 2>\u001b[0;34m()\u001b[0m\n\u001b[1;32m      1\u001b[0m s \u001b[38;5;241m=\u001b[39m Secretive()\n\u001b[0;32m----> 2\u001b[0m \u001b[43ms\u001b[49m\u001b[38;5;241;43m.\u001b[39;49m\u001b[43m__inaccessible\u001b[49m()\n",
      "\u001b[0;31mAttributeError\u001b[0m: 'Secretive' object has no attribute '__inaccessible'"
     ]
    }
   ],
   "source": [
    ">>> s = Secretive()\n",
    ">>> s.__inaccessible()\n"
   ]
  },
  {
   "cell_type": "code",
   "execution_count": 31,
   "id": "f7e35606",
   "metadata": {},
   "outputs": [
    {
     "name": "stdout",
     "output_type": "stream",
     "text": [
      "The secret message is:\n",
      "Bet you can't see me ...\n"
     ]
    }
   ],
   "source": [
    ">>> s.accessible()\n"
   ]
  },
  {
   "cell_type": "markdown",
   "id": "71dceab1",
   "metadata": {},
   "source": [
    "虽然以两个下划线打头有点怪异，但这样的方法类似于其他语言中的标准私有方法。然而，幕后的处理手法并不标准：在类定义中，对所有以两个下划线打头的名称都进行转换，即在开头加上一个下划线和类名。"
   ]
  },
  {
   "cell_type": "code",
   "execution_count": 32,
   "id": "7ec802df",
   "metadata": {},
   "outputs": [
    {
     "data": {
      "text/plain": [
       "<function __main__.Secretive.__inaccessible(self)>"
      ]
     },
     "execution_count": 32,
     "metadata": {},
     "output_type": "execute_result"
    }
   ],
   "source": [
    ">>> Secretive._Secretive__inaccessible\n"
   ]
  },
  {
   "cell_type": "code",
   "execution_count": 33,
   "id": "57b21f2b",
   "metadata": {},
   "outputs": [
    {
     "name": "stdout",
     "output_type": "stream",
     "text": [
      "Bet you can't see me ...\n"
     ]
    }
   ],
   "source": [
    ">>> s._Secretive__inaccessible()\n"
   ]
  },
  {
   "cell_type": "code",
   "execution_count": 34,
   "id": "af4fe0dd",
   "metadata": {},
   "outputs": [],
   "source": [
    "class MemberCounter:\n",
    "            members = 0\n",
    "            def init(self):\n",
    "              MemberCounter.members += 1\n"
   ]
  },
  {
   "cell_type": "code",
   "execution_count": 35,
   "id": "656479ad",
   "metadata": {},
   "outputs": [
    {
     "data": {
      "text/plain": [
       "1"
      ]
     },
     "execution_count": 35,
     "metadata": {},
     "output_type": "execute_result"
    }
   ],
   "source": [
    ">>> m1 = MemberCounter()\n",
    ">>> m1.init()\n",
    ">>> MemberCounter.members\n"
   ]
  },
  {
   "cell_type": "code",
   "execution_count": 36,
   "id": "9e59b923",
   "metadata": {},
   "outputs": [
    {
     "data": {
      "text/plain": [
       "2"
      ]
     },
     "execution_count": 36,
     "metadata": {},
     "output_type": "execute_result"
    }
   ],
   "source": [
    ">>> m2 = MemberCounter()\n",
    ">>> m2.init()\n",
    ">>> MemberCounter.members\n"
   ]
  },
  {
   "cell_type": "code",
   "execution_count": 2,
   "id": "fd4129a8",
   "metadata": {},
   "outputs": [],
   "source": [
    "class Filter:\n",
    "        def init(self):\n",
    "            self.blocked = []\n",
    "        def filter(self, sequence):\n",
    "            return [x for x in sequence if x not in self.blocked]\n",
    "\n",
    "\n",
    "class SPAMFilter(Filter): # SPAMFilter是Filter的子类\n",
    "        def init(self): # 重写超类Filter的方法init\n",
    "            self.blocked = ['SPAM']\n"
   ]
  },
  {
   "cell_type": "code",
   "execution_count": 38,
   "id": "cc84717d",
   "metadata": {},
   "outputs": [
    {
     "data": {
      "text/plain": [
       "[1, 2, 3]"
      ]
     },
     "execution_count": 38,
     "metadata": {},
     "output_type": "execute_result"
    }
   ],
   "source": [
    ">>> f = Filter()\n",
    ">>> f.init()\n",
    ">>> f.filter([1, 2, 3])\n"
   ]
  },
  {
   "cell_type": "code",
   "execution_count": 39,
   "id": "2f09a4eb",
   "metadata": {},
   "outputs": [
    {
     "data": {
      "text/plain": [
       "['eggs', 'bacon']"
      ]
     },
     "execution_count": 39,
     "metadata": {},
     "output_type": "execute_result"
    }
   ],
   "source": [
    ">>> s = SPAMFilter()\n",
    ">>> s.init()\n",
    ">>> s.filter(['SPAM', 'SPAM', 'SPAM', 'SPAM', 'eggs', 'bacon', 'SPAM'])\n"
   ]
  },
  {
   "cell_type": "markdown",
   "id": "8c155316",
   "metadata": {},
   "source": [
    "请注意SPAMFilter类的定义中有两个要点。\n",
    "❑ 以提供新定义的方式重写了Filter类中方法init的定义。\n",
    "❑ 直接从Filter类继承了方法filter的定义，因此无需重新编写其定义。\n",
    "第二点说明了继承很有用的原因：可以创建大量不同的过滤器类，它们都从Filter类派生而来，并且都使用已编写好的方法filter。这就是懒惰的好处。"
   ]
  },
  {
   "cell_type": "code",
   "execution_count": 5,
   "id": "5d14fb51",
   "metadata": {},
   "outputs": [
    {
     "data": {
      "text/plain": [
       "False"
      ]
     },
     "execution_count": 5,
     "metadata": {},
     "output_type": "execute_result"
    }
   ],
   "source": [
    ">>> issubclass(Filter, SPAMFilter)\n"
   ]
  },
  {
   "cell_type": "markdown",
   "id": "da51e06b",
   "metadata": {},
   "source": [
    "issubclass(SPAMFilter,Filter要确定一个类是否是另一个类的子类，可使用内置方法issubclass。)"
   ]
  },
  {
   "cell_type": "markdown",
   "id": "d0132732",
   "metadata": {},
   "source": [
    "如果你有一个类，并想知道它的基类，可访问其特殊属性__bases__。"
   ]
  },
  {
   "cell_type": "code",
   "execution_count": 7,
   "id": "6c4f92b0",
   "metadata": {},
   "outputs": [
    {
     "data": {
      "text/plain": [
       "(__main__.Filter,)"
      ]
     },
     "execution_count": 7,
     "metadata": {},
     "output_type": "execute_result"
    }
   ],
   "source": [
    ">>> SPAMFilter.__bases__\n"
   ]
  },
  {
   "cell_type": "code",
   "execution_count": 8,
   "id": "3734837e",
   "metadata": {},
   "outputs": [
    {
     "data": {
      "text/plain": [
       "object"
      ]
     },
     "execution_count": 8,
     "metadata": {},
     "output_type": "execute_result"
    }
   ],
   "source": [
    "Filter.__base__"
   ]
  },
  {
   "cell_type": "markdown",
   "id": "8da87962",
   "metadata": {},
   "source": [
    "同样，要确定对象是否是特定类的实例，可使用isinstance。\n",
    "\n"
   ]
  },
  {
   "cell_type": "code",
   "execution_count": 9,
   "id": "4b4cb968",
   "metadata": {},
   "outputs": [
    {
     "data": {
      "text/plain": [
       "True"
      ]
     },
     "execution_count": 9,
     "metadata": {},
     "output_type": "execute_result"
    }
   ],
   "source": [
    ">>> s = SPAMFilter()\n",
    ">>> isinstance(s, SPAMFilter)\n"
   ]
  },
  {
   "cell_type": "code",
   "execution_count": 10,
   "id": "2cc16c45",
   "metadata": {},
   "outputs": [
    {
     "data": {
      "text/plain": [
       "True"
      ]
     },
     "execution_count": 10,
     "metadata": {},
     "output_type": "execute_result"
    }
   ],
   "source": [
    ">>> isinstance(s, Filter)\n"
   ]
  },
  {
   "cell_type": "markdown",
   "id": "1208ecdf",
   "metadata": {},
   "source": [
    "如你所见，s是SPAMFilter类的（直接）实例，但它也是Filter类的间接实例，因为SPAMFilter是Filter的子类。换而言之，所有SPAMFilter对象都是Filter对象。从前一个示例可知，isinstance也可用于类型，如字符串类型（str）。"
   ]
  },
  {
   "cell_type": "markdown",
   "id": "38cffe70",
   "metadata": {},
   "source": [
    "如果你要获悉对象属于哪个类，可使用属性__class__。"
   ]
  },
  {
   "cell_type": "code",
   "execution_count": 12,
   "id": "df3845cd",
   "metadata": {},
   "outputs": [
    {
     "data": {
      "text/plain": [
       "__main__.SPAMFilter"
      ]
     },
     "execution_count": 12,
     "metadata": {},
     "output_type": "execute_result"
    }
   ],
   "source": [
    "s.__class__"
   ]
  },
  {
   "cell_type": "code",
   "execution_count": 13,
   "id": "8e4b3471",
   "metadata": {},
   "outputs": [
    {
     "data": {
      "text/plain": [
       "__main__.SPAMFilter"
      ]
     },
     "execution_count": 13,
     "metadata": {},
     "output_type": "execute_result"
    }
   ],
   "source": [
    "type(s)"
   ]
  },
  {
   "cell_type": "markdown",
   "id": "5f49ac9d",
   "metadata": {},
   "source": [
    "7.2.8 多个超类\n",
    "在前一节，你肯定注意到了一个有点奇怪的细节：复数形式的__bases__。前面说过，你可使用它来获悉类的基类，而基类可能有多个。为说明如何继承多个类，下面来创建几个类。"
   ]
  },
  {
   "cell_type": "code",
   "execution_count": 16,
   "id": "c881e237",
   "metadata": {},
   "outputs": [],
   "source": [
    "class Calculator:\n",
    "    def calculate(self, expression):\n",
    "           self.value = eval(expression)\n",
    "\n",
    "class Talker:\n",
    "    def talk(self):\n",
    "        print('Hi, my value is', self.value)\n",
    "\n",
    "class TalkingCalculator(Calculator, Talker):\n",
    "        pass\n"
   ]
  },
  {
   "cell_type": "code",
   "execution_count": 17,
   "id": "4821e12d",
   "metadata": {},
   "outputs": [
    {
     "name": "stdout",
     "output_type": "stream",
     "text": [
      "Hi, my value is 7\n"
     ]
    }
   ],
   "source": [
    ">>> tc = TalkingCalculator()\n",
    ">>> tc.calculate('1 + 2 * 3')\n",
    ">>> tc.talk()\n"
   ]
  },
  {
   "cell_type": "markdown",
   "id": "9473744d",
   "metadata": {},
   "source": [
    "子类TalkingCalculator本身无所作为，其所有的行为都是从超类那里继承的。关键是通过从Calculator那里继承calculate，并从Talker那里继承talk，它成了会说话的计算器。"
   ]
  },
  {
   "cell_type": "markdown",
   "id": "9afd1f09",
   "metadata": {},
   "source": [
    "这被称为多重继承，是一个功能强大的工具。然而，除非万不得已，否则应避免使用多重继承，因为在有些情况下，它可能带来意外的“并发症”。"
   ]
  },
  {
   "cell_type": "markdown",
   "id": "836c6a17",
   "metadata": {},
   "source": [
    "7.2.9 接口和内省\n",
    "接口这一概念与多态相关。处理多态对象时，你只关心其接口（协议）——对外暴露的方法和属性。在Python中，不显式地指定对象必须包含哪些方法才能用作参数。例如，你不会像在Java中那样显式编写接口，而是假定对象能够完成你要求它完成的任务。如果不能完成，程序将失败。"
   ]
  },
  {
   "cell_type": "code",
   "execution_count": 18,
   "id": "7cb9df7e",
   "metadata": {},
   "outputs": [
    {
     "data": {
      "text/plain": [
       "True"
      ]
     },
     "execution_count": 18,
     "metadata": {},
     "output_type": "execute_result"
    }
   ],
   "source": [
    ">>> hasattr(tc, 'talk')\n"
   ]
  },
  {
   "cell_type": "markdown",
   "id": "6fced895",
   "metadata": {},
   "source": [
    "在上述代码中，你发现tc（本章前面介绍的TalkingCalculator类的实例）包含属性talk（指向一个方法），但没有属性fnord。如果你愿意，还可以检查属性talk是否是可调用的。"
   ]
  },
  {
   "cell_type": "code",
   "execution_count": 20,
   "id": "7c6aa611",
   "metadata": {},
   "outputs": [
    {
     "data": {
      "text/plain": [
       "True"
      ]
     },
     "execution_count": 20,
     "metadata": {},
     "output_type": "execute_result"
    }
   ],
   "source": [
    ">>> callable(getattr(tc, 'talk', None))\n"
   ]
  },
  {
   "cell_type": "markdown",
   "id": "8bc610e3",
   "metadata": {},
   "source": [
    "注意setattr与getattr功能相反，可用于设置对象的属性："
   ]
  },
  {
   "cell_type": "code",
   "execution_count": 22,
   "id": "4894b471",
   "metadata": {},
   "outputs": [
    {
     "data": {
      "text/plain": [
       "'Mr. Gumby'"
      ]
     },
     "execution_count": 22,
     "metadata": {},
     "output_type": "execute_result"
    }
   ],
   "source": [
    ">>> setattr(tc, 'name', 'Mr. Gumby')\n",
    ">>> tc.name\n"
   ]
  },
  {
   "cell_type": "code",
   "execution_count": 25,
   "id": "ffee3ae5",
   "metadata": {},
   "outputs": [
    {
     "data": {
      "text/plain": [
       "True"
      ]
     },
     "execution_count": 25,
     "metadata": {},
     "output_type": "execute_result"
    }
   ],
   "source": [
    "hasattr(tc,'name')"
   ]
  },
  {
   "cell_type": "code",
   "execution_count": 26,
   "id": "fdef0bc7",
   "metadata": {},
   "outputs": [
    {
     "data": {
      "text/plain": [
       "{'value': 7, 'name': 'Mr. Gumby'}"
      ]
     },
     "execution_count": 26,
     "metadata": {},
     "output_type": "execute_result"
    }
   ],
   "source": [
    "tc.__dict__"
   ]
  },
  {
   "cell_type": "markdown",
   "id": "29487907",
   "metadata": {},
   "source": [
    "要查看对象中存储的所有值，可检查其__dict__属性。如果要确定对象是由什么组成的，应研究模块inspect。这个模块主要供高级用户创建对象浏览器（让用户能够以图形方式浏览Python对象的程序）以及其他需要这种功能的类似程序。有关对象和模块的详细信息，请参阅10.2节。"
   ]
  },
  {
   "cell_type": "markdown",
   "id": "43f656f0",
   "metadata": {},
   "source": [
    "7.2.10 抽象基类\n",
    "然而，有比手工检查各个方法更好的选择。在历史上的大部分时间内，Python几乎都只依赖于鸭子类型，即假设所有对象都能完成其工作，同时偶尔使用hasattr来检查所需的方法是否存在。很多其他语言（如Java和Go）都采用显式指定接口的理念，而有些第三方模块提供了这种理念的各种实现。最终，Python通过引入模块abc提供了官方解决方案。这个模块为所谓的抽象基类提供了支持。一般而言，抽象类是不能（至少是不应该）实例化的类，其职责是定义子类应实现的一组抽象方法。下面是一个简单的示例："
   ]
  },
  {
   "cell_type": "code",
   "execution_count": 27,
   "id": "e0a07df2",
   "metadata": {},
   "outputs": [],
   "source": [
    "from abc import ABC, abstractmethod\n",
    "class Talker(ABC):\n",
    "            @abstractmethod\n",
    "            def talk(self):\n",
    "              pass\n"
   ]
  },
  {
   "cell_type": "markdown",
   "id": "72a12e24",
   "metadata": {},
   "source": [
    "形如@this的东西被称为装饰器，其用法将在第9章详细介绍。这里的要点是你使用@abstractmethod来将方法标记为抽象的——在子类中必须实现的方法。"
   ]
  },
  {
   "cell_type": "markdown",
   "id": "72e13d9c",
   "metadata": {},
   "source": [
    "抽象类（即包含抽象方法的类）最重要的特征是不能实例化。"
   ]
  },
  {
   "cell_type": "code",
   "execution_count": 28,
   "id": "b398c4f1",
   "metadata": {},
   "outputs": [
    {
     "ename": "TypeError",
     "evalue": "Can't instantiate abstract class Talker with abstract method talk",
     "output_type": "error",
     "traceback": [
      "\u001b[0;31m---------------------------------------------------------------------------\u001b[0m",
      "\u001b[0;31mTypeError\u001b[0m                                 Traceback (most recent call last)",
      "Input \u001b[0;32mIn [28]\u001b[0m, in \u001b[0;36m<cell line: 1>\u001b[0;34m()\u001b[0m\n\u001b[0;32m----> 1\u001b[0m \u001b[43mTalker\u001b[49m\u001b[43m(\u001b[49m\u001b[43m)\u001b[49m\n",
      "\u001b[0;31mTypeError\u001b[0m: Can't instantiate abstract class Talker with abstract method talk"
     ]
    }
   ],
   "source": [
    ">>> Talker()\n"
   ]
  },
  {
   "cell_type": "code",
   "execution_count": 34,
   "id": "7e5048d7",
   "metadata": {},
   "outputs": [],
   "source": [
    "class Knigget(Talker):\n",
    "            pass\n"
   ]
  },
  {
   "cell_type": "code",
   "execution_count": 35,
   "id": "bf89f007",
   "metadata": {},
   "outputs": [
    {
     "ename": "TypeError",
     "evalue": "Can't instantiate abstract class Knigget with abstract method talk",
     "output_type": "error",
     "traceback": [
      "\u001b[0;31m---------------------------------------------------------------------------\u001b[0m",
      "\u001b[0;31mTypeError\u001b[0m                                 Traceback (most recent call last)",
      "Input \u001b[0;32mIn [35]\u001b[0m, in \u001b[0;36m<cell line: 1>\u001b[0;34m()\u001b[0m\n\u001b[0;32m----> 1\u001b[0m s\u001b[38;5;241m=\u001b[39m\u001b[43mKnigget\u001b[49m\u001b[43m(\u001b[49m\u001b[43m)\u001b[49m\n",
      "\u001b[0;31mTypeError\u001b[0m: Can't instantiate abstract class Knigget with abstract method talk"
     ]
    }
   ],
   "source": [
    "s=Knigget()"
   ]
  },
  {
   "cell_type": "code",
   "execution_count": 30,
   "id": "0e5f7b26",
   "metadata": {},
   "outputs": [
    {
     "data": {
      "text/plain": [
       "True"
      ]
     },
     "execution_count": 30,
     "metadata": {},
     "output_type": "execute_result"
    }
   ],
   "source": [
    "issubclass(Knigget,Talker)"
   ]
  },
  {
   "cell_type": "code",
   "execution_count": 38,
   "id": "3d6ef21c",
   "metadata": {},
   "outputs": [],
   "source": [
    "class Knigget(Talker):\n",
    "            def talk(self):\n",
    "              print(\"Ni!\")\n"
   ]
  },
  {
   "cell_type": "code",
   "execution_count": 39,
   "id": "4744f310",
   "metadata": {},
   "outputs": [],
   "source": [
    "s=Knigget()"
   ]
  },
  {
   "cell_type": "markdown",
   "id": "185a6304",
   "metadata": {},
   "source": [
    "由于没有重写方法talk，因此这个类也是抽象的，不能实例化。当上述改写后，又可实例化。"
   ]
  },
  {
   "cell_type": "code",
   "execution_count": 40,
   "id": "1dd58800",
   "metadata": {},
   "outputs": [
    {
     "data": {
      "text/plain": [
       "True"
      ]
     },
     "execution_count": 40,
     "metadata": {},
     "output_type": "execute_result"
    }
   ],
   "source": [
    ">>> isinstance(s, Talker)\n"
   ]
  },
  {
   "cell_type": "code",
   "execution_count": 41,
   "id": "43ccb8da",
   "metadata": {},
   "outputs": [
    {
     "name": "stdout",
     "output_type": "stream",
     "text": [
      "Ni!\n"
     ]
    }
   ],
   "source": [
    "s.talk()"
   ]
  },
  {
   "cell_type": "code",
   "execution_count": 42,
   "id": "cecb1e9b",
   "metadata": {},
   "outputs": [],
   "source": [
    "class Herring:\n",
    "    def talk(self):\n",
    "        print(\"Blub.\")\n"
   ]
  },
  {
   "cell_type": "code",
   "execution_count": 43,
   "id": "af3f90d9",
   "metadata": {},
   "outputs": [
    {
     "data": {
      "text/plain": [
       "False"
      ]
     },
     "execution_count": 43,
     "metadata": {},
     "output_type": "execute_result"
    }
   ],
   "source": [
    ">>> h = Herring()\n",
    ">>> isinstance(h, Talker)\n"
   ]
  },
  {
   "cell_type": "markdown",
   "id": "3ff160e1",
   "metadata": {},
   "source": [
    "诚然，你可从Talker派生出Herring，这样就万事大吉了，但Herring可能是从他人的模块中导入的。在这种情况下，就无法采取这样的做法。为解决这个问题，你可将Herring注册为Talker（而不从Herring和Talker派生出子类），这样所有的Herring对象都将被视为Talker对象。"
   ]
  },
  {
   "cell_type": "code",
   "execution_count": 44,
   "id": "7d9fa58b",
   "metadata": {},
   "outputs": [
    {
     "data": {
      "text/plain": [
       "__main__.Herring"
      ]
     },
     "execution_count": 44,
     "metadata": {},
     "output_type": "execute_result"
    }
   ],
   "source": [
    ">>> Talker.register(Herring)\n"
   ]
  },
  {
   "cell_type": "code",
   "execution_count": 45,
   "id": "9a488e97",
   "metadata": {},
   "outputs": [
    {
     "data": {
      "text/plain": [
       "True"
      ]
     },
     "execution_count": 45,
     "metadata": {},
     "output_type": "execute_result"
    }
   ],
   "source": [
    ">>> isinstance(h, Talker)\n"
   ]
  },
  {
   "cell_type": "code",
   "execution_count": 46,
   "id": "6081fb4b",
   "metadata": {},
   "outputs": [
    {
     "data": {
      "text/plain": [
       "True"
      ]
     },
     "execution_count": 46,
     "metadata": {},
     "output_type": "execute_result"
    }
   ],
   "source": [
    ">>> issubclass(Herring, Talker)\n"
   ]
  },
  {
   "cell_type": "markdown",
   "id": "0af1c92c",
   "metadata": {},
   "source": [
    "然而，这种做法存在一个缺点，就是直接从抽象类派生提供的保障没有了。"
   ]
  },
  {
   "cell_type": "code",
   "execution_count": 48,
   "id": "71eb021d",
   "metadata": {},
   "outputs": [],
   "source": [
    ">>> class Clam:\n",
    "          pass\n",
    "          \n"
   ]
  },
  {
   "cell_type": "code",
   "execution_count": 49,
   "id": "dabe9c54",
   "metadata": {},
   "outputs": [
    {
     "data": {
      "text/plain": [
       "__main__.Clam"
      ]
     },
     "execution_count": 49,
     "metadata": {},
     "output_type": "execute_result"
    }
   ],
   "source": [
    "Talker.register(Clam)\n"
   ]
  },
  {
   "cell_type": "code",
   "execution_count": 53,
   "id": "181b45a3",
   "metadata": {},
   "outputs": [],
   "source": [
    ">>> issubclass(Clam, Talker)\n",
    ">>> c = Clam()\n"
   ]
  },
  {
   "cell_type": "code",
   "execution_count": 54,
   "id": "6dcab8c6",
   "metadata": {},
   "outputs": [
    {
     "data": {
      "text/plain": [
       "True"
      ]
     },
     "execution_count": 54,
     "metadata": {},
     "output_type": "execute_result"
    }
   ],
   "source": [
    ">>> isinstance(c, Talker)\n"
   ]
  },
  {
   "cell_type": "code",
   "execution_count": 55,
   "id": "9e1c4b96",
   "metadata": {},
   "outputs": [
    {
     "ename": "AttributeError",
     "evalue": "'Clam' object has no attribute 'talk'",
     "output_type": "error",
     "traceback": [
      "\u001b[0;31m---------------------------------------------------------------------------\u001b[0m",
      "\u001b[0;31mAttributeError\u001b[0m                            Traceback (most recent call last)",
      "Input \u001b[0;32mIn [55]\u001b[0m, in \u001b[0;36m<cell line: 1>\u001b[0;34m()\u001b[0m\n\u001b[0;32m----> 1\u001b[0m \u001b[43mc\u001b[49m\u001b[38;5;241;43m.\u001b[39;49m\u001b[43mtalk\u001b[49m()\n",
      "\u001b[0;31mAttributeError\u001b[0m: 'Clam' object has no attribute 'talk'"
     ]
    }
   ],
   "source": [
    ">>> c.talk()\n"
   ]
  },
  {
   "cell_type": "markdown",
   "id": "ad07ee0c",
   "metadata": {},
   "source": [
    "换而言之，应将isinstance返回True视为一种意图表达。在这里，Clam有成为Talker的意图。本着鸭子类型的精神，我们相信它能承担Talker的职责，但可悲的是它失败了。"
   ]
  }
 ],
 "metadata": {
  "kernelspec": {
   "display_name": "Python 3 (ipykernel)",
   "language": "python",
   "name": "python3"
  },
  "language_info": {
   "codemirror_mode": {
    "name": "ipython",
    "version": 3
   },
   "file_extension": ".py",
   "mimetype": "text/x-python",
   "name": "python",
   "nbconvert_exporter": "python",
   "pygments_lexer": "ipython3",
   "version": "3.9.7"
  }
 },
 "nbformat": 4,
 "nbformat_minor": 5
}
