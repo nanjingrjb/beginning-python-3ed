{
 "cells": [
  {
   "cell_type": "code",
   "execution_count": 1,
   "id": "b889b876",
   "metadata": {},
   "outputs": [
    {
     "data": {
      "text/plain": [
       "'Hello, world. Hot enough for ya?'"
      ]
     },
     "execution_count": 1,
     "metadata": {},
     "output_type": "execute_result"
    }
   ],
   "source": [
    ">>> format = \"Hello, %s. %s enough for ya?\"\n",
    ">>> values = ('world', 'Hot')\n",
    ">>> format % values\n",
    "#'Hello, world. Hot enough for ya?'\n"
   ]
  },
  {
   "cell_type": "code",
   "execution_count": null,
   "id": "f5cb39cd",
   "metadata": {},
   "outputs": [],
   "source": []
  }
 ],
 "metadata": {
  "kernelspec": {
   "display_name": "Python 3 (ipykernel)",
   "language": "python",
   "name": "python3"
  },
  "language_info": {
   "codemirror_mode": {
    "name": "ipython",
    "version": 3
   },
   "file_extension": ".py",
   "mimetype": "text/x-python",
   "name": "python",
   "nbconvert_exporter": "python",
   "pygments_lexer": "ipython3",
   "version": "3.8.2"
  }
 },
 "nbformat": 4,
 "nbformat_minor": 5
}
