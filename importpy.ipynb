{
 "cells": [
  {
   "cell_type": "code",
   "execution_count": 14,
   "id": "7d909b7e",
   "metadata": {},
   "outputs": [
    {
     "name": "stdout",
     "output_type": "stream",
     "text": [
      "\u001b[0;0mlisting4-1.py\u001b[m  \u001b[0;0mlisting4-2.py\u001b[m\r\n"
     ]
    }
   ],
   "source": [
    "ls Ch*04"
   ]
  },
  {
   "cell_type": "code",
   "execution_count": 18,
   "id": "0dbf0689",
   "metadata": {},
   "outputs": [],
   "source": [
    "cp Ch*04/*.py ./\n"
   ]
  },
  {
   "cell_type": "code",
   "execution_count": 25,
   "id": "8fbcf62c",
   "metadata": {},
   "outputs": [
    {
     "name": "stdout",
     "output_type": "stream",
     "text": [
      "total 112\r\n",
      "drwxrwx---    2 root     everybod      4096 Feb 21 22:35 \u001b[1;34m.\u001b[m/\r\n",
      "drwxrwx---   28 root     everybod      4096 Feb 22 19:34 \u001b[1;34m..\u001b[m/\r\n",
      "-rw-rw----    1 root     everybod        33 Feb 21 22:35 \u001b[0;0mlisting10-1.py\u001b[m\r\n",
      "-rw-rw----    1 root     everybod       158 Feb 21 22:35 \u001b[0;0mlisting10-10.py\u001b[m\r\n",
      "-rw-rw----    1 root     everybod       799 Feb 21 22:35 \u001b[0;0mlisting10-11.py\u001b[m\r\n",
      "-rw-rw----    1 root     everybod        50 Feb 21 22:35 \u001b[0;0mlisting10-12.txt\u001b[m\r\n",
      "-rw-rw----    1 root     everybod       104 Feb 21 22:35 \u001b[0;0mlisting10-13.txt\u001b[m\r\n",
      "-rw-rw----    1 root     everybod       251 Feb 21 22:35 \u001b[0;0mlisting10-14.txt\u001b[m\r\n",
      "-rw-rw----    1 root     everybod        51 Feb 21 22:35 \u001b[0;0mlisting10-2.py\u001b[m\r\n",
      "-rw-rw----    1 root     everybod        71 Feb 21 22:35 \u001b[0;0mlisting10-3.py\u001b[m\r\n",
      "-rw-rw----    1 root     everybod       111 Feb 21 22:35 \u001b[0;0mlisting10-4.py\u001b[m\r\n",
      "-rw-rw----    1 root     everybod        84 Feb 21 22:35 \u001b[0;0mlisting10-5.py\u001b[m\r\n",
      "-rw-rw----    1 root     everybod       179 Feb 21 22:35 \u001b[0;0mlisting10-6.py\u001b[m\r\n",
      "-rw-rw----    1 root     everybod      1536 Feb 21 22:35 \u001b[0;0mlisting10-8.py\u001b[m\r\n"
     ]
    }
   ],
   "source": [
    "ls -al"
   ]
  },
  {
   "cell_type": "code",
   "execution_count": null,
   "id": "d540b1f6",
   "metadata": {},
   "outputs": [],
   "source": [
    "cp listing4-1.py list1.py"
   ]
  },
  {
   "cell_type": "code",
   "execution_count": 31,
   "id": "0e1e16b3",
   "metadata": {},
   "outputs": [
    {
     "ename": "SyntaxError",
     "evalue": "invalid syntax (3972459068.py, line 1)",
     "output_type": "error",
     "traceback": [
      "\u001b[0;36m  Input \u001b[0;32mIn [31]\u001b[0;36m\u001b[0m\n\u001b[0;31m    for i in `ls .`\u001b[0m\n\u001b[0m             ^\u001b[0m\n\u001b[0;31mSyntaxError\u001b[0m\u001b[0;31m:\u001b[0m invalid syntax\n"
     ]
    }
   ],
   "source": [
    " for i in `ls .`\n",
    "    do echo $i\n",
    "    done"
   ]
  },
  {
   "cell_type": "code",
   "execution_count": 4,
   "id": "44dd0140",
   "metadata": {},
   "outputs": [
    {
     "name": "stdout",
     "output_type": "stream",
     "text": [
      "Name: rjb\n",
      "Phone number (p) or address (a)? p\n",
      "rjb's phone number is 13776603610.\n"
     ]
    },
    {
     "ename": "ModuleNotFoundError",
     "evalue": "No module named 'list1.py'; 'list1' is not a package",
     "output_type": "error",
     "traceback": [
      "\u001b[0;31m---------------------------------------------------------------------------\u001b[0m",
      "\u001b[0;31mModuleNotFoundError\u001b[0m                       Traceback (most recent call last)",
      "Input \u001b[0;32mIn [4]\u001b[0m, in \u001b[0;36m<cell line: 1>\u001b[0;34m()\u001b[0m\n\u001b[0;32m----> 1\u001b[0m \u001b[38;5;28;01mimport\u001b[39;00m \u001b[38;5;21;01mlist1\u001b[39;00m\u001b[38;5;21;01m.\u001b[39;00m\u001b[38;5;21;01mpy\u001b[39;00m\n",
      "\u001b[0;31mModuleNotFoundError\u001b[0m: No module named 'list1.py'; 'list1' is not a package"
     ]
    }
   ],
   "source": [
    "import list1.py"
   ]
  },
  {
   "cell_type": "code",
   "execution_count": 10,
   "id": "23f97869",
   "metadata": {},
   "outputs": [
    {
     "name": "stdout",
     "output_type": "stream",
     "text": [
      "mv: can't rename 'listing4-2.py': No such file or directory\r\n"
     ]
    }
   ],
   "source": [
    "mv listing4-2.py list2.py\n"
   ]
  },
  {
   "cell_type": "code",
   "execution_count": null,
   "id": "436f4066",
   "metadata": {},
   "outputs": [],
   "source": [
    "vi list2.py\n"
   ]
  },
  {
   "cell_type": "code",
   "execution_count": 1,
   "id": "b0127714",
   "metadata": {},
   "outputs": [
    {
     "name": "stdout",
     "output_type": "stream",
     "text": [
      "Name: rjb\n",
      "Phone number (p) or address (a)? a\n",
      "rjb's address is ruijinlu8.\n",
      "Name: Alice\n",
      "Phone number (p) or address (a)? p\n",
      "Alice's phone number is 2341.\n"
     ]
    }
   ],
   "source": [
    "\n",
    "import list2"
   ]
  },
  {
   "cell_type": "markdown",
   "id": "b179c055",
   "metadata": {},
   "source": [
    "居然支持直接从Python源码中直接读取变量，厉害!测试如下:"
   ]
  },
  {
   "cell_type": "code",
   "execution_count": 2,
   "id": "2abfe6ce",
   "metadata": {},
   "outputs": [],
   "source": [
    "from list1 import people"
   ]
  },
  {
   "cell_type": "code",
   "execution_count": 3,
   "id": "d33f9ab5",
   "metadata": {},
   "outputs": [
    {
     "data": {
      "text/plain": [
       "{'Alice': {'phone': '2341', 'addr': 'Foo drive 23'},\n",
       " 'Beth': {'phone': '9102', 'addr': 'Bar street 42'},\n",
       " 'Cecil': {'phone': '3158', 'addr': 'Baz avenue 90'},\n",
       " 'rjb': {'phone': 13776603610, 'addr': 'ruijinlu8'}}"
      ]
     },
     "execution_count": 3,
     "metadata": {},
     "output_type": "execute_result"
    }
   ],
   "source": [
    "people"
   ]
  },
  {
   "cell_type": "code",
   "execution_count": null,
   "id": "7ba23819",
   "metadata": {
    "scrolled": false
   },
   "outputs": [],
   "source": [
    "from Chapter04.list2 import *\n"
   ]
  },
  {
   "cell_type": "code",
   "execution_count": 4,
   "id": "ab684d4b",
   "metadata": {
    "scrolled": false
   },
   "outputs": [
    {
     "name": "stdout",
     "output_type": "stream",
     "text": [
      "\u001b[1;34m__pycache__\u001b[m/ \u001b[0;0mlist1.py\u001b[m     \u001b[0;0mlist2.py\u001b[m\r\n"
     ]
    }
   ],
   "source": [
    "ls Ch*04/"
   ]
  },
  {
   "cell_type": "code",
   "execution_count": null,
   "id": "7bd5bc84",
   "metadata": {},
   "outputs": [],
   "source": [
    "ls C*10"
   ]
  }
 ],
 "metadata": {
  "kernelspec": {
   "display_name": "Python 3 (ipykernel)",
   "language": "python",
   "name": "python3"
  },
  "language_info": {
   "codemirror_mode": {
    "name": "ipython",
    "version": 3
   },
   "file_extension": ".py",
   "mimetype": "text/x-python",
   "name": "python",
   "nbconvert_exporter": "python",
   "pygments_lexer": "ipython3",
   "version": "3.9.7"
  }
 },
 "nbformat": 4,
 "nbformat_minor": 5
}
