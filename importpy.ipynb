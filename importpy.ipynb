{
 "cells": [
  {
   "cell_type": "code",
   "execution_count": 14,
   "id": "7d909b7e",
   "metadata": {},
   "outputs": [
    {
     "name": "stdout",
     "output_type": "stream",
     "text": [
      "\u001b[0;0mlisting4-1.py\u001b[m  \u001b[0;0mlisting4-2.py\u001b[m\r\n"
     ]
    }
   ],
   "source": [
    "ls Ch*04"
   ]
  },
  {
   "cell_type": "code",
   "execution_count": 18,
   "id": "0dbf0689",
   "metadata": {},
   "outputs": [],
   "source": [
    "cp Ch*04/*.py ./\n"
   ]
  },
  {
   "cell_type": "code",
   "execution_count": 19,
   "id": "8fbcf62c",
   "metadata": {},
   "outputs": [
    {
     "ename": "SyntaxError",
     "evalue": "invalid syntax (2628754567.py, line 1)",
     "output_type": "error",
     "traceback": [
      "\u001b[0;36m  Input \u001b[0;32mIn [19]\u001b[0;36m\u001b[0m\n\u001b[0;31m    from listing4-1 import *\u001b[0m\n\u001b[0m                 ^\u001b[0m\n\u001b[0;31mSyntaxError\u001b[0m\u001b[0;31m:\u001b[0m invalid syntax\n"
     ]
    }
   ],
   "source": [
    "from listing4-1 import *"
   ]
  },
  {
   "cell_type": "code",
   "execution_count": 20,
   "id": "458229ec",
   "metadata": {},
   "outputs": [
    {
     "name": "stdout",
     "output_type": "stream",
     "text": [
      "\u001b[0;0m9781484200292.jpg\u001b[m  \u001b[1;34mChapter15\u001b[m/         \u001b[1;34mChapter24\u001b[m/         \u001b[0;0mUntitled.ipynb\u001b[m\r\n",
      "\u001b[1;34mChapter02\u001b[m/         \u001b[1;34mChapter16\u001b[m/         \u001b[1;34mChapter25\u001b[m/         \u001b[0;0mcontributing.md\u001b[m\r\n",
      "\u001b[1;34mChapter03\u001b[m/         \u001b[1;34mChapter17\u001b[m/         \u001b[1;34mChapter26\u001b[m/         \u001b[0;0merrata.md\u001b[m\r\n",
      "\u001b[1;34mChapter04\u001b[m/         \u001b[1;34mChapter18\u001b[m/         \u001b[1;34mChapter27\u001b[m/         \u001b[0;0mlisting4-1.py\u001b[m\r\n",
      "\u001b[1;34mChapter10\u001b[m/         \u001b[1;34mChapter19\u001b[m/         \u001b[1;34mChapter28\u001b[m/         \u001b[0;0mlisting4-2.py\u001b[m\r\n",
      "\u001b[1;34mChapter11\u001b[m/         \u001b[1;34mChapter20\u001b[m/         \u001b[1;34mChapter29\u001b[m/         \u001b[0;0mstrformat.ipynb\u001b[m\r\n",
      "\u001b[1;34mChapter12\u001b[m/         \u001b[1;34mChapter21\u001b[m/         \u001b[0;0mLICENSE.txt\u001b[m\r\n",
      "\u001b[1;34mChapter13\u001b[m/         \u001b[1;34mChapter22\u001b[m/         \u001b[0;0mREADME.md\u001b[m\r\n",
      "\u001b[1;34mChapter14\u001b[m/         \u001b[1;34mChapter23\u001b[m/         \u001b[0;0mREADME.txt\u001b[m\r\n"
     ]
    }
   ],
   "source": [
    "ls\n"
   ]
  },
  {
   "cell_type": "code",
   "execution_count": null,
   "id": "d540b1f6",
   "metadata": {},
   "outputs": [],
   "source": [
    "cp listing4-1.py list1.py"
   ]
  },
  {
   "cell_type": "code",
   "execution_count": 1,
   "id": "0e1e16b3",
   "metadata": {},
   "outputs": [
    {
     "name": "stdout",
     "output_type": "stream",
     "text": [
      "# A simple database\r\n",
      "\r\n",
      "# A dictionary with person names as keys. Each person is represented as\r\n",
      "# another dictionary with the keys 'phone' and 'addr' referring to their phone\r\n",
      "# number and address, respectively.\r\n",
      "people = {\r\n",
      "\r\n",
      "    'Alice': {\r\n",
      "        'phone': '2341',\r\n",
      "        'addr': 'Foo drive 23'\r\n",
      "    },\r\n",
      "\r\n",
      "    'Beth': {\r\n",
      "        'phone': '9102',\r\n",
      "        'addr': 'Bar street 42'\r\n",
      "    },\r\n",
      "\r\n",
      "    'Cecil': {\r\n",
      "        'phone': '3158',\r\n",
      "        'addr': 'Baz avenue 90'\r\n",
      "    },\r\n",
      "    \r\n",
      "    'rjb':{\r\n",
      "        'phone':13776603610,\r\n",
      "        'addr':'ruijinlu8'\r\n",
      "    }\r\n",
      "    \r\n",
      "\r\n",
      "}\r\n",
      "\r\n",
      "# Descriptive labels for the phone number and address. These will be used\r\n",
      "# when printing the output.\r\n",
      "labels = {\r\n",
      "    'phone': 'phone number',\r\n",
      "    'addr': 'address'\r\n",
      "}\r\n",
      "\r\n",
      "name = input('Name: ')\r\n",
      "\r\n",
      "# Are we looking for a phone number or an address?\r\n",
      "request = input('Phone number (p) or address (a)? ')\r\n",
      "\r\n",
      "# Use the correct key:\r\n",
      "if request == 'p': key = 'phone'\r\n",
      "if request == 'a': key = 'addr'\r\n",
      "\r\n",
      "# Only try to print information if the name is a valid key in\r\n",
      "# our dictionary:\r\n",
      "if name in people: print(\"{}'s {} is {}.\".format(name, labels[key], people[name][key]))"
     ]
    }
   ],
   "source": [
    "cat list1.py"
   ]
  },
  {
   "cell_type": "code",
   "execution_count": 4,
   "id": "44dd0140",
   "metadata": {},
   "outputs": [
    {
     "name": "stdout",
     "output_type": "stream",
     "text": [
      "Name: rjb\n",
      "Phone number (p) or address (a)? p\n",
      "rjb's phone number is 13776603610.\n"
     ]
    },
    {
     "ename": "ModuleNotFoundError",
     "evalue": "No module named 'list1.py'; 'list1' is not a package",
     "output_type": "error",
     "traceback": [
      "\u001b[0;31m---------------------------------------------------------------------------\u001b[0m",
      "\u001b[0;31mModuleNotFoundError\u001b[0m                       Traceback (most recent call last)",
      "Input \u001b[0;32mIn [4]\u001b[0m, in \u001b[0;36m<cell line: 1>\u001b[0;34m()\u001b[0m\n\u001b[0;32m----> 1\u001b[0m \u001b[38;5;28;01mimport\u001b[39;00m \u001b[38;5;21;01mlist1\u001b[39;00m\u001b[38;5;21;01m.\u001b[39;00m\u001b[38;5;21;01mpy\u001b[39;00m\n",
      "\u001b[0;31mModuleNotFoundError\u001b[0m: No module named 'list1.py'; 'list1' is not a package"
     ]
    }
   ],
   "source": [
    "import list1.py"
   ]
  },
  {
   "cell_type": "code",
   "execution_count": 10,
   "id": "23f97869",
   "metadata": {},
   "outputs": [
    {
     "name": "stdout",
     "output_type": "stream",
     "text": [
      "mv: can't rename 'listing4-2.py': No such file or directory\r\n"
     ]
    }
   ],
   "source": [
    "mv listing4-2.py list2.py\n"
   ]
  },
  {
   "cell_type": "code",
   "execution_count": null,
   "id": "436f4066",
   "metadata": {},
   "outputs": [],
   "source": [
    "vi list2.py\n"
   ]
  },
  {
   "cell_type": "code",
   "execution_count": 1,
   "id": "b0127714",
   "metadata": {},
   "outputs": [
    {
     "name": "stdout",
     "output_type": "stream",
     "text": [
      "Name: rjb\n",
      "Phone number (p) or address (a)? a\n",
      "rjb's address is ruijinlu8.\n",
      "Name: Alice\n",
      "Phone number (p) or address (a)? p\n",
      "Alice's phone number is 2341.\n"
     ]
    }
   ],
   "source": [
    "\n",
    "import list2"
   ]
  },
  {
   "cell_type": "markdown",
   "id": "b179c055",
   "metadata": {},
   "source": [
    "居然支持直接从Python源码中直接读取变量，厉害!测试如下:"
   ]
  },
  {
   "cell_type": "code",
   "execution_count": 2,
   "id": "2abfe6ce",
   "metadata": {},
   "outputs": [],
   "source": [
    "from list1 import people"
   ]
  },
  {
   "cell_type": "code",
   "execution_count": 3,
   "id": "d33f9ab5",
   "metadata": {},
   "outputs": [
    {
     "data": {
      "text/plain": [
       "{'Alice': {'phone': '2341', 'addr': 'Foo drive 23'},\n",
       " 'Beth': {'phone': '9102', 'addr': 'Bar street 42'},\n",
       " 'Cecil': {'phone': '3158', 'addr': 'Baz avenue 90'},\n",
       " 'rjb': {'phone': 13776603610, 'addr': 'ruijinlu8'}}"
      ]
     },
     "execution_count": 3,
     "metadata": {},
     "output_type": "execute_result"
    }
   ],
   "source": [
    "people"
   ]
  }
 ],
 "metadata": {
  "kernelspec": {
   "display_name": "Python 3 (ipykernel)",
   "language": "python",
   "name": "python3"
  },
  "language_info": {
   "codemirror_mode": {
    "name": "ipython",
    "version": 3
   },
   "file_extension": ".py",
   "mimetype": "text/x-python",
   "name": "python",
   "nbconvert_exporter": "python",
   "pygments_lexer": "ipython3",
   "version": "3.9.7"
  }
 },
 "nbformat": 4,
 "nbformat_minor": 5
}
