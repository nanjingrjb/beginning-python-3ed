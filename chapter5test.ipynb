{
 "cells": [
  {
   "cell_type": "markdown",
   "id": "0bf2dc89",
   "metadata": {},
   "source": [
    "5.1.1 打印多个参数\n",
    "你知道，print可用于打印一个表达式，这个表达式要么是字符串，要么将自动转换为字符串。但实际上，你可同时打印多个表达式，条件是用逗号分隔它们："
   ]
  },
  {
   "cell_type": "code",
   "execution_count": 1,
   "id": "b254223d",
   "metadata": {},
   "outputs": [
    {
     "name": "stdout",
     "output_type": "stream",
     "text": [
      "Age: 42\n"
     ]
    }
   ],
   "source": [
    ">>> print('Age:', 42)\n"
   ]
  },
  {
   "cell_type": "code",
   "execution_count": 3,
   "id": "df62c697",
   "metadata": {},
   "outputs": [
    {
     "name": "stdout",
     "output_type": "stream",
     "text": [
      "Hello, Mr. Gumby\n"
     ]
    }
   ],
   "source": [
    ">>> name = 'Gumby'\n",
    ">>> salutation = 'Mr.'\n",
    ">>> greeting = 'Hello,'\n",
    ">>> print(greeting, salutation, name)\n"
   ]
  },
  {
   "cell_type": "markdown",
   "id": "9d04a379",
   "metadata": {},
   "source": [
    "如果字符串变量greeting不包含逗号，如何在结果中添加呢？你不能像下面这样做：\n",
    "print(greeting, ',', salutation, name),实际也可添加\n"
   ]
  },
  {
   "cell_type": "code",
   "execution_count": 6,
   "id": "bc9d6e95",
   "metadata": {},
   "outputs": [
    {
     "name": "stdout",
     "output_type": "stream",
     "text": [
      "Hello , Mr. Gumby\n"
     ]
    }
   ],
   "source": [
    "greeting = 'Hello'\n",
    "print(greeting, ',', salutation, name)\n"
   ]
  },
  {
   "cell_type": "code",
   "execution_count": 7,
   "id": "afba14ec",
   "metadata": {},
   "outputs": [
    {
     "name": "stdout",
     "output_type": "stream",
     "text": [
      "Hello, Mr. Gumby\n"
     ]
    }
   ],
   "source": [
    "print(greeting+',', salutation, name)\n"
   ]
  },
  {
   "cell_type": "code",
   "execution_count": 8,
   "id": "874c4f21",
   "metadata": {},
   "outputs": [
    {
     "name": "stdout",
     "output_type": "stream",
     "text": [
      "I_wish_to_register_a_complaint\n"
     ]
    }
   ],
   "source": [
    "print(\"I\", \"wish\", \"to\", \"register\", \"a\", \"complaint\", sep=\"_\")\n"
   ]
  },
  {
   "cell_type": "code",
   "execution_count": 9,
   "id": "b3d47b89",
   "metadata": {},
   "outputs": [
    {
     "name": "stdout",
     "output_type": "stream",
     "text": [
      "I wish to register a complaint\n"
     ]
    }
   ],
   "source": [
    "print(\"I\", \"wish\", \"to\", \"register\", \"a\", \"complaint\", sep=\" \")\n"
   ]
  },
  {
   "cell_type": "code",
   "execution_count": 10,
   "id": "ae474c37",
   "metadata": {},
   "outputs": [
    {
     "name": "stdout",
     "output_type": "stream",
     "text": [
      "I*wish*to*register*a*complaint\n"
     ]
    }
   ],
   "source": [
    "print(\"I\", \"wish\", \"to\", \"register\", \"a\", \"complaint\", sep=\"*\")\n"
   ]
  },
  {
   "cell_type": "code",
   "execution_count": 11,
   "id": "cbadd78c",
   "metadata": {},
   "outputs": [
    {
     "name": "stdout",
     "output_type": "stream",
     "text": [
      "Hello,world!\n"
     ]
    }
   ],
   "source": [
    "print('Hello,', end='')\n",
    "print('world!')\n"
   ]
  },
  {
   "cell_type": "markdown",
   "id": "b2a6f66a",
   "metadata": {},
   "source": [
    "5.1.2 导入时重命名\n",
    "从模块导入时，通常使用\n",
    "\n",
    "        import somemodule\n",
    "或使用\n",
    "\n",
    "        from somemodule import somefunction\n",
    "或\n",
    "\n",
    "        from somemodule import somefunction, anotherfunction, yetanotherfunction\n",
    "或\n",
    "\n",
    "        from somemodule import *\n",
    "仅当你确定要导入模块中的一切时，才使用最后一种方式。但如果有两个模块，它们都包含函数open，该如何办呢？你可使用第一种方式导入这两个模块，并像下面这样调用函数：\n",
    "\n",
    "        module1.open(...)\n",
    "        module2.open(...)\n",
    "但还有一种办法：在语句末尾添加as子句并指定别名。下面是一个导入整个模块并给它指定别名的例子：\n",
    "\n",
    "        >>> import math as foobar\n",
    "        >>> foobar.sqrt(4)\n",
    "        2.0\n",
    "下面是一个导入特定函数并给它指定别名的例子：\n",
    "\n",
    "        >>> from math import sqrt as foobar\n",
    "        >>> foobar(4)\n",
    "        2.0\n",
    "对于前面的函数open，可像下面这样导入它们：\n",
    "\n",
    "        from module1 import open as open1\n",
    "        from module2 import open as open2\n"
   ]
  },
  {
   "cell_type": "markdown",
   "id": "cbd00eef",
   "metadata": {},
   "source": [
    "5.2.1 序列解包\n",
    "实际上，这里执行的操作称为序列解包（或可迭代对象解包）：将一个序列（或任何可迭代对象）解包，并将得到的值存储到一系列变量中。下面用例子进行解释。"
   ]
  },
  {
   "cell_type": "code",
   "execution_count": 13,
   "id": "ff52d856",
   "metadata": {},
   "outputs": [
    {
     "name": "stdout",
     "output_type": "stream",
     "text": [
      "2 1 3\n"
     ]
    }
   ],
   "source": [
    "x, y, z = 1, 2, 3\n",
    ">>> x, y = y, x\n",
    ">>> print(x, y, z)\n"
   ]
  },
  {
   "cell_type": "code",
   "execution_count": 18,
   "id": "3e7b5e52",
   "metadata": {},
   "outputs": [
    {
     "data": {
      "text/plain": [
       "1"
      ]
     },
     "execution_count": 18,
     "metadata": {},
     "output_type": "execute_result"
    }
   ],
   "source": [
    "values = 1, 2, 3\n",
    "values\n",
    "x, y, z = values\n",
    "x"
   ]
  },
  {
   "cell_type": "markdown",
   "id": "826e61c2",
   "metadata": {},
   "source": [
    "这在使用返回元组（或其他序列或可迭代对象）的函数或方法时很有用。假设要从字典中随便获取（或删除）一个键-值对，可使用方法popitem，它随便获取一个键-值对并以元组的方式返回。接下来，可直接将返回的元组解包到两个变量中。\n",
    "\n"
   ]
  },
  {
   "cell_type": "code",
   "execution_count": 19,
   "id": "755a67a4",
   "metadata": {},
   "outputs": [
    {
     "data": {
      "text/plain": [
       "'girlfriend'"
      ]
     },
     "execution_count": 19,
     "metadata": {},
     "output_type": "execute_result"
    }
   ],
   "source": [
    ">>> scoundrel = {'name': 'Robin', 'girlfriend': 'Marion'}\n",
    ">>> key, value = scoundrel.popitem()\n",
    ">>> key\n"
   ]
  },
  {
   "cell_type": "code",
   "execution_count": 20,
   "id": "5f04bdd1",
   "metadata": {},
   "outputs": [
    {
     "data": {
      "text/plain": [
       "'Marion'"
      ]
     },
     "execution_count": 20,
     "metadata": {},
     "output_type": "execute_result"
    }
   ],
   "source": [
    "value"
   ]
  },
  {
   "cell_type": "markdown",
   "id": "06aff8fd",
   "metadata": {},
   "source": [
    "这让函数能够返回被打包成元组的多个值，然后通过一条赋值语句轻松地访问这些值。"
   ]
  },
  {
   "cell_type": "markdown",
   "id": "bd704b18",
   "metadata": {},
   "source": [
    "要解包的序列包含的元素个数必须与你在等号左边列出的目标个数相同，否则Python将引发异常。"
   ]
  },
  {
   "cell_type": "code",
   "execution_count": 21,
   "id": "2278eb87",
   "metadata": {},
   "outputs": [
    {
     "ename": "ValueError",
     "evalue": "not enough values to unpack (expected 3, got 2)",
     "output_type": "error",
     "traceback": [
      "\u001b[0;31m---------------------------------------------------------------------------\u001b[0m",
      "\u001b[0;31mValueError\u001b[0m                                Traceback (most recent call last)",
      "Input \u001b[0;32mIn [21]\u001b[0m, in \u001b[0;36m<cell line: 1>\u001b[0;34m()\u001b[0m\n\u001b[0;32m----> 1\u001b[0m x, y, z \u001b[38;5;241m=\u001b[39m \u001b[38;5;241m1\u001b[39m, \u001b[38;5;241m2\u001b[39m\n",
      "\u001b[0;31mValueError\u001b[0m: not enough values to unpack (expected 3, got 2)"
     ]
    }
   ],
   "source": [
    ">>> x, y, z = 1, 2\n"
   ]
  },
  {
   "cell_type": "code",
   "execution_count": 22,
   "id": "407415f7",
   "metadata": {},
   "outputs": [
    {
     "ename": "ValueError",
     "evalue": "too many values to unpack (expected 3)",
     "output_type": "error",
     "traceback": [
      "\u001b[0;31m---------------------------------------------------------------------------\u001b[0m",
      "\u001b[0;31mValueError\u001b[0m                                Traceback (most recent call last)",
      "Input \u001b[0;32mIn [22]\u001b[0m, in \u001b[0;36m<cell line: 1>\u001b[0;34m()\u001b[0m\n\u001b[0;32m----> 1\u001b[0m x, y, z \u001b[38;5;241m=\u001b[39m \u001b[38;5;241m1\u001b[39m, \u001b[38;5;241m2\u001b[39m, \u001b[38;5;241m3\u001b[39m, \u001b[38;5;241m4\u001b[39m\n",
      "\u001b[0;31mValueError\u001b[0m: too many values to unpack (expected 3)"
     ]
    }
   ],
   "source": [
    ">>> x, y, z = 1, 2, 3, 4\n"
   ]
  },
  {
   "cell_type": "markdown",
   "id": "0a90215c",
   "metadata": {},
   "source": [
    "可使用星号运算符（*）来收集多余的值，这样无需确保值和变量的个数相同，如下例所示："
   ]
  },
  {
   "cell_type": "code",
   "execution_count": 23,
   "id": "bd4689ac",
   "metadata": {},
   "outputs": [
    {
     "data": {
      "text/plain": [
       "[3, 4]"
      ]
     },
     "execution_count": 23,
     "metadata": {},
     "output_type": "execute_result"
    }
   ],
   "source": [
    ">>> a, b, *rest = [1, 2, 3, 4]\n",
    ">>> rest\n"
   ]
  },
  {
   "cell_type": "markdown",
   "id": "c16741cc",
   "metadata": {},
   "source": [
    "还可将带星号的变量放在其他位置。"
   ]
  },
  {
   "cell_type": "code",
   "execution_count": 25,
   "id": "8b8bf5bb",
   "metadata": {},
   "outputs": [],
   "source": [
    "name = \"Albus Percival Wulfric Brian Dumbledore\"\n"
   ]
  },
  {
   "cell_type": "code",
   "execution_count": 26,
   "id": "bd773696",
   "metadata": {},
   "outputs": [
    {
     "data": {
      "text/plain": [
       "['Percival', 'Wulfric', 'Brian']"
      ]
     },
     "execution_count": 26,
     "metadata": {},
     "output_type": "execute_result"
    }
   ],
   "source": [
    ">>> first, *middle, last = name.split()\n",
    ">>> middle\n"
   ]
  },
  {
   "cell_type": "markdown",
   "id": "6583d186",
   "metadata": {},
   "source": [
    "赋值语句的右边可以是任何类型的序列，但带星号的变量最终包含的总是一个列表。在变量和值的个数相同时亦如此。"
   ]
  },
  {
   "cell_type": "code",
   "execution_count": 27,
   "id": "a67be50d",
   "metadata": {},
   "outputs": [
    {
     "data": {
      "text/plain": [
       "('a', ['b'], 'c')"
      ]
     },
     "execution_count": 27,
     "metadata": {},
     "output_type": "execute_result"
    }
   ],
   "source": [
    ">>> a, *b, c = \"abc\"\n",
    ">>> a, b, c\n"
   ]
  },
  {
   "cell_type": "code",
   "execution_count": null,
   "id": "9f80f8a3",
   "metadata": {},
   "outputs": [],
   "source": [
    "带星号的以列表形式存在"
   ]
  },
  {
   "cell_type": "markdown",
   "id": "e2c12574",
   "metadata": {},
   "source": [
    "5.2.3 增强赋值\n",
    "可以不编写代码x = x + 1，而将右边表达式中的运算符（这里是+）移到赋值运算符（=）的前面，从而写成x += 1。这称为增强赋值，适用于所有标准运算符，如*、/、%等。\n",
    "\n"
   ]
  },
  {
   "cell_type": "code",
   "execution_count": 28,
   "id": "a88dff42",
   "metadata": {},
   "outputs": [
    {
     "data": {
      "text/plain": [
       "6"
      ]
     },
     "execution_count": 28,
     "metadata": {},
     "output_type": "execute_result"
    }
   ],
   "source": [
    ">>> x = 2\n",
    ">>> x += 1\n",
    ">>> x *= 2\n",
    ">>> x\n"
   ]
  },
  {
   "cell_type": "code",
   "execution_count": 29,
   "id": "18d23c36",
   "metadata": {},
   "outputs": [
    {
     "data": {
      "text/plain": [
       "'foobarfoobar'"
      ]
     },
     "execution_count": 29,
     "metadata": {},
     "output_type": "execute_result"
    }
   ],
   "source": [
    ">>> fnord = 'foo'\n",
    ">>> fnord += 'bar'\n",
    ">>> fnord *= 2\n",
    ">>> fnord\n"
   ]
  },
  {
   "cell_type": "markdown",
   "id": "36935aeb",
   "metadata": {},
   "source": [
    "5.4 条件和条件语句\n",
    "        False   None   0   \"\"   ()   []   {}\n",
    "    换而言之，标准值False和None、各种类型（包括浮点数、复数等）的数值0、空序列（如空字符串、空元组和空列表）以及空映射（如空字典）都被视为假，而其他各种值都被视为真[插图]，包括特殊值True[插图]。"
   ]
  },
  {
   "cell_type": "code",
   "execution_count": 1,
   "id": "c1956d5d",
   "metadata": {},
   "outputs": [
    {
     "data": {
      "text/plain": [
       "True"
      ]
     },
     "execution_count": 1,
     "metadata": {},
     "output_type": "execute_result"
    }
   ],
   "source": [
    "True"
   ]
  },
  {
   "cell_type": "code",
   "execution_count": 2,
   "id": "ceb84b8a",
   "metadata": {},
   "outputs": [
    {
     "data": {
      "text/plain": [
       "False"
      ]
     },
     "execution_count": 2,
     "metadata": {},
     "output_type": "execute_result"
    }
   ],
   "source": [
    "False"
   ]
  },
  {
   "cell_type": "code",
   "execution_count": 3,
   "id": "218da4ae",
   "metadata": {},
   "outputs": [
    {
     "data": {
      "text/plain": [
       "True"
      ]
     },
     "execution_count": 3,
     "metadata": {},
     "output_type": "execute_result"
    }
   ],
   "source": [
    "True==1"
   ]
  },
  {
   "cell_type": "code",
   "execution_count": 4,
   "id": "27f70d2b",
   "metadata": {},
   "outputs": [
    {
     "data": {
      "text/plain": [
       "True"
      ]
     },
     "execution_count": 4,
     "metadata": {},
     "output_type": "execute_result"
    }
   ],
   "source": [
    "False==0"
   ]
  },
  {
   "cell_type": "code",
   "execution_count": 5,
   "id": "ae39304d",
   "metadata": {},
   "outputs": [
    {
     "data": {
      "text/plain": [
       "43"
      ]
     },
     "execution_count": 5,
     "metadata": {},
     "output_type": "execute_result"
    }
   ],
   "source": [
    "True+False+42"
   ]
  },
  {
   "cell_type": "code",
   "execution_count": 7,
   "id": "e6231268",
   "metadata": {},
   "outputs": [
    {
     "data": {
      "text/plain": [
       "False"
      ]
     },
     "execution_count": 7,
     "metadata": {},
     "output_type": "execute_result"
    }
   ],
   "source": [
    " >>> bool('')"
   ]
  },
  {
   "cell_type": "code",
   "execution_count": 8,
   "id": "22b16199",
   "metadata": {},
   "outputs": [
    {
     "data": {
      "text/plain": [
       "False"
      ]
     },
     "execution_count": 8,
     "metadata": {},
     "output_type": "execute_result"
    }
   ],
   "source": [
    " >>> bool(0)"
   ]
  },
  {
   "cell_type": "code",
   "execution_count": 9,
   "id": "743abe21",
   "metadata": {},
   "outputs": [
    {
     "data": {
      "text/plain": [
       "True"
      ]
     },
     "execution_count": 9,
     "metadata": {},
     "output_type": "execute_result"
    }
   ],
   "source": [
    " >>> bool('I think, therefore I am')"
   ]
  },
  {
   "cell_type": "code",
   "execution_count": 10,
   "id": "ebfe4895",
   "metadata": {},
   "outputs": [
    {
     "data": {
      "text/plain": [
       "True"
      ]
     },
     "execution_count": 10,
     "metadata": {},
     "output_type": "execute_result"
    }
   ],
   "source": [
    ">>> bool(42)"
   ]
  },
  {
   "cell_type": "code",
   "execution_count": 14,
   "id": "aee1de4c",
   "metadata": {},
   "outputs": [
    {
     "name": "stdout",
     "output_type": "stream",
     "text": [
      "What is your name? 职称\n",
      "Nice to meet you 职称\n"
     ]
    }
   ],
   "source": [
    "        name=input('What is your name? ')\n",
    "        if name.endswith('Gumby'):\n",
    "            print('Hello, Mr. Gumby')\n",
    "        else:\n",
    "            print('Nice to meet you '+name)"
   ]
  },
  {
   "cell_type": "markdown",
   "id": "37909232",
   "metadata": {},
   "source": [
    "要检查多个条件，可使用elif。elif是else if的缩写，由一个if子句和一个else子句组合而成，也就是包含条件的else子句。"
   ]
  },
  {
   "cell_type": "code",
   "execution_count": 19,
   "id": "67a1fe3d",
   "metadata": {},
   "outputs": [
    {
     "name": "stdout",
     "output_type": "stream",
     "text": [
      "What is your name? 职称\n",
      "Nice to meet you 职称\n"
     ]
    }
   ],
   "source": [
    "        name=input('What is your name? ')\n",
    "        if name.endswith('Gumby'):\n",
    "            print('Hello, Mr. Gumby')\n",
    "        elif name.endswith('rjb'):\n",
    "            print('Hello,name')\n",
    "        else:\n",
    "            print('Nice to meet you '+name)"
   ]
  },
  {
   "cell_type": "code",
   "execution_count": 25,
   "id": "d1748c94",
   "metadata": {},
   "outputs": [
    {
     "name": "stdout",
     "output_type": "stream",
     "text": [
      "Enter a number: rjb\n",
      "error is {ValueError(\"invalid literal for int() with base 10: 'rjb'\")} set default num=0\n",
      "The number is zero\n"
     ]
    },
    {
     "name": "stderr",
     "output_type": "stream",
     "text": [
      "Traceback (most recent call last):\n",
      "  File \"C:\\Users\\jcrj\\AppData\\Local\\Temp/ipykernel_22448/745702035.py\", line 3, in <module>\n",
      "    num = int(input('Enter a number: '))\n",
      "ValueError: invalid literal for int() with base 10: 'rjb'\n"
     ]
    }
   ],
   "source": [
    "    import traceback\n",
    "    try:\n",
    "        num = int(input('Enter a number: '))\n",
    "    except Exception as e:\n",
    "        print('error is',{e},'set default num=0')\n",
    "        traceback.print_exc()\n",
    "        num=0\n",
    "    if num > 0:\n",
    "            print('The number is positive')\n",
    "    elif num < 0:\n",
    "            print('The number is negative')\n",
    "    else:\n",
    "            print('The number is zero')"
   ]
  },
  {
   "cell_type": "code",
   "execution_count": 29,
   "id": "f0a3fbf1",
   "metadata": {},
   "outputs": [
    {
     "name": "stdout",
     "output_type": "stream",
     "text": [
      "What is your name? mr Gumby\n",
      "Hello, Mr. Gumby\n"
     ]
    }
   ],
   "source": [
    "        name=input('What is your name? ')\n",
    "        if name.endswith('Gumby'):\n",
    "            if name.startswith('Mr') or name.startswith('mr'):\n",
    "              print('Hello, Mr. Gumby')\n",
    "            elif name.startswith('Mrs') or name.startswith('mrs'):\n",
    "              print('Hello, Mrs. Gumby')\n",
    "            else:\n",
    "              print('Hello, Gumby')\n",
    "        else:\n",
    "            print('Hello, stranger')"
   ]
  },
  {
   "cell_type": "code",
   "execution_count": 1,
   "id": "09860794",
   "metadata": {},
   "outputs": [
    {
     "data": {
      "text/plain": [
       "True"
      ]
     },
     "execution_count": 1,
     "metadata": {},
     "output_type": "execute_result"
    }
   ],
   "source": [
    ">>> \"foo\" == \"foo\"\n"
   ]
  },
  {
   "cell_type": "code",
   "execution_count": 2,
   "id": "9807719d",
   "metadata": {},
   "outputs": [
    {
     "data": {
      "text/plain": [
       "False"
      ]
     },
     "execution_count": 2,
     "metadata": {},
     "output_type": "execute_result"
    }
   ],
   "source": [
    ">>> \"foo\" == \"bar\"\n"
   ]
  },
  {
   "cell_type": "code",
   "execution_count": 4,
   "id": "bff8f93c",
   "metadata": {},
   "outputs": [
    {
     "data": {
      "text/plain": [
       "True"
      ]
     },
     "execution_count": 4,
     "metadata": {},
     "output_type": "execute_result"
    }
   ],
   "source": [
    ">>> x = y = [1, 2, 3]\n",
    ">>> z = [1, 2, 3]\n",
    ">>> x == y\n"
   ]
  },
  {
   "cell_type": "code",
   "execution_count": 5,
   "id": "129f3c89",
   "metadata": {},
   "outputs": [
    {
     "data": {
      "text/plain": [
       "True"
      ]
     },
     "execution_count": 5,
     "metadata": {},
     "output_type": "execute_result"
    }
   ],
   "source": [
    "x is y"
   ]
  },
  {
   "cell_type": "code",
   "execution_count": 6,
   "id": "cbf6b748",
   "metadata": {},
   "outputs": [
    {
     "data": {
      "text/plain": [
       "False"
      ]
     },
     "execution_count": 6,
     "metadata": {},
     "output_type": "execute_result"
    }
   ],
   "source": [
    "x is z"
   ]
  },
  {
   "cell_type": "markdown",
   "id": "8494385e",
   "metadata": {},
   "source": [
    "但最后一个示例的结果很奇怪：x和z相等，但x is z的结果却为False。为何会这样呢？因为is检查两个对象是否相同（而不是相等）。变量x和y指向同一个列表，而z指向另一个列表（其中包含的值以及这些值的排列顺序都与前一个列表相同）。这两个列表虽然相等，但并非同一个对象。"
   ]
  },
  {
   "cell_type": "code",
   "execution_count": 15,
   "id": "518f64e6",
   "metadata": {},
   "outputs": [
    {
     "data": {
      "text/plain": [
       "True"
      ]
     },
     "execution_count": 15,
     "metadata": {},
     "output_type": "execute_result"
    }
   ],
   "source": [
    ">>> x = [1, 2, 3]\n",
    ">>> y = [2, 4]\n",
    ">>> x is not y\n"
   ]
  },
  {
   "cell_type": "code",
   "execution_count": 16,
   "id": "9c4d196c",
   "metadata": {},
   "outputs": [
    {
     "data": {
      "text/plain": [
       "True"
      ]
     },
     "execution_count": 16,
     "metadata": {},
     "output_type": "execute_result"
    }
   ],
   "source": [
    ">>> del x[2]\n",
    ">>> y[1] = 1\n",
    ">>> y.reverse()\n",
    ">>> x == y\n"
   ]
  },
  {
   "cell_type": "code",
   "execution_count": 17,
   "id": "38f31516",
   "metadata": {},
   "outputs": [
    {
     "data": {
      "text/plain": [
       "False"
      ]
     },
     "execution_count": 17,
     "metadata": {},
     "output_type": "execute_result"
    }
   ],
   "source": [
    "x is y"
   ]
  },
  {
   "cell_type": "code",
   "execution_count": 5,
   "id": "4ef6be3a",
   "metadata": {},
   "outputs": [
    {
     "name": "stdout",
     "output_type": "stream",
     "text": [
      "What is your name?rhn?\n",
      "Your name does not contain the letter \"s\".\n"
     ]
    }
   ],
   "source": [
    "name = input('What is your name?')\n",
    "if 's' in name:\n",
    "    print('Your name contains the letter \"s\".')\n",
    "else:\n",
    "    print('Your name does not contain the letter \"s\".')\n"
   ]
  },
  {
   "cell_type": "code",
   "execution_count": 7,
   "id": "2f2e2ab7",
   "metadata": {},
   "outputs": [
    {
     "data": {
      "text/plain": [
       "True"
      ]
     },
     "execution_count": 7,
     "metadata": {},
     "output_type": "execute_result"
    }
   ],
   "source": [
    ">>> \"a\".lower() < \"B\".lower()\n"
   ]
  },
  {
   "cell_type": "code",
   "execution_count": 9,
   "id": "d66c0fb5",
   "metadata": {},
   "outputs": [
    {
     "name": "stdout",
     "output_type": "stream",
     "text": [
      "Enter a number between 1 and 10: 58\n",
      "Wrong!\n"
     ]
    }
   ],
   "source": [
    "number = int(input('Enter a number between 1 and 10: '))\n",
    "if number <= 10 and number >= 1:\n",
    "    print('Great!')\n",
    "else:\n",
    "    print('Wrong!')\n"
   ]
  },
  {
   "cell_type": "code",
   "execution_count": 10,
   "id": "534498b9",
   "metadata": {},
   "outputs": [],
   "source": [
    ">>> age = 10\n",
    ">>> assert 0 < age < 100\n"
   ]
  },
  {
   "cell_type": "code",
   "execution_count": 11,
   "id": "8fc13eac",
   "metadata": {},
   "outputs": [
    {
     "ename": "AssertionError",
     "evalue": "",
     "output_type": "error",
     "traceback": [
      "\u001b[0;31m---------------------------------------------------------------------------\u001b[0m",
      "\u001b[0;31mAssertionError\u001b[0m                            Traceback (most recent call last)",
      "Input \u001b[0;32mIn [11]\u001b[0m, in \u001b[0;36m<cell line: 2>\u001b[0;34m()\u001b[0m\n\u001b[1;32m      1\u001b[0m age \u001b[38;5;241m=\u001b[39m \u001b[38;5;241m-\u001b[39m\u001b[38;5;241m1\u001b[39m\n\u001b[0;32m----> 2\u001b[0m \u001b[38;5;28;01massert\u001b[39;00m \u001b[38;5;241m0\u001b[39m \u001b[38;5;241m<\u001b[39m age \u001b[38;5;241m<\u001b[39m \u001b[38;5;241m100\u001b[39m\n",
      "\u001b[0;31mAssertionError\u001b[0m: "
     ]
    }
   ],
   "source": [
    ">>> age = -1\n",
    ">>> assert 0 < age < 100\n"
   ]
  },
  {
   "cell_type": "code",
   "execution_count": 12,
   "id": "71b0f6f5",
   "metadata": {},
   "outputs": [
    {
     "ename": "AssertionError",
     "evalue": "The age must be realistic",
     "output_type": "error",
     "traceback": [
      "\u001b[0;31m---------------------------------------------------------------------------\u001b[0m",
      "\u001b[0;31mAssertionError\u001b[0m                            Traceback (most recent call last)",
      "Input \u001b[0;32mIn [12]\u001b[0m, in \u001b[0;36m<cell line: 2>\u001b[0;34m()\u001b[0m\n\u001b[1;32m      1\u001b[0m age \u001b[38;5;241m=\u001b[39m \u001b[38;5;241m-\u001b[39m\u001b[38;5;241m1\u001b[39m\n\u001b[0;32m----> 2\u001b[0m \u001b[38;5;28;01massert\u001b[39;00m \u001b[38;5;241m0\u001b[39m \u001b[38;5;241m<\u001b[39m age \u001b[38;5;241m<\u001b[39m \u001b[38;5;241m100\u001b[39m, \u001b[38;5;124m'\u001b[39m\u001b[38;5;124mThe age must be realistic\u001b[39m\u001b[38;5;124m'\u001b[39m\n",
      "\u001b[0;31mAssertionError\u001b[0m: The age must be realistic"
     ]
    }
   ],
   "source": [
    ">>> age = -1\n",
    ">>> assert 0 < age < 100, 'The age must be realistic'\n"
   ]
  },
  {
   "cell_type": "markdown",
   "id": "9c433345",
   "metadata": {},
   "source": [
    "因为让程序在错误条件出现时立即崩溃胜过以后再崩溃。基本上，你可要求某些条件得到满足（如核实函数参数满足要求或为初始测试和调试提供帮助），为此可在语句中使用关键字assert。"
   ]
  },
  {
   "cell_type": "code",
   "execution_count": 13,
   "id": "479ed0b5",
   "metadata": {},
   "outputs": [
    {
     "name": "stdout",
     "output_type": "stream",
     "text": [
      "this\n",
      "is\n",
      "an\n",
      "ex\n",
      "parrot\n"
     ]
    }
   ],
   "source": [
    "words = ['this', 'is', 'an', 'ex', 'parrot']\n",
    "for word in words:\n",
    "    print(word)\n"
   ]
  },
  {
   "cell_type": "code",
   "execution_count": 15,
   "id": "4579c8a6",
   "metadata": {},
   "outputs": [
    {
     "data": {
      "text/plain": [
       "range(0, 10)"
      ]
     },
     "execution_count": 15,
     "metadata": {},
     "output_type": "execute_result"
    }
   ],
   "source": [
    ">>> range(0, 10)"
   ]
  },
  {
   "cell_type": "code",
   "execution_count": 16,
   "id": "b64c8037",
   "metadata": {},
   "outputs": [
    {
     "data": {
      "text/plain": [
       "[0, 1, 2, 3, 4, 5, 6, 7, 8, 9]"
      ]
     },
     "execution_count": 16,
     "metadata": {},
     "output_type": "execute_result"
    }
   ],
   "source": [
    "list(range(0, 10))\n"
   ]
  },
  {
   "cell_type": "code",
   "execution_count": 18,
   "id": "bf36346d",
   "metadata": {},
   "outputs": [
    {
     "name": "stdout",
     "output_type": "stream",
     "text": [
      "x corresponds to 1\n",
      "y corresponds to 2\n",
      "z corresponds to 3\n"
     ]
    }
   ],
   "source": [
    "d = {'x': 1, 'y': 2, 'z': 3}\n",
    "for key in d:\n",
    "    print(key, 'corresponds to', d[key])\n"
   ]
  },
  {
   "cell_type": "code",
   "execution_count": 19,
   "id": "9ab1d919",
   "metadata": {},
   "outputs": [
    {
     "name": "stdout",
     "output_type": "stream",
     "text": [
      "x corresponds to 1\n",
      "y corresponds to 2\n",
      "z corresponds to 3\n"
     ]
    }
   ],
   "source": [
    "for key, value in d.items():\n",
    "            print(key, 'corresponds to', value)\n"
   ]
  },
  {
   "cell_type": "markdown",
   "id": "812c468c",
   "metadata": {},
   "source": [
    "1. 并行迭代\n",
    "有时候，你可能想同时迭代两个序列。假设有下面两个列表：\n",
    "\n",
    "        names = ['anne', 'beth', 'george', 'damon']\n",
    "        ages = [12, 45, 32, 102]\n"
   ]
  },
  {
   "cell_type": "code",
   "execution_count": 20,
   "id": "f62ab79f",
   "metadata": {},
   "outputs": [],
   "source": [
    "names = ['anne', 'beth', 'george', 'damon']\n",
    "ages = [12, 45, 32, 102]\n"
   ]
  },
  {
   "cell_type": "code",
   "execution_count": 21,
   "id": "e6096cdb",
   "metadata": {},
   "outputs": [
    {
     "name": "stdout",
     "output_type": "stream",
     "text": [
      "anne is 12 years old\n",
      "beth is 45 years old\n",
      "george is 32 years old\n",
      "damon is 102 years old\n"
     ]
    }
   ],
   "source": [
    "for i in range(len(names)):\n",
    "            print(names[i], 'is', ages[i], 'years old')\n"
   ]
  },
  {
   "cell_type": "markdown",
   "id": "10e77ec5",
   "metadata": {},
   "source": [
    "一个很有用的并行迭代工具是内置函数zip，它将两个序列“缝合”起来，并返回一个由元组组成的序列。返回值是一个适合迭代的对象，要查看其内容，可使用list将其转换为列表。"
   ]
  },
  {
   "cell_type": "code",
   "execution_count": 23,
   "id": "31db8b04",
   "metadata": {},
   "outputs": [
    {
     "name": "stdout",
     "output_type": "stream",
     "text": [
      "anne is 12 years old\n",
      "beth is 45 years old\n",
      "george is 32 years old\n",
      "damon is 102 years old\n"
     ]
    }
   ],
   "source": [
    ">>> list(zip(names, ages))\n",
    "for name, age in zip(names, ages):\n",
    "    print(name, 'is', age, 'years old')\n"
   ]
  },
  {
   "cell_type": "markdown",
   "id": "501b651b",
   "metadata": {},
   "source": [
    "函数zip可用于“缝合”任意数量的序列。需要指出的是，当序列的长度不同时，函数zip将在最短的序列用完后停止“缝合”。\n",
    "\n"
   ]
  },
  {
   "cell_type": "code",
   "execution_count": 24,
   "id": "19940dfe",
   "metadata": {},
   "outputs": [
    {
     "data": {
      "text/plain": [
       "[(0, 0), (1, 1), (2, 2), (3, 3), (4, 4)]"
      ]
     },
     "execution_count": 24,
     "metadata": {},
     "output_type": "execute_result"
    }
   ],
   "source": [
    ">>> list(zip(range(5), range(100000000)))\n"
   ]
  },
  {
   "cell_type": "markdown",
   "id": "11d79438",
   "metadata": {},
   "source": [
    "列表推导是一种从其他列表创建列表的方式，类似于数学中的集合推导。列表推导的工作原理非常简单，有点类似于for循环。"
   ]
  },
  {
   "cell_type": "code",
   "execution_count": 25,
   "id": "cb115d71",
   "metadata": {},
   "outputs": [
    {
     "data": {
      "text/plain": [
       "[0, 1, 4, 9, 16, 25, 36, 49, 64, 81]"
      ]
     },
     "execution_count": 25,
     "metadata": {},
     "output_type": "execute_result"
    }
   ],
   "source": [
    ">>> [x * x for x in range(10)]\n"
   ]
  },
  {
   "cell_type": "code",
   "execution_count": 27,
   "id": "a0bc9f98",
   "metadata": {},
   "outputs": [
    {
     "data": {
      "text/plain": [
       "[(0, 0), (0, 1), (0, 2), (1, 0), (1, 1), (1, 2), (2, 0), (2, 1), (2, 2)]"
      ]
     },
     "execution_count": 27,
     "metadata": {},
     "output_type": "execute_result"
    }
   ],
   "source": [
    ">>> [x*x for x in range(10) if x % 3 == 0]\n",
    ">>> [(x, y) for x in range(3) for y in range(3)]\n"
   ]
  },
  {
   "cell_type": "code",
   "execution_count": 30,
   "id": "4fc68221",
   "metadata": {},
   "outputs": [
    {
     "data": {
      "text/plain": [
       "[(0, 0), (0, 1), (0, 2), (1, 0), (1, 1), (1, 2), (2, 0), (2, 1), (2, 2)]"
      ]
     },
     "execution_count": 30,
     "metadata": {},
     "output_type": "execute_result"
    }
   ],
   "source": [
    "result = []\n",
    "for x in range(3):\n",
    "    for y in range(3):\n",
    "        result.append((x, y))\n",
    "result\n"
   ]
  },
  {
   "cell_type": "code",
   "execution_count": 31,
   "id": "ecb97e5c",
   "metadata": {},
   "outputs": [
    {
     "data": {
      "text/plain": [
       "['chris+clarice', 'arnold+alice', 'bob+bernice']"
      ]
     },
     "execution_count": 31,
     "metadata": {},
     "output_type": "execute_result"
    }
   ],
   "source": [
    ">>> girls = ['alice', 'bernice', 'clarice']\n",
    ">>> boys = ['chris', 'arnold', 'bob']\n",
    "girls = ['alice', 'bernice', 'clarice']\n",
    "            boys = ['chris', 'arnold', 'bob']\n",
    "            letterGirls = {}\n",
    "            for girl in girls:\n",
    "                letterGirls.setdefault(girl[0], []).append(girl)\n",
    "            print([b+'+'+g for b in boys for g in letterGirls[b[0]]])\n",
    ">>> [b+'+'+g for b in boys for g in girls if b[0] == g[0]]\n"
   ]
  },
  {
   "cell_type": "code",
   "execution_count": 32,
   "id": "e65e19d5",
   "metadata": {},
   "outputs": [
    {
     "name": "stdout",
     "output_type": "stream",
     "text": [
      "['chris+clarice', 'arnold+alice', 'bob+bernice']\n"
     ]
    }
   ],
   "source": [
    "girls = ['alice', 'bernice', 'clarice']\n",
    "boys = ['chris', 'arnold', 'bob']\n",
    "letterGirls = {}\n",
    "for girl in girls:\n",
    "    letterGirls.setdefault(girl[0], []).append(girl)\n",
    "print([b+'+'+g for b in boys for g in letterGirls[b[0]]])\n"
   ]
  },
  {
   "cell_type": "markdown",
   "id": "c9a4bed0",
   "metadata": {},
   "source": [
    "使用圆括号代替方括号并不能实现元组推导，而是将创建生成器，详细信息请参阅第9章的旁注“简单生成器”。然而，可使用花括号来执行字典推导。"
   ]
  },
  {
   "cell_type": "code",
   "execution_count": 33,
   "id": "43295b9f",
   "metadata": {},
   "outputs": [],
   "source": [
    ">>> squares = {i:\"{} squared is {}\".format(i, i**2) for i in range(10)}\n"
   ]
  },
  {
   "cell_type": "markdown",
   "id": "6c40b638",
   "metadata": {},
   "source": [
    "squares"
   ]
  },
  {
   "cell_type": "markdown",
   "id": "48040bfd",
   "metadata": {},
   "source": [
    "\n",
    "有时候什么都不用做。这种情况不多，但一旦遇到，知道可使用pass语句大有裨益。"
   ]
  },
  {
   "cell_type": "code",
   "execution_count": 37,
   "id": "708b2a0d",
   "metadata": {},
   "outputs": [
    {
     "name": "stdout",
     "output_type": "stream",
     "text": [
      "Access Denied\n"
     ]
    }
   ],
   "source": [
    "name=\"Bill Gates\"\n",
    "if name == 'Ralph Auldus Melish':\n",
    "    print('Welcome!')\n",
    "elif name == 'Enid':\n",
    "    # 还未完成……\n",
    "    pass\n",
    "elif name == 'Bill Gates':\n",
    "    print('Access Denied')\n"
   ]
  },
  {
   "cell_type": "markdown",
   "id": "67aa83eb",
   "metadata": {},
   "source": [
    "对于你不再使用的对象，Python通常会将其删除（因为没有任何变量或数据结构成员指向它）。"
   ]
  },
  {
   "cell_type": "code",
   "execution_count": 39,
   "id": "8b660712",
   "metadata": {},
   "outputs": [
    {
     "data": {
      "text/plain": [
       "{'age': 42, 'first name': 'Robin', 'last name': 'of Locksley'}"
      ]
     },
     "execution_count": 39,
     "metadata": {},
     "output_type": "execute_result"
    }
   ],
   "source": [
    ">>> scoundrel = {'age': 42, 'first name': 'Robin', 'last name': 'of Locksley'}\n",
    ">>> robin = scoundrel\n",
    ">>> scoundrel\n",
    "        "
   ]
  },
  {
   "cell_type": "code",
   "execution_count": 40,
   "id": "c1091d93",
   "metadata": {},
   "outputs": [
    {
     "data": {
      "text/plain": [
       "{'age': 42, 'first name': 'Robin', 'last name': 'of Locksley'}"
      ]
     },
     "execution_count": 40,
     "metadata": {},
     "output_type": "execute_result"
    }
   ],
   "source": [
    "robin"
   ]
  },
  {
   "cell_type": "code",
   "execution_count": 42,
   "id": "a2a1ceb3",
   "metadata": {},
   "outputs": [
    {
     "data": {
      "text/plain": [
       "{'age': 42, 'first name': 'Robin', 'last name': 'of Locksley'}"
      ]
     },
     "execution_count": 42,
     "metadata": {},
     "output_type": "execute_result"
    }
   ],
   "source": [
    "scoundrel = None\n",
    "robin\n"
   ]
  },
  {
   "cell_type": "code",
   "execution_count": 43,
   "id": "cfe8d2b6",
   "metadata": {},
   "outputs": [
    {
     "data": {
      "text/plain": [
       "['Hello', 'Python']"
      ]
     },
     "execution_count": 43,
     "metadata": {},
     "output_type": "execute_result"
    }
   ],
   "source": [
    ">>> x = [\"Hello\", \"world\"]\n",
    ">>> y = x\n",
    ">>> y[1] = \"Python\"\n",
    ">>> x\n"
   ]
  },
  {
   "cell_type": "code",
   "execution_count": 44,
   "id": "c6d406f5",
   "metadata": {},
   "outputs": [
    {
     "data": {
      "text/plain": [
       "['Hello', 'Python']"
      ]
     },
     "execution_count": 44,
     "metadata": {},
     "output_type": "execute_result"
    }
   ],
   "source": [
    "del x\n",
    "y"
   ]
  },
  {
   "cell_type": "markdown",
   "id": "bb19dc9c",
   "metadata": {},
   "source": [
    "这是为什么呢？x和y指向同一个列表，但删除x对y没有任何影响，因为你只删除名称x，而没有删除列表本身（值）。事实上，在Python中，根本就没有办法删除值，而且你也不需要这样做，因为对于你不再使用的值，Python解释器会立即将其删除。"
   ]
  },
  {
   "cell_type": "markdown",
   "id": "65f55fde",
   "metadata": {},
   "source": [
    "5.7.3 使用exec和eval执行字符串及计算其结果"
   ]
  },
  {
   "cell_type": "code",
   "execution_count": 45,
   "id": "5902b917",
   "metadata": {},
   "outputs": [
    {
     "name": "stdout",
     "output_type": "stream",
     "text": [
      "Hello, world!\n"
     ]
    }
   ],
   "source": [
    ">>> exec(\"print('Hello, world!')\")\n"
   ]
  },
  {
   "cell_type": "code",
   "execution_count": 46,
   "id": "f41d4ee3",
   "metadata": {},
   "outputs": [
    {
     "data": {
      "text/plain": [
       "2.0"
      ]
     },
     "execution_count": 46,
     "metadata": {},
     "output_type": "execute_result"
    }
   ],
   "source": [
    ">>> from math import sqrt\n",
    ">>> scope = {}\n",
    ">>> exec('sqrt = 1', scope)\n",
    ">>> sqrt(4)\n"
   ]
  },
  {
   "cell_type": "code",
   "execution_count": 47,
   "id": "5ee32be3",
   "metadata": {},
   "outputs": [
    {
     "data": {
      "text/plain": [
       "1"
      ]
     },
     "execution_count": 47,
     "metadata": {},
     "output_type": "execute_result"
    }
   ],
   "source": [
    ">>> scope['sqrt']\n"
   ]
  },
  {
   "cell_type": "code",
   "execution_count": 48,
   "id": "45a201f3",
   "metadata": {},
   "outputs": [
    {
     "data": {
      "text/plain": [
       "2"
      ]
     },
     "execution_count": 48,
     "metadata": {},
     "output_type": "execute_result"
    }
   ],
   "source": [
    ">>> len(scope)\n"
   ]
  },
  {
   "cell_type": "code",
   "execution_count": 49,
   "id": "6d7617cf",
   "metadata": {},
   "outputs": [
    {
     "data": {
      "text/plain": [
       "dict_keys(['__builtins__', 'sqrt'])"
      ]
     },
     "execution_count": 49,
     "metadata": {},
     "output_type": "execute_result"
    }
   ],
   "source": [
    ">>> scope.keys()\n"
   ]
  },
  {
   "cell_type": "markdown",
   "id": "26a2ab9a",
   "metadata": {},
   "source": [
    "eval是一个类似于exec的内置函数。exec执行一系列Python语句，而eval计算用字符串表示的Python表达式的值，并返回结果（exec什么都不返回，因为它本身是条语句）。例如，你可使用如下代码来创建一个Python计算器："
   ]
  },
  {
   "cell_type": "code",
   "execution_count": 50,
   "id": "d17b32fb",
   "metadata": {},
   "outputs": [
    {
     "name": "stdout",
     "output_type": "stream",
     "text": [
      "Enter an arithmetic expression: 56+2**5\n"
     ]
    },
    {
     "data": {
      "text/plain": [
       "88"
      ]
     },
     "execution_count": 50,
     "metadata": {},
     "output_type": "execute_result"
    }
   ],
   "source": [
    ">>> eval(input(\"Enter an arithmetic expression: \"))\n"
   ]
  },
  {
   "cell_type": "code",
   "execution_count": 51,
   "id": "c9bd50d6",
   "metadata": {},
   "outputs": [
    {
     "data": {
      "text/plain": [
       "6"
      ]
     },
     "execution_count": 51,
     "metadata": {},
     "output_type": "execute_result"
    }
   ],
   "source": [
    ">>> scope = {}\n",
    ">>> scope['x'] = 2\n",
    ">>> scope['y'] = 3\n",
    ">>> eval('x * y', scope)\n"
   ]
  }
 ],
 "metadata": {
  "kernelspec": {
   "display_name": "Python 3 (ipykernel)",
   "language": "python",
   "name": "python3"
  },
  "language_info": {
   "codemirror_mode": {
    "name": "ipython",
    "version": 3
   },
   "file_extension": ".py",
   "mimetype": "text/x-python",
   "name": "python",
   "nbconvert_exporter": "python",
   "pygments_lexer": "ipython3",
   "version": "3.9.7"
  }
 },
 "nbformat": 4,
 "nbformat_minor": 5
}
