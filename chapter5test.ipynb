{
 "cells": [
  {
   "cell_type": "markdown",
   "id": "0bf2dc89",
   "metadata": {},
   "source": [
    "5.1.1 打印多个参数\n",
    "你知道，print可用于打印一个表达式，这个表达式要么是字符串，要么将自动转换为字符串。但实际上，你可同时打印多个表达式，条件是用逗号分隔它们："
   ]
  },
  {
   "cell_type": "code",
   "execution_count": 1,
   "id": "b254223d",
   "metadata": {},
   "outputs": [
    {
     "name": "stdout",
     "output_type": "stream",
     "text": [
      "Age: 42\n"
     ]
    }
   ],
   "source": [
    ">>> print('Age:', 42)\n"
   ]
  },
  {
   "cell_type": "code",
   "execution_count": 3,
   "id": "df62c697",
   "metadata": {},
   "outputs": [
    {
     "name": "stdout",
     "output_type": "stream",
     "text": [
      "Hello, Mr. Gumby\n"
     ]
    }
   ],
   "source": [
    ">>> name = 'Gumby'\n",
    ">>> salutation = 'Mr.'\n",
    ">>> greeting = 'Hello,'\n",
    ">>> print(greeting, salutation, name)\n"
   ]
  },
  {
   "cell_type": "markdown",
   "id": "9d04a379",
   "metadata": {},
   "source": [
    "如果字符串变量greeting不包含逗号，如何在结果中添加呢？你不能像下面这样做：\n",
    "print(greeting, ',', salutation, name),实际也可添加\n"
   ]
  },
  {
   "cell_type": "code",
   "execution_count": 6,
   "id": "bc9d6e95",
   "metadata": {},
   "outputs": [
    {
     "name": "stdout",
     "output_type": "stream",
     "text": [
      "Hello , Mr. Gumby\n"
     ]
    }
   ],
   "source": [
    "greeting = 'Hello'\n",
    "print(greeting, ',', salutation, name)\n"
   ]
  },
  {
   "cell_type": "code",
   "execution_count": 7,
   "id": "afba14ec",
   "metadata": {},
   "outputs": [
    {
     "name": "stdout",
     "output_type": "stream",
     "text": [
      "Hello, Mr. Gumby\n"
     ]
    }
   ],
   "source": [
    "print(greeting+',', salutation, name)\n"
   ]
  },
  {
   "cell_type": "code",
   "execution_count": 8,
   "id": "874c4f21",
   "metadata": {},
   "outputs": [
    {
     "name": "stdout",
     "output_type": "stream",
     "text": [
      "I_wish_to_register_a_complaint\n"
     ]
    }
   ],
   "source": [
    "print(\"I\", \"wish\", \"to\", \"register\", \"a\", \"complaint\", sep=\"_\")\n"
   ]
  },
  {
   "cell_type": "code",
   "execution_count": 9,
   "id": "b3d47b89",
   "metadata": {},
   "outputs": [
    {
     "name": "stdout",
     "output_type": "stream",
     "text": [
      "I wish to register a complaint\n"
     ]
    }
   ],
   "source": [
    "print(\"I\", \"wish\", \"to\", \"register\", \"a\", \"complaint\", sep=\" \")\n"
   ]
  },
  {
   "cell_type": "code",
   "execution_count": 10,
   "id": "ae474c37",
   "metadata": {},
   "outputs": [
    {
     "name": "stdout",
     "output_type": "stream",
     "text": [
      "I*wish*to*register*a*complaint\n"
     ]
    }
   ],
   "source": [
    "print(\"I\", \"wish\", \"to\", \"register\", \"a\", \"complaint\", sep=\"*\")\n"
   ]
  },
  {
   "cell_type": "code",
   "execution_count": 11,
   "id": "cbadd78c",
   "metadata": {},
   "outputs": [
    {
     "name": "stdout",
     "output_type": "stream",
     "text": [
      "Hello,world!\n"
     ]
    }
   ],
   "source": [
    "print('Hello,', end='')\n",
    "print('world!')\n"
   ]
  },
  {
   "cell_type": "markdown",
   "id": "b2a6f66a",
   "metadata": {},
   "source": [
    "5.1.2 导入时重命名\n",
    "从模块导入时，通常使用\n",
    "\n",
    "        import somemodule\n",
    "或使用\n",
    "\n",
    "        from somemodule import somefunction\n",
    "或\n",
    "\n",
    "        from somemodule import somefunction, anotherfunction, yetanotherfunction\n",
    "或\n",
    "\n",
    "        from somemodule import *\n",
    "仅当你确定要导入模块中的一切时，才使用最后一种方式。但如果有两个模块，它们都包含函数open，该如何办呢？你可使用第一种方式导入这两个模块，并像下面这样调用函数：\n",
    "\n",
    "        module1.open(...)\n",
    "        module2.open(...)\n",
    "但还有一种办法：在语句末尾添加as子句并指定别名。下面是一个导入整个模块并给它指定别名的例子：\n",
    "\n",
    "        >>> import math as foobar\n",
    "        >>> foobar.sqrt(4)\n",
    "        2.0\n",
    "下面是一个导入特定函数并给它指定别名的例子：\n",
    "\n",
    "        >>> from math import sqrt as foobar\n",
    "        >>> foobar(4)\n",
    "        2.0\n",
    "对于前面的函数open，可像下面这样导入它们：\n",
    "\n",
    "        from module1 import open as open1\n",
    "        from module2 import open as open2\n"
   ]
  },
  {
   "cell_type": "markdown",
   "id": "cbd00eef",
   "metadata": {},
   "source": [
    "5.2.1 序列解包\n",
    "实际上，这里执行的操作称为序列解包（或可迭代对象解包）：将一个序列（或任何可迭代对象）解包，并将得到的值存储到一系列变量中。下面用例子进行解释。"
   ]
  },
  {
   "cell_type": "code",
   "execution_count": 13,
   "id": "ff52d856",
   "metadata": {},
   "outputs": [
    {
     "name": "stdout",
     "output_type": "stream",
     "text": [
      "2 1 3\n"
     ]
    }
   ],
   "source": [
    "x, y, z = 1, 2, 3\n",
    ">>> x, y = y, x\n",
    ">>> print(x, y, z)\n"
   ]
  },
  {
   "cell_type": "code",
   "execution_count": 18,
   "id": "3e7b5e52",
   "metadata": {},
   "outputs": [
    {
     "data": {
      "text/plain": [
       "1"
      ]
     },
     "execution_count": 18,
     "metadata": {},
     "output_type": "execute_result"
    }
   ],
   "source": [
    "values = 1, 2, 3\n",
    "values\n",
    "x, y, z = values\n",
    "x"
   ]
  },
  {
   "cell_type": "markdown",
   "id": "826e61c2",
   "metadata": {},
   "source": [
    "这在使用返回元组（或其他序列或可迭代对象）的函数或方法时很有用。假设要从字典中随便获取（或删除）一个键-值对，可使用方法popitem，它随便获取一个键-值对并以元组的方式返回。接下来，可直接将返回的元组解包到两个变量中。\n",
    "\n"
   ]
  },
  {
   "cell_type": "code",
   "execution_count": 19,
   "id": "755a67a4",
   "metadata": {},
   "outputs": [
    {
     "data": {
      "text/plain": [
       "'girlfriend'"
      ]
     },
     "execution_count": 19,
     "metadata": {},
     "output_type": "execute_result"
    }
   ],
   "source": [
    ">>> scoundrel = {'name': 'Robin', 'girlfriend': 'Marion'}\n",
    ">>> key, value = scoundrel.popitem()\n",
    ">>> key\n"
   ]
  },
  {
   "cell_type": "code",
   "execution_count": 20,
   "id": "5f04bdd1",
   "metadata": {},
   "outputs": [
    {
     "data": {
      "text/plain": [
       "'Marion'"
      ]
     },
     "execution_count": 20,
     "metadata": {},
     "output_type": "execute_result"
    }
   ],
   "source": [
    "value"
   ]
  },
  {
   "cell_type": "markdown",
   "id": "06aff8fd",
   "metadata": {},
   "source": [
    "这让函数能够返回被打包成元组的多个值，然后通过一条赋值语句轻松地访问这些值。"
   ]
  },
  {
   "cell_type": "markdown",
   "id": "bd704b18",
   "metadata": {},
   "source": [
    "要解包的序列包含的元素个数必须与你在等号左边列出的目标个数相同，否则Python将引发异常。"
   ]
  },
  {
   "cell_type": "code",
   "execution_count": 21,
   "id": "2278eb87",
   "metadata": {},
   "outputs": [
    {
     "ename": "ValueError",
     "evalue": "not enough values to unpack (expected 3, got 2)",
     "output_type": "error",
     "traceback": [
      "\u001b[0;31m---------------------------------------------------------------------------\u001b[0m",
      "\u001b[0;31mValueError\u001b[0m                                Traceback (most recent call last)",
      "Input \u001b[0;32mIn [21]\u001b[0m, in \u001b[0;36m<cell line: 1>\u001b[0;34m()\u001b[0m\n\u001b[0;32m----> 1\u001b[0m x, y, z \u001b[38;5;241m=\u001b[39m \u001b[38;5;241m1\u001b[39m, \u001b[38;5;241m2\u001b[39m\n",
      "\u001b[0;31mValueError\u001b[0m: not enough values to unpack (expected 3, got 2)"
     ]
    }
   ],
   "source": [
    ">>> x, y, z = 1, 2\n"
   ]
  },
  {
   "cell_type": "code",
   "execution_count": 22,
   "id": "407415f7",
   "metadata": {},
   "outputs": [
    {
     "ename": "ValueError",
     "evalue": "too many values to unpack (expected 3)",
     "output_type": "error",
     "traceback": [
      "\u001b[0;31m---------------------------------------------------------------------------\u001b[0m",
      "\u001b[0;31mValueError\u001b[0m                                Traceback (most recent call last)",
      "Input \u001b[0;32mIn [22]\u001b[0m, in \u001b[0;36m<cell line: 1>\u001b[0;34m()\u001b[0m\n\u001b[0;32m----> 1\u001b[0m x, y, z \u001b[38;5;241m=\u001b[39m \u001b[38;5;241m1\u001b[39m, \u001b[38;5;241m2\u001b[39m, \u001b[38;5;241m3\u001b[39m, \u001b[38;5;241m4\u001b[39m\n",
      "\u001b[0;31mValueError\u001b[0m: too many values to unpack (expected 3)"
     ]
    }
   ],
   "source": [
    ">>> x, y, z = 1, 2, 3, 4\n"
   ]
  },
  {
   "cell_type": "markdown",
   "id": "0a90215c",
   "metadata": {},
   "source": [
    "可使用星号运算符（*）来收集多余的值，这样无需确保值和变量的个数相同，如下例所示："
   ]
  },
  {
   "cell_type": "code",
   "execution_count": 23,
   "id": "bd4689ac",
   "metadata": {},
   "outputs": [
    {
     "data": {
      "text/plain": [
       "[3, 4]"
      ]
     },
     "execution_count": 23,
     "metadata": {},
     "output_type": "execute_result"
    }
   ],
   "source": [
    ">>> a, b, *rest = [1, 2, 3, 4]\n",
    ">>> rest\n"
   ]
  },
  {
   "cell_type": "markdown",
   "id": "c16741cc",
   "metadata": {},
   "source": [
    "还可将带星号的变量放在其他位置。"
   ]
  },
  {
   "cell_type": "code",
   "execution_count": 25,
   "id": "8b8bf5bb",
   "metadata": {},
   "outputs": [],
   "source": [
    "name = \"Albus Percival Wulfric Brian Dumbledore\"\n"
   ]
  },
  {
   "cell_type": "code",
   "execution_count": 26,
   "id": "bd773696",
   "metadata": {},
   "outputs": [
    {
     "data": {
      "text/plain": [
       "['Percival', 'Wulfric', 'Brian']"
      ]
     },
     "execution_count": 26,
     "metadata": {},
     "output_type": "execute_result"
    }
   ],
   "source": [
    ">>> first, *middle, last = name.split()\n",
    ">>> middle\n"
   ]
  },
  {
   "cell_type": "markdown",
   "id": "6583d186",
   "metadata": {},
   "source": [
    "赋值语句的右边可以是任何类型的序列，但带星号的变量最终包含的总是一个列表。在变量和值的个数相同时亦如此。"
   ]
  },
  {
   "cell_type": "code",
   "execution_count": 27,
   "id": "a67be50d",
   "metadata": {},
   "outputs": [
    {
     "data": {
      "text/plain": [
       "('a', ['b'], 'c')"
      ]
     },
     "execution_count": 27,
     "metadata": {},
     "output_type": "execute_result"
    }
   ],
   "source": [
    ">>> a, *b, c = \"abc\"\n",
    ">>> a, b, c\n"
   ]
  },
  {
   "cell_type": "code",
   "execution_count": null,
   "id": "9f80f8a3",
   "metadata": {},
   "outputs": [],
   "source": [
    "带星号的以列表形式存在"
   ]
  },
  {
   "cell_type": "markdown",
   "id": "e2c12574",
   "metadata": {},
   "source": [
    "5.2.3 增强赋值\n",
    "可以不编写代码x = x + 1，而将右边表达式中的运算符（这里是+）移到赋值运算符（=）的前面，从而写成x += 1。这称为增强赋值，适用于所有标准运算符，如*、/、%等。\n",
    "\n"
   ]
  },
  {
   "cell_type": "code",
   "execution_count": 28,
   "id": "a88dff42",
   "metadata": {},
   "outputs": [
    {
     "data": {
      "text/plain": [
       "6"
      ]
     },
     "execution_count": 28,
     "metadata": {},
     "output_type": "execute_result"
    }
   ],
   "source": [
    ">>> x = 2\n",
    ">>> x += 1\n",
    ">>> x *= 2\n",
    ">>> x\n"
   ]
  },
  {
   "cell_type": "code",
   "execution_count": 29,
   "id": "18d23c36",
   "metadata": {},
   "outputs": [
    {
     "data": {
      "text/plain": [
       "'foobarfoobar'"
      ]
     },
     "execution_count": 29,
     "metadata": {},
     "output_type": "execute_result"
    }
   ],
   "source": [
    ">>> fnord = 'foo'\n",
    ">>> fnord += 'bar'\n",
    ">>> fnord *= 2\n",
    ">>> fnord\n"
   ]
  },
  {
   "cell_type": "markdown",
   "id": "36935aeb",
   "metadata": {},
   "source": [
    "5.4 条件和条件语句\n",
    "        False   None   0   \"\"   ()   []   {}\n",
    "    换而言之，标准值False和None、各种类型（包括浮点数、复数等）的数值0、空序列（如空字符串、空元组和空列表）以及空映射（如空字典）都被视为假，而其他各种值都被视为真[插图]，包括特殊值True[插图]。"
   ]
  },
  {
   "cell_type": "code",
   "execution_count": 1,
   "id": "c1956d5d",
   "metadata": {},
   "outputs": [
    {
     "data": {
      "text/plain": [
       "True"
      ]
     },
     "execution_count": 1,
     "metadata": {},
     "output_type": "execute_result"
    }
   ],
   "source": [
    "True"
   ]
  },
  {
   "cell_type": "code",
   "execution_count": 2,
   "id": "ceb84b8a",
   "metadata": {},
   "outputs": [
    {
     "data": {
      "text/plain": [
       "False"
      ]
     },
     "execution_count": 2,
     "metadata": {},
     "output_type": "execute_result"
    }
   ],
   "source": [
    "False"
   ]
  },
  {
   "cell_type": "code",
   "execution_count": 3,
   "id": "218da4ae",
   "metadata": {},
   "outputs": [
    {
     "data": {
      "text/plain": [
       "True"
      ]
     },
     "execution_count": 3,
     "metadata": {},
     "output_type": "execute_result"
    }
   ],
   "source": [
    "True==1"
   ]
  },
  {
   "cell_type": "code",
   "execution_count": 4,
   "id": "27f70d2b",
   "metadata": {},
   "outputs": [
    {
     "data": {
      "text/plain": [
       "True"
      ]
     },
     "execution_count": 4,
     "metadata": {},
     "output_type": "execute_result"
    }
   ],
   "source": [
    "False==0"
   ]
  },
  {
   "cell_type": "code",
   "execution_count": 5,
   "id": "ae39304d",
   "metadata": {},
   "outputs": [
    {
     "data": {
      "text/plain": [
       "43"
      ]
     },
     "execution_count": 5,
     "metadata": {},
     "output_type": "execute_result"
    }
   ],
   "source": [
    "True+False+42"
   ]
  },
  {
   "cell_type": "code",
   "execution_count": 7,
   "id": "e6231268",
   "metadata": {},
   "outputs": [
    {
     "data": {
      "text/plain": [
       "False"
      ]
     },
     "execution_count": 7,
     "metadata": {},
     "output_type": "execute_result"
    }
   ],
   "source": [
    " >>> bool('')"
   ]
  },
  {
   "cell_type": "code",
   "execution_count": 8,
   "id": "22b16199",
   "metadata": {},
   "outputs": [
    {
     "data": {
      "text/plain": [
       "False"
      ]
     },
     "execution_count": 8,
     "metadata": {},
     "output_type": "execute_result"
    }
   ],
   "source": [
    " >>> bool(0)"
   ]
  },
  {
   "cell_type": "code",
   "execution_count": 9,
   "id": "743abe21",
   "metadata": {},
   "outputs": [
    {
     "data": {
      "text/plain": [
       "True"
      ]
     },
     "execution_count": 9,
     "metadata": {},
     "output_type": "execute_result"
    }
   ],
   "source": [
    " >>> bool('I think, therefore I am')"
   ]
  },
  {
   "cell_type": "code",
   "execution_count": 10,
   "id": "ebfe4895",
   "metadata": {},
   "outputs": [
    {
     "data": {
      "text/plain": [
       "True"
      ]
     },
     "execution_count": 10,
     "metadata": {},
     "output_type": "execute_result"
    }
   ],
   "source": [
    ">>> bool(42)"
   ]
  },
  {
   "cell_type": "code",
   "execution_count": 14,
   "id": "aee1de4c",
   "metadata": {},
   "outputs": [
    {
     "name": "stdout",
     "output_type": "stream",
     "text": [
      "What is your name? 职称\n",
      "Nice to meet you 职称\n"
     ]
    }
   ],
   "source": [
    "        name=input('What is your name? ')\n",
    "        if name.endswith('Gumby'):\n",
    "            print('Hello, Mr. Gumby')\n",
    "        else:\n",
    "            print('Nice to meet you '+name)"
   ]
  },
  {
   "cell_type": "markdown",
   "id": "37909232",
   "metadata": {},
   "source": [
    "要检查多个条件，可使用elif。elif是else if的缩写，由一个if子句和一个else子句组合而成，也就是包含条件的else子句。"
   ]
  },
  {
   "cell_type": "code",
   "execution_count": 19,
   "id": "67a1fe3d",
   "metadata": {},
   "outputs": [
    {
     "name": "stdout",
     "output_type": "stream",
     "text": [
      "What is your name? 职称\n",
      "Nice to meet you 职称\n"
     ]
    }
   ],
   "source": [
    "        name=input('What is your name? ')\n",
    "        if name.endswith('Gumby'):\n",
    "            print('Hello, Mr. Gumby')\n",
    "        elif name.endswith('rjb'):\n",
    "            print('Hello,name')\n",
    "        else:\n",
    "            print('Nice to meet you '+name)"
   ]
  },
  {
   "cell_type": "code",
   "execution_count": 25,
   "id": "d1748c94",
   "metadata": {},
   "outputs": [
    {
     "name": "stdout",
     "output_type": "stream",
     "text": [
      "Enter a number: rjb\n",
      "error is {ValueError(\"invalid literal for int() with base 10: 'rjb'\")} set default num=0\n",
      "The number is zero\n"
     ]
    },
    {
     "name": "stderr",
     "output_type": "stream",
     "text": [
      "Traceback (most recent call last):\n",
      "  File \"C:\\Users\\jcrj\\AppData\\Local\\Temp/ipykernel_22448/745702035.py\", line 3, in <module>\n",
      "    num = int(input('Enter a number: '))\n",
      "ValueError: invalid literal for int() with base 10: 'rjb'\n"
     ]
    }
   ],
   "source": [
    "    import traceback\n",
    "    try:\n",
    "        num = int(input('Enter a number: '))\n",
    "    except Exception as e:\n",
    "        print('error is',{e},'set default num=0')\n",
    "        traceback.print_exc()\n",
    "        num=0\n",
    "    if num > 0:\n",
    "            print('The number is positive')\n",
    "    elif num < 0:\n",
    "            print('The number is negative')\n",
    "    else:\n",
    "            print('The number is zero')"
   ]
  },
  {
   "cell_type": "code",
   "execution_count": 29,
   "id": "f0a3fbf1",
   "metadata": {},
   "outputs": [
    {
     "name": "stdout",
     "output_type": "stream",
     "text": [
      "What is your name? mr Gumby\n",
      "Hello, Mr. Gumby\n"
     ]
    }
   ],
   "source": [
    "        name=input('What is your name? ')\n",
    "        if name.endswith('Gumby'):\n",
    "            if name.startswith('Mr') or name.startswith('mr'):\n",
    "              print('Hello, Mr. Gumby')\n",
    "            elif name.startswith('Mrs') or name.startswith('mrs'):\n",
    "              print('Hello, Mrs. Gumby')\n",
    "            else:\n",
    "              print('Hello, Gumby')\n",
    "        else:\n",
    "            print('Hello, stranger')"
   ]
  },
  {
   "cell_type": "code",
   "execution_count": null,
   "id": "09860794",
   "metadata": {},
   "outputs": [],
   "source": []
  }
 ],
 "metadata": {
  "kernelspec": {
   "display_name": "Python 3 (ipykernel)",
   "language": "python",
   "name": "python3"
  },
  "language_info": {
   "codemirror_mode": {
    "name": "ipython",
    "version": 3
   },
   "file_extension": ".py",
   "mimetype": "text/x-python",
   "name": "python",
   "nbconvert_exporter": "python",
   "pygments_lexer": "ipython3",
   "version": "3.9.7"
  }
 },
 "nbformat": 4,
 "nbformat_minor": 5
}
