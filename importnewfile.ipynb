{
 "cells": [
  {
   "cell_type": "code",
   "execution_count": 1,
   "id": "a4e83eef",
   "metadata": {},
   "outputs": [
    {
     "data": {
      "text/plain": [
       "'/storage/emulated/0/111py/beginning-python-3ed'"
      ]
     },
     "execution_count": 1,
     "metadata": {},
     "output_type": "execute_result"
    }
   ],
   "source": [
    "pwd"
   ]
  },
  {
   "cell_type": "code",
   "execution_count": 2,
   "id": "3ffb2ec3",
   "metadata": {},
   "outputs": [
    {
     "name": "stdout",
     "output_type": "stream",
     "text": [
      "\u001b[0;0m9781484200292.jpg\u001b[m\r\n",
      "\u001b[1;34mChapter02\u001b[m/\r\n",
      "\u001b[1;34mChapter03\u001b[m/\r\n",
      "\u001b[1;34mChapter04\u001b[m/\r\n",
      "\u001b[1;34mChapter10\u001b[m/\r\n",
      "\u001b[1;34mChapter11\u001b[m/\r\n",
      "\u001b[1;34mChapter12\u001b[m/\r\n",
      "\u001b[1;34mChapter13\u001b[m/\r\n",
      "\u001b[1;34mChapter14\u001b[m/\r\n",
      "\u001b[1;34mChapter15\u001b[m/\r\n",
      "\u001b[1;34mChapter16\u001b[m/\r\n",
      "\u001b[1;34mChapter17\u001b[m/\r\n",
      "\u001b[1;34mChapter18\u001b[m/\r\n",
      "\u001b[1;34mChapter19\u001b[m/\r\n",
      "\u001b[1;34mChapter20\u001b[m/\r\n",
      "\u001b[1;34mChapter21\u001b[m/\r\n",
      "\u001b[1;34mChapter22\u001b[m/\r\n",
      "\u001b[1;34mChapter23\u001b[m/\r\n",
      "\u001b[1;34mChapter24\u001b[m/\r\n",
      "\u001b[1;34mChapter25\u001b[m/\r\n",
      "\u001b[1;34mChapter26\u001b[m/\r\n",
      "\u001b[1;34mChapter27\u001b[m/\r\n",
      "\u001b[1;34mChapter28\u001b[m/\r\n",
      "\u001b[1;34mChapter29\u001b[m/\r\n",
      "\u001b[0;0mLICENSE.txt\u001b[m\r\n",
      "\u001b[0;0mPython基础教程（第3版）高清中文版2018.pdf\u001b[m\r\n",
      "\u001b[0;0mREADME.md\u001b[m\r\n",
      "\u001b[0;0mREADME.txt\u001b[m\r\n",
      "\u001b[1;34m__pycache__\u001b[m/\r\n",
      "\u001b[0;0mcontributing.md\u001b[m\r\n",
      "\u001b[0;0merrata.md\u001b[m\r\n",
      "\u001b[0;0mimportnewfile.ipynb\u001b[m\r\n",
      "\u001b[0;0mimportpy.ipynb\u001b[m\r\n",
      "\u001b[0;0mlist1.py\u001b[m\r\n",
      "\u001b[0;0mlist2.py\u001b[m\r\n",
      "\u001b[0;0mrename.sh\u001b[m\r\n",
      "\u001b[0;0mstrformat.ipynb\u001b[m\r\n"
     ]
    }
   ],
   "source": [
    "ls"
   ]
  },
  {
   "cell_type": "code",
   "execution_count": 10,
   "id": "a1365b02",
   "metadata": {},
   "outputs": [
    {
     "ename": "FileNotFoundError",
     "evalue": "[Errno 2] No such file or directory: '-f' -> '-f.bak'",
     "output_type": "error",
     "traceback": [
      "\u001b[0;31m---------------------------------------------------------------------------\u001b[0m",
      "\u001b[0;31mFileNotFoundError\u001b[0m                         Traceback (most recent call last)",
      "Input \u001b[0;32mIn [10]\u001b[0m, in \u001b[0;36m<cell line: 1>\u001b[0;34m()\u001b[0m\n\u001b[0;32m----> 1\u001b[0m \u001b[38;5;28;01mfrom\u001b[39;00m \u001b[38;5;21;01mChapter10\u001b[39;00m\u001b[38;5;21;01m.\u001b[39;00m\u001b[38;5;21;01mlisting10_6\u001b[39;00m \u001b[38;5;28;01mimport\u001b[39;00m \u001b[38;5;241m*\u001b[39m\n",
      "File \u001b[0;32m/storage/emulated/0/111py/beginning-python-3ed/Chapter10/listing10_6.py:5\u001b[0m, in \u001b[0;36m<module>\u001b[0;34m\u001b[0m\n\u001b[1;32m      1\u001b[0m \u001b[38;5;66;03m# numberlines.py\u001b[39;00m\n\u001b[1;32m      3\u001b[0m \u001b[38;5;28;01mimport\u001b[39;00m \u001b[38;5;21;01mfileinput\u001b[39;00m\n\u001b[0;32m----> 5\u001b[0m \u001b[38;5;28;01mfor\u001b[39;00m line \u001b[38;5;129;01min\u001b[39;00m fileinput\u001b[38;5;241m.\u001b[39minput(inplace\u001b[38;5;241m=\u001b[39m\u001b[38;5;28;01mTrue\u001b[39;00m):\n\u001b[1;32m      6\u001b[0m     line \u001b[38;5;241m=\u001b[39m line\u001b[38;5;241m.\u001b[39mrstrip()\n\u001b[1;32m      7\u001b[0m     num  \u001b[38;5;241m=\u001b[39m fileinput\u001b[38;5;241m.\u001b[39mlineno()\n",
      "File \u001b[0;32m/data/user/0/ru.iiec.pydroid3/files/aarch64-linux-android/lib/python3.9/fileinput.py:249\u001b[0m, in \u001b[0;36mFileInput.__next__\u001b[0;34m(self)\u001b[0m\n\u001b[1;32m    247\u001b[0m \u001b[38;5;28;01mdef\u001b[39;00m \u001b[38;5;21m__next__\u001b[39m(\u001b[38;5;28mself\u001b[39m):\n\u001b[1;32m    248\u001b[0m     \u001b[38;5;28;01mwhile\u001b[39;00m \u001b[38;5;28;01mTrue\u001b[39;00m:\n\u001b[0;32m--> 249\u001b[0m         line \u001b[38;5;241m=\u001b[39m \u001b[38;5;28;43mself\u001b[39;49m\u001b[38;5;241;43m.\u001b[39;49m\u001b[43m_readline\u001b[49m\u001b[43m(\u001b[49m\u001b[43m)\u001b[49m\n\u001b[1;32m    250\u001b[0m         \u001b[38;5;28;01mif\u001b[39;00m line:\n\u001b[1;32m    251\u001b[0m             \u001b[38;5;28mself\u001b[39m\u001b[38;5;241m.\u001b[39m_filelineno \u001b[38;5;241m+\u001b[39m\u001b[38;5;241m=\u001b[39m \u001b[38;5;241m1\u001b[39m\n",
      "File \u001b[0;32m/data/user/0/ru.iiec.pydroid3/files/aarch64-linux-android/lib/python3.9/fileinput.py:343\u001b[0m, in \u001b[0;36mFileInput._readline\u001b[0;34m(self)\u001b[0m\n\u001b[1;32m    341\u001b[0m     \u001b[38;5;28;01mpass\u001b[39;00m\n\u001b[1;32m    342\u001b[0m \u001b[38;5;66;03m# The next few lines may raise OSError\u001b[39;00m\n\u001b[0;32m--> 343\u001b[0m \u001b[43mos\u001b[49m\u001b[38;5;241;43m.\u001b[39;49m\u001b[43mrename\u001b[49m\u001b[43m(\u001b[49m\u001b[38;5;28;43mself\u001b[39;49m\u001b[38;5;241;43m.\u001b[39;49m\u001b[43m_filename\u001b[49m\u001b[43m,\u001b[49m\u001b[43m \u001b[49m\u001b[38;5;28;43mself\u001b[39;49m\u001b[38;5;241;43m.\u001b[39;49m\u001b[43m_backupfilename\u001b[49m\u001b[43m)\u001b[49m\n\u001b[1;32m    344\u001b[0m \u001b[38;5;28mself\u001b[39m\u001b[38;5;241m.\u001b[39m_file \u001b[38;5;241m=\u001b[39m \u001b[38;5;28mopen\u001b[39m(\u001b[38;5;28mself\u001b[39m\u001b[38;5;241m.\u001b[39m_backupfilename, \u001b[38;5;28mself\u001b[39m\u001b[38;5;241m.\u001b[39m_mode)\n\u001b[1;32m    345\u001b[0m \u001b[38;5;28;01mtry\u001b[39;00m:\n",
      "\u001b[0;31mFileNotFoundError\u001b[0m: [Errno 2] No such file or directory: '-f' -> '-f.bak'"
     ]
    }
   ],
   "source": [
    "from Chapter10.listing10_6 import *\n"
   ]
  },
  {
   "cell_type": "code",
   "execution_count": null,
   "id": "d05536a6",
   "metadata": {},
   "outputs": [],
   "source": []
  }
 ],
 "metadata": {
  "kernelspec": {
   "display_name": "Python 3 (ipykernel)",
   "language": "python",
   "name": "python3"
  },
  "language_info": {
   "codemirror_mode": {
    "name": "ipython",
    "version": 3
   },
   "file_extension": ".py",
   "mimetype": "text/x-python",
   "name": "python",
   "nbconvert_exporter": "python",
   "pygments_lexer": "ipython3",
   "version": "3.9.7"
  }
 },
 "nbformat": 4,
 "nbformat_minor": 5
}
