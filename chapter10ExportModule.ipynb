{
 "cells": [
  {
   "cell_type": "code",
   "execution_count": 10,
   "metadata": {},
   "outputs": [
    {
     "data": {
      "text/plain": [
       "1.0"
      ]
     },
     "execution_count": 10,
     "metadata": {},
     "output_type": "execute_result"
    }
   ],
   "source": [
    "import math as m\n",
    "pi=m.pi\n",
    "m.sin(pi/2)"
   ]
  },
  {
   "cell_type": "markdown",
   "metadata": {},
   "source": [
    "直接从当前目录下导入某个文件，如下："
   ]
  },
  {
   "cell_type": "code",
   "execution_count": 11,
   "metadata": {},
   "outputs": [
    {
     "name": "stdout",
     "output_type": "stream",
     "text": [
      "Hello, world!\n"
     ]
    }
   ],
   "source": [
    "import Chapter10.listing10_1 "
   ]
  },
  {
   "cell_type": "markdown",
   "metadata": {},
   "source": [
    "采用pycat命令查看某个文件的内容："
   ]
  },
  {
   "cell_type": "code",
   "execution_count": 24,
   "metadata": {},
   "outputs": [],
   "source": [
    "pycat Chapter10/listing10_1.py "
   ]
  },
  {
   "cell_type": "code",
   "execution_count": 38,
   "metadata": {},
   "outputs": [
    {
     "name": "stdout",
     "output_type": "stream",
     "text": [
      "Hello, world!\n"
     ]
    }
   ],
   "source": [
    "#将模块的路径引入进来，然后从特定的文件中导入\n",
    "import sys\n",
    "sys.path.append('./Chapter10')\n",
    "from listing10_2 import hello\n",
    "hello()"
   ]
  },
  {
   "cell_type": "code",
   "execution_count": 39,
   "metadata": {},
   "outputs": [
    {
     "name": "stdout",
     "output_type": "stream",
     "text": [
      "Hello, world!\n"
     ]
    }
   ],
   "source": [
    "#另一种导入的办法是：直接从包中导入\n",
    "import Chapter10.listing10_2 \n",
    "hello()"
   ]
  },
  {
   "cell_type": "markdown",
   "metadata": {},
   "source": [
    "通过pycat在jupyter中查看源文件："
   ]
  },
  {
   "cell_type": "code",
   "execution_count": 32,
   "metadata": {},
   "outputs": [],
   "source": [
    "pycat Chapter10/listing10_2.py \n"
   ]
  },
  {
   "cell_type": "code",
   "execution_count": 48,
   "metadata": {},
   "outputs": [],
   "source": [
    "import listing10_3"
   ]
  },
  {
   "cell_type": "code",
   "execution_count": 45,
   "metadata": {},
   "outputs": [],
   "source": [
    "pycat Chapter10/listing10_3.py"
   ]
  },
  {
   "cell_type": "markdown",
   "metadata": {},
   "source": [
    "如果一定要重新加载模块，可使用模块importlib中的函数reload，它接受一个参数（要重新加载的模块），并返回重新加载的模块。如果在程序运行时修改了模块，并希望这种修改反映到程序中，这将很有用"
   ]
  },
  {
   "cell_type": "code",
   "execution_count": 50,
   "metadata": {},
   "outputs": [
    {
     "name": "stdout",
     "output_type": "stream",
     "text": [
      "Hello, world!\n"
     ]
    }
   ],
   "source": [
    "import importlib\n",
    "hello=importlib.reload(listing10_3)"
   ]
  },
  {
   "cell_type": "code",
   "execution_count": 51,
   "metadata": {},
   "outputs": [],
   "source": [
    "import listing10_4"
   ]
  },
  {
   "cell_type": "code",
   "execution_count": 53,
   "metadata": {},
   "outputs": [
    {
     "data": {
      "text/plain": [
       "['__builtins__',\n",
       " '__cached__',\n",
       " '__doc__',\n",
       " '__file__',\n",
       " '__loader__',\n",
       " '__name__',\n",
       " '__package__',\n",
       " '__spec__',\n",
       " 'hello',\n",
       " 'test']"
      ]
     },
     "execution_count": 53,
     "metadata": {},
     "output_type": "execute_result"
    }
   ],
   "source": [
    "dir(listing10_4)"
   ]
  },
  {
   "cell_type": "markdown",
   "metadata": {},
   "source": [
    "如果将这个模块作为程序运行，将执行函数hello；如果导入它，其行为将像普通模块一样。"
   ]
  },
  {
   "cell_type": "code",
   "execution_count": 55,
   "metadata": {},
   "outputs": [
    {
     "name": "stdout",
     "output_type": "stream",
     "text": [
      "Hello, world!\n"
     ]
    }
   ],
   "source": [
    "listing10_4.hello()"
   ]
  },
  {
   "cell_type": "code",
   "execution_count": 56,
   "metadata": {},
   "outputs": [
    {
     "name": "stdout",
     "output_type": "stream",
     "text": [
      "Hello, world!\n"
     ]
    }
   ],
   "source": [
    "listing10_4.test()"
   ]
  },
  {
   "cell_type": "markdown",
   "metadata": {},
   "source": [
    "独立运行某个模块.py的方法如下。方法1：采用%run命令，后面接.py的完整路径"
   ]
  },
  {
   "cell_type": "code",
   "execution_count": 62,
   "metadata": {},
   "outputs": [
    {
     "name": "stdout",
     "output_type": "stream",
     "text": [
      "Hello, world!\n"
     ]
    }
   ],
   "source": [
    "%run Chapter10/listing10_4.py"
   ]
  },
  {
   "cell_type": "markdown",
   "metadata": {},
   "source": [
    "方法2：%load将文件加载至cell"
   ]
  },
  {
   "cell_type": "code",
   "execution_count": 68,
   "metadata": {},
   "outputs": [
    {
     "name": "stdout",
     "output_type": "stream",
     "text": [
      "Hello, world!\n"
     ]
    }
   ],
   "source": [
    "# %load Chapter10/listing10_4.py\n",
    "# hello4.py\n",
    "def hello():\n",
    "    print(\"Hello, world!\")\n",
    "\n",
    "def test():\n",
    "    hello()\n",
    "\n",
    "if __name__ == '__main__': test()"
   ]
  },
  {
   "cell_type": "markdown",
   "metadata": {},
   "source": [
    "采用%load src.py的方式，比较合理，先加载，然后再在cell中运行，可以看到源码"
   ]
  },
  {
   "cell_type": "markdown",
   "metadata": {},
   "source": [
    "10.2 探索模块"
   ]
  },
  {
   "cell_type": "markdown",
   "metadata": {},
   "source": [
    "10.2.1 模块包含什么"
   ]
  },
  {
   "cell_type": "code",
   "execution_count": null,
   "metadata": {},
   "outputs": [],
   "source": [
    "1. 使用dir"
   ]
  },
  {
   "cell_type": "markdown",
   "metadata": {},
   "source": [
    "要查明模块包含哪些东西，可使用函数dir，它列出对象的所有属性（对于模块，它列出所有的函数、类、变量等）。如果将dir(copy)的结果打印出来，将是一个很长的名称列表（请试试看）。在这些名称中，有几个以下划线打头。根据约定，这意味着它们并非供外部使用。"
   ]
  },
  {
   "cell_type": "code",
   "execution_count": 72,
   "metadata": {},
   "outputs": [],
   "source": [
    "import copy"
   ]
  },
  {
   "cell_type": "code",
   "execution_count": 73,
   "metadata": {},
   "outputs": [
    {
     "data": {
      "text/plain": [
       "['Error',\n",
       " '__all__',\n",
       " '__builtins__',\n",
       " '__cached__',\n",
       " '__doc__',\n",
       " '__file__',\n",
       " '__loader__',\n",
       " '__name__',\n",
       " '__package__',\n",
       " '__spec__',\n",
       " '_copy_dispatch',\n",
       " '_copy_immutable',\n",
       " '_deepcopy_atomic',\n",
       " '_deepcopy_dict',\n",
       " '_deepcopy_dispatch',\n",
       " '_deepcopy_list',\n",
       " '_deepcopy_method',\n",
       " '_deepcopy_tuple',\n",
       " '_keep_alive',\n",
       " '_reconstruct',\n",
       " 'copy',\n",
       " 'deepcopy',\n",
       " 'dispatch_table',\n",
       " 'error']"
      ]
     },
     "execution_count": 73,
     "metadata": {},
     "output_type": "execute_result"
    }
   ],
   "source": [
    "dir(copy)"
   ]
  },
  {
   "cell_type": "code",
   "execution_count": 74,
   "metadata": {},
   "outputs": [
    {
     "data": {
      "text/plain": [
       "['Error', 'copy', 'deepcopy', 'dispatch_table', 'error']"
      ]
     },
     "execution_count": 74,
     "metadata": {},
     "output_type": "execute_result"
    }
   ],
   "source": [
    "        >>> [n for n in dir(copy) if not n.startswith('_')]\n",
    "       "
   ]
  },
  {
   "cell_type": "markdown",
   "metadata": {},
   "source": [
    "2. 变量__all__在前一节中，我使用简单的列表推导来猜测可在模块copy中看到哪些内容，然而可直接咨询这个模块来获得正确的答案。你可能注意到了，在dir(copy)返回的完整清单中，包含名称__all__。这个变量包含一个列表，它与前面使用列表推导创建的列表类似，但是在模块内部设置的。下面来看看这个列表包含的内容："
   ]
  },
  {
   "cell_type": "code",
   "execution_count": 75,
   "metadata": {},
   "outputs": [
    {
     "data": {
      "text/plain": [
       "['Error', 'copy', 'deepcopy']"
      ]
     },
     "execution_count": 75,
     "metadata": {},
     "output_type": "execute_result"
    }
   ],
   "source": [
    "        >>> copy.__all__\n"
   ]
  },
  {
   "cell_type": "markdown",
   "metadata": {},
   "source": [
    "10.2.2 使用help获取帮助"
   ]
  },
  {
   "cell_type": "code",
   "execution_count": 76,
   "metadata": {},
   "outputs": [
    {
     "name": "stdout",
     "output_type": "stream",
     "text": [
      "Help on function copy in module copy:\n",
      "\n",
      "copy(x)\n",
      "    Shallow copy operation on arbitrary Python objects.\n",
      "    \n",
      "    See the module's __doc__ string for more info.\n",
      "\n"
     ]
    }
   ],
   "source": [
    "        >>> help(copy.copy)\n",
    "      "
   ]
  },
  {
   "cell_type": "code",
   "execution_count": 77,
   "metadata": {},
   "outputs": [
    {
     "name": "stdout",
     "output_type": "stream",
     "text": [
      "Help on module copy:\n",
      "\n",
      "NAME\n",
      "    copy - Generic (shallow and deep) copying operations.\n",
      "\n",
      "DESCRIPTION\n",
      "    Interface summary:\n",
      "    \n",
      "            import copy\n",
      "    \n",
      "            x = copy.copy(y)        # make a shallow copy of y\n",
      "            x = copy.deepcopy(y)    # make a deep copy of y\n",
      "    \n",
      "    For module specific errors, copy.Error is raised.\n",
      "    \n",
      "    The difference between shallow and deep copying is only relevant for\n",
      "    compound objects (objects that contain other objects, like lists or\n",
      "    class instances).\n",
      "    \n",
      "    - A shallow copy constructs a new compound object and then (to the\n",
      "      extent possible) inserts *the same objects* into it that the\n",
      "      original contains.\n",
      "    \n",
      "    - A deep copy constructs a new compound object and then, recursively,\n",
      "      inserts *copies* into it of the objects found in the original.\n",
      "    \n",
      "    Two problems often exist with deep copy operations that don't exist\n",
      "    with shallow copy operations:\n",
      "    \n",
      "     a) recursive objects (compound objects that, directly or indirectly,\n",
      "        contain a reference to themselves) may cause a recursive loop\n",
      "    \n",
      "     b) because deep copy copies *everything* it may copy too much, e.g.\n",
      "        administrative data structures that should be shared even between\n",
      "        copies\n",
      "    \n",
      "    Python's deep copy operation avoids these problems by:\n",
      "    \n",
      "     a) keeping a table of objects already copied during the current\n",
      "        copying pass\n",
      "    \n",
      "     b) letting user-defined classes override the copying operation or the\n",
      "        set of components copied\n",
      "    \n",
      "    This version does not copy types like module, class, function, method,\n",
      "    nor stack trace, stack frame, nor file, socket, window, nor array, nor\n",
      "    any similar types.\n",
      "    \n",
      "    Classes can use the same interfaces to control copying that they use\n",
      "    to control pickling: they can define methods called __getinitargs__(),\n",
      "    __getstate__() and __setstate__().  See the documentation for module\n",
      "    \"pickle\" for information on these methods.\n",
      "\n",
      "CLASSES\n",
      "    builtins.Exception(builtins.BaseException)\n",
      "        Error\n",
      "    \n",
      "    class Error(builtins.Exception)\n",
      "     |  Common base class for all non-exit exceptions.\n",
      "     |  \n",
      "     |  Method resolution order:\n",
      "     |      Error\n",
      "     |      builtins.Exception\n",
      "     |      builtins.BaseException\n",
      "     |      builtins.object\n",
      "     |  \n",
      "     |  Data descriptors defined here:\n",
      "     |  \n",
      "     |  __weakref__\n",
      "     |      list of weak references to the object (if defined)\n",
      "     |  \n",
      "     |  ----------------------------------------------------------------------\n",
      "     |  Methods inherited from builtins.Exception:\n",
      "     |  \n",
      "     |  __init__(self, /, *args, **kwargs)\n",
      "     |      Initialize self.  See help(type(self)) for accurate signature.\n",
      "     |  \n",
      "     |  ----------------------------------------------------------------------\n",
      "     |  Static methods inherited from builtins.Exception:\n",
      "     |  \n",
      "     |  __new__(*args, **kwargs) from builtins.type\n",
      "     |      Create and return a new object.  See help(type) for accurate signature.\n",
      "     |  \n",
      "     |  ----------------------------------------------------------------------\n",
      "     |  Methods inherited from builtins.BaseException:\n",
      "     |  \n",
      "     |  __delattr__(self, name, /)\n",
      "     |      Implement delattr(self, name).\n",
      "     |  \n",
      "     |  __getattribute__(self, name, /)\n",
      "     |      Return getattr(self, name).\n",
      "     |  \n",
      "     |  __reduce__(...)\n",
      "     |      Helper for pickle.\n",
      "     |  \n",
      "     |  __repr__(self, /)\n",
      "     |      Return repr(self).\n",
      "     |  \n",
      "     |  __setattr__(self, name, value, /)\n",
      "     |      Implement setattr(self, name, value).\n",
      "     |  \n",
      "     |  __setstate__(...)\n",
      "     |  \n",
      "     |  __str__(self, /)\n",
      "     |      Return str(self).\n",
      "     |  \n",
      "     |  with_traceback(...)\n",
      "     |      Exception.with_traceback(tb) --\n",
      "     |      set self.__traceback__ to tb and return self.\n",
      "     |  \n",
      "     |  ----------------------------------------------------------------------\n",
      "     |  Data descriptors inherited from builtins.BaseException:\n",
      "     |  \n",
      "     |  __cause__\n",
      "     |      exception cause\n",
      "     |  \n",
      "     |  __context__\n",
      "     |      exception context\n",
      "     |  \n",
      "     |  __dict__\n",
      "     |  \n",
      "     |  __suppress_context__\n",
      "     |  \n",
      "     |  __traceback__\n",
      "     |  \n",
      "     |  args\n",
      "\n",
      "FUNCTIONS\n",
      "    copy(x)\n",
      "        Shallow copy operation on arbitrary Python objects.\n",
      "        \n",
      "        See the module's __doc__ string for more info.\n",
      "    \n",
      "    deepcopy(x, memo=None, _nil=[])\n",
      "        Deep copy operation on arbitrary Python objects.\n",
      "        \n",
      "        See the module's __doc__ string for more info.\n",
      "\n",
      "DATA\n",
      "    __all__ = ['Error', 'copy', 'deepcopy']\n",
      "\n",
      "FILE\n",
      "    d:\\programdata\\anaconda3\\lib\\copy.py\n",
      "\n",
      "\n"
     ]
    }
   ],
   "source": [
    "help(copy)"
   ]
  },
  {
   "cell_type": "markdown",
   "metadata": {},
   "source": [
    "10.2.3 文档显然，文档是有关模块信息的自然来源。我之所以到现在才讨论文档，是因为查看模块本身要快得多。例如，你可能想知道range的参数是什么？在这种情况下，与其在Python图书或标准Python文档中查找对range的描述，不如直接检查这个函数。"
   ]
  },
  {
   "cell_type": "code",
   "execution_count": 78,
   "metadata": {},
   "outputs": [
    {
     "name": "stdout",
     "output_type": "stream",
     "text": [
      "range(stop) -> range object\n",
      "range(start, stop[, step]) -> range object\n",
      "\n",
      "Return an object that produces a sequence of integers from start (inclusive)\n",
      "to stop (exclusive) by step.  range(i, j) produces i, i+1, i+2, ..., j-1.\n",
      "start defaults to 0, and stop is omitted!  range(4) produces 0, 1, 2, 3.\n",
      "These are exactly the valid indices for a list of 4 elements.\n",
      "When step is given, it specifies the increment (or decrement).\n"
     ]
    }
   ],
   "source": [
    "print(range.__doc__)"
   ]
  },
  {
   "cell_type": "markdown",
   "metadata": {},
   "source": [
    "10.2.4 使用源代码在大多数情况下，前面讨论的探索技巧都够用了。但要真正理解Python语言，可能需要了解一些不阅读源代码就无法了解的事情。事实上，要学习Python，阅读源代码是除动手编写代码外的最佳方式。"
   ]
  },
  {
   "cell_type": "code",
   "execution_count": 79,
   "metadata": {},
   "outputs": [
    {
     "name": "stdout",
     "output_type": "stream",
     "text": [
      "d:\\ProgramData\\Anaconda3\\lib\\copy.py\n"
     ]
    }
   ],
   "source": [
    "print(copy.__file__)"
   ]
  },
  {
   "cell_type": "markdown",
   "metadata": {},
   "source": [
    "10.3 标准库：一些深受欢迎的模块"
   ]
  },
  {
   "cell_type": "code",
   "execution_count": 83,
   "metadata": {},
   "outputs": [],
   "source": [
    "import sys"
   ]
  },
  {
   "cell_type": "code",
   "execution_count": 85,
   "metadata": {},
   "outputs": [
    {
     "name": "stdout",
     "output_type": "stream",
     "text": [
      "This module provides access to some objects used or maintained by the\n",
      "interpreter and to functions that interact strongly with the interpreter.\n",
      "\n",
      "Dynamic objects:\n",
      "\n",
      "argv -- command line arguments; argv[0] is the script pathname if known\n",
      "path -- module search path; path[0] is the script directory, else ''\n",
      "modules -- dictionary of loaded modules\n",
      "\n",
      "displayhook -- called to show results in an interactive session\n",
      "excepthook -- called to handle any uncaught exception other than SystemExit\n",
      "  To customize printing in an interactive session or to install a custom\n",
      "  top-level exception handler, assign other functions to replace these.\n",
      "\n",
      "stdin -- standard input file object; used by input()\n",
      "stdout -- standard output file object; used by print()\n",
      "stderr -- standard error object; used for error messages\n",
      "  By assigning other file objects (or objects that behave like files)\n",
      "  to these, it is possible to redirect all of the interpreter's I/O.\n",
      "\n",
      "last_type -- type of last uncaught exception\n",
      "last_value -- value of last uncaught exception\n",
      "last_traceback -- traceback of last uncaught exception\n",
      "  These three are only available in an interactive session after a\n",
      "  traceback has been printed.\n",
      "\n",
      "Static objects:\n",
      "\n",
      "builtin_module_names -- tuple of module names built into this interpreter\n",
      "copyright -- copyright notice pertaining to this interpreter\n",
      "exec_prefix -- prefix used to find the machine-specific Python library\n",
      "executable -- absolute path of the executable binary of the Python interpreter\n",
      "float_info -- a named tuple with information about the float implementation.\n",
      "float_repr_style -- string indicating the style of repr() output for floats\n",
      "hash_info -- a named tuple with information about the hash algorithm.\n",
      "hexversion -- version information encoded as a single integer\n",
      "implementation -- Python implementation information.\n",
      "int_info -- a named tuple with information about the int implementation.\n",
      "maxsize -- the largest supported length of containers.\n",
      "maxunicode -- the value of the largest Unicode code point\n",
      "platform -- platform identifier\n",
      "prefix -- prefix used to find the Python library\n",
      "thread_info -- a named tuple with information about the thread implementation.\n",
      "version -- the version of this interpreter as a string\n",
      "version_info -- version information as a named tuple\n",
      "dllhandle -- [Windows only] integer handle of the Python DLL\n",
      "winver -- [Windows only] version number of the Python DLL\n",
      "_enablelegacywindowsfsencoding -- [Windows only] \n",
      "__stdin__ -- the original stdin; don't touch!\n",
      "__stdout__ -- the original stdout; don't touch!\n",
      "__stderr__ -- the original stderr; don't touch!\n",
      "__displayhook__ -- the original displayhook; don't touch!\n",
      "__excepthook__ -- the original excepthook; don't touch!\n",
      "\n",
      "Functions:\n",
      "\n",
      "displayhook() -- print an object to the screen, and save it in builtins._\n",
      "excepthook() -- print an exception and its traceback to sys.stderr\n",
      "exc_info() -- return thread-safe information about the current exception\n",
      "exit() -- exit the interpreter by raising SystemExit\n",
      "getdlopenflags() -- returns flags to be used for dlopen() calls\n",
      "getprofile() -- get the global profiling function\n",
      "getrefcount() -- return the reference count for an object (plus one :-)\n",
      "getrecursionlimit() -- return the max recursion depth for the interpreter\n",
      "getsizeof() -- return the size of an object in bytes\n",
      "gettrace() -- get the global debug tracing function\n",
      "setcheckinterval() -- control how often the interpreter checks for events\n",
      "setdlopenflags() -- set the flags to be used for dlopen() calls\n",
      "setprofile() -- set the global profiling function\n",
      "setrecursionlimit() -- set the max recursion depth for the interpreter\n",
      "settrace() -- set the global debug tracing function\n",
      "\n"
     ]
    }
   ],
   "source": [
    "print(sys.__doc__)"
   ]
  },
  {
   "cell_type": "code",
   "execution_count": 86,
   "metadata": {},
   "outputs": [
    {
     "data": {
      "text/plain": [
       "['__breakpointhook__',\n",
       " '__displayhook__',\n",
       " '__doc__',\n",
       " '__excepthook__',\n",
       " '__interactivehook__',\n",
       " '__loader__',\n",
       " '__name__',\n",
       " '__package__',\n",
       " '__spec__',\n",
       " '__stderr__',\n",
       " '__stdin__',\n",
       " '__stdout__',\n",
       " '_base_executable',\n",
       " '_clear_type_cache',\n",
       " '_current_frames',\n",
       " '_debugmallocstats',\n",
       " '_enablelegacywindowsfsencoding',\n",
       " '_framework',\n",
       " '_getframe',\n",
       " '_git',\n",
       " '_home',\n",
       " '_xoptions',\n",
       " 'api_version',\n",
       " 'argv',\n",
       " 'base_exec_prefix',\n",
       " 'base_prefix',\n",
       " 'breakpointhook',\n",
       " 'builtin_module_names',\n",
       " 'byteorder',\n",
       " 'call_tracing',\n",
       " 'callstats',\n",
       " 'copyright',\n",
       " 'displayhook',\n",
       " 'dllhandle',\n",
       " 'dont_write_bytecode',\n",
       " 'exc_info',\n",
       " 'excepthook',\n",
       " 'exec_prefix',\n",
       " 'executable',\n",
       " 'exit',\n",
       " 'flags',\n",
       " 'float_info',\n",
       " 'float_repr_style',\n",
       " 'get_asyncgen_hooks',\n",
       " 'get_coroutine_origin_tracking_depth',\n",
       " 'get_coroutine_wrapper',\n",
       " 'getallocatedblocks',\n",
       " 'getcheckinterval',\n",
       " 'getdefaultencoding',\n",
       " 'getfilesystemencodeerrors',\n",
       " 'getfilesystemencoding',\n",
       " 'getprofile',\n",
       " 'getrecursionlimit',\n",
       " 'getrefcount',\n",
       " 'getsizeof',\n",
       " 'getswitchinterval',\n",
       " 'gettrace',\n",
       " 'getwindowsversion',\n",
       " 'hash_info',\n",
       " 'hexversion',\n",
       " 'implementation',\n",
       " 'int_info',\n",
       " 'intern',\n",
       " 'is_finalizing',\n",
       " 'last_traceback',\n",
       " 'last_type',\n",
       " 'last_value',\n",
       " 'maxsize',\n",
       " 'maxunicode',\n",
       " 'meta_path',\n",
       " 'modules',\n",
       " 'path',\n",
       " 'path_hooks',\n",
       " 'path_importer_cache',\n",
       " 'platform',\n",
       " 'prefix',\n",
       " 'ps1',\n",
       " 'ps2',\n",
       " 'ps3',\n",
       " 'set_asyncgen_hooks',\n",
       " 'set_coroutine_origin_tracking_depth',\n",
       " 'set_coroutine_wrapper',\n",
       " 'setcheckinterval',\n",
       " 'setprofile',\n",
       " 'setrecursionlimit',\n",
       " 'setswitchinterval',\n",
       " 'settrace',\n",
       " 'stderr',\n",
       " 'stdin',\n",
       " 'stdout',\n",
       " 'thread_info',\n",
       " 'version',\n",
       " 'version_info',\n",
       " 'warnoptions',\n",
       " 'winver']"
      ]
     },
     "execution_count": 86,
     "metadata": {},
     "output_type": "execute_result"
    }
   ],
   "source": [
    "dir(sys)"
   ]
  },
  {
   "cell_type": "code",
   "execution_count": 87,
   "metadata": {},
   "outputs": [
    {
     "name": "stdout",
     "output_type": "stream",
     "text": [
      "Help on built-in module sys:\n",
      "\n",
      "NAME\n",
      "    sys\n",
      "\n",
      "MODULE REFERENCE\n",
      "    https://docs.python.org/3.7/library/sys\n",
      "    \n",
      "    The following documentation is automatically generated from the Python\n",
      "    source files.  It may be incomplete, incorrect or include features that\n",
      "    are considered implementation detail and may vary between Python\n",
      "    implementations.  When in doubt, consult the module reference at the\n",
      "    location listed above.\n",
      "\n",
      "DESCRIPTION\n",
      "    This module provides access to some objects used or maintained by the\n",
      "    interpreter and to functions that interact strongly with the interpreter.\n",
      "    \n",
      "    Dynamic objects:\n",
      "    \n",
      "    argv -- command line arguments; argv[0] is the script pathname if known\n",
      "    path -- module search path; path[0] is the script directory, else ''\n",
      "    modules -- dictionary of loaded modules\n",
      "    \n",
      "    displayhook -- called to show results in an interactive session\n",
      "    excepthook -- called to handle any uncaught exception other than SystemExit\n",
      "      To customize printing in an interactive session or to install a custom\n",
      "      top-level exception handler, assign other functions to replace these.\n",
      "    \n",
      "    stdin -- standard input file object; used by input()\n",
      "    stdout -- standard output file object; used by print()\n",
      "    stderr -- standard error object; used for error messages\n",
      "      By assigning other file objects (or objects that behave like files)\n",
      "      to these, it is possible to redirect all of the interpreter's I/O.\n",
      "    \n",
      "    last_type -- type of last uncaught exception\n",
      "    last_value -- value of last uncaught exception\n",
      "    last_traceback -- traceback of last uncaught exception\n",
      "      These three are only available in an interactive session after a\n",
      "      traceback has been printed.\n",
      "    \n",
      "    Static objects:\n",
      "    \n",
      "    builtin_module_names -- tuple of module names built into this interpreter\n",
      "    copyright -- copyright notice pertaining to this interpreter\n",
      "    exec_prefix -- prefix used to find the machine-specific Python library\n",
      "    executable -- absolute path of the executable binary of the Python interpreter\n",
      "    float_info -- a named tuple with information about the float implementation.\n",
      "    float_repr_style -- string indicating the style of repr() output for floats\n",
      "    hash_info -- a named tuple with information about the hash algorithm.\n",
      "    hexversion -- version information encoded as a single integer\n",
      "    implementation -- Python implementation information.\n",
      "    int_info -- a named tuple with information about the int implementation.\n",
      "    maxsize -- the largest supported length of containers.\n",
      "    maxunicode -- the value of the largest Unicode code point\n",
      "    platform -- platform identifier\n",
      "    prefix -- prefix used to find the Python library\n",
      "    thread_info -- a named tuple with information about the thread implementation.\n",
      "    version -- the version of this interpreter as a string\n",
      "    version_info -- version information as a named tuple\n",
      "    dllhandle -- [Windows only] integer handle of the Python DLL\n",
      "    winver -- [Windows only] version number of the Python DLL\n",
      "    _enablelegacywindowsfsencoding -- [Windows only] \n",
      "    __stdin__ -- the original stdin; don't touch!\n",
      "    __stdout__ -- the original stdout; don't touch!\n",
      "    __stderr__ -- the original stderr; don't touch!\n",
      "    __displayhook__ -- the original displayhook; don't touch!\n",
      "    __excepthook__ -- the original excepthook; don't touch!\n",
      "    \n",
      "    Functions:\n",
      "    \n",
      "    displayhook() -- print an object to the screen, and save it in builtins._\n",
      "    excepthook() -- print an exception and its traceback to sys.stderr\n",
      "    exc_info() -- return thread-safe information about the current exception\n",
      "    exit() -- exit the interpreter by raising SystemExit\n",
      "    getdlopenflags() -- returns flags to be used for dlopen() calls\n",
      "    getprofile() -- get the global profiling function\n",
      "    getrefcount() -- return the reference count for an object (plus one :-)\n",
      "    getrecursionlimit() -- return the max recursion depth for the interpreter\n",
      "    getsizeof() -- return the size of an object in bytes\n",
      "    gettrace() -- get the global debug tracing function\n",
      "    setcheckinterval() -- control how often the interpreter checks for events\n",
      "    setdlopenflags() -- set the flags to be used for dlopen() calls\n",
      "    setprofile() -- set the global profiling function\n",
      "    setrecursionlimit() -- set the max recursion depth for the interpreter\n",
      "    settrace() -- set the global debug tracing function\n",
      "\n",
      "FUNCTIONS\n",
      "    __breakpointhook__ = breakpointhook(...)\n",
      "        breakpointhook(*args, **kws)\n",
      "        \n",
      "        This hook function is called by built-in breakpoint().\n",
      "    \n",
      "    __displayhook__ = displayhook(...)\n",
      "        displayhook(object) -> None\n",
      "        \n",
      "        Print an object to sys.stdout and also save it in builtins._\n",
      "    \n",
      "    __excepthook__ = excepthook(...)\n",
      "        excepthook(exctype, value, traceback) -> None\n",
      "        \n",
      "        Handle an exception by displaying it with a traceback on sys.stderr.\n",
      "    \n",
      "    breakpointhook(...)\n",
      "        breakpointhook(*args, **kws)\n",
      "        \n",
      "        This hook function is called by built-in breakpoint().\n",
      "    \n",
      "    call_tracing(...)\n",
      "        call_tracing(func, args) -> object\n",
      "        \n",
      "        Call func(*args), while tracing is enabled.  The tracing state is\n",
      "        saved, and restored afterwards.  This is intended to be called from\n",
      "        a debugger from a checkpoint, to recursively debug some other code.\n",
      "    \n",
      "    callstats(...)\n",
      "        callstats() -> tuple of integers\n",
      "        \n",
      "        Return a tuple of function call statistics, if CALL_PROFILE was defined\n",
      "        when Python was built.  Otherwise, return None.\n",
      "        \n",
      "        When enabled, this function returns detailed, implementation-specific\n",
      "        details about the number of function calls executed. The return value is\n",
      "        a 11-tuple where the entries in the tuple are counts of:\n",
      "        0. all function calls\n",
      "        1. calls to PyFunction_Type objects\n",
      "        2. PyFunction calls that do not create an argument tuple\n",
      "        3. PyFunction calls that do not create an argument tuple\n",
      "           and bypass PyEval_EvalCodeEx()\n",
      "        4. PyMethod calls\n",
      "        5. PyMethod calls on bound methods\n",
      "        6. PyType calls\n",
      "        7. PyCFunction calls\n",
      "        8. generator calls\n",
      "        9. All other calls\n",
      "        10. Number of stack pops performed by call_function()\n",
      "    \n",
      "    exc_info(...)\n",
      "        exc_info() -> (type, value, traceback)\n",
      "        \n",
      "        Return information about the most recent exception caught by an except\n",
      "        clause in the current stack frame or in an older stack frame.\n",
      "    \n",
      "    exit(...)\n",
      "        exit([status])\n",
      "        \n",
      "        Exit the interpreter by raising SystemExit(status).\n",
      "        If the status is omitted or None, it defaults to zero (i.e., success).\n",
      "        If the status is an integer, it will be used as the system exit status.\n",
      "        If it is another kind of object, it will be printed and the system\n",
      "        exit status will be one (i.e., failure).\n",
      "    \n",
      "    get_asyncgen_hooks(...)\n",
      "        get_asyncgen_hooks()\n",
      "        \n",
      "        Return a namedtuple of installed asynchronous generators hooks (firstiter, finalizer).\n",
      "    \n",
      "    get_coroutine_origin_tracking_depth()\n",
      "        Check status of origin tracking for coroutine objects in this thread.\n",
      "    \n",
      "    get_coroutine_wrapper(...)\n",
      "        get_coroutine_wrapper()\n",
      "        \n",
      "        Return the wrapper for coroutine objects set by sys.set_coroutine_wrapper.\n",
      "    \n",
      "    getallocatedblocks(...)\n",
      "        getallocatedblocks() -> integer\n",
      "        \n",
      "        Return the number of memory blocks currently allocated, regardless of their\n",
      "        size.\n",
      "    \n",
      "    getcheckinterval(...)\n",
      "        getcheckinterval() -> current check interval; see setcheckinterval().\n",
      "    \n",
      "    getdefaultencoding(...)\n",
      "        getdefaultencoding() -> string\n",
      "        \n",
      "        Return the current default string encoding used by the Unicode \n",
      "        implementation.\n",
      "    \n",
      "    getfilesystemencodeerrors(...)\n",
      "        getfilesystemencodeerrors() -> string\n",
      "        \n",
      "        Return the error mode used to convert Unicode filenames in\n",
      "        operating system filenames.\n",
      "    \n",
      "    getfilesystemencoding(...)\n",
      "        getfilesystemencoding() -> string\n",
      "        \n",
      "        Return the encoding used to convert Unicode filenames in\n",
      "        operating system filenames.\n",
      "    \n",
      "    getprofile(...)\n",
      "        getprofile()\n",
      "        \n",
      "        Return the profiling function set with sys.setprofile.\n",
      "        See the profiler chapter in the library manual.\n",
      "    \n",
      "    getrecursionlimit(...)\n",
      "        getrecursionlimit()\n",
      "        \n",
      "        Return the current value of the recursion limit, the maximum depth\n",
      "        of the Python interpreter stack.  This limit prevents infinite\n",
      "        recursion from causing an overflow of the C stack and crashing Python.\n",
      "    \n",
      "    getrefcount(...)\n",
      "        getrefcount(object) -> integer\n",
      "        \n",
      "        Return the reference count of object.  The count returned is generally\n",
      "        one higher than you might expect, because it includes the (temporary)\n",
      "        reference as an argument to getrefcount().\n",
      "    \n",
      "    getsizeof(...)\n",
      "        getsizeof(object, default) -> int\n",
      "        \n",
      "        Return the size of object in bytes.\n",
      "    \n",
      "    getswitchinterval(...)\n",
      "        getswitchinterval() -> current thread switch interval; see setswitchinterval().\n",
      "    \n",
      "    gettrace(...)\n",
      "        gettrace()\n",
      "        \n",
      "        Return the global debug tracing function set with sys.settrace.\n",
      "        See the debugger chapter in the library manual.\n",
      "    \n",
      "    getwindowsversion(...)\n",
      "        getwindowsversion()\n",
      "        \n",
      "        Return information about the running version of Windows as a named tuple.\n",
      "        The members are named: major, minor, build, platform, service_pack,\n",
      "        service_pack_major, service_pack_minor, suite_mask, and product_type. For\n",
      "        backward compatibility, only the first 5 items are available by indexing.\n",
      "        All elements are numbers, except service_pack and platform_type which are\n",
      "        strings, and platform_version which is a 3-tuple. Platform is always 2.\n",
      "        Product_type may be 1 for a workstation, 2 for a domain controller, 3 for a\n",
      "        server. Platform_version is a 3-tuple containing a version number that is\n",
      "        intended for identifying the OS rather than feature detection.\n",
      "    \n",
      "    intern(...)\n",
      "        intern(string) -> string\n",
      "        \n",
      "        ``Intern'' the given string.  This enters the string in the (global)\n",
      "        table of interned strings whose purpose is to speed up dictionary lookups.\n",
      "        Return the string itself or the previously interned string object with the\n",
      "        same value.\n",
      "    \n",
      "    is_finalizing(...)\n",
      "        is_finalizing()\n",
      "        Return True if Python is exiting.\n",
      "    \n",
      "    set_asyncgen_hooks(...)\n",
      "        set_asyncgen_hooks(*, firstiter=None, finalizer=None)\n",
      "        \n",
      "        Set a finalizer for async generators objects.\n",
      "    \n",
      "    set_coroutine_origin_tracking_depth(depth)\n",
      "        Enable or disable origin tracking for coroutine objects in this thread.\n",
      "        \n",
      "        Coroutine objects will track 'depth' frames of traceback information about\n",
      "        where they came from, available in their cr_origin attribute. Set depth of 0\n",
      "        to disable.\n",
      "    \n",
      "    set_coroutine_wrapper(...)\n",
      "        set_coroutine_wrapper(wrapper)\n",
      "        \n",
      "        Set a wrapper for coroutine objects.\n",
      "    \n",
      "    setcheckinterval(...)\n",
      "        setcheckinterval(n)\n",
      "        \n",
      "        Tell the Python interpreter to check for asynchronous events every\n",
      "        n instructions.  This also affects how often thread switches occur.\n",
      "    \n",
      "    setprofile(...)\n",
      "        setprofile(function)\n",
      "        \n",
      "        Set the profiling function.  It will be called on each function call\n",
      "        and return.  See the profiler chapter in the library manual.\n",
      "    \n",
      "    setrecursionlimit(...)\n",
      "        setrecursionlimit(n)\n",
      "        \n",
      "        Set the maximum depth of the Python interpreter stack to n.  This\n",
      "        limit prevents infinite recursion from causing an overflow of the C\n",
      "        stack and crashing Python.  The highest possible limit is platform-\n",
      "        dependent.\n",
      "    \n",
      "    setswitchinterval(...)\n",
      "        setswitchinterval(n)\n",
      "        \n",
      "        Set the ideal thread switching delay inside the Python interpreter\n",
      "        The actual frequency of switching threads can be lower if the\n",
      "        interpreter executes long sequences of uninterruptible code\n",
      "        (this is implementation-specific and workload-dependent).\n",
      "        \n",
      "        The parameter must represent the desired switching delay in seconds\n",
      "        A typical value is 0.005 (5 milliseconds).\n",
      "    \n",
      "    settrace(...)\n",
      "        settrace(function)\n",
      "        \n",
      "        Set the global debug tracing function.  It will be called on each\n",
      "        function call.  See the debugger chapter in the library manual.\n",
      "\n",
      "DATA\n",
      "    __stderr__ = <_io.TextIOWrapper name='<stderr>' mode='w' encoding='utf...\n",
      "    __stdin__ = <_io.TextIOWrapper name='<stdin>' mode='r' encoding='cp936...\n",
      "    __stdout__ = <_io.TextIOWrapper name='<stdout>' mode='w' encoding='utf...\n",
      "    api_version = 1013\n",
      "    argv = [r'd:\\ProgramData\\Anaconda3\\lib\\site-packages\\ipykernel_launche...\n",
      "    base_exec_prefix = r'd:\\ProgramData\\Anaconda3'\n",
      "    base_prefix = r'd:\\ProgramData\\Anaconda3'\n",
      "    builtin_module_names = ('_abc', '_ast', '_bisect', '_blake2', '_codecs...\n",
      "    byteorder = 'little'\n",
      "    copyright = 'Copyright (c) 2001-2019 Python Software Foundati...ematis...\n",
      "    displayhook = <ipykernel.displayhook.ZMQShellDisplayHook object>\n",
      "    dllhandle = 8790722936832\n",
      "    dont_write_bytecode = False\n",
      "    exec_prefix = r'd:\\ProgramData\\Anaconda3'\n",
      "    executable = r'd:\\ProgramData\\Anaconda3\\python.exe'\n",
      "    flags = sys.flags(debug=0, inspect=0, interactive=0, opt...ation=1, is...\n",
      "    float_info = sys.float_info(max=1.7976931348623157e+308, max_...epsilo...\n",
      "    float_repr_style = 'short'\n",
      "    hash_info = sys.hash_info(width=64, modulus=2305843009213693...iphash2...\n",
      "    hexversion = 50792176\n",
      "    implementation = namespace(cache_tag='cpython-37', hexversion=507...in...\n",
      "    int_info = sys.int_info(bits_per_digit=30, sizeof_digit=4)\n",
      "    last_value = AttributeError(\"module 'sys' has no attribute '__file__'\"...\n",
      "    maxsize = 9223372036854775807\n",
      "    maxunicode = 1114111\n",
      "    meta_path = [<class '_frozen_importlib.BuiltinImporter'>, <class '_fro...\n",
      "    modules = {'Chapter10': <module 'Chapter10' (namespace)>, 'Chapter10.l...\n",
      "    path = [r'E:\\MyPython_from_svn\\beginning-python-3ed', r'd:\\ProgramData...\n",
      "    path_hooks = [<class 'zipimport.zipimporter'>, <function FileFinder.pa...\n",
      "    path_importer_cache = {'./Chapter10': FileFinder('./Chapter10'), r'C:\\...\n",
      "    platform = 'win32'\n",
      "    prefix = r'd:\\ProgramData\\Anaconda3'\n",
      "    ps1 = 'In : '\n",
      "    ps2 = '...: '\n",
      "    ps3 = 'Out: '\n",
      "    stderr = <ipykernel.iostream.OutStream object>\n",
      "    stdin = <_io.TextIOWrapper name='<stdin>' mode='r' encoding='cp936'>\n",
      "    stdout = <ipykernel.iostream.OutStream object>\n",
      "    thread_info = sys.thread_info(name='nt', lock=None, version=None)\n",
      "    version = '3.7.6 (default, Jan  8 2020, 20:23:39) [MSC v.1916 64 bit (...\n",
      "    version_info = sys.version_info(major=3, minor=7, micro=6, releaseleve...\n",
      "    warnoptions = []\n",
      "    winver = '3.7'\n",
      "\n",
      "FILE\n",
      "    (built-in)\n",
      "\n",
      "\n"
     ]
    }
   ],
   "source": [
    "help(sys)"
   ]
  },
  {
   "cell_type": "code",
   "execution_count": 88,
   "metadata": {},
   "outputs": [
    {
     "data": {
      "text/plain": [
       "['E:\\\\MyPython_from_svn\\\\beginning-python-3ed',\n",
       " 'd:\\\\ProgramData\\\\Anaconda3\\\\python37.zip',\n",
       " 'd:\\\\ProgramData\\\\Anaconda3\\\\DLLs',\n",
       " 'd:\\\\ProgramData\\\\Anaconda3\\\\lib',\n",
       " 'd:\\\\ProgramData\\\\Anaconda3',\n",
       " '',\n",
       " 'd:\\\\ProgramData\\\\Anaconda3\\\\lib\\\\site-packages',\n",
       " 'd:\\\\ProgramData\\\\Anaconda3\\\\lib\\\\site-packages\\\\win32',\n",
       " 'd:\\\\ProgramData\\\\Anaconda3\\\\lib\\\\site-packages\\\\win32\\\\lib',\n",
       " 'd:\\\\ProgramData\\\\Anaconda3\\\\lib\\\\site-packages\\\\Pythonwin',\n",
       " 'd:\\\\ProgramData\\\\Anaconda3\\\\lib\\\\site-packages\\\\IPython\\\\extensions',\n",
       " 'C:\\\\Users\\\\Administrator\\\\.ipython',\n",
       " './Chapter10',\n",
       " './Chapter10',\n",
       " './Chapter10',\n",
       " './Chapter10']"
      ]
     },
     "execution_count": 88,
     "metadata": {},
     "output_type": "execute_result"
    }
   ],
   "source": [
    "sys.path"
   ]
  },
  {
   "cell_type": "code",
   "execution_count": 89,
   "metadata": {},
   "outputs": [
    {
     "data": {
      "text/plain": [
       "['d:\\\\ProgramData\\\\Anaconda3\\\\lib\\\\site-packages\\\\ipykernel_launcher.py',\n",
       " '-f',\n",
       " 'C:\\\\Users\\\\Administrator\\\\AppData\\\\Roaming\\\\jupyter\\\\runtime\\\\kernel-3d611da4-432b-42ff-8fba-baee9fc45b6d.json']"
      ]
     },
     "execution_count": 89,
     "metadata": {},
     "output_type": "execute_result"
    }
   ],
   "source": [
    "sys.argv"
   ]
  },
  {
   "cell_type": "code",
   "execution_count": 90,
   "metadata": {},
   "outputs": [
    {
     "data": {
      "text/plain": [
       "<function sys.exit>"
      ]
     },
     "execution_count": 90,
     "metadata": {},
     "output_type": "execute_result"
    }
   ],
   "source": [
    "sys.exit"
   ]
  },
  {
   "cell_type": "code",
   "execution_count": 91,
   "metadata": {},
   "outputs": [
    {
     "data": {
      "text/plain": [
       "{'sys': <module 'sys' (built-in)>,\n",
       " 'builtins': <module 'builtins' (built-in)>,\n",
       " '_frozen_importlib': <module 'importlib._bootstrap' (frozen)>,\n",
       " '_imp': <module '_imp' (built-in)>,\n",
       " '_thread': <module '_thread' (built-in)>,\n",
       " '_warnings': <module '_warnings' (built-in)>,\n",
       " '_weakref': <module '_weakref' (built-in)>,\n",
       " 'zipimport': <module 'zipimport' (built-in)>,\n",
       " '_frozen_importlib_external': <module 'importlib._bootstrap_external' (frozen)>,\n",
       " '_io': <module 'io' (built-in)>,\n",
       " 'marshal': <module 'marshal' (built-in)>,\n",
       " 'nt': <module 'nt' (built-in)>,\n",
       " 'winreg': <module 'winreg' (built-in)>,\n",
       " 'encodings': <module 'encodings' from 'd:\\\\ProgramData\\\\Anaconda3\\\\lib\\\\encodings\\\\__init__.py'>,\n",
       " 'codecs': <module 'codecs' from 'd:\\\\ProgramData\\\\Anaconda3\\\\lib\\\\codecs.py'>,\n",
       " '_codecs': <module '_codecs' (built-in)>,\n",
       " 'encodings.aliases': <module 'encodings.aliases' from 'd:\\\\ProgramData\\\\Anaconda3\\\\lib\\\\encodings\\\\aliases.py'>,\n",
       " 'encodings.utf_8': <module 'encodings.utf_8' from 'd:\\\\ProgramData\\\\Anaconda3\\\\lib\\\\encodings\\\\utf_8.py'>,\n",
       " '_signal': <module '_signal' (built-in)>,\n",
       " '__main__': <module '__main__'>,\n",
       " 'encodings.latin_1': <module 'encodings.latin_1' from 'd:\\\\ProgramData\\\\Anaconda3\\\\lib\\\\encodings\\\\latin_1.py'>,\n",
       " 'io': <module 'io' from 'd:\\\\ProgramData\\\\Anaconda3\\\\lib\\\\io.py'>,\n",
       " 'abc': <module 'abc' from 'd:\\\\ProgramData\\\\Anaconda3\\\\lib\\\\abc.py'>,\n",
       " '_abc': <module '_abc' (built-in)>,\n",
       " '_bootlocale': <module '_bootlocale' from 'd:\\\\ProgramData\\\\Anaconda3\\\\lib\\\\_bootlocale.py'>,\n",
       " '_locale': <module '_locale' (built-in)>,\n",
       " 'encodings.gbk': <module 'encodings.gbk' from 'd:\\\\ProgramData\\\\Anaconda3\\\\lib\\\\encodings\\\\gbk.py'>,\n",
       " '_codecs_cn': <module '_codecs_cn' (built-in)>,\n",
       " '_multibytecodec': <module '_multibytecodec' (built-in)>,\n",
       " 'site': <module 'site' from 'd:\\\\ProgramData\\\\Anaconda3\\\\lib\\\\site.py'>,\n",
       " 'os': <module 'os' from 'd:\\\\ProgramData\\\\Anaconda3\\\\lib\\\\os.py'>,\n",
       " 'stat': <module 'stat' from 'd:\\\\ProgramData\\\\Anaconda3\\\\lib\\\\stat.py'>,\n",
       " '_stat': <module '_stat' (built-in)>,\n",
       " 'ntpath': <module 'ntpath' from 'd:\\\\ProgramData\\\\Anaconda3\\\\lib\\\\ntpath.py'>,\n",
       " 'genericpath': <module 'genericpath' from 'd:\\\\ProgramData\\\\Anaconda3\\\\lib\\\\genericpath.py'>,\n",
       " 'os.path': <module 'ntpath' from 'd:\\\\ProgramData\\\\Anaconda3\\\\lib\\\\ntpath.py'>,\n",
       " '_collections_abc': <module '_collections_abc' from 'd:\\\\ProgramData\\\\Anaconda3\\\\lib\\\\_collections_abc.py'>,\n",
       " '_sitebuiltins': <module '_sitebuiltins' from 'd:\\\\ProgramData\\\\Anaconda3\\\\lib\\\\_sitebuiltins.py'>,\n",
       " 'types': <module 'types' from 'd:\\\\ProgramData\\\\Anaconda3\\\\lib\\\\types.py'>,\n",
       " 'importlib': <module 'importlib' from 'd:\\\\ProgramData\\\\Anaconda3\\\\lib\\\\importlib\\\\__init__.py'>,\n",
       " 'importlib._bootstrap': <module 'importlib._bootstrap' (frozen)>,\n",
       " 'importlib._bootstrap_external': <module 'importlib._bootstrap_external' (frozen)>,\n",
       " 'warnings': <module 'warnings' from 'd:\\\\ProgramData\\\\Anaconda3\\\\lib\\\\warnings.py'>,\n",
       " 'importlib.util': <module 'importlib.util' from 'd:\\\\ProgramData\\\\Anaconda3\\\\lib\\\\importlib\\\\util.py'>,\n",
       " 'importlib.abc': <module 'importlib.abc' from 'd:\\\\ProgramData\\\\Anaconda3\\\\lib\\\\importlib\\\\abc.py'>,\n",
       " 'importlib.machinery': <module 'importlib.machinery' from 'd:\\\\ProgramData\\\\Anaconda3\\\\lib\\\\importlib\\\\machinery.py'>,\n",
       " 'contextlib': <module 'contextlib' from 'd:\\\\ProgramData\\\\Anaconda3\\\\lib\\\\contextlib.py'>,\n",
       " 'collections': <module 'collections' from 'd:\\\\ProgramData\\\\Anaconda3\\\\lib\\\\collections\\\\__init__.py'>,\n",
       " 'operator': <module 'operator' from 'd:\\\\ProgramData\\\\Anaconda3\\\\lib\\\\operator.py'>,\n",
       " '_operator': <module '_operator' (built-in)>,\n",
       " 'keyword': <module 'keyword' from 'd:\\\\ProgramData\\\\Anaconda3\\\\lib\\\\keyword.py'>,\n",
       " 'heapq': <module 'heapq' from 'd:\\\\ProgramData\\\\Anaconda3\\\\lib\\\\heapq.py'>,\n",
       " '_heapq': <module '_heapq' (built-in)>,\n",
       " 'itertools': <module 'itertools' (built-in)>,\n",
       " 'reprlib': <module 'reprlib' from 'd:\\\\ProgramData\\\\Anaconda3\\\\lib\\\\reprlib.py'>,\n",
       " '_collections': <module '_collections' (built-in)>,\n",
       " 'functools': <module 'functools' from 'd:\\\\ProgramData\\\\Anaconda3\\\\lib\\\\functools.py'>,\n",
       " '_functools': <module '_functools' (built-in)>,\n",
       " 'mpl_toolkits': <module 'mpl_toolkits' (namespace)>,\n",
       " 'sphinxcontrib': <module 'sphinxcontrib' from 'd:\\\\ProgramData\\\\Anaconda3\\\\lib\\\\site-packages\\\\sphinxcontrib\\\\__init__.py'>,\n",
       " 'runpy': <module 'runpy' from 'd:\\\\ProgramData\\\\Anaconda3\\\\lib\\\\runpy.py'>,\n",
       " 'pkgutil': <module 'pkgutil' from 'd:\\\\ProgramData\\\\Anaconda3\\\\lib\\\\pkgutil.py'>,\n",
       " 'weakref': <module 'weakref' from 'd:\\\\ProgramData\\\\Anaconda3\\\\lib\\\\weakref.py'>,\n",
       " '_weakrefset': <module '_weakrefset' from 'd:\\\\ProgramData\\\\Anaconda3\\\\lib\\\\_weakrefset.py'>,\n",
       " 'ipykernel': <module 'ipykernel' from 'd:\\\\ProgramData\\\\Anaconda3\\\\lib\\\\site-packages\\\\ipykernel\\\\__init__.py'>,\n",
       " 'ipykernel._version': <module 'ipykernel._version' from 'd:\\\\ProgramData\\\\Anaconda3\\\\lib\\\\site-packages\\\\ipykernel\\\\_version.py'>,\n",
       " 'ipykernel.connect': <module 'ipykernel.connect' from 'd:\\\\ProgramData\\\\Anaconda3\\\\lib\\\\site-packages\\\\ipykernel\\\\connect.py'>,\n",
       " '__future__': <module '__future__' from 'd:\\\\ProgramData\\\\Anaconda3\\\\lib\\\\__future__.py'>,\n",
       " 'json': <module 'json' from 'd:\\\\ProgramData\\\\Anaconda3\\\\lib\\\\json\\\\__init__.py'>,\n",
       " 'json.decoder': <module 'json.decoder' from 'd:\\\\ProgramData\\\\Anaconda3\\\\lib\\\\json\\\\decoder.py'>,\n",
       " 're': <module 're' from 'd:\\\\ProgramData\\\\Anaconda3\\\\lib\\\\re.py'>,\n",
       " 'enum': <module 'enum' from 'd:\\\\ProgramData\\\\Anaconda3\\\\lib\\\\enum.py'>,\n",
       " 'sre_compile': <module 'sre_compile' from 'd:\\\\ProgramData\\\\Anaconda3\\\\lib\\\\sre_compile.py'>,\n",
       " '_sre': <module '_sre' (built-in)>,\n",
       " 'sre_parse': <module 'sre_parse' from 'd:\\\\ProgramData\\\\Anaconda3\\\\lib\\\\sre_parse.py'>,\n",
       " 'sre_constants': <module 'sre_constants' from 'd:\\\\ProgramData\\\\Anaconda3\\\\lib\\\\sre_constants.py'>,\n",
       " 'copyreg': <module 'copyreg' from 'd:\\\\ProgramData\\\\Anaconda3\\\\lib\\\\copyreg.py'>,\n",
       " 'json.scanner': <module 'json.scanner' from 'd:\\\\ProgramData\\\\Anaconda3\\\\lib\\\\json\\\\scanner.py'>,\n",
       " '_json': <module '_json' (built-in)>,\n",
       " 'json.encoder': <module 'json.encoder' from 'd:\\\\ProgramData\\\\Anaconda3\\\\lib\\\\json\\\\encoder.py'>,\n",
       " 'subprocess': <module 'subprocess' from 'd:\\\\ProgramData\\\\Anaconda3\\\\lib\\\\subprocess.py'>,\n",
       " 'time': <module 'time' (built-in)>,\n",
       " 'signal': <module 'signal' from 'd:\\\\ProgramData\\\\Anaconda3\\\\lib\\\\signal.py'>,\n",
       " 'errno': <module 'errno' (built-in)>,\n",
       " 'threading': <module 'threading' from 'd:\\\\ProgramData\\\\Anaconda3\\\\lib\\\\threading.py'>,\n",
       " 'traceback': <module 'traceback' from 'd:\\\\ProgramData\\\\Anaconda3\\\\lib\\\\traceback.py'>,\n",
       " 'linecache': <module 'linecache' from 'd:\\\\ProgramData\\\\Anaconda3\\\\lib\\\\linecache.py'>,\n",
       " 'tokenize': <module 'tokenize' from 'd:\\\\ProgramData\\\\Anaconda3\\\\lib\\\\tokenize.py'>,\n",
       " 'token': <module 'token' from 'd:\\\\ProgramData\\\\Anaconda3\\\\lib\\\\token.py'>,\n",
       " 'msvcrt': <module 'msvcrt' (built-in)>,\n",
       " '_winapi': <module '_winapi' (built-in)>,\n",
       " 'IPython': <module 'IPython' from 'd:\\\\ProgramData\\\\Anaconda3\\\\lib\\\\site-packages\\\\IPython\\\\__init__.py'>,\n",
       " 'IPython.core': <module 'IPython.core' from 'd:\\\\ProgramData\\\\Anaconda3\\\\lib\\\\site-packages\\\\IPython\\\\core\\\\__init__.py'>,\n",
       " 'IPython.core.getipython': <module 'IPython.core.getipython' from 'd:\\\\ProgramData\\\\Anaconda3\\\\lib\\\\site-packages\\\\IPython\\\\core\\\\getipython.py'>,\n",
       " 'IPython.core.release': <module 'IPython.core.release' from 'd:\\\\ProgramData\\\\Anaconda3\\\\lib\\\\site-packages\\\\IPython\\\\core\\\\release.py'>,\n",
       " 'IPython.core.application': <module 'IPython.core.application' from 'd:\\\\ProgramData\\\\Anaconda3\\\\lib\\\\site-packages\\\\IPython\\\\core\\\\application.py'>,\n",
       " 'atexit': <module 'atexit' (built-in)>,\n",
       " 'copy': <module 'copy' from 'd:\\\\ProgramData\\\\Anaconda3\\\\lib\\\\copy.py'>,\n",
       " 'glob': <module 'glob' from 'd:\\\\ProgramData\\\\Anaconda3\\\\lib\\\\glob.py'>,\n",
       " 'fnmatch': <module 'fnmatch' from 'd:\\\\ProgramData\\\\Anaconda3\\\\lib\\\\fnmatch.py'>,\n",
       " 'posixpath': <module 'posixpath' from 'd:\\\\ProgramData\\\\Anaconda3\\\\lib\\\\posixpath.py'>,\n",
       " 'logging': <module 'logging' from 'd:\\\\ProgramData\\\\Anaconda3\\\\lib\\\\logging\\\\__init__.py'>,\n",
       " 'collections.abc': <module 'collections.abc' from 'd:\\\\ProgramData\\\\Anaconda3\\\\lib\\\\collections\\\\abc.py'>,\n",
       " 'string': <module 'string' from 'd:\\\\ProgramData\\\\Anaconda3\\\\lib\\\\string.py'>,\n",
       " '_string': <module '_string' (built-in)>,\n",
       " 'shutil': <module 'shutil' from 'd:\\\\ProgramData\\\\Anaconda3\\\\lib\\\\shutil.py'>,\n",
       " 'zlib': <module 'zlib' (built-in)>,\n",
       " 'bz2': <module 'bz2' from 'd:\\\\ProgramData\\\\Anaconda3\\\\lib\\\\bz2.py'>,\n",
       " '_compression': <module '_compression' from 'd:\\\\ProgramData\\\\Anaconda3\\\\lib\\\\_compression.py'>,\n",
       " '_bz2': <module '_bz2' from 'd:\\\\ProgramData\\\\Anaconda3\\\\DLLs\\\\_bz2.pyd'>,\n",
       " 'lzma': <module 'lzma' from 'd:\\\\ProgramData\\\\Anaconda3\\\\lib\\\\lzma.py'>,\n",
       " '_lzma': <module '_lzma' from 'd:\\\\ProgramData\\\\Anaconda3\\\\DLLs\\\\_lzma.pyd'>,\n",
       " 'traitlets': <module 'traitlets' from 'd:\\\\ProgramData\\\\Anaconda3\\\\lib\\\\site-packages\\\\traitlets\\\\__init__.py'>,\n",
       " 'traitlets.traitlets': <module 'traitlets.traitlets' from 'd:\\\\ProgramData\\\\Anaconda3\\\\lib\\\\site-packages\\\\traitlets\\\\traitlets.py'>,\n",
       " 'inspect': <module 'inspect' from 'd:\\\\ProgramData\\\\Anaconda3\\\\lib\\\\inspect.py'>,\n",
       " 'dis': <module 'dis' from 'd:\\\\ProgramData\\\\Anaconda3\\\\lib\\\\dis.py'>,\n",
       " 'opcode': <module 'opcode' from 'd:\\\\ProgramData\\\\Anaconda3\\\\lib\\\\opcode.py'>,\n",
       " '_opcode': <module '_opcode' (built-in)>,\n",
       " 'six': <module 'six' from 'd:\\\\ProgramData\\\\Anaconda3\\\\lib\\\\site-packages\\\\six.py'>,\n",
       " 'struct': <module 'struct' from 'd:\\\\ProgramData\\\\Anaconda3\\\\lib\\\\struct.py'>,\n",
       " '_struct': <module '_struct' (built-in)>,\n",
       " 'traitlets.utils': <module 'traitlets.utils' from 'd:\\\\ProgramData\\\\Anaconda3\\\\lib\\\\site-packages\\\\traitlets\\\\utils\\\\__init__.py'>,\n",
       " 'traitlets.utils.getargspec': <module 'traitlets.utils.getargspec' from 'd:\\\\ProgramData\\\\Anaconda3\\\\lib\\\\site-packages\\\\traitlets\\\\utils\\\\getargspec.py'>,\n",
       " 'traitlets.utils.importstring': <module 'traitlets.utils.importstring' from 'd:\\\\ProgramData\\\\Anaconda3\\\\lib\\\\site-packages\\\\traitlets\\\\utils\\\\importstring.py'>,\n",
       " 'ipython_genutils': <module 'ipython_genutils' from 'd:\\\\ProgramData\\\\Anaconda3\\\\lib\\\\site-packages\\\\ipython_genutils\\\\__init__.py'>,\n",
       " 'ipython_genutils._version': <module 'ipython_genutils._version' from 'd:\\\\ProgramData\\\\Anaconda3\\\\lib\\\\site-packages\\\\ipython_genutils\\\\_version.py'>,\n",
       " 'ipython_genutils.py3compat': <module 'ipython_genutils.py3compat' from 'd:\\\\ProgramData\\\\Anaconda3\\\\lib\\\\site-packages\\\\ipython_genutils\\\\py3compat.py'>,\n",
       " 'ipython_genutils.encoding': <module 'ipython_genutils.encoding' from 'd:\\\\ProgramData\\\\Anaconda3\\\\lib\\\\site-packages\\\\ipython_genutils\\\\encoding.py'>,\n",
       " 'locale': <module 'locale' from 'd:\\\\ProgramData\\\\Anaconda3\\\\lib\\\\locale.py'>,\n",
       " 'platform': <module 'platform' from 'd:\\\\ProgramData\\\\Anaconda3\\\\lib\\\\platform.py'>,\n",
       " 'traitlets.utils.sentinel': <module 'traitlets.utils.sentinel' from 'd:\\\\ProgramData\\\\Anaconda3\\\\lib\\\\site-packages\\\\traitlets\\\\utils\\\\sentinel.py'>,\n",
       " 'traitlets.utils.bunch': <module 'traitlets.utils.bunch' from 'd:\\\\ProgramData\\\\Anaconda3\\\\lib\\\\site-packages\\\\traitlets\\\\utils\\\\bunch.py'>,\n",
       " 'traitlets._version': <module 'traitlets._version' from 'd:\\\\ProgramData\\\\Anaconda3\\\\lib\\\\site-packages\\\\traitlets\\\\_version.py'>,\n",
       " 'traitlets.config': <module 'traitlets.config' from 'd:\\\\ProgramData\\\\Anaconda3\\\\lib\\\\site-packages\\\\traitlets\\\\config\\\\__init__.py'>,\n",
       " 'traitlets.config.application': <module 'traitlets.config.application' from 'd:\\\\ProgramData\\\\Anaconda3\\\\lib\\\\site-packages\\\\traitlets\\\\config\\\\application.py'>,\n",
       " 'decorator': <module 'decorator' from 'd:\\\\ProgramData\\\\Anaconda3\\\\lib\\\\site-packages\\\\decorator.py'>,\n",
       " 'traitlets.config.configurable': <module 'traitlets.config.configurable' from 'd:\\\\ProgramData\\\\Anaconda3\\\\lib\\\\site-packages\\\\traitlets\\\\config\\\\configurable.py'>,\n",
       " 'traitlets.config.loader': <module 'traitlets.config.loader' from 'd:\\\\ProgramData\\\\Anaconda3\\\\lib\\\\site-packages\\\\traitlets\\\\config\\\\loader.py'>,\n",
       " 'argparse': <module 'argparse' from 'd:\\\\ProgramData\\\\Anaconda3\\\\lib\\\\argparse.py'>,\n",
       " 'gettext': <module 'gettext' from 'd:\\\\ProgramData\\\\Anaconda3\\\\lib\\\\gettext.py'>,\n",
       " 'ast': <module 'ast' from 'd:\\\\ProgramData\\\\Anaconda3\\\\lib\\\\ast.py'>,\n",
       " '_ast': <module '_ast' (built-in)>,\n",
       " 'ipython_genutils.path': <module 'ipython_genutils.path' from 'd:\\\\ProgramData\\\\Anaconda3\\\\lib\\\\site-packages\\\\ipython_genutils\\\\path.py'>,\n",
       " 'random': <module 'random' from 'd:\\\\ProgramData\\\\Anaconda3\\\\lib\\\\random.py'>,\n",
       " 'math': <module 'math' (built-in)>,\n",
       " 'hashlib': <module 'hashlib' from 'd:\\\\ProgramData\\\\Anaconda3\\\\lib\\\\hashlib.py'>,\n",
       " '_hashlib': <module '_hashlib' from 'd:\\\\ProgramData\\\\Anaconda3\\\\DLLs\\\\_hashlib.pyd'>,\n",
       " '_blake2': <module '_blake2' (built-in)>,\n",
       " '_sha3': <module '_sha3' (built-in)>,\n",
       " 'bisect': <module 'bisect' from 'd:\\\\ProgramData\\\\Anaconda3\\\\lib\\\\bisect.py'>,\n",
       " '_bisect': <module '_bisect' (built-in)>,\n",
       " '_random': <module '_random' (built-in)>,\n",
       " 'ipython_genutils.text': <module 'ipython_genutils.text' from 'd:\\\\ProgramData\\\\Anaconda3\\\\lib\\\\site-packages\\\\ipython_genutils\\\\text.py'>,\n",
       " 'textwrap': <module 'textwrap' from 'd:\\\\ProgramData\\\\Anaconda3\\\\lib\\\\textwrap.py'>,\n",
       " 'ipython_genutils.importstring': <module 'ipython_genutils.importstring' from 'd:\\\\ProgramData\\\\Anaconda3\\\\lib\\\\site-packages\\\\ipython_genutils\\\\importstring.py'>,\n",
       " 'IPython.core.crashhandler': <module 'IPython.core.crashhandler' from 'd:\\\\ProgramData\\\\Anaconda3\\\\lib\\\\site-packages\\\\IPython\\\\core\\\\crashhandler.py'>,\n",
       " 'pprint': <module 'pprint' from 'd:\\\\ProgramData\\\\Anaconda3\\\\lib\\\\pprint.py'>,\n",
       " 'IPython.core.ultratb': <module 'IPython.core.ultratb' from 'd:\\\\ProgramData\\\\Anaconda3\\\\lib\\\\site-packages\\\\IPython\\\\core\\\\ultratb.py'>,\n",
       " 'pydoc': <module 'pydoc' from 'd:\\\\ProgramData\\\\Anaconda3\\\\lib\\\\pydoc.py'>,\n",
       " 'urllib': <module 'urllib' from 'd:\\\\ProgramData\\\\Anaconda3\\\\lib\\\\urllib\\\\__init__.py'>,\n",
       " 'urllib.parse': <module 'urllib.parse' from 'd:\\\\ProgramData\\\\Anaconda3\\\\lib\\\\urllib\\\\parse.py'>,\n",
       " 'IPython.core.debugger': <module 'IPython.core.debugger' from 'd:\\\\ProgramData\\\\Anaconda3\\\\lib\\\\site-packages\\\\IPython\\\\core\\\\debugger.py'>,\n",
       " 'bdb': <module 'bdb' from 'd:\\\\ProgramData\\\\Anaconda3\\\\lib\\\\bdb.py'>,\n",
       " 'IPython.utils': <module 'IPython.utils' from 'd:\\\\ProgramData\\\\Anaconda3\\\\lib\\\\site-packages\\\\IPython\\\\utils\\\\__init__.py'>,\n",
       " 'IPython.utils.PyColorize': <module 'IPython.utils.PyColorize' from 'd:\\\\ProgramData\\\\Anaconda3\\\\lib\\\\site-packages\\\\IPython\\\\utils\\\\PyColorize.py'>,\n",
       " 'IPython.utils.coloransi': <module 'IPython.utils.coloransi' from 'd:\\\\ProgramData\\\\Anaconda3\\\\lib\\\\site-packages\\\\IPython\\\\utils\\\\coloransi.py'>,\n",
       " 'IPython.utils.ipstruct': <module 'IPython.utils.ipstruct' from 'd:\\\\ProgramData\\\\Anaconda3\\\\lib\\\\site-packages\\\\IPython\\\\utils\\\\ipstruct.py'>,\n",
       " 'IPython.utils.colorable': <module 'IPython.utils.colorable' from 'd:\\\\ProgramData\\\\Anaconda3\\\\lib\\\\site-packages\\\\IPython\\\\utils\\\\colorable.py'>,\n",
       " 'pygments': <module 'pygments' from 'd:\\\\ProgramData\\\\Anaconda3\\\\lib\\\\site-packages\\\\pygments\\\\__init__.py'>,\n",
       " 'pygments.util': <module 'pygments.util' from 'd:\\\\ProgramData\\\\Anaconda3\\\\lib\\\\site-packages\\\\pygments\\\\util.py'>,\n",
       " 'IPython.utils.py3compat': <module 'IPython.utils.py3compat' from 'd:\\\\ProgramData\\\\Anaconda3\\\\lib\\\\site-packages\\\\IPython\\\\utils\\\\py3compat.py'>,\n",
       " 'IPython.utils.encoding': <module 'IPython.utils.encoding' from 'd:\\\\ProgramData\\\\Anaconda3\\\\lib\\\\site-packages\\\\IPython\\\\utils\\\\encoding.py'>,\n",
       " 'IPython.core.excolors': <module 'IPython.core.excolors' from 'd:\\\\ProgramData\\\\Anaconda3\\\\lib\\\\site-packages\\\\IPython\\\\core\\\\excolors.py'>,\n",
       " 'IPython.testing': <module 'IPython.testing' from 'd:\\\\ProgramData\\\\Anaconda3\\\\lib\\\\site-packages\\\\IPython\\\\testing\\\\__init__.py'>,\n",
       " 'IPython.testing.skipdoctest': <module 'IPython.testing.skipdoctest' from 'd:\\\\ProgramData\\\\Anaconda3\\\\lib\\\\site-packages\\\\IPython\\\\testing\\\\skipdoctest.py'>,\n",
       " 'pdb': <module 'pdb' from 'd:\\\\ProgramData\\\\Anaconda3\\\\lib\\\\pdb.py'>,\n",
       " 'cmd': <module 'cmd' from 'd:\\\\ProgramData\\\\Anaconda3\\\\lib\\\\cmd.py'>,\n",
       " 'code': <module 'code' from 'd:\\\\ProgramData\\\\Anaconda3\\\\lib\\\\code.py'>,\n",
       " 'codeop': <module 'codeop' from 'd:\\\\ProgramData\\\\Anaconda3\\\\lib\\\\codeop.py'>,\n",
       " 'IPython.core.display_trap': <module 'IPython.core.display_trap' from 'd:\\\\ProgramData\\\\Anaconda3\\\\lib\\\\site-packages\\\\IPython\\\\core\\\\display_trap.py'>,\n",
       " 'IPython.utils.path': <module 'IPython.utils.path' from 'd:\\\\ProgramData\\\\Anaconda3\\\\lib\\\\site-packages\\\\IPython\\\\utils\\\\path.py'>,\n",
       " 'IPython.utils.process': <module 'IPython.utils.process' from 'd:\\\\ProgramData\\\\Anaconda3\\\\lib\\\\site-packages\\\\IPython\\\\utils\\\\process.py'>,\n",
       " 'IPython.utils._process_win32': <module 'IPython.utils._process_win32' from 'd:\\\\ProgramData\\\\Anaconda3\\\\lib\\\\site-packages\\\\IPython\\\\utils\\\\_process_win32.py'>,\n",
       " 'ctypes': <module 'ctypes' from 'd:\\\\ProgramData\\\\Anaconda3\\\\lib\\\\ctypes\\\\__init__.py'>,\n",
       " '_ctypes': <module '_ctypes' from 'd:\\\\ProgramData\\\\Anaconda3\\\\DLLs\\\\_ctypes.pyd'>,\n",
       " 'ctypes._endian': <module 'ctypes._endian' from 'd:\\\\ProgramData\\\\Anaconda3\\\\lib\\\\ctypes\\\\_endian.py'>,\n",
       " 'ctypes.wintypes': <module 'ctypes.wintypes' from 'd:\\\\ProgramData\\\\Anaconda3\\\\lib\\\\ctypes\\\\wintypes.py'>,\n",
       " 'IPython.utils._process_common': <module 'IPython.utils._process_common' from 'd:\\\\ProgramData\\\\Anaconda3\\\\lib\\\\site-packages\\\\IPython\\\\utils\\\\_process_common.py'>,\n",
       " 'shlex': <module 'shlex' from 'd:\\\\ProgramData\\\\Anaconda3\\\\lib\\\\shlex.py'>,\n",
       " 'IPython.utils.decorators': <module 'IPython.utils.decorators' from 'd:\\\\ProgramData\\\\Anaconda3\\\\lib\\\\site-packages\\\\IPython\\\\utils\\\\decorators.py'>,\n",
       " 'IPython.utils.data': <module 'IPython.utils.data' from 'd:\\\\ProgramData\\\\Anaconda3\\\\lib\\\\site-packages\\\\IPython\\\\utils\\\\data.py'>,\n",
       " 'IPython.utils.terminal': <module 'IPython.utils.terminal' from 'd:\\\\ProgramData\\\\Anaconda3\\\\lib\\\\site-packages\\\\IPython\\\\utils\\\\terminal.py'>,\n",
       " 'IPython.utils.sysinfo': <module 'IPython.utils.sysinfo' from 'd:\\\\ProgramData\\\\Anaconda3\\\\lib\\\\site-packages\\\\IPython\\\\utils\\\\sysinfo.py'>,\n",
       " 'IPython.utils._sysinfo': <module 'IPython.utils._sysinfo' from 'd:\\\\ProgramData\\\\Anaconda3\\\\lib\\\\site-packages\\\\IPython\\\\utils\\\\_sysinfo.py'>,\n",
       " 'IPython.core.profiledir': <module 'IPython.core.profiledir' from 'd:\\\\ProgramData\\\\Anaconda3\\\\lib\\\\site-packages\\\\IPython\\\\core\\\\profiledir.py'>,\n",
       " 'IPython.paths': <module 'IPython.paths' from 'd:\\\\ProgramData\\\\Anaconda3\\\\lib\\\\site-packages\\\\IPython\\\\paths.py'>,\n",
       " 'tempfile': <module 'tempfile' from 'd:\\\\ProgramData\\\\Anaconda3\\\\lib\\\\tempfile.py'>,\n",
       " 'IPython.utils.importstring': <module 'IPython.utils.importstring' from 'd:\\\\ProgramData\\\\Anaconda3\\\\lib\\\\site-packages\\\\IPython\\\\utils\\\\importstring.py'>,\n",
       " 'IPython.terminal': <module 'IPython.terminal' from 'd:\\\\ProgramData\\\\Anaconda3\\\\lib\\\\site-packages\\\\IPython\\\\terminal\\\\__init__.py'>,\n",
       " 'IPython.terminal.embed': <module 'IPython.terminal.embed' from 'd:\\\\ProgramData\\\\Anaconda3\\\\lib\\\\site-packages\\\\IPython\\\\terminal\\\\embed.py'>,\n",
       " 'IPython.core.compilerop': <module 'IPython.core.compilerop' from 'd:\\\\ProgramData\\\\Anaconda3\\\\lib\\\\site-packages\\\\IPython\\\\core\\\\compilerop.py'>,\n",
       " 'IPython.core.magic_arguments': <module 'IPython.core.magic_arguments' from 'd:\\\\ProgramData\\\\Anaconda3\\\\lib\\\\site-packages\\\\IPython\\\\core\\\\magic_arguments.py'>,\n",
       " 'IPython.core.error': <module 'IPython.core.error' from 'd:\\\\ProgramData\\\\Anaconda3\\\\lib\\\\site-packages\\\\IPython\\\\core\\\\error.py'>,\n",
       " 'IPython.utils.text': <module 'IPython.utils.text' from 'd:\\\\ProgramData\\\\Anaconda3\\\\lib\\\\site-packages\\\\IPython\\\\utils\\\\text.py'>,\n",
       " 'pathlib': <module 'pathlib' from 'd:\\\\ProgramData\\\\Anaconda3\\\\lib\\\\pathlib.py'>,\n",
       " 'IPython.core.magic': <module 'IPython.core.magic' from 'd:\\\\ProgramData\\\\Anaconda3\\\\lib\\\\site-packages\\\\IPython\\\\core\\\\magic.py'>,\n",
       " 'getopt': <module 'getopt' from 'd:\\\\ProgramData\\\\Anaconda3\\\\lib\\\\getopt.py'>,\n",
       " 'IPython.core.oinspect': <module 'IPython.core.oinspect' from 'd:\\\\ProgramData\\\\Anaconda3\\\\lib\\\\site-packages\\\\IPython\\\\core\\\\oinspect.py'>,\n",
       " 'typing': <module 'typing' from 'd:\\\\ProgramData\\\\Anaconda3\\\\lib\\\\typing.py'>,\n",
       " 'typing.io': typing.io,\n",
       " 'typing.re': typing.re,\n",
       " 'IPython.core.page': <module 'IPython.core.page' from 'd:\\\\ProgramData\\\\Anaconda3\\\\lib\\\\site-packages\\\\IPython\\\\core\\\\page.py'>,\n",
       " 'IPython.core.display': <module 'IPython.core.display' from 'd:\\\\ProgramData\\\\Anaconda3\\\\lib\\\\site-packages\\\\IPython\\\\core\\\\display.py'>,\n",
       " 'binascii': <module 'binascii' (built-in)>,\n",
       " 'mimetypes': <module 'mimetypes' from 'd:\\\\ProgramData\\\\Anaconda3\\\\lib\\\\mimetypes.py'>,\n",
       " 'IPython.lib': <module 'IPython.lib' from 'd:\\\\ProgramData\\\\Anaconda3\\\\lib\\\\site-packages\\\\IPython\\\\lib\\\\__init__.py'>,\n",
       " 'IPython.lib.security': <module 'IPython.lib.security' from 'd:\\\\ProgramData\\\\Anaconda3\\\\lib\\\\site-packages\\\\IPython\\\\lib\\\\security.py'>,\n",
       " 'getpass': <module 'getpass' from 'd:\\\\ProgramData\\\\Anaconda3\\\\lib\\\\getpass.py'>,\n",
       " 'IPython.lib.pretty': <module 'IPython.lib.pretty' from 'd:\\\\ProgramData\\\\Anaconda3\\\\lib\\\\site-packages\\\\IPython\\\\lib\\\\pretty.py'>,\n",
       " 'datetime': <module 'datetime' from 'd:\\\\ProgramData\\\\Anaconda3\\\\lib\\\\datetime.py'>,\n",
       " '_datetime': <module '_datetime' (built-in)>,\n",
       " 'IPython.utils.openpy': <module 'IPython.utils.openpy' from 'd:\\\\ProgramData\\\\Anaconda3\\\\lib\\\\site-packages\\\\IPython\\\\utils\\\\openpy.py'>,\n",
       " 'IPython.utils.dir2': <module 'IPython.utils.dir2' from 'd:\\\\ProgramData\\\\Anaconda3\\\\lib\\\\site-packages\\\\IPython\\\\utils\\\\dir2.py'>,\n",
       " 'IPython.utils.wildcard': <module 'IPython.utils.wildcard' from 'd:\\\\ProgramData\\\\Anaconda3\\\\lib\\\\site-packages\\\\IPython\\\\utils\\\\wildcard.py'>,\n",
       " 'pygments.lexers': <module 'pygments.lexers' from 'd:\\\\ProgramData\\\\Anaconda3\\\\lib\\\\site-packages\\\\pygments\\\\lexers\\\\__init__.py'>,\n",
       " 'pygments.lexers._mapping': <module 'pygments.lexers._mapping' from 'd:\\\\ProgramData\\\\Anaconda3\\\\lib\\\\site-packages\\\\pygments\\\\lexers\\\\_mapping.py'>,\n",
       " 'pygments.modeline': <module 'pygments.modeline' from 'd:\\\\ProgramData\\\\Anaconda3\\\\lib\\\\site-packages\\\\pygments\\\\modeline.py'>,\n",
       " 'pygments.plugin': <module 'pygments.plugin' from 'd:\\\\ProgramData\\\\Anaconda3\\\\lib\\\\site-packages\\\\pygments\\\\plugin.py'>,\n",
       " 'pygments.lexers.python': <module 'pygments.lexers.python' from 'd:\\\\ProgramData\\\\Anaconda3\\\\lib\\\\site-packages\\\\pygments\\\\lexers\\\\python.py'>,\n",
       " 'pygments.lexer': <module 'pygments.lexer' from 'd:\\\\ProgramData\\\\Anaconda3\\\\lib\\\\site-packages\\\\pygments\\\\lexer.py'>,\n",
       " 'pygments.filter': <module 'pygments.filter' from 'd:\\\\ProgramData\\\\Anaconda3\\\\lib\\\\site-packages\\\\pygments\\\\filter.py'>,\n",
       " 'pygments.filters': <module 'pygments.filters' from 'd:\\\\ProgramData\\\\Anaconda3\\\\lib\\\\site-packages\\\\pygments\\\\filters\\\\__init__.py'>,\n",
       " 'pygments.token': <module 'pygments.token' from 'd:\\\\ProgramData\\\\Anaconda3\\\\lib\\\\site-packages\\\\pygments\\\\token.py'>,\n",
       " 'pygments.regexopt': <module 'pygments.regexopt' from 'd:\\\\ProgramData\\\\Anaconda3\\\\lib\\\\site-packages\\\\pygments\\\\regexopt.py'>,\n",
       " 'pygments.unistring': <module 'pygments.unistring' from 'd:\\\\ProgramData\\\\Anaconda3\\\\lib\\\\site-packages\\\\pygments\\\\unistring.py'>,\n",
       " 'pygments.formatters': <module 'pygments.formatters' from 'd:\\\\ProgramData\\\\Anaconda3\\\\lib\\\\site-packages\\\\pygments\\\\formatters\\\\__init__.py'>,\n",
       " 'pygments.formatters._mapping': <module 'pygments.formatters._mapping' from 'd:\\\\ProgramData\\\\Anaconda3\\\\lib\\\\site-packages\\\\pygments\\\\formatters\\\\_mapping.py'>,\n",
       " 'pygments.formatters.html': <module 'pygments.formatters.html' from 'd:\\\\ProgramData\\\\Anaconda3\\\\lib\\\\site-packages\\\\pygments\\\\formatters\\\\html.py'>,\n",
       " 'pygments.formatter': <module 'pygments.formatter' from 'd:\\\\ProgramData\\\\Anaconda3\\\\lib\\\\site-packages\\\\pygments\\\\formatter.py'>,\n",
       " 'pygments.styles': <module 'pygments.styles' from 'd:\\\\ProgramData\\\\Anaconda3\\\\lib\\\\site-packages\\\\pygments\\\\styles\\\\__init__.py'>,\n",
       " 'IPython.core.inputtransformer2': <module 'IPython.core.inputtransformer2' from 'd:\\\\ProgramData\\\\Anaconda3\\\\lib\\\\site-packages\\\\IPython\\\\core\\\\inputtransformer2.py'>,\n",
       " 'IPython.core.interactiveshell': <module 'IPython.core.interactiveshell' from 'd:\\\\ProgramData\\\\Anaconda3\\\\lib\\\\site-packages\\\\IPython\\\\core\\\\interactiveshell.py'>,\n",
       " 'pickleshare': <module 'pickleshare' from 'd:\\\\ProgramData\\\\Anaconda3\\\\lib\\\\site-packages\\\\pickleshare.py'>,\n",
       " 'pickle': <module 'pickle' from 'd:\\\\ProgramData\\\\Anaconda3\\\\lib\\\\pickle.py'>,\n",
       " '_compat_pickle': <module '_compat_pickle' from 'd:\\\\ProgramData\\\\Anaconda3\\\\lib\\\\_compat_pickle.py'>,\n",
       " '_pickle': <module '_pickle' (built-in)>,\n",
       " 'IPython.core.prefilter': <module 'IPython.core.prefilter' from 'd:\\\\ProgramData\\\\Anaconda3\\\\lib\\\\site-packages\\\\IPython\\\\core\\\\prefilter.py'>,\n",
       " 'IPython.core.autocall': <module 'IPython.core.autocall' from 'd:\\\\ProgramData\\\\Anaconda3\\\\lib\\\\site-packages\\\\IPython\\\\core\\\\autocall.py'>,\n",
       " 'IPython.core.macro': <module 'IPython.core.macro' from 'd:\\\\ProgramData\\\\Anaconda3\\\\lib\\\\site-packages\\\\IPython\\\\core\\\\macro.py'>,\n",
       " 'IPython.core.splitinput': <module 'IPython.core.splitinput' from 'd:\\\\ProgramData\\\\Anaconda3\\\\lib\\\\site-packages\\\\IPython\\\\core\\\\splitinput.py'>,\n",
       " 'IPython.core.alias': <module 'IPython.core.alias' from 'd:\\\\ProgramData\\\\Anaconda3\\\\lib\\\\site-packages\\\\IPython\\\\core\\\\alias.py'>,\n",
       " 'IPython.core.builtin_trap': <module 'IPython.core.builtin_trap' from 'd:\\\\ProgramData\\\\Anaconda3\\\\lib\\\\site-packages\\\\IPython\\\\core\\\\builtin_trap.py'>,\n",
       " 'IPython.core.events': <module 'IPython.core.events' from 'd:\\\\ProgramData\\\\Anaconda3\\\\lib\\\\site-packages\\\\IPython\\\\core\\\\events.py'>,\n",
       " 'backcall': <module 'backcall' from 'd:\\\\ProgramData\\\\Anaconda3\\\\lib\\\\site-packages\\\\backcall\\\\__init__.py'>,\n",
       " 'backcall.backcall': <module 'backcall.backcall' from 'd:\\\\ProgramData\\\\Anaconda3\\\\lib\\\\site-packages\\\\backcall\\\\backcall.py'>,\n",
       " 'IPython.core.displayhook': <module 'IPython.core.displayhook' from 'd:\\\\ProgramData\\\\Anaconda3\\\\lib\\\\site-packages\\\\IPython\\\\core\\\\displayhook.py'>,\n",
       " 'IPython.core.displaypub': <module 'IPython.core.displaypub' from 'd:\\\\ProgramData\\\\Anaconda3\\\\lib\\\\site-packages\\\\IPython\\\\core\\\\displaypub.py'>,\n",
       " 'IPython.core.extensions': <module 'IPython.core.extensions' from 'd:\\\\ProgramData\\\\Anaconda3\\\\lib\\\\site-packages\\\\IPython\\\\core\\\\extensions.py'>,\n",
       " 'IPython.core.formatters': <module 'IPython.core.formatters' from 'd:\\\\ProgramData\\\\Anaconda3\\\\lib\\\\site-packages\\\\IPython\\\\core\\\\formatters.py'>,\n",
       " 'IPython.utils.sentinel': <module 'IPython.utils.sentinel' from 'd:\\\\ProgramData\\\\Anaconda3\\\\lib\\\\site-packages\\\\IPython\\\\utils\\\\sentinel.py'>,\n",
       " 'IPython.core.history': <module 'IPython.core.history' from 'd:\\\\ProgramData\\\\Anaconda3\\\\lib\\\\site-packages\\\\IPython\\\\core\\\\history.py'>,\n",
       " 'sqlite3': <module 'sqlite3' from 'd:\\\\ProgramData\\\\Anaconda3\\\\lib\\\\sqlite3\\\\__init__.py'>,\n",
       " 'sqlite3.dbapi2': <module 'sqlite3.dbapi2' from 'd:\\\\ProgramData\\\\Anaconda3\\\\lib\\\\sqlite3\\\\dbapi2.py'>,\n",
       " '_sqlite3': <module '_sqlite3' from 'd:\\\\ProgramData\\\\Anaconda3\\\\DLLs\\\\_sqlite3.pyd'>,\n",
       " 'IPython.core.logger': <module 'IPython.core.logger' from 'd:\\\\ProgramData\\\\Anaconda3\\\\lib\\\\site-packages\\\\IPython\\\\core\\\\logger.py'>,\n",
       " 'IPython.core.payload': <module 'IPython.core.payload' from 'd:\\\\ProgramData\\\\Anaconda3\\\\lib\\\\site-packages\\\\IPython\\\\core\\\\payload.py'>,\n",
       " 'IPython.core.usage': <module 'IPython.core.usage' from 'd:\\\\ProgramData\\\\Anaconda3\\\\lib\\\\site-packages\\\\IPython\\\\core\\\\usage.py'>,\n",
       " 'IPython.display': <module 'IPython.display' from 'd:\\\\ProgramData\\\\Anaconda3\\\\lib\\\\site-packages\\\\IPython\\\\display.py'>,\n",
       " 'IPython.lib.display': <module 'IPython.lib.display' from 'd:\\\\ProgramData\\\\Anaconda3\\\\lib\\\\site-packages\\\\IPython\\\\lib\\\\display.py'>,\n",
       " 'html': <module 'html' from 'd:\\\\ProgramData\\\\Anaconda3\\\\lib\\\\html\\\\__init__.py'>,\n",
       " 'html.entities': <module 'html.entities' from 'd:\\\\ProgramData\\\\Anaconda3\\\\lib\\\\html\\\\entities.py'>,\n",
       " 'IPython.utils.io': <module 'IPython.utils.io' from 'd:\\\\ProgramData\\\\Anaconda3\\\\lib\\\\site-packages\\\\IPython\\\\utils\\\\io.py'>,\n",
       " 'IPython.utils.capture': <module 'IPython.utils.capture' from 'd:\\\\ProgramData\\\\Anaconda3\\\\lib\\\\site-packages\\\\IPython\\\\utils\\\\capture.py'>,\n",
       " 'IPython.utils.strdispatch': <module 'IPython.utils.strdispatch' from 'd:\\\\ProgramData\\\\Anaconda3\\\\lib\\\\site-packages\\\\IPython\\\\utils\\\\strdispatch.py'>,\n",
       " 'IPython.core.hooks': <module 'IPython.core.hooks' from 'd:\\\\ProgramData\\\\Anaconda3\\\\lib\\\\site-packages\\\\IPython\\\\core\\\\hooks.py'>,\n",
       " 'IPython.utils.syspathcontext': <module 'IPython.utils.syspathcontext' from 'd:\\\\ProgramData\\\\Anaconda3\\\\lib\\\\site-packages\\\\IPython\\\\utils\\\\syspathcontext.py'>,\n",
       " 'IPython.utils.tempdir': <module 'IPython.utils.tempdir' from 'd:\\\\ProgramData\\\\Anaconda3\\\\lib\\\\site-packages\\\\IPython\\\\utils\\\\tempdir.py'>,\n",
       " 'IPython.utils.contexts': <module 'IPython.utils.contexts' from 'd:\\\\ProgramData\\\\Anaconda3\\\\lib\\\\site-packages\\\\IPython\\\\utils\\\\contexts.py'>,\n",
       " 'IPython.core.async_helpers': <module 'IPython.core.async_helpers' from 'd:\\\\ProgramData\\\\Anaconda3\\\\lib\\\\site-packages\\\\IPython\\\\core\\\\async_helpers.py'>,\n",
       " 'IPython.terminal.interactiveshell': <module 'IPython.terminal.interactiveshell' from 'd:\\\\ProgramData\\\\Anaconda3\\\\lib\\\\site-packages\\\\IPython\\\\terminal\\\\interactiveshell.py'>,\n",
       " 'asyncio': <module 'asyncio' from 'd:\\\\ProgramData\\\\Anaconda3\\\\lib\\\\asyncio\\\\__init__.py'>,\n",
       " 'asyncio.base_events': <module 'asyncio.base_events' from 'd:\\\\ProgramData\\\\Anaconda3\\\\lib\\\\asyncio\\\\base_events.py'>,\n",
       " 'concurrent': <module 'concurrent' from 'd:\\\\ProgramData\\\\Anaconda3\\\\lib\\\\concurrent\\\\__init__.py'>,\n",
       " 'concurrent.futures': <module 'concurrent.futures' from 'd:\\\\ProgramData\\\\Anaconda3\\\\lib\\\\concurrent\\\\futures\\\\__init__.py'>,\n",
       " 'concurrent.futures._base': <module 'concurrent.futures._base' from 'd:\\\\ProgramData\\\\Anaconda3\\\\lib\\\\concurrent\\\\futures\\\\_base.py'>,\n",
       " 'socket': <module 'socket' from 'd:\\\\ProgramData\\\\Anaconda3\\\\lib\\\\socket.py'>,\n",
       " '_socket': <module '_socket' from 'd:\\\\ProgramData\\\\Anaconda3\\\\DLLs\\\\_socket.pyd'>,\n",
       " 'selectors': <module 'selectors' from 'd:\\\\ProgramData\\\\Anaconda3\\\\lib\\\\selectors.py'>,\n",
       " 'select': <module 'select' from 'd:\\\\ProgramData\\\\Anaconda3\\\\DLLs\\\\select.pyd'>,\n",
       " 'ssl': <module 'ssl' from 'd:\\\\ProgramData\\\\Anaconda3\\\\lib\\\\ssl.py'>,\n",
       " '_ssl': <module '_ssl' from 'd:\\\\ProgramData\\\\Anaconda3\\\\DLLs\\\\_ssl.pyd'>,\n",
       " 'base64': <module 'base64' from 'd:\\\\ProgramData\\\\Anaconda3\\\\lib\\\\base64.py'>,\n",
       " 'asyncio.constants': <module 'asyncio.constants' from 'd:\\\\ProgramData\\\\Anaconda3\\\\lib\\\\asyncio\\\\constants.py'>,\n",
       " 'asyncio.coroutines': <module 'asyncio.coroutines' from 'd:\\\\ProgramData\\\\Anaconda3\\\\lib\\\\asyncio\\\\coroutines.py'>,\n",
       " 'asyncio.base_futures': <module 'asyncio.base_futures' from 'd:\\\\ProgramData\\\\Anaconda3\\\\lib\\\\asyncio\\\\base_futures.py'>,\n",
       " 'asyncio.format_helpers': <module 'asyncio.format_helpers' from 'd:\\\\ProgramData\\\\Anaconda3\\\\lib\\\\asyncio\\\\format_helpers.py'>,\n",
       " 'asyncio.log': <module 'asyncio.log' from 'd:\\\\ProgramData\\\\Anaconda3\\\\lib\\\\asyncio\\\\log.py'>,\n",
       " 'asyncio.events': <module 'asyncio.events' from 'd:\\\\ProgramData\\\\Anaconda3\\\\lib\\\\asyncio\\\\events.py'>,\n",
       " 'contextvars': <module 'contextvars' from 'd:\\\\ProgramData\\\\Anaconda3\\\\lib\\\\contextvars.py'>,\n",
       " '_contextvars': <module '_contextvars' (built-in)>,\n",
       " 'asyncio.base_tasks': <module 'asyncio.base_tasks' from 'd:\\\\ProgramData\\\\Anaconda3\\\\lib\\\\asyncio\\\\base_tasks.py'>,\n",
       " '_asyncio': <module '_asyncio' from 'd:\\\\ProgramData\\\\Anaconda3\\\\DLLs\\\\_asyncio.pyd'>,\n",
       " 'asyncio.futures': <module 'asyncio.futures' from 'd:\\\\ProgramData\\\\Anaconda3\\\\lib\\\\asyncio\\\\futures.py'>,\n",
       " 'asyncio.protocols': <module 'asyncio.protocols' from 'd:\\\\ProgramData\\\\Anaconda3\\\\lib\\\\asyncio\\\\protocols.py'>,\n",
       " 'asyncio.sslproto': <module 'asyncio.sslproto' from 'd:\\\\ProgramData\\\\Anaconda3\\\\lib\\\\asyncio\\\\sslproto.py'>,\n",
       " 'asyncio.transports': <module 'asyncio.transports' from 'd:\\\\ProgramData\\\\Anaconda3\\\\lib\\\\asyncio\\\\transports.py'>,\n",
       " 'asyncio.tasks': <module 'asyncio.tasks' from 'd:\\\\ProgramData\\\\Anaconda3\\\\lib\\\\asyncio\\\\tasks.py'>,\n",
       " 'asyncio.locks': <module 'asyncio.locks' from 'd:\\\\ProgramData\\\\Anaconda3\\\\lib\\\\asyncio\\\\locks.py'>,\n",
       " 'asyncio.runners': <module 'asyncio.runners' from 'd:\\\\ProgramData\\\\Anaconda3\\\\lib\\\\asyncio\\\\runners.py'>,\n",
       " 'asyncio.queues': <module 'asyncio.queues' from 'd:\\\\ProgramData\\\\Anaconda3\\\\lib\\\\asyncio\\\\queues.py'>,\n",
       " 'asyncio.streams': <module 'asyncio.streams' from 'd:\\\\ProgramData\\\\Anaconda3\\\\lib\\\\asyncio\\\\streams.py'>,\n",
       " 'asyncio.subprocess': <module 'asyncio.subprocess' from 'd:\\\\ProgramData\\\\Anaconda3\\\\lib\\\\asyncio\\\\subprocess.py'>,\n",
       " 'asyncio.windows_events': <module 'asyncio.windows_events' from 'd:\\\\ProgramData\\\\Anaconda3\\\\lib\\\\asyncio\\\\windows_events.py'>,\n",
       " '_overlapped': <module '_overlapped' from 'd:\\\\ProgramData\\\\Anaconda3\\\\DLLs\\\\_overlapped.pyd'>,\n",
       " 'asyncio.base_subprocess': <module 'asyncio.base_subprocess' from 'd:\\\\ProgramData\\\\Anaconda3\\\\lib\\\\asyncio\\\\base_subprocess.py'>,\n",
       " 'asyncio.proactor_events': <module 'asyncio.proactor_events' from 'd:\\\\ProgramData\\\\Anaconda3\\\\lib\\\\asyncio\\\\proactor_events.py'>,\n",
       " 'asyncio.selector_events': <module 'asyncio.selector_events' from 'd:\\\\ProgramData\\\\Anaconda3\\\\lib\\\\asyncio\\\\selector_events.py'>,\n",
       " 'asyncio.windows_utils': <module 'asyncio.windows_utils' from 'd:\\\\ProgramData\\\\Anaconda3\\\\lib\\\\asyncio\\\\windows_utils.py'>,\n",
       " 'prompt_toolkit': <module 'prompt_toolkit' from 'd:\\\\ProgramData\\\\Anaconda3\\\\lib\\\\site-packages\\\\prompt_toolkit\\\\__init__.py'>,\n",
       " 'prompt_toolkit.application': <module 'prompt_toolkit.application' from 'd:\\\\ProgramData\\\\Anaconda3\\\\lib\\\\site-packages\\\\prompt_toolkit\\\\application\\\\__init__.py'>,\n",
       " 'prompt_toolkit.application.application': <module 'prompt_toolkit.application.application' from 'd:\\\\ProgramData\\\\Anaconda3\\\\lib\\\\site-packages\\\\prompt_toolkit\\\\application\\\\application.py'>,\n",
       " 'prompt_toolkit.buffer': <module 'prompt_toolkit.buffer' from 'd:\\\\ProgramData\\\\Anaconda3\\\\lib\\\\site-packages\\\\prompt_toolkit\\\\buffer.py'>,\n",
       " 'prompt_toolkit.application.current': <module 'prompt_toolkit.application.current' from 'd:\\\\ProgramData\\\\Anaconda3\\\\lib\\\\site-packages\\\\prompt_toolkit\\\\application\\\\current.py'>,\n",
       " 'prompt_toolkit.application.run_in_terminal': <module 'prompt_toolkit.application.run_in_terminal' from 'd:\\\\ProgramData\\\\Anaconda3\\\\lib\\\\site-packages\\\\prompt_toolkit\\\\application\\\\run_in_terminal.py'>,\n",
       " 'prompt_toolkit.eventloop': <module 'prompt_toolkit.eventloop' from 'd:\\\\ProgramData\\\\Anaconda3\\\\lib\\\\site-packages\\\\prompt_toolkit\\\\eventloop\\\\__init__.py'>,\n",
       " 'prompt_toolkit.eventloop.async_generator': <module 'prompt_toolkit.eventloop.async_generator' from 'd:\\\\ProgramData\\\\Anaconda3\\\\lib\\\\site-packages\\\\prompt_toolkit\\\\eventloop\\\\async_generator.py'>,\n",
       " 'prompt_toolkit.eventloop.utils': <module 'prompt_toolkit.eventloop.utils' from 'd:\\\\ProgramData\\\\Anaconda3\\\\lib\\\\site-packages\\\\prompt_toolkit\\\\eventloop\\\\utils.py'>,\n",
       " 'prompt_toolkit.eventloop.inputhook': <module 'prompt_toolkit.eventloop.inputhook' from 'd:\\\\ProgramData\\\\Anaconda3\\\\lib\\\\site-packages\\\\prompt_toolkit\\\\eventloop\\\\inputhook.py'>,\n",
       " 'prompt_toolkit.utils': <module 'prompt_toolkit.utils' from 'd:\\\\ProgramData\\\\Anaconda3\\\\lib\\\\site-packages\\\\prompt_toolkit\\\\utils.py'>,\n",
       " 'wcwidth': <module 'wcwidth' from 'd:\\\\ProgramData\\\\Anaconda3\\\\lib\\\\site-packages\\\\wcwidth\\\\__init__.py'>,\n",
       " 'wcwidth.wcwidth': <module 'wcwidth.wcwidth' from 'd:\\\\ProgramData\\\\Anaconda3\\\\lib\\\\site-packages\\\\wcwidth\\\\wcwidth.py'>,\n",
       " 'wcwidth.table_wide': <module 'wcwidth.table_wide' from 'd:\\\\ProgramData\\\\Anaconda3\\\\lib\\\\site-packages\\\\wcwidth\\\\table_wide.py'>,\n",
       " 'wcwidth.table_zero': <module 'wcwidth.table_zero' from 'd:\\\\ProgramData\\\\Anaconda3\\\\lib\\\\site-packages\\\\wcwidth\\\\table_zero.py'>,\n",
       " 'prompt_toolkit.auto_suggest': <module 'prompt_toolkit.auto_suggest' from 'd:\\\\ProgramData\\\\Anaconda3\\\\lib\\\\site-packages\\\\prompt_toolkit\\\\auto_suggest.py'>,\n",
       " 'prompt_toolkit.document': <module 'prompt_toolkit.document' from 'd:\\\\ProgramData\\\\Anaconda3\\\\lib\\\\site-packages\\\\prompt_toolkit\\\\document.py'>,\n",
       " 'prompt_toolkit.clipboard': <module 'prompt_toolkit.clipboard' from 'd:\\\\ProgramData\\\\Anaconda3\\\\lib\\\\site-packages\\\\prompt_toolkit\\\\clipboard\\\\__init__.py'>,\n",
       " 'prompt_toolkit.clipboard.base': <module 'prompt_toolkit.clipboard.base' from 'd:\\\\ProgramData\\\\Anaconda3\\\\lib\\\\site-packages\\\\prompt_toolkit\\\\clipboard\\\\base.py'>,\n",
       " 'prompt_toolkit.selection': <module 'prompt_toolkit.selection' from 'd:\\\\ProgramData\\\\Anaconda3\\\\lib\\\\site-packages\\\\prompt_toolkit\\\\selection.py'>,\n",
       " 'prompt_toolkit.clipboard.in_memory': <module 'prompt_toolkit.clipboard.in_memory' from 'd:\\\\ProgramData\\\\Anaconda3\\\\lib\\\\site-packages\\\\prompt_toolkit\\\\clipboard\\\\in_memory.py'>,\n",
       " 'prompt_toolkit.filters': <module 'prompt_toolkit.filters' from 'd:\\\\ProgramData\\\\Anaconda3\\\\lib\\\\site-packages\\\\prompt_toolkit\\\\filters\\\\__init__.py'>,\n",
       " 'prompt_toolkit.filters.app': <module 'prompt_toolkit.filters.app' from 'd:\\\\ProgramData\\\\Anaconda3\\\\lib\\\\site-packages\\\\prompt_toolkit\\\\filters\\\\app.py'>,\n",
       " 'prompt_toolkit.cache': <module 'prompt_toolkit.cache' from 'd:\\\\ProgramData\\\\Anaconda3\\\\lib\\\\site-packages\\\\prompt_toolkit\\\\cache.py'>,\n",
       " 'prompt_toolkit.enums': <module 'prompt_toolkit.enums' from 'd:\\\\ProgramData\\\\Anaconda3\\\\lib\\\\site-packages\\\\prompt_toolkit\\\\enums.py'>,\n",
       " 'prompt_toolkit.filters.base': <module 'prompt_toolkit.filters.base' from 'd:\\\\ProgramData\\\\Anaconda3\\\\lib\\\\site-packages\\\\prompt_toolkit\\\\filters\\\\base.py'>,\n",
       " 'prompt_toolkit.filters.cli': <module 'prompt_toolkit.filters.cli' from 'd:\\\\ProgramData\\\\Anaconda3\\\\lib\\\\site-packages\\\\prompt_toolkit\\\\filters\\\\cli.py'>,\n",
       " 'prompt_toolkit.filters.utils': <module 'prompt_toolkit.filters.utils' from 'd:\\\\ProgramData\\\\Anaconda3\\\\lib\\\\site-packages\\\\prompt_toolkit\\\\filters\\\\utils.py'>,\n",
       " 'prompt_toolkit.completion': <module 'prompt_toolkit.completion' from 'd:\\\\ProgramData\\\\Anaconda3\\\\lib\\\\site-packages\\\\prompt_toolkit\\\\completion\\\\__init__.py'>,\n",
       " 'prompt_toolkit.completion.base': <module 'prompt_toolkit.completion.base' from 'd:\\\\ProgramData\\\\Anaconda3\\\\lib\\\\site-packages\\\\prompt_toolkit\\\\completion\\\\base.py'>,\n",
       " 'prompt_toolkit.formatted_text': <module 'prompt_toolkit.formatted_text' from 'd:\\\\ProgramData\\\\Anaconda3\\\\lib\\\\site-packages\\\\prompt_toolkit\\\\formatted_text\\\\__init__.py'>,\n",
       " 'prompt_toolkit.formatted_text.ansi': <module 'prompt_toolkit.formatted_text.ansi' from 'd:\\\\ProgramData\\\\Anaconda3\\\\lib\\\\site-packages\\\\prompt_toolkit\\\\formatted_text\\\\ansi.py'>,\n",
       " 'prompt_toolkit.output': <module 'prompt_toolkit.output' from 'd:\\\\ProgramData\\\\Anaconda3\\\\lib\\\\site-packages\\\\prompt_toolkit\\\\output\\\\__init__.py'>,\n",
       " 'prompt_toolkit.output.base': <module 'prompt_toolkit.output.base' from 'd:\\\\ProgramData\\\\Anaconda3\\\\lib\\\\site-packages\\\\prompt_toolkit\\\\output\\\\base.py'>,\n",
       " 'prompt_toolkit.data_structures': <module 'prompt_toolkit.data_structures' from 'd:\\\\ProgramData\\\\Anaconda3\\\\lib\\\\site-packages\\\\prompt_toolkit\\\\data_structures.py'>,\n",
       " 'prompt_toolkit.styles': <module 'prompt_toolkit.styles' from 'd:\\\\ProgramData\\\\Anaconda3\\\\lib\\\\site-packages\\\\prompt_toolkit\\\\styles\\\\__init__.py'>,\n",
       " 'prompt_toolkit.styles.base': <module 'prompt_toolkit.styles.base' from 'd:\\\\ProgramData\\\\Anaconda3\\\\lib\\\\site-packages\\\\prompt_toolkit\\\\styles\\\\base.py'>,\n",
       " 'prompt_toolkit.styles.defaults': <module 'prompt_toolkit.styles.defaults' from 'd:\\\\ProgramData\\\\Anaconda3\\\\lib\\\\site-packages\\\\prompt_toolkit\\\\styles\\\\defaults.py'>,\n",
       " 'prompt_toolkit.styles.named_colors': <module 'prompt_toolkit.styles.named_colors' from 'd:\\\\ProgramData\\\\Anaconda3\\\\lib\\\\site-packages\\\\prompt_toolkit\\\\styles\\\\named_colors.py'>,\n",
       " 'prompt_toolkit.styles.style': <module 'prompt_toolkit.styles.style' from 'd:\\\\ProgramData\\\\Anaconda3\\\\lib\\\\site-packages\\\\prompt_toolkit\\\\styles\\\\style.py'>,\n",
       " 'prompt_toolkit.styles.pygments': <module 'prompt_toolkit.styles.pygments' from 'd:\\\\ProgramData\\\\Anaconda3\\\\lib\\\\site-packages\\\\prompt_toolkit\\\\styles\\\\pygments.py'>,\n",
       " 'prompt_toolkit.styles.style_transformation': <module 'prompt_toolkit.styles.style_transformation' from 'd:\\\\ProgramData\\\\Anaconda3\\\\lib\\\\site-packages\\\\prompt_toolkit\\\\styles\\\\style_transformation.py'>,\n",
       " 'colorsys': <module 'colorsys' from 'd:\\\\ProgramData\\\\Anaconda3\\\\lib\\\\colorsys.py'>,\n",
       " 'prompt_toolkit.output.color_depth': <module 'prompt_toolkit.output.color_depth' from 'd:\\\\ProgramData\\\\Anaconda3\\\\lib\\\\site-packages\\\\prompt_toolkit\\\\output\\\\color_depth.py'>,\n",
       " 'prompt_toolkit.output.defaults': <module 'prompt_toolkit.output.defaults' from 'd:\\\\ProgramData\\\\Anaconda3\\\\lib\\\\site-packages\\\\prompt_toolkit\\\\output\\\\defaults.py'>,\n",
       " 'prompt_toolkit.patch_stdout': <module 'prompt_toolkit.patch_stdout' from 'd:\\\\ProgramData\\\\Anaconda3\\\\lib\\\\site-packages\\\\prompt_toolkit\\\\patch_stdout.py'>,\n",
       " 'prompt_toolkit.output.vt100': <module 'prompt_toolkit.output.vt100' from 'd:\\\\ProgramData\\\\Anaconda3\\\\lib\\\\site-packages\\\\prompt_toolkit\\\\output\\\\vt100.py'>,\n",
       " 'array': <module 'array' (built-in)>,\n",
       " 'prompt_toolkit.formatted_text.base': <module 'prompt_toolkit.formatted_text.base' from 'd:\\\\ProgramData\\\\Anaconda3\\\\lib\\\\site-packages\\\\prompt_toolkit\\\\formatted_text\\\\base.py'>,\n",
       " 'prompt_toolkit.mouse_events': <module 'prompt_toolkit.mouse_events' from 'd:\\\\ProgramData\\\\Anaconda3\\\\lib\\\\site-packages\\\\prompt_toolkit\\\\mouse_events.py'>,\n",
       " 'prompt_toolkit.formatted_text.html': <module 'prompt_toolkit.formatted_text.html' from 'd:\\\\ProgramData\\\\Anaconda3\\\\lib\\\\site-packages\\\\prompt_toolkit\\\\formatted_text\\\\html.py'>,\n",
       " 'xml': <module 'xml' from 'd:\\\\ProgramData\\\\Anaconda3\\\\lib\\\\xml\\\\__init__.py'>,\n",
       " 'xml.dom': <module 'xml.dom' from 'd:\\\\ProgramData\\\\Anaconda3\\\\lib\\\\xml\\\\dom\\\\__init__.py'>,\n",
       " 'xml.dom.domreg': <module 'xml.dom.domreg' from 'd:\\\\ProgramData\\\\Anaconda3\\\\lib\\\\xml\\\\dom\\\\domreg.py'>,\n",
       " 'xml.dom.minidom': <module 'xml.dom.minidom' from 'd:\\\\ProgramData\\\\Anaconda3\\\\lib\\\\xml\\\\dom\\\\minidom.py'>,\n",
       " 'xml.dom.minicompat': <module 'xml.dom.minicompat' from 'd:\\\\ProgramData\\\\Anaconda3\\\\lib\\\\xml\\\\dom\\\\minicompat.py'>,\n",
       " 'xml.dom.xmlbuilder': <module 'xml.dom.xmlbuilder' from 'd:\\\\ProgramData\\\\Anaconda3\\\\lib\\\\xml\\\\dom\\\\xmlbuilder.py'>,\n",
       " 'xml.dom.NodeFilter': <module 'xml.dom.NodeFilter' from 'd:\\\\ProgramData\\\\Anaconda3\\\\lib\\\\xml\\\\dom\\\\NodeFilter.py'>,\n",
       " 'prompt_toolkit.formatted_text.pygments': <module 'prompt_toolkit.formatted_text.pygments' from 'd:\\\\ProgramData\\\\Anaconda3\\\\lib\\\\site-packages\\\\prompt_toolkit\\\\formatted_text\\\\pygments.py'>,\n",
       " 'prompt_toolkit.formatted_text.utils': <module 'prompt_toolkit.formatted_text.utils' from 'd:\\\\ProgramData\\\\Anaconda3\\\\lib\\\\site-packages\\\\prompt_toolkit\\\\formatted_text\\\\utils.py'>,\n",
       " 'prompt_toolkit.completion.filesystem': <module 'prompt_toolkit.completion.filesystem' from 'd:\\\\ProgramData\\\\Anaconda3\\\\lib\\\\site-packages\\\\prompt_toolkit\\\\completion\\\\filesystem.py'>,\n",
       " 'prompt_toolkit.completion.fuzzy_completer': <module 'prompt_toolkit.completion.fuzzy_completer' from 'd:\\\\ProgramData\\\\Anaconda3\\\\lib\\\\site-packages\\\\prompt_toolkit\\\\completion\\\\fuzzy_completer.py'>,\n",
       " 'prompt_toolkit.completion.word_completer': <module 'prompt_toolkit.completion.word_completer' from 'd:\\\\ProgramData\\\\Anaconda3\\\\lib\\\\site-packages\\\\prompt_toolkit\\\\completion\\\\word_completer.py'>,\n",
       " 'prompt_toolkit.completion.nested': <module 'prompt_toolkit.completion.nested' from 'd:\\\\ProgramData\\\\Anaconda3\\\\lib\\\\site-packages\\\\prompt_toolkit\\\\completion\\\\nested.py'>,\n",
       " 'prompt_toolkit.history': <module 'prompt_toolkit.history' from 'd:\\\\ProgramData\\\\Anaconda3\\\\lib\\\\site-packages\\\\prompt_toolkit\\\\history.py'>,\n",
       " 'prompt_toolkit.search': <module 'prompt_toolkit.search' from 'd:\\\\ProgramData\\\\Anaconda3\\\\lib\\\\site-packages\\\\prompt_toolkit\\\\search.py'>,\n",
       " 'prompt_toolkit.key_binding': <module 'prompt_toolkit.key_binding' from 'd:\\\\ProgramData\\\\Anaconda3\\\\lib\\\\site-packages\\\\prompt_toolkit\\\\key_binding\\\\__init__.py'>,\n",
       " 'prompt_toolkit.key_binding.key_bindings': <module 'prompt_toolkit.key_binding.key_bindings' from 'd:\\\\ProgramData\\\\Anaconda3\\\\lib\\\\site-packages\\\\prompt_toolkit\\\\key_binding\\\\key_bindings.py'>,\n",
       " 'prompt_toolkit.keys': <module 'prompt_toolkit.keys' from 'd:\\\\ProgramData\\\\Anaconda3\\\\lib\\\\site-packages\\\\prompt_toolkit\\\\keys.py'>,\n",
       " 'prompt_toolkit.key_binding.key_processor': <module 'prompt_toolkit.key_binding.key_processor' from 'd:\\\\ProgramData\\\\Anaconda3\\\\lib\\\\site-packages\\\\prompt_toolkit\\\\key_binding\\\\key_processor.py'>,\n",
       " 'prompt_toolkit.key_binding.vi_state': <module 'prompt_toolkit.key_binding.vi_state' from 'd:\\\\ProgramData\\\\Anaconda3\\\\lib\\\\site-packages\\\\prompt_toolkit\\\\key_binding\\\\vi_state.py'>,\n",
       " 'prompt_toolkit.validation': <module 'prompt_toolkit.validation' from 'd:\\\\ProgramData\\\\Anaconda3\\\\lib\\\\site-packages\\\\prompt_toolkit\\\\validation.py'>,\n",
       " 'prompt_toolkit.input': <module 'prompt_toolkit.input' from 'd:\\\\ProgramData\\\\Anaconda3\\\\lib\\\\site-packages\\\\prompt_toolkit\\\\input\\\\__init__.py'>,\n",
       " 'prompt_toolkit.input.base': <module 'prompt_toolkit.input.base' from 'd:\\\\ProgramData\\\\Anaconda3\\\\lib\\\\site-packages\\\\prompt_toolkit\\\\input\\\\base.py'>,\n",
       " 'prompt_toolkit.input.defaults': <module 'prompt_toolkit.input.defaults' from 'd:\\\\ProgramData\\\\Anaconda3\\\\lib\\\\site-packages\\\\prompt_toolkit\\\\input\\\\defaults.py'>,\n",
       " 'prompt_toolkit.input.typeahead': <module 'prompt_toolkit.input.typeahead' from 'd:\\\\ProgramData\\\\Anaconda3\\\\lib\\\\site-packages\\\\prompt_toolkit\\\\input\\\\typeahead.py'>,\n",
       " 'prompt_toolkit.key_binding.bindings': <module 'prompt_toolkit.key_binding.bindings' from 'd:\\\\ProgramData\\\\Anaconda3\\\\lib\\\\site-packages\\\\prompt_toolkit\\\\key_binding\\\\bindings\\\\__init__.py'>,\n",
       " 'prompt_toolkit.key_binding.bindings.page_navigation': <module 'prompt_toolkit.key_binding.bindings.page_navigation' from 'd:\\\\ProgramData\\\\Anaconda3\\\\lib\\\\site-packages\\\\prompt_toolkit\\\\key_binding\\\\bindings\\\\page_navigation.py'>,\n",
       " 'prompt_toolkit.key_binding.bindings.scroll': <module 'prompt_toolkit.key_binding.bindings.scroll' from 'd:\\\\ProgramData\\\\Anaconda3\\\\lib\\\\site-packages\\\\prompt_toolkit\\\\key_binding\\\\bindings\\\\scroll.py'>,\n",
       " 'prompt_toolkit.key_binding.defaults': <module 'prompt_toolkit.key_binding.defaults' from 'd:\\\\ProgramData\\\\Anaconda3\\\\lib\\\\site-packages\\\\prompt_toolkit\\\\key_binding\\\\defaults.py'>,\n",
       " 'prompt_toolkit.key_binding.bindings.basic': <module 'prompt_toolkit.key_binding.bindings.basic' from 'd:\\\\ProgramData\\\\Anaconda3\\\\lib\\\\site-packages\\\\prompt_toolkit\\\\key_binding\\\\bindings\\\\basic.py'>,\n",
       " 'prompt_toolkit.key_binding.bindings.named_commands': <module 'prompt_toolkit.key_binding.bindings.named_commands' from 'd:\\\\ProgramData\\\\Anaconda3\\\\lib\\\\site-packages\\\\prompt_toolkit\\\\key_binding\\\\bindings\\\\named_commands.py'>,\n",
       " 'prompt_toolkit.layout': <module 'prompt_toolkit.layout' from 'd:\\\\ProgramData\\\\Anaconda3\\\\lib\\\\site-packages\\\\prompt_toolkit\\\\layout\\\\__init__.py'>,\n",
       " 'prompt_toolkit.layout.containers': <module 'prompt_toolkit.layout.containers' from 'd:\\\\ProgramData\\\\Anaconda3\\\\lib\\\\site-packages\\\\prompt_toolkit\\\\layout\\\\containers.py'>,\n",
       " 'prompt_toolkit.layout.controls': <module 'prompt_toolkit.layout.controls' from 'd:\\\\ProgramData\\\\Anaconda3\\\\lib\\\\site-packages\\\\prompt_toolkit\\\\layout\\\\controls.py'>,\n",
       " 'prompt_toolkit.lexers': <module 'prompt_toolkit.lexers' from 'd:\\\\ProgramData\\\\Anaconda3\\\\lib\\\\site-packages\\\\prompt_toolkit\\\\lexers\\\\__init__.py'>,\n",
       " 'prompt_toolkit.lexers.base': <module 'prompt_toolkit.lexers.base' from 'd:\\\\ProgramData\\\\Anaconda3\\\\lib\\\\site-packages\\\\prompt_toolkit\\\\lexers\\\\base.py'>,\n",
       " 'prompt_toolkit.lexers.pygments': <module 'prompt_toolkit.lexers.pygments' from 'd:\\\\ProgramData\\\\Anaconda3\\\\lib\\\\site-packages\\\\prompt_toolkit\\\\lexers\\\\pygments.py'>,\n",
       " 'prompt_toolkit.layout.processors': <module 'prompt_toolkit.layout.processors' from 'd:\\\\ProgramData\\\\Anaconda3\\\\lib\\\\site-packages\\\\prompt_toolkit\\\\layout\\\\processors.py'>,\n",
       " 'prompt_toolkit.layout.utils': <module 'prompt_toolkit.layout.utils' from 'd:\\\\ProgramData\\\\Anaconda3\\\\lib\\\\site-packages\\\\prompt_toolkit\\\\layout\\\\utils.py'>,\n",
       " 'prompt_toolkit.layout.dimension': <module 'prompt_toolkit.layout.dimension' from 'd:\\\\ProgramData\\\\Anaconda3\\\\lib\\\\site-packages\\\\prompt_toolkit\\\\layout\\\\dimension.py'>,\n",
       " 'prompt_toolkit.layout.margins': <module 'prompt_toolkit.layout.margins' from 'd:\\\\ProgramData\\\\Anaconda3\\\\lib\\\\site-packages\\\\prompt_toolkit\\\\layout\\\\margins.py'>,\n",
       " 'prompt_toolkit.layout.mouse_handlers': <module 'prompt_toolkit.layout.mouse_handlers' from 'd:\\\\ProgramData\\\\Anaconda3\\\\lib\\\\site-packages\\\\prompt_toolkit\\\\layout\\\\mouse_handlers.py'>,\n",
       " 'prompt_toolkit.layout.screen': <module 'prompt_toolkit.layout.screen' from 'd:\\\\ProgramData\\\\Anaconda3\\\\lib\\\\site-packages\\\\prompt_toolkit\\\\layout\\\\screen.py'>,\n",
       " 'prompt_toolkit.layout.layout': <module 'prompt_toolkit.layout.layout' from 'd:\\\\ProgramData\\\\Anaconda3\\\\lib\\\\site-packages\\\\prompt_toolkit\\\\layout\\\\layout.py'>,\n",
       " 'prompt_toolkit.layout.menus': <module 'prompt_toolkit.layout.menus' from 'd:\\\\ProgramData\\\\Anaconda3\\\\lib\\\\site-packages\\\\prompt_toolkit\\\\layout\\\\menus.py'>,\n",
       " 'prompt_toolkit.key_binding.bindings.completion': <module 'prompt_toolkit.key_binding.bindings.completion' from 'd:\\\\ProgramData\\\\Anaconda3\\\\lib\\\\site-packages\\\\prompt_toolkit\\\\key_binding\\\\bindings\\\\completion.py'>,\n",
       " 'prompt_toolkit.key_binding.bindings.cpr': <module 'prompt_toolkit.key_binding.bindings.cpr' from 'd:\\\\ProgramData\\\\Anaconda3\\\\lib\\\\site-packages\\\\prompt_toolkit\\\\key_binding\\\\bindings\\\\cpr.py'>,\n",
       " 'prompt_toolkit.key_binding.bindings.emacs': <module 'prompt_toolkit.key_binding.bindings.emacs' from 'd:\\\\ProgramData\\\\Anaconda3\\\\lib\\\\site-packages\\\\prompt_toolkit\\\\key_binding\\\\bindings\\\\emacs.py'>,\n",
       " 'prompt_toolkit.key_binding.bindings.mouse': <module 'prompt_toolkit.key_binding.bindings.mouse' from 'd:\\\\ProgramData\\\\Anaconda3\\\\lib\\\\site-packages\\\\prompt_toolkit\\\\key_binding\\\\bindings\\\\mouse.py'>,\n",
       " 'prompt_toolkit.key_binding.bindings.vi': <module 'prompt_toolkit.key_binding.bindings.vi' from 'd:\\\\ProgramData\\\\Anaconda3\\\\lib\\\\site-packages\\\\prompt_toolkit\\\\key_binding\\\\bindings\\\\vi.py'>,\n",
       " 'prompt_toolkit.input.vt100_parser': <module 'prompt_toolkit.input.vt100_parser' from 'd:\\\\ProgramData\\\\Anaconda3\\\\lib\\\\site-packages\\\\prompt_toolkit\\\\input\\\\vt100_parser.py'>,\n",
       " 'prompt_toolkit.input.ansi_escape_sequences': <module 'prompt_toolkit.input.ansi_escape_sequences' from 'd:\\\\ProgramData\\\\Anaconda3\\\\lib\\\\site-packages\\\\prompt_toolkit\\\\input\\\\ansi_escape_sequences.py'>,\n",
       " 'prompt_toolkit.key_binding.digraphs': <module 'prompt_toolkit.key_binding.digraphs' from 'd:\\\\ProgramData\\\\Anaconda3\\\\lib\\\\site-packages\\\\prompt_toolkit\\\\key_binding\\\\digraphs.py'>,\n",
       " 'prompt_toolkit.key_binding.emacs_state': <module 'prompt_toolkit.key_binding.emacs_state' from 'd:\\\\ProgramData\\\\Anaconda3\\\\lib\\\\site-packages\\\\prompt_toolkit\\\\key_binding\\\\emacs_state.py'>,\n",
       " 'prompt_toolkit.layout.dummy': <module 'prompt_toolkit.layout.dummy' from 'd:\\\\ProgramData\\\\Anaconda3\\\\lib\\\\site-packages\\\\prompt_toolkit\\\\layout\\\\dummy.py'>,\n",
       " 'prompt_toolkit.renderer': <module 'prompt_toolkit.renderer' from 'd:\\\\ProgramData\\\\Anaconda3\\\\lib\\\\site-packages\\\\prompt_toolkit\\\\renderer.py'>,\n",
       " 'prompt_toolkit.application.dummy': <module 'prompt_toolkit.application.dummy' from 'd:\\\\ProgramData\\\\Anaconda3\\\\lib\\\\site-packages\\\\prompt_toolkit\\\\application\\\\dummy.py'>,\n",
       " 'prompt_toolkit.shortcuts': <module 'prompt_toolkit.shortcuts' from 'd:\\\\ProgramData\\\\Anaconda3\\\\lib\\\\site-packages\\\\prompt_toolkit\\\\shortcuts\\\\__init__.py'>,\n",
       " 'prompt_toolkit.shortcuts.dialogs': <module 'prompt_toolkit.shortcuts.dialogs' from 'd:\\\\ProgramData\\\\Anaconda3\\\\lib\\\\site-packages\\\\prompt_toolkit\\\\shortcuts\\\\dialogs.py'>,\n",
       " 'prompt_toolkit.key_binding.bindings.focus': <module 'prompt_toolkit.key_binding.bindings.focus' from 'd:\\\\ProgramData\\\\Anaconda3\\\\lib\\\\site-packages\\\\prompt_toolkit\\\\key_binding\\\\bindings\\\\focus.py'>,\n",
       " 'prompt_toolkit.widgets': <module 'prompt_toolkit.widgets' from 'd:\\\\ProgramData\\\\Anaconda3\\\\lib\\\\site-packages\\\\prompt_toolkit\\\\widgets\\\\__init__.py'>,\n",
       " 'prompt_toolkit.widgets.base': <module 'prompt_toolkit.widgets.base' from 'd:\\\\ProgramData\\\\Anaconda3\\\\lib\\\\site-packages\\\\prompt_toolkit\\\\widgets\\\\base.py'>,\n",
       " 'prompt_toolkit.widgets.toolbars': <module 'prompt_toolkit.widgets.toolbars' from 'd:\\\\ProgramData\\\\Anaconda3\\\\lib\\\\site-packages\\\\prompt_toolkit\\\\widgets\\\\toolbars.py'>,\n",
       " 'prompt_toolkit.widgets.dialogs': <module 'prompt_toolkit.widgets.dialogs' from 'd:\\\\ProgramData\\\\Anaconda3\\\\lib\\\\site-packages\\\\prompt_toolkit\\\\widgets\\\\dialogs.py'>,\n",
       " 'prompt_toolkit.widgets.menus': <module 'prompt_toolkit.widgets.menus' from 'd:\\\\ProgramData\\\\Anaconda3\\\\lib\\\\site-packages\\\\prompt_toolkit\\\\widgets\\\\menus.py'>,\n",
       " 'prompt_toolkit.shortcuts.progress_bar': <module 'prompt_toolkit.shortcuts.progress_bar' from 'd:\\\\ProgramData\\\\Anaconda3\\\\lib\\\\site-packages\\\\prompt_toolkit\\\\shortcuts\\\\progress_bar\\\\__init__.py'>,\n",
       " 'prompt_toolkit.shortcuts.progress_bar.base': <module 'prompt_toolkit.shortcuts.progress_bar.base' from 'd:\\\\ProgramData\\\\Anaconda3\\\\lib\\\\site-packages\\\\prompt_toolkit\\\\shortcuts\\\\progress_bar\\\\base.py'>,\n",
       " 'prompt_toolkit.shortcuts.progress_bar.formatters': <module 'prompt_toolkit.shortcuts.progress_bar.formatters' from 'd:\\\\ProgramData\\\\Anaconda3\\\\lib\\\\site-packages\\\\prompt_toolkit\\\\shortcuts\\\\progress_bar\\\\formatters.py'>,\n",
       " 'prompt_toolkit.shortcuts.prompt': <module 'prompt_toolkit.shortcuts.prompt' from 'd:\\\\ProgramData\\\\Anaconda3\\\\lib\\\\site-packages\\\\prompt_toolkit\\\\shortcuts\\\\prompt.py'>,\n",
       " 'prompt_toolkit.key_binding.bindings.auto_suggest': <module 'prompt_toolkit.key_binding.bindings.auto_suggest' from 'd:\\\\ProgramData\\\\Anaconda3\\\\lib\\\\site-packages\\\\prompt_toolkit\\\\key_binding\\\\bindings\\\\auto_suggest.py'>,\n",
       " 'prompt_toolkit.key_binding.bindings.open_in_editor': <module 'prompt_toolkit.key_binding.bindings.open_in_editor' from 'd:\\\\ProgramData\\\\Anaconda3\\\\lib\\\\site-packages\\\\prompt_toolkit\\\\key_binding\\\\bindings\\\\open_in_editor.py'>,\n",
       " 'prompt_toolkit.shortcuts.utils': <module 'prompt_toolkit.shortcuts.utils' from 'd:\\\\ProgramData\\\\Anaconda3\\\\lib\\\\site-packages\\\\prompt_toolkit\\\\shortcuts\\\\utils.py'>,\n",
       " 'pygments.style': <module 'pygments.style' from 'd:\\\\ProgramData\\\\Anaconda3\\\\lib\\\\site-packages\\\\pygments\\\\style.py'>,\n",
       " 'IPython.terminal.debugger': <module 'IPython.terminal.debugger' from 'd:\\\\ProgramData\\\\Anaconda3\\\\lib\\\\site-packages\\\\IPython\\\\terminal\\\\debugger.py'>,\n",
       " 'IPython.core.completer': <module 'IPython.core.completer' from 'd:\\\\ProgramData\\\\Anaconda3\\\\lib\\\\site-packages\\\\IPython\\\\core\\\\completer.py'>,\n",
       " 'unicodedata': <module 'unicodedata' from 'd:\\\\ProgramData\\\\Anaconda3\\\\DLLs\\\\unicodedata.pyd'>,\n",
       " 'IPython.core.latex_symbols': <module 'IPython.core.latex_symbols' from 'd:\\\\ProgramData\\\\Anaconda3\\\\lib\\\\site-packages\\\\IPython\\\\core\\\\latex_symbols.py'>,\n",
       " 'IPython.utils.generics': <module 'IPython.utils.generics' from 'd:\\\\ProgramData\\\\Anaconda3\\\\lib\\\\site-packages\\\\IPython\\\\utils\\\\generics.py'>,\n",
       " 'jedi': <module 'jedi' from 'd:\\\\ProgramData\\\\Anaconda3\\\\lib\\\\site-packages\\\\jedi\\\\__init__.py'>,\n",
       " 'jedi.api': <module 'jedi.api' from 'd:\\\\ProgramData\\\\Anaconda3\\\\lib\\\\site-packages\\\\jedi\\\\api\\\\__init__.py'>,\n",
       " 'parso': <module 'parso' from 'd:\\\\ProgramData\\\\Anaconda3\\\\lib\\\\site-packages\\\\parso\\\\__init__.py'>,\n",
       " 'parso.parser': <module 'parso.parser' from 'd:\\\\ProgramData\\\\Anaconda3\\\\lib\\\\site-packages\\\\parso\\\\parser.py'>,\n",
       " 'parso.tree': <module 'parso.tree' from 'd:\\\\ProgramData\\\\Anaconda3\\\\lib\\\\site-packages\\\\parso\\\\tree.py'>,\n",
       " 'parso._compatibility': <module 'parso._compatibility' from 'd:\\\\ProgramData\\\\Anaconda3\\\\lib\\\\site-packages\\\\parso\\\\_compatibility.py'>,\n",
       " 'parso.utils': <module 'parso.utils' from 'd:\\\\ProgramData\\\\Anaconda3\\\\lib\\\\site-packages\\\\parso\\\\utils.py'>,\n",
       " 'parso.pgen2': <module 'parso.pgen2' from 'd:\\\\ProgramData\\\\Anaconda3\\\\lib\\\\site-packages\\\\parso\\\\pgen2\\\\__init__.py'>,\n",
       " 'parso.pgen2.generator': <module 'parso.pgen2.generator' from 'd:\\\\ProgramData\\\\Anaconda3\\\\lib\\\\site-packages\\\\parso\\\\pgen2\\\\generator.py'>,\n",
       " 'parso.pgen2.grammar_parser': <module 'parso.pgen2.grammar_parser' from 'd:\\\\ProgramData\\\\Anaconda3\\\\lib\\\\site-packages\\\\parso\\\\pgen2\\\\grammar_parser.py'>,\n",
       " 'parso.python': <module 'parso.python' from 'd:\\\\ProgramData\\\\Anaconda3\\\\lib\\\\site-packages\\\\parso\\\\python\\\\__init__.py'>,\n",
       " 'parso.python.tokenize': <module 'parso.python.tokenize' from 'd:\\\\ProgramData\\\\Anaconda3\\\\lib\\\\site-packages\\\\parso\\\\python\\\\tokenize.py'>,\n",
       " 'parso.python.token': <module 'parso.python.token' from 'd:\\\\ProgramData\\\\Anaconda3\\\\lib\\\\site-packages\\\\parso\\\\python\\\\token.py'>,\n",
       " 'parso.grammar': <module 'parso.grammar' from 'd:\\\\ProgramData\\\\Anaconda3\\\\lib\\\\site-packages\\\\parso\\\\grammar.py'>,\n",
       " 'parso.python.diff': <module 'parso.python.diff' from 'd:\\\\ProgramData\\\\Anaconda3\\\\lib\\\\site-packages\\\\parso\\\\python\\\\diff.py'>,\n",
       " 'difflib': <module 'difflib' from 'd:\\\\ProgramData\\\\Anaconda3\\\\lib\\\\difflib.py'>,\n",
       " 'parso.python.parser': <module 'parso.python.parser' from 'd:\\\\ProgramData\\\\Anaconda3\\\\lib\\\\site-packages\\\\parso\\\\python\\\\parser.py'>,\n",
       " 'parso.python.tree': <module 'parso.python.tree' from 'd:\\\\ProgramData\\\\Anaconda3\\\\lib\\\\site-packages\\\\parso\\\\python\\\\tree.py'>,\n",
       " 'parso.python.prefix': <module 'parso.python.prefix' from 'd:\\\\ProgramData\\\\Anaconda3\\\\lib\\\\site-packages\\\\parso\\\\python\\\\prefix.py'>,\n",
       " 'parso.cache': <module 'parso.cache' from 'd:\\\\ProgramData\\\\Anaconda3\\\\lib\\\\site-packages\\\\parso\\\\cache.py'>,\n",
       " 'gc': <module 'gc' (built-in)>,\n",
       " 'parso.python.errors': <module 'parso.python.errors' from 'd:\\\\ProgramData\\\\Anaconda3\\\\lib\\\\site-packages\\\\parso\\\\python\\\\errors.py'>,\n",
       " 'parso.normalizer': <module 'parso.normalizer' from 'd:\\\\ProgramData\\\\Anaconda3\\\\lib\\\\site-packages\\\\parso\\\\normalizer.py'>,\n",
       " 'parso.python.pep8': <module 'parso.python.pep8' from 'd:\\\\ProgramData\\\\Anaconda3\\\\lib\\\\site-packages\\\\parso\\\\python\\\\pep8.py'>,\n",
       " 'parso.file_io': <module 'parso.file_io' from 'd:\\\\ProgramData\\\\Anaconda3\\\\lib\\\\site-packages\\\\parso\\\\file_io.py'>,\n",
       " 'jedi._compatibility': <module 'jedi._compatibility' from 'd:\\\\ProgramData\\\\Anaconda3\\\\lib\\\\site-packages\\\\jedi\\\\_compatibility.py'>,\n",
       " 'jedi.file_io': <module 'jedi.file_io' from 'd:\\\\ProgramData\\\\Anaconda3\\\\lib\\\\site-packages\\\\jedi\\\\file_io.py'>,\n",
       " 'queue': <module 'queue' from 'd:\\\\ProgramData\\\\Anaconda3\\\\lib\\\\queue.py'>,\n",
       " '_queue': <module '_queue' from 'd:\\\\ProgramData\\\\Anaconda3\\\\DLLs\\\\_queue.pyd'>,\n",
       " 'jedi.parser_utils': <module 'jedi.parser_utils' from 'd:\\\\ProgramData\\\\Anaconda3\\\\lib\\\\site-packages\\\\jedi\\\\parser_utils.py'>,\n",
       " 'jedi.debug': <module 'jedi.debug' from 'd:\\\\ProgramData\\\\Anaconda3\\\\lib\\\\site-packages\\\\jedi\\\\debug.py'>,\n",
       " 'jedi.settings': <module 'jedi.settings' from 'd:\\\\ProgramData\\\\Anaconda3\\\\lib\\\\site-packages\\\\jedi\\\\settings.py'>,\n",
       " 'jedi.cache': <module 'jedi.cache' from 'd:\\\\ProgramData\\\\Anaconda3\\\\lib\\\\site-packages\\\\jedi\\\\cache.py'>,\n",
       " 'jedi.api.classes': <module 'jedi.api.classes' from 'd:\\\\ProgramData\\\\Anaconda3\\\\lib\\\\site-packages\\\\jedi\\\\api\\\\classes.py'>,\n",
       " 'jedi.evaluate': <module 'jedi.evaluate' from 'd:\\\\ProgramData\\\\Anaconda3\\\\lib\\\\site-packages\\\\jedi\\\\evaluate\\\\__init__.py'>,\n",
       " 'jedi.evaluate.utils': <module 'jedi.evaluate.utils' from 'd:\\\\ProgramData\\\\Anaconda3\\\\lib\\\\site-packages\\\\jedi\\\\evaluate\\\\utils.py'>,\n",
       " 'jedi.evaluate.imports': <module 'jedi.evaluate.imports' from 'd:\\\\ProgramData\\\\Anaconda3\\\\lib\\\\site-packages\\\\jedi\\\\evaluate\\\\imports.py'>,\n",
       " 'jedi.evaluate.sys_path': <module 'jedi.evaluate.sys_path' from 'd:\\\\ProgramData\\\\Anaconda3\\\\lib\\\\site-packages\\\\jedi\\\\evaluate\\\\sys_path.py'>,\n",
       " 'jedi.evaluate.cache': <module 'jedi.evaluate.cache' from 'd:\\\\ProgramData\\\\Anaconda3\\\\lib\\\\site-packages\\\\jedi\\\\evaluate\\\\cache.py'>,\n",
       " 'jedi.evaluate.base_context': <module 'jedi.evaluate.base_context' from 'd:\\\\ProgramData\\\\Anaconda3\\\\lib\\\\site-packages\\\\jedi\\\\evaluate\\\\base_context.py'>,\n",
       " 'jedi.common': <module 'jedi.common' from 'd:\\\\ProgramData\\\\Anaconda3\\\\lib\\\\site-packages\\\\jedi\\\\common\\\\__init__.py'>,\n",
       " 'jedi.common.context': <module 'jedi.common.context' from 'd:\\\\ProgramData\\\\Anaconda3\\\\lib\\\\site-packages\\\\jedi\\\\common\\\\context.py'>,\n",
       " 'jedi.evaluate.helpers': <module 'jedi.evaluate.helpers' from 'd:\\\\ProgramData\\\\Anaconda3\\\\lib\\\\site-packages\\\\jedi\\\\evaluate\\\\helpers.py'>,\n",
       " 'jedi.common.utils': <module 'jedi.common.utils' from 'd:\\\\ProgramData\\\\Anaconda3\\\\lib\\\\site-packages\\\\jedi\\\\common\\\\utils.py'>,\n",
       " 'jedi.evaluate.compiled': <module 'jedi.evaluate.compiled' from 'd:\\\\ProgramData\\\\Anaconda3\\\\lib\\\\site-packages\\\\jedi\\\\evaluate\\\\compiled\\\\__init__.py'>,\n",
       " 'jedi.evaluate.compiled.context': <module 'jedi.evaluate.compiled.context' from 'd:\\\\ProgramData\\\\Anaconda3\\\\lib\\\\site-packages\\\\jedi\\\\evaluate\\\\compiled\\\\context.py'>,\n",
       " 'jedi.evaluate.filters': <module 'jedi.evaluate.filters' from 'd:\\\\ProgramData\\\\Anaconda3\\\\lib\\\\site-packages\\\\jedi\\\\evaluate\\\\filters.py'>,\n",
       " 'jedi.evaluate.flow_analysis': <module 'jedi.evaluate.flow_analysis' from 'd:\\\\ProgramData\\\\Anaconda3\\\\lib\\\\site-packages\\\\jedi\\\\evaluate\\\\flow_analysis.py'>,\n",
       " 'jedi.evaluate.recursion': <module 'jedi.evaluate.recursion' from 'd:\\\\ProgramData\\\\Anaconda3\\\\lib\\\\site-packages\\\\jedi\\\\evaluate\\\\recursion.py'>,\n",
       " 'jedi.evaluate.names': <module 'jedi.evaluate.names' from 'd:\\\\ProgramData\\\\Anaconda3\\\\lib\\\\site-packages\\\\jedi\\\\evaluate\\\\names.py'>,\n",
       " 'jedi.evaluate.lazy_context': <module 'jedi.evaluate.lazy_context' from 'd:\\\\ProgramData\\\\Anaconda3\\\\lib\\\\site-packages\\\\jedi\\\\evaluate\\\\lazy_context.py'>,\n",
       " 'jedi.evaluate.compiled.access': <module 'jedi.evaluate.compiled.access' from 'd:\\\\ProgramData\\\\Anaconda3\\\\lib\\\\site-packages\\\\jedi\\\\evaluate\\\\compiled\\\\access.py'>,\n",
       " 'jedi.evaluate.compiled.getattr_static': <module 'jedi.evaluate.compiled.getattr_static' from 'd:\\\\ProgramData\\\\Anaconda3\\\\lib\\\\site-packages\\\\jedi\\\\evaluate\\\\compiled\\\\getattr_static.py'>,\n",
       " 'jedi.evaluate.signature': <module 'jedi.evaluate.signature' from 'd:\\\\ProgramData\\\\Anaconda3\\\\lib\\\\site-packages\\\\jedi\\\\evaluate\\\\signature.py'>,\n",
       " 'jedi.evaluate.analysis': <module 'jedi.evaluate.analysis' from 'd:\\\\ProgramData\\\\Anaconda3\\\\lib\\\\site-packages\\\\jedi\\\\evaluate\\\\analysis.py'>,\n",
       " 'jedi.evaluate.gradual': <module 'jedi.evaluate.gradual' from 'd:\\\\ProgramData\\\\Anaconda3\\\\lib\\\\site-packages\\\\jedi\\\\evaluate\\\\gradual\\\\__init__.py'>,\n",
       " 'jedi.evaluate.gradual.typeshed': <module 'jedi.evaluate.gradual.typeshed' from 'd:\\\\ProgramData\\\\Anaconda3\\\\lib\\\\site-packages\\\\jedi\\\\evaluate\\\\gradual\\\\typeshed.py'>,\n",
       " 'jedi.evaluate.gradual.stub_context': <module 'jedi.evaluate.gradual.stub_context' from 'd:\\\\ProgramData\\\\Anaconda3\\\\lib\\\\site-packages\\\\jedi\\\\evaluate\\\\gradual\\\\stub_context.py'>,\n",
       " 'jedi.evaluate.context': <module 'jedi.evaluate.context' from 'd:\\\\ProgramData\\\\Anaconda3\\\\lib\\\\site-packages\\\\jedi\\\\evaluate\\\\context\\\\__init__.py'>,\n",
       " 'jedi.evaluate.context.module': <module 'jedi.evaluate.context.module' from 'd:\\\\ProgramData\\\\Anaconda3\\\\lib\\\\site-packages\\\\jedi\\\\evaluate\\\\context\\\\module.py'>,\n",
       " 'jedi.evaluate.context.klass': <module 'jedi.evaluate.context.klass' from 'd:\\\\ProgramData\\\\Anaconda3\\\\lib\\\\site-packages\\\\jedi\\\\evaluate\\\\context\\\\klass.py'>,\n",
       " 'jedi.evaluate.arguments': <module 'jedi.evaluate.arguments' from 'd:\\\\ProgramData\\\\Anaconda3\\\\lib\\\\site-packages\\\\jedi\\\\evaluate\\\\arguments.py'>,\n",
       " 'jedi.evaluate.context.iterable': <module 'jedi.evaluate.context.iterable' from 'd:\\\\ProgramData\\\\Anaconda3\\\\lib\\\\site-packages\\\\jedi\\\\evaluate\\\\context\\\\iterable.py'>,\n",
       " 'jedi.evaluate.param': <module 'jedi.evaluate.param' from 'd:\\\\ProgramData\\\\Anaconda3\\\\lib\\\\site-packages\\\\jedi\\\\evaluate\\\\param.py'>,\n",
       " 'jedi.evaluate.docstrings': <module 'jedi.evaluate.docstrings' from 'd:\\\\ProgramData\\\\Anaconda3\\\\lib\\\\site-packages\\\\jedi\\\\evaluate\\\\docstrings.py'>,\n",
       " 'jedi.evaluate.context.function': <module 'jedi.evaluate.context.function' from 'd:\\\\ProgramData\\\\Anaconda3\\\\lib\\\\site-packages\\\\jedi\\\\evaluate\\\\context\\\\function.py'>,\n",
       " 'jedi.evaluate.parser_cache': <module 'jedi.evaluate.parser_cache' from 'd:\\\\ProgramData\\\\Anaconda3\\\\lib\\\\site-packages\\\\jedi\\\\evaluate\\\\parser_cache.py'>,\n",
       " 'jedi.evaluate.context.instance': <module 'jedi.evaluate.context.instance' from 'd:\\\\ProgramData\\\\Anaconda3\\\\lib\\\\site-packages\\\\jedi\\\\evaluate\\\\context\\\\instance.py'>,\n",
       " 'jedi.evaluate.gradual.typing': <module 'jedi.evaluate.gradual.typing' from 'd:\\\\ProgramData\\\\Anaconda3\\\\lib\\\\site-packages\\\\jedi\\\\evaluate\\\\gradual\\\\typing.py'>,\n",
       " 'jedi.evaluate.syntax_tree': <module 'jedi.evaluate.syntax_tree' from 'd:\\\\ProgramData\\\\Anaconda3\\\\lib\\\\site-packages\\\\jedi\\\\evaluate\\\\syntax_tree.py'>,\n",
       " 'jedi.evaluate.finder': <module 'jedi.evaluate.finder' from 'd:\\\\ProgramData\\\\Anaconda3\\\\lib\\\\site-packages\\\\jedi\\\\evaluate\\\\finder.py'>,\n",
       " 'jedi.evaluate.gradual.conversion': <module 'jedi.evaluate.gradual.conversion' from 'd:\\\\ProgramData\\\\Anaconda3\\\\lib\\\\site-packages\\\\jedi\\\\evaluate\\\\gradual\\\\conversion.py'>,\n",
       " 'jedi.evaluate.gradual.annotation': <module 'jedi.evaluate.gradual.annotation' from 'd:\\\\ProgramData\\\\Anaconda3\\\\lib\\\\site-packages\\\\jedi\\\\evaluate\\\\gradual\\\\annotation.py'>,\n",
       " 'jedi.api.keywords': <module 'jedi.api.keywords' from 'd:\\\\ProgramData\\\\Anaconda3\\\\lib\\\\site-packages\\\\jedi\\\\api\\\\keywords.py'>,\n",
       " 'pydoc_data': <module 'pydoc_data' from 'd:\\\\ProgramData\\\\Anaconda3\\\\lib\\\\pydoc_data\\\\__init__.py'>,\n",
       " 'pydoc_data.topics': <module 'pydoc_data.topics' from 'd:\\\\ProgramData\\\\Anaconda3\\\\lib\\\\pydoc_data\\\\topics.py'>,\n",
       " 'jedi.api.interpreter': <module 'jedi.api.interpreter' from 'd:\\\\ProgramData\\\\Anaconda3\\\\lib\\\\site-packages\\\\jedi\\\\api\\\\interpreter.py'>,\n",
       " 'jedi.evaluate.compiled.mixed': <module 'jedi.evaluate.compiled.mixed' from 'd:\\\\ProgramData\\\\Anaconda3\\\\lib\\\\site-packages\\\\jedi\\\\evaluate\\\\compiled\\\\mixed.py'>,\n",
       " 'jedi.api.helpers': <module 'jedi.api.helpers' from 'd:\\\\ProgramData\\\\Anaconda3\\\\lib\\\\site-packages\\\\jedi\\\\api\\\\helpers.py'>,\n",
       " 'jedi.api.completion': <module 'jedi.api.completion' from 'd:\\\\ProgramData\\\\Anaconda3\\\\lib\\\\site-packages\\\\jedi\\\\api\\\\completion.py'>,\n",
       " 'jedi.api.environment': <module 'jedi.api.environment' from 'd:\\\\ProgramData\\\\Anaconda3\\\\lib\\\\site-packages\\\\jedi\\\\api\\\\environment.py'>,\n",
       " 'filecmp': <module 'filecmp' from 'd:\\\\ProgramData\\\\Anaconda3\\\\lib\\\\filecmp.py'>,\n",
       " 'jedi.evaluate.compiled.subprocess': <module 'jedi.evaluate.compiled.subprocess' from 'd:\\\\ProgramData\\\\Anaconda3\\\\lib\\\\site-packages\\\\jedi\\\\evaluate\\\\compiled\\\\subprocess\\\\__init__.py'>,\n",
       " 'jedi.evaluate.compiled.subprocess.functions': <module 'jedi.evaluate.compiled.subprocess.functions' from 'd:\\\\ProgramData\\\\Anaconda3\\\\lib\\\\site-packages\\\\jedi\\\\evaluate\\\\compiled\\\\subprocess\\\\functions.py'>,\n",
       " 'jedi.api.exceptions': <module 'jedi.api.exceptions' from 'd:\\\\ProgramData\\\\Anaconda3\\\\lib\\\\site-packages\\\\jedi\\\\api\\\\exceptions.py'>,\n",
       " 'jedi.api.project': <module 'jedi.api.project' from 'd:\\\\ProgramData\\\\Anaconda3\\\\lib\\\\site-packages\\\\jedi\\\\api\\\\project.py'>,\n",
       " 'jedi.evaluate.usages': <module 'jedi.evaluate.usages' from 'd:\\\\ProgramData\\\\Anaconda3\\\\lib\\\\site-packages\\\\jedi\\\\evaluate\\\\usages.py'>,\n",
       " 'jedi.evaluate.gradual.utils': <module 'jedi.evaluate.gradual.utils' from 'd:\\\\ProgramData\\\\Anaconda3\\\\lib\\\\site-packages\\\\jedi\\\\evaluate\\\\gradual\\\\utils.py'>,\n",
       " 'IPython.terminal.ptutils': <module 'IPython.terminal.ptutils' from 'd:\\\\ProgramData\\\\Anaconda3\\\\lib\\\\site-packages\\\\IPython\\\\terminal\\\\ptutils.py'>,\n",
       " 'IPython.terminal.shortcuts': <module 'IPython.terminal.shortcuts' from 'd:\\\\ProgramData\\\\Anaconda3\\\\lib\\\\site-packages\\\\IPython\\\\terminal\\\\shortcuts.py'>,\n",
       " 'IPython.lib.clipboard': <module 'IPython.lib.clipboard' from 'd:\\\\ProgramData\\\\Anaconda3\\\\lib\\\\site-packages\\\\IPython\\\\lib\\\\clipboard.py'>,\n",
       " 'IPython.terminal.magics': <module 'IPython.terminal.magics' from 'd:\\\\ProgramData\\\\Anaconda3\\\\lib\\\\site-packages\\\\IPython\\\\terminal\\\\magics.py'>,\n",
       " 'IPython.terminal.pt_inputhooks': <module 'IPython.terminal.pt_inputhooks' from 'd:\\\\ProgramData\\\\Anaconda3\\\\lib\\\\site-packages\\\\IPython\\\\terminal\\\\pt_inputhooks\\\\__init__.py'>,\n",
       " 'IPython.terminal.prompts': <module 'IPython.terminal.prompts' from 'd:\\\\ProgramData\\\\Anaconda3\\\\lib\\\\site-packages\\\\IPython\\\\terminal\\\\prompts.py'>,\n",
       " 'IPython.terminal.ipapp': <module 'IPython.terminal.ipapp' from 'd:\\\\ProgramData\\\\Anaconda3\\\\lib\\\\site-packages\\\\IPython\\\\terminal\\\\ipapp.py'>,\n",
       " 'IPython.core.magics': <module 'IPython.core.magics' from 'd:\\\\ProgramData\\\\Anaconda3\\\\lib\\\\site-packages\\\\IPython\\\\core\\\\magics\\\\__init__.py'>,\n",
       " 'IPython.core.magics.auto': <module 'IPython.core.magics.auto' from 'd:\\\\ProgramData\\\\Anaconda3\\\\lib\\\\site-packages\\\\IPython\\\\core\\\\magics\\\\auto.py'>,\n",
       " 'IPython.core.magics.basic': <module 'IPython.core.magics.basic' from 'd:\\\\ProgramData\\\\Anaconda3\\\\lib\\\\site-packages\\\\IPython\\\\core\\\\magics\\\\basic.py'>,\n",
       " 'IPython.core.magics.code': <module 'IPython.core.magics.code' from 'd:\\\\ProgramData\\\\Anaconda3\\\\lib\\\\site-packages\\\\IPython\\\\core\\\\magics\\\\code.py'>,\n",
       " 'urllib.request': <module 'urllib.request' from 'd:\\\\ProgramData\\\\Anaconda3\\\\lib\\\\urllib\\\\request.py'>,\n",
       " 'email': <module 'email' from 'd:\\\\ProgramData\\\\Anaconda3\\\\lib\\\\email\\\\__init__.py'>,\n",
       " 'http': <module 'http' from 'd:\\\\ProgramData\\\\Anaconda3\\\\lib\\\\http\\\\__init__.py'>,\n",
       " 'http.client': <module 'http.client' from 'd:\\\\ProgramData\\\\Anaconda3\\\\lib\\\\http\\\\client.py'>,\n",
       " 'email.parser': <module 'email.parser' from 'd:\\\\ProgramData\\\\Anaconda3\\\\lib\\\\email\\\\parser.py'>,\n",
       " 'email.feedparser': <module 'email.feedparser' from 'd:\\\\ProgramData\\\\Anaconda3\\\\lib\\\\email\\\\feedparser.py'>,\n",
       " 'email.errors': <module 'email.errors' from 'd:\\\\ProgramData\\\\Anaconda3\\\\lib\\\\email\\\\errors.py'>,\n",
       " 'email._policybase': <module 'email._policybase' from 'd:\\\\ProgramData\\\\Anaconda3\\\\lib\\\\email\\\\_policybase.py'>,\n",
       " 'email.header': <module 'email.header' from 'd:\\\\ProgramData\\\\Anaconda3\\\\lib\\\\email\\\\header.py'>,\n",
       " 'email.quoprimime': <module 'email.quoprimime' from 'd:\\\\ProgramData\\\\Anaconda3\\\\lib\\\\email\\\\quoprimime.py'>,\n",
       " 'email.base64mime': <module 'email.base64mime' from 'd:\\\\ProgramData\\\\Anaconda3\\\\lib\\\\email\\\\base64mime.py'>,\n",
       " 'email.charset': <module 'email.charset' from 'd:\\\\ProgramData\\\\Anaconda3\\\\lib\\\\email\\\\charset.py'>,\n",
       " 'email.encoders': <module 'email.encoders' from 'd:\\\\ProgramData\\\\Anaconda3\\\\lib\\\\email\\\\encoders.py'>,\n",
       " 'quopri': <module 'quopri' from 'd:\\\\ProgramData\\\\Anaconda3\\\\lib\\\\quopri.py'>,\n",
       " 'email.utils': <module 'email.utils' from 'd:\\\\ProgramData\\\\Anaconda3\\\\lib\\\\email\\\\utils.py'>,\n",
       " 'email._parseaddr': <module 'email._parseaddr' from 'd:\\\\ProgramData\\\\Anaconda3\\\\lib\\\\email\\\\_parseaddr.py'>,\n",
       " 'calendar': <module 'calendar' from 'd:\\\\ProgramData\\\\Anaconda3\\\\lib\\\\calendar.py'>,\n",
       " 'email.message': <module 'email.message' from 'd:\\\\ProgramData\\\\Anaconda3\\\\lib\\\\email\\\\message.py'>,\n",
       " 'uu': <module 'uu' from 'd:\\\\ProgramData\\\\Anaconda3\\\\lib\\\\uu.py'>,\n",
       " 'email._encoded_words': <module 'email._encoded_words' from 'd:\\\\ProgramData\\\\Anaconda3\\\\lib\\\\email\\\\_encoded_words.py'>,\n",
       " 'email.iterators': <module 'email.iterators' from 'd:\\\\ProgramData\\\\Anaconda3\\\\lib\\\\email\\\\iterators.py'>,\n",
       " 'urllib.error': <module 'urllib.error' from 'd:\\\\ProgramData\\\\Anaconda3\\\\lib\\\\urllib\\\\error.py'>,\n",
       " 'urllib.response': <module 'urllib.response' from 'd:\\\\ProgramData\\\\Anaconda3\\\\lib\\\\urllib\\\\response.py'>,\n",
       " 'nturl2path': <module 'nturl2path' from 'd:\\\\ProgramData\\\\Anaconda3\\\\lib\\\\nturl2path.py'>,\n",
       " 'IPython.core.magics.config': <module 'IPython.core.magics.config' from 'd:\\\\ProgramData\\\\Anaconda3\\\\lib\\\\site-packages\\\\IPython\\\\core\\\\magics\\\\config.py'>,\n",
       " 'IPython.core.magics.display': <module 'IPython.core.magics.display' from 'd:\\\\ProgramData\\\\Anaconda3\\\\lib\\\\site-packages\\\\IPython\\\\core\\\\magics\\\\display.py'>,\n",
       " 'IPython.core.magics.execution': <module 'IPython.core.magics.execution' from 'd:\\\\ProgramData\\\\Anaconda3\\\\lib\\\\site-packages\\\\IPython\\\\core\\\\magics\\\\execution.py'>,\n",
       " 'timeit': <module 'timeit' from 'd:\\\\ProgramData\\\\Anaconda3\\\\lib\\\\timeit.py'>,\n",
       " 'cProfile': <module 'cProfile' from 'd:\\\\ProgramData\\\\Anaconda3\\\\lib\\\\cProfile.py'>,\n",
       " '_lsprof': <module '_lsprof' (built-in)>,\n",
       " 'profile': <module 'profile' from 'd:\\\\ProgramData\\\\Anaconda3\\\\lib\\\\profile.py'>,\n",
       " 'pstats': <module 'pstats' from 'd:\\\\ProgramData\\\\Anaconda3\\\\lib\\\\pstats.py'>,\n",
       " 'IPython.utils.module_paths': <module 'IPython.utils.module_paths' from 'd:\\\\ProgramData\\\\Anaconda3\\\\lib\\\\site-packages\\\\IPython\\\\utils\\\\module_paths.py'>,\n",
       " 'IPython.utils.timing': <module 'IPython.utils.timing' from 'd:\\\\ProgramData\\\\Anaconda3\\\\lib\\\\site-packages\\\\IPython\\\\utils\\\\timing.py'>,\n",
       " 'IPython.core.magics.extension': <module 'IPython.core.magics.extension' from 'd:\\\\ProgramData\\\\Anaconda3\\\\lib\\\\site-packages\\\\IPython\\\\core\\\\magics\\\\extension.py'>,\n",
       " 'IPython.core.magics.history': <module 'IPython.core.magics.history' from 'd:\\\\ProgramData\\\\Anaconda3\\\\lib\\\\site-packages\\\\IPython\\\\core\\\\magics\\\\history.py'>,\n",
       " 'IPython.core.magics.logging': <module 'IPython.core.magics.logging' from 'd:\\\\ProgramData\\\\Anaconda3\\\\lib\\\\site-packages\\\\IPython\\\\core\\\\magics\\\\logging.py'>,\n",
       " 'IPython.core.magics.namespace': <module 'IPython.core.magics.namespace' from 'd:\\\\ProgramData\\\\Anaconda3\\\\lib\\\\site-packages\\\\IPython\\\\core\\\\magics\\\\namespace.py'>,\n",
       " 'IPython.core.magics.osm': <module 'IPython.core.magics.osm' from 'd:\\\\ProgramData\\\\Anaconda3\\\\lib\\\\site-packages\\\\IPython\\\\core\\\\magics\\\\osm.py'>,\n",
       " 'IPython.core.magics.packaging': <module 'IPython.core.magics.packaging' from 'd:\\\\ProgramData\\\\Anaconda3\\\\lib\\\\site-packages\\\\IPython\\\\core\\\\magics\\\\packaging.py'>,\n",
       " 'IPython.core.magics.pylab': <module 'IPython.core.magics.pylab' from 'd:\\\\ProgramData\\\\Anaconda3\\\\lib\\\\site-packages\\\\IPython\\\\core\\\\magics\\\\pylab.py'>,\n",
       " 'IPython.core.pylabtools': <module 'IPython.core.pylabtools' from 'd:\\\\ProgramData\\\\Anaconda3\\\\lib\\\\site-packages\\\\IPython\\\\core\\\\pylabtools.py'>,\n",
       " 'IPython.core.magics.script': <module 'IPython.core.magics.script' from 'd:\\\\ProgramData\\\\Anaconda3\\\\lib\\\\site-packages\\\\IPython\\\\core\\\\magics\\\\script.py'>,\n",
       " 'IPython.lib.backgroundjobs': <module 'IPython.lib.backgroundjobs' from 'd:\\\\ProgramData\\\\Anaconda3\\\\lib\\\\site-packages\\\\IPython\\\\lib\\\\backgroundjobs.py'>,\n",
       " 'IPython.core.shellapp': <module 'IPython.core.shellapp' from 'd:\\\\ProgramData\\\\Anaconda3\\\\lib\\\\site-packages\\\\IPython\\\\core\\\\shellapp.py'>,\n",
       " 'IPython.extensions': <module 'IPython.extensions' from 'd:\\\\ProgramData\\\\Anaconda3\\\\lib\\\\site-packages\\\\IPython\\\\extensions\\\\__init__.py'>,\n",
       " 'IPython.extensions.storemagic': <module 'IPython.extensions.storemagic' from 'd:\\\\ProgramData\\\\Anaconda3\\\\lib\\\\site-packages\\\\IPython\\\\extensions\\\\storemagic.py'>,\n",
       " 'IPython.utils.frame': <module 'IPython.utils.frame' from 'd:\\\\ProgramData\\\\Anaconda3\\\\lib\\\\site-packages\\\\IPython\\\\utils\\\\frame.py'>,\n",
       " 'jupyter_client': <module 'jupyter_client' from 'd:\\\\ProgramData\\\\Anaconda3\\\\lib\\\\site-packages\\\\jupyter_client\\\\__init__.py'>,\n",
       " 'jupyter_client._version': <module 'jupyter_client._version' from 'd:\\\\ProgramData\\\\Anaconda3\\\\lib\\\\site-packages\\\\jupyter_client\\\\_version.py'>,\n",
       " 'jupyter_client.connect': <module 'jupyter_client.connect' from 'd:\\\\ProgramData\\\\Anaconda3\\\\lib\\\\site-packages\\\\jupyter_client\\\\connect.py'>,\n",
       " 'zmq': <module 'zmq' from 'd:\\\\ProgramData\\\\Anaconda3\\\\lib\\\\site-packages\\\\zmq\\\\__init__.py'>,\n",
       " 'zmq.backend': <module 'zmq.backend' from 'd:\\\\ProgramData\\\\Anaconda3\\\\lib\\\\site-packages\\\\zmq\\\\backend\\\\__init__.py'>,\n",
       " 'zmq.backend.select': <module 'zmq.backend.select' from 'd:\\\\ProgramData\\\\Anaconda3\\\\lib\\\\site-packages\\\\zmq\\\\backend\\\\select.py'>,\n",
       " 'zmq.backend.cython': <module 'zmq.backend.cython' from 'd:\\\\ProgramData\\\\Anaconda3\\\\lib\\\\site-packages\\\\zmq\\\\backend\\\\cython\\\\__init__.py'>,\n",
       " 'zmq.backend.cython.constants': <module 'zmq.backend.cython.constants' from 'd:\\\\ProgramData\\\\Anaconda3\\\\lib\\\\site-packages\\\\zmq\\\\backend\\\\cython\\\\constants.cp37-win_amd64.pyd'>,\n",
       " 'cython_runtime': <module 'cython_runtime'>,\n",
       " 'zmq.backend.cython.error': <module 'zmq.backend.cython.error' from 'd:\\\\ProgramData\\\\Anaconda3\\\\lib\\\\site-packages\\\\zmq\\\\backend\\\\cython\\\\error.cp37-win_amd64.pyd'>,\n",
       " '_cython_0_29_14': <module '_cython_0_29_14'>,\n",
       " 'zmq.backend.cython.message': <module 'zmq.backend.cython.message' from 'd:\\\\ProgramData\\\\Anaconda3\\\\lib\\\\site-packages\\\\zmq\\\\backend\\\\cython\\\\message.cp37-win_amd64.pyd'>,\n",
       " 'zmq.error': <module 'zmq.error' from 'd:\\\\ProgramData\\\\Anaconda3\\\\lib\\\\site-packages\\\\zmq\\\\error.py'>,\n",
       " 'zmq.backend.cython.context': <module 'zmq.backend.cython.context' from 'd:\\\\ProgramData\\\\Anaconda3\\\\lib\\\\site-packages\\\\zmq\\\\backend\\\\cython\\\\context.cp37-win_amd64.pyd'>,\n",
       " 'zmq.backend.cython.socket': <module 'zmq.backend.cython.socket' from 'd:\\\\ProgramData\\\\Anaconda3\\\\lib\\\\site-packages\\\\zmq\\\\backend\\\\cython\\\\socket.cp37-win_amd64.pyd'>,\n",
       " 'zmq.backend.cython.utils': <module 'zmq.backend.cython.utils' from 'd:\\\\ProgramData\\\\Anaconda3\\\\lib\\\\site-packages\\\\zmq\\\\backend\\\\cython\\\\utils.cp37-win_amd64.pyd'>,\n",
       " 'zmq.backend.cython._poll': <module 'zmq.backend.cython._poll' from 'd:\\\\ProgramData\\\\Anaconda3\\\\lib\\\\site-packages\\\\zmq\\\\backend\\\\cython\\\\_poll.cp37-win_amd64.pyd'>,\n",
       " 'zmq.backend.cython._version': <module 'zmq.backend.cython._version' from 'd:\\\\ProgramData\\\\Anaconda3\\\\lib\\\\site-packages\\\\zmq\\\\backend\\\\cython\\\\_version.cp37-win_amd64.pyd'>,\n",
       " 'zmq.backend.cython._device': <module 'zmq.backend.cython._device' from 'd:\\\\ProgramData\\\\Anaconda3\\\\lib\\\\site-packages\\\\zmq\\\\backend\\\\cython\\\\_device.cp37-win_amd64.pyd'>,\n",
       " 'zmq.backend.cython._proxy_steerable': <module 'zmq.backend.cython._proxy_steerable' from 'd:\\\\ProgramData\\\\Anaconda3\\\\lib\\\\site-packages\\\\zmq\\\\backend\\\\cython\\\\_proxy_steerable.cp37-win_amd64.pyd'>,\n",
       " 'zmq.sugar': <module 'zmq.sugar' from 'd:\\\\ProgramData\\\\Anaconda3\\\\lib\\\\site-packages\\\\zmq\\\\sugar\\\\__init__.py'>,\n",
       " 'zmq.sugar.constants': <module 'zmq.sugar.constants' from 'd:\\\\ProgramData\\\\Anaconda3\\\\lib\\\\site-packages\\\\zmq\\\\sugar\\\\constants.py'>,\n",
       " 'zmq.utils': <module 'zmq.utils' from 'd:\\\\ProgramData\\\\Anaconda3\\\\lib\\\\site-packages\\\\zmq\\\\utils\\\\__init__.py'>,\n",
       " 'zmq.utils.constant_names': <module 'zmq.utils.constant_names' from 'd:\\\\ProgramData\\\\Anaconda3\\\\lib\\\\site-packages\\\\zmq\\\\utils\\\\constant_names.py'>,\n",
       " 'zmq.sugar.context': <module 'zmq.sugar.context' from 'd:\\\\ProgramData\\\\Anaconda3\\\\lib\\\\site-packages\\\\zmq\\\\sugar\\\\context.py'>,\n",
       " 'zmq.sugar.attrsettr': <module 'zmq.sugar.attrsettr' from 'd:\\\\ProgramData\\\\Anaconda3\\\\lib\\\\site-packages\\\\zmq\\\\sugar\\\\attrsettr.py'>,\n",
       " 'zmq.sugar.socket': <module 'zmq.sugar.socket' from 'd:\\\\ProgramData\\\\Anaconda3\\\\lib\\\\site-packages\\\\zmq\\\\sugar\\\\socket.py'>,\n",
       " 'zmq.sugar.poll': <module 'zmq.sugar.poll' from 'd:\\\\ProgramData\\\\Anaconda3\\\\lib\\\\site-packages\\\\zmq\\\\sugar\\\\poll.py'>,\n",
       " 'zmq.utils.jsonapi': <module 'zmq.utils.jsonapi' from 'd:\\\\ProgramData\\\\Anaconda3\\\\lib\\\\site-packages\\\\zmq\\\\utils\\\\jsonapi.py'>,\n",
       " 'zmq.utils.strtypes': <module 'zmq.utils.strtypes' from 'd:\\\\ProgramData\\\\Anaconda3\\\\lib\\\\site-packages\\\\zmq\\\\utils\\\\strtypes.py'>,\n",
       " 'zmq.sugar.frame': <module 'zmq.sugar.frame' from 'd:\\\\ProgramData\\\\Anaconda3\\\\lib\\\\site-packages\\\\zmq\\\\sugar\\\\frame.py'>,\n",
       " 'zmq.sugar.tracker': <module 'zmq.sugar.tracker' from 'd:\\\\ProgramData\\\\Anaconda3\\\\lib\\\\site-packages\\\\zmq\\\\sugar\\\\tracker.py'>,\n",
       " 'zmq.sugar.version': <module 'zmq.sugar.version' from 'd:\\\\ProgramData\\\\Anaconda3\\\\lib\\\\site-packages\\\\zmq\\\\sugar\\\\version.py'>,\n",
       " 'zmq.sugar.stopwatch': <module 'zmq.sugar.stopwatch' from 'd:\\\\ProgramData\\\\Anaconda3\\\\lib\\\\site-packages\\\\zmq\\\\sugar\\\\stopwatch.py'>,\n",
       " 'jupyter_client.localinterfaces': <module 'jupyter_client.localinterfaces' from 'd:\\\\ProgramData\\\\Anaconda3\\\\lib\\\\site-packages\\\\jupyter_client\\\\localinterfaces.py'>,\n",
       " 'jupyter_core': <module 'jupyter_core' from 'd:\\\\ProgramData\\\\Anaconda3\\\\lib\\\\site-packages\\\\jupyter_core\\\\__init__.py'>,\n",
       " 'jupyter_core.version': <module 'jupyter_core.version' from 'd:\\\\ProgramData\\\\Anaconda3\\\\lib\\\\site-packages\\\\jupyter_core\\\\version.py'>,\n",
       " 'jupyter_core.paths': <module 'jupyter_core.paths' from 'd:\\\\ProgramData\\\\Anaconda3\\\\lib\\\\site-packages\\\\jupyter_core\\\\paths.py'>,\n",
       " 'jupyter_client.launcher': <module 'jupyter_client.launcher' from 'd:\\\\ProgramData\\\\Anaconda3\\\\lib\\\\site-packages\\\\jupyter_client\\\\launcher.py'>,\n",
       " 'traitlets.log': <module 'traitlets.log' from 'd:\\\\ProgramData\\\\Anaconda3\\\\lib\\\\site-packages\\\\traitlets\\\\log.py'>,\n",
       " 'jupyter_client.client': <module 'jupyter_client.client' from 'd:\\\\ProgramData\\\\Anaconda3\\\\lib\\\\site-packages\\\\jupyter_client\\\\client.py'>,\n",
       " 'jupyter_client.channels': <module 'jupyter_client.channels' from 'd:\\\\ProgramData\\\\Anaconda3\\\\lib\\\\site-packages\\\\jupyter_client\\\\channels.py'>,\n",
       " 'jupyter_client.channelsabc': <module 'jupyter_client.channelsabc' from 'd:\\\\ProgramData\\\\Anaconda3\\\\lib\\\\site-packages\\\\jupyter_client\\\\channelsabc.py'>,\n",
       " 'jupyter_client.clientabc': <module 'jupyter_client.clientabc' from 'd:\\\\ProgramData\\\\Anaconda3\\\\lib\\\\site-packages\\\\jupyter_client\\\\clientabc.py'>,\n",
       " 'jupyter_client.manager': <module 'jupyter_client.manager' from 'd:\\\\ProgramData\\\\Anaconda3\\\\lib\\\\site-packages\\\\jupyter_client\\\\manager.py'>,\n",
       " 'jupyter_client.kernelspec': <module 'jupyter_client.kernelspec' from 'd:\\\\ProgramData\\\\Anaconda3\\\\lib\\\\site-packages\\\\jupyter_client\\\\kernelspec.py'>,\n",
       " 'jupyter_client.managerabc': <module 'jupyter_client.managerabc' from 'd:\\\\ProgramData\\\\Anaconda3\\\\lib\\\\site-packages\\\\jupyter_client\\\\managerabc.py'>,\n",
       " 'jupyter_client.blocking': <module 'jupyter_client.blocking' from 'd:\\\\ProgramData\\\\Anaconda3\\\\lib\\\\site-packages\\\\jupyter_client\\\\blocking\\\\__init__.py'>,\n",
       " 'jupyter_client.blocking.client': <module 'jupyter_client.blocking.client' from 'd:\\\\ProgramData\\\\Anaconda3\\\\lib\\\\site-packages\\\\jupyter_client\\\\blocking\\\\client.py'>,\n",
       " 'jupyter_client.blocking.channels': <module 'jupyter_client.blocking.channels' from 'd:\\\\ProgramData\\\\Anaconda3\\\\lib\\\\site-packages\\\\jupyter_client\\\\blocking\\\\channels.py'>,\n",
       " 'jupyter_client.multikernelmanager': <module 'jupyter_client.multikernelmanager' from 'd:\\\\ProgramData\\\\Anaconda3\\\\lib\\\\site-packages\\\\jupyter_client\\\\multikernelmanager.py'>,\n",
       " 'uuid': <module 'uuid' from 'd:\\\\ProgramData\\\\Anaconda3\\\\lib\\\\uuid.py'>,\n",
       " 'ipykernel.kernelapp': <module 'ipykernel.kernelapp' from 'd:\\\\ProgramData\\\\Anaconda3\\\\lib\\\\site-packages\\\\ipykernel\\\\kernelapp.py'>,\n",
       " 'tornado': <module 'tornado' from 'd:\\\\ProgramData\\\\Anaconda3\\\\lib\\\\site-packages\\\\tornado\\\\__init__.py'>,\n",
       " 'tornado.ioloop': <module 'tornado.ioloop' from 'd:\\\\ProgramData\\\\Anaconda3\\\\lib\\\\site-packages\\\\tornado\\\\ioloop.py'>,\n",
       " 'numbers': <module 'numbers' from 'd:\\\\ProgramData\\\\Anaconda3\\\\lib\\\\numbers.py'>,\n",
       " 'tornado.concurrent': <module 'tornado.concurrent' from 'd:\\\\ProgramData\\\\Anaconda3\\\\lib\\\\site-packages\\\\tornado\\\\concurrent.py'>,\n",
       " 'tornado.log': <module 'tornado.log' from 'd:\\\\ProgramData\\\\Anaconda3\\\\lib\\\\site-packages\\\\tornado\\\\log.py'>,\n",
       " 'logging.handlers': <module 'logging.handlers' from 'd:\\\\ProgramData\\\\Anaconda3\\\\lib\\\\logging\\\\handlers.py'>,\n",
       " 'tornado.escape': <module 'tornado.escape' from 'd:\\\\ProgramData\\\\Anaconda3\\\\lib\\\\site-packages\\\\tornado\\\\escape.py'>,\n",
       " 'tornado.util': <module 'tornado.util' from 'd:\\\\ProgramData\\\\Anaconda3\\\\lib\\\\site-packages\\\\tornado\\\\util.py'>,\n",
       " 'tornado.speedups': <module 'tornado.speedups' from 'd:\\\\ProgramData\\\\Anaconda3\\\\lib\\\\site-packages\\\\tornado\\\\speedups.cp37-win_amd64.pyd'>,\n",
       " 'colorama': <module 'colorama' from 'd:\\\\ProgramData\\\\Anaconda3\\\\lib\\\\site-packages\\\\colorama\\\\__init__.py'>,\n",
       " 'colorama.initialise': <module 'colorama.initialise' from 'd:\\\\ProgramData\\\\Anaconda3\\\\lib\\\\site-packages\\\\colorama\\\\initialise.py'>,\n",
       " 'colorama.ansitowin32': <module 'colorama.ansitowin32' from 'd:\\\\ProgramData\\\\Anaconda3\\\\lib\\\\site-packages\\\\colorama\\\\ansitowin32.py'>,\n",
       " 'colorama.ansi': <module 'colorama.ansi' from 'd:\\\\ProgramData\\\\Anaconda3\\\\lib\\\\site-packages\\\\colorama\\\\ansi.py'>,\n",
       " 'colorama.winterm': <module 'colorama.winterm' from 'd:\\\\ProgramData\\\\Anaconda3\\\\lib\\\\site-packages\\\\colorama\\\\winterm.py'>,\n",
       " 'colorama.win32': <module 'colorama.win32' from 'd:\\\\ProgramData\\\\Anaconda3\\\\lib\\\\site-packages\\\\colorama\\\\win32.py'>,\n",
       " 'zmq.eventloop': <module 'zmq.eventloop' from 'd:\\\\ProgramData\\\\Anaconda3\\\\lib\\\\site-packages\\\\zmq\\\\eventloop\\\\__init__.py'>,\n",
       " 'zmq.eventloop.ioloop': <module 'zmq.eventloop.ioloop' from 'd:\\\\ProgramData\\\\Anaconda3\\\\lib\\\\site-packages\\\\zmq\\\\eventloop\\\\ioloop.py'>,\n",
       " 'tornado.platform': <module 'tornado.platform' from 'd:\\\\ProgramData\\\\Anaconda3\\\\lib\\\\site-packages\\\\tornado\\\\platform\\\\__init__.py'>,\n",
       " 'tornado.platform.asyncio': <module 'tornado.platform.asyncio' from 'd:\\\\ProgramData\\\\Anaconda3\\\\lib\\\\site-packages\\\\tornado\\\\platform\\\\asyncio.py'>,\n",
       " 'tornado.gen': <module 'tornado.gen' from 'd:\\\\ProgramData\\\\Anaconda3\\\\lib\\\\site-packages\\\\tornado\\\\gen.py'>,\n",
       " 'zmq.eventloop.zmqstream': <module 'zmq.eventloop.zmqstream' from 'd:\\\\ProgramData\\\\Anaconda3\\\\lib\\\\site-packages\\\\zmq\\\\eventloop\\\\zmqstream.py'>,\n",
       " 'ipykernel.iostream': <module 'ipykernel.iostream' from 'd:\\\\ProgramData\\\\Anaconda3\\\\lib\\\\site-packages\\\\ipykernel\\\\iostream.py'>,\n",
       " 'imp': <module 'imp' from 'd:\\\\ProgramData\\\\Anaconda3\\\\lib\\\\imp.py'>,\n",
       " 'jupyter_client.session': <module 'jupyter_client.session' from 'd:\\\\ProgramData\\\\Anaconda3\\\\lib\\\\site-packages\\\\jupyter_client\\\\session.py'>,\n",
       " 'hmac': <module 'hmac' from 'd:\\\\ProgramData\\\\Anaconda3\\\\lib\\\\hmac.py'>,\n",
       " 'jupyter_client.jsonutil': <module 'jupyter_client.jsonutil' from 'd:\\\\ProgramData\\\\Anaconda3\\\\lib\\\\site-packages\\\\jupyter_client\\\\jsonutil.py'>,\n",
       " 'dateutil': <module 'dateutil' from 'd:\\\\ProgramData\\\\Anaconda3\\\\lib\\\\site-packages\\\\dateutil\\\\__init__.py'>,\n",
       " 'dateutil._version': <module 'dateutil._version' from 'd:\\\\ProgramData\\\\Anaconda3\\\\lib\\\\site-packages\\\\dateutil\\\\_version.py'>,\n",
       " 'dateutil.parser': <module 'dateutil.parser' from 'd:\\\\ProgramData\\\\Anaconda3\\\\lib\\\\site-packages\\\\dateutil\\\\parser\\\\__init__.py'>,\n",
       " 'dateutil.parser._parser': <module 'dateutil.parser._parser' from 'd:\\\\ProgramData\\\\Anaconda3\\\\lib\\\\site-packages\\\\dateutil\\\\parser\\\\_parser.py'>,\n",
       " 'decimal': <module 'decimal' from 'd:\\\\ProgramData\\\\Anaconda3\\\\lib\\\\decimal.py'>,\n",
       " '_decimal': <module '_decimal' from 'd:\\\\ProgramData\\\\Anaconda3\\\\DLLs\\\\_decimal.pyd'>,\n",
       " 'dateutil.relativedelta': <module 'dateutil.relativedelta' from 'd:\\\\ProgramData\\\\Anaconda3\\\\lib\\\\site-packages\\\\dateutil\\\\relativedelta.py'>,\n",
       " 'dateutil._common': <module 'dateutil._common' from 'd:\\\\ProgramData\\\\Anaconda3\\\\lib\\\\site-packages\\\\dateutil\\\\_common.py'>,\n",
       " 'dateutil.tz': <module 'dateutil.tz' from 'd:\\\\ProgramData\\\\Anaconda3\\\\lib\\\\site-packages\\\\dateutil\\\\tz\\\\__init__.py'>,\n",
       " 'dateutil.tz.tz': <module 'dateutil.tz.tz' from 'd:\\\\ProgramData\\\\Anaconda3\\\\lib\\\\site-packages\\\\dateutil\\\\tz\\\\tz.py'>,\n",
       " 'six.moves': <module 'six.moves' (<six._SixMetaPathImporter object at 0x0000000002C65548>)>,\n",
       " 'dateutil.tz._common': <module 'dateutil.tz._common' from 'd:\\\\ProgramData\\\\Anaconda3\\\\lib\\\\site-packages\\\\dateutil\\\\tz\\\\_common.py'>,\n",
       " 'dateutil.tz._factories': <module 'dateutil.tz._factories' from 'd:\\\\ProgramData\\\\Anaconda3\\\\lib\\\\site-packages\\\\dateutil\\\\tz\\\\_factories.py'>,\n",
       " 'dateutil.tz.win': <module 'dateutil.tz.win' from 'd:\\\\ProgramData\\\\Anaconda3\\\\lib\\\\site-packages\\\\dateutil\\\\tz\\\\win.py'>,\n",
       " 'dateutil.parser.isoparser': <module 'dateutil.parser.isoparser' from 'd:\\\\ProgramData\\\\Anaconda3\\\\lib\\\\site-packages\\\\dateutil\\\\parser\\\\isoparser.py'>,\n",
       " '_strptime': <module '_strptime' from 'd:\\\\ProgramData\\\\Anaconda3\\\\lib\\\\_strptime.py'>,\n",
       " 'jupyter_client.adapter': <module 'jupyter_client.adapter' from 'd:\\\\ProgramData\\\\Anaconda3\\\\lib\\\\site-packages\\\\jupyter_client\\\\adapter.py'>,\n",
       " 'ipykernel.heartbeat': <module 'ipykernel.heartbeat' from 'd:\\\\ProgramData\\\\Anaconda3\\\\lib\\\\site-packages\\\\ipykernel\\\\heartbeat.py'>,\n",
       " 'ipykernel.ipkernel': <module 'ipykernel.ipkernel' from 'd:\\\\ProgramData\\\\Anaconda3\\\\lib\\\\site-packages\\\\ipykernel\\\\ipkernel.py'>,\n",
       " 'IPython.utils.tokenutil': <module 'IPython.utils.tokenutil' from 'd:\\\\ProgramData\\\\Anaconda3\\\\lib\\\\site-packages\\\\IPython\\\\utils\\\\tokenutil.py'>,\n",
       " 'ipykernel.comm': <module 'ipykernel.comm' from 'd:\\\\ProgramData\\\\Anaconda3\\\\lib\\\\site-packages\\\\ipykernel\\\\comm\\\\__init__.py'>,\n",
       " 'ipykernel.comm.manager': <module 'ipykernel.comm.manager' from 'd:\\\\ProgramData\\\\Anaconda3\\\\lib\\\\site-packages\\\\ipykernel\\\\comm\\\\manager.py'>,\n",
       " 'ipykernel.comm.comm': <module 'ipykernel.comm.comm' from 'd:\\\\ProgramData\\\\Anaconda3\\\\lib\\\\site-packages\\\\ipykernel\\\\comm\\\\comm.py'>,\n",
       " 'ipykernel.kernelbase': <module 'ipykernel.kernelbase' from 'd:\\\\ProgramData\\\\Anaconda3\\\\lib\\\\site-packages\\\\ipykernel\\\\kernelbase.py'>,\n",
       " 'tornado.queues': <module 'tornado.queues' from 'd:\\\\ProgramData\\\\Anaconda3\\\\lib\\\\site-packages\\\\tornado\\\\queues.py'>,\n",
       " 'tornado.locks': <module 'tornado.locks' from 'd:\\\\ProgramData\\\\Anaconda3\\\\lib\\\\site-packages\\\\tornado\\\\locks.py'>,\n",
       " 'ipykernel.jsonutil': <module 'ipykernel.jsonutil' from 'd:\\\\ProgramData\\\\Anaconda3\\\\lib\\\\site-packages\\\\ipykernel\\\\jsonutil.py'>,\n",
       " 'ipykernel.zmqshell': <module 'ipykernel.zmqshell' from 'd:\\\\ProgramData\\\\Anaconda3\\\\lib\\\\site-packages\\\\ipykernel\\\\zmqshell.py'>,\n",
       " 'IPython.core.payloadpage': <module 'IPython.core.payloadpage' from 'd:\\\\ProgramData\\\\Anaconda3\\\\lib\\\\site-packages\\\\IPython\\\\core\\\\payloadpage.py'>,\n",
       " 'ipykernel.displayhook': <module 'ipykernel.displayhook' from 'd:\\\\ProgramData\\\\Anaconda3\\\\lib\\\\site-packages\\\\ipykernel\\\\displayhook.py'>,\n",
       " 'ipykernel.eventloops': <module 'ipykernel.eventloops' from 'd:\\\\ProgramData\\\\Anaconda3\\\\lib\\\\site-packages\\\\ipykernel\\\\eventloops.py'>,\n",
       " 'distutils': <module 'distutils' from 'd:\\\\ProgramData\\\\Anaconda3\\\\lib\\\\distutils\\\\__init__.py'>,\n",
       " 'distutils.version': <module 'distutils.version' from 'd:\\\\ProgramData\\\\Anaconda3\\\\lib\\\\distutils\\\\version.py'>,\n",
       " 'ipykernel.parentpoller': <module 'ipykernel.parentpoller' from 'd:\\\\ProgramData\\\\Anaconda3\\\\lib\\\\site-packages\\\\ipykernel\\\\parentpoller.py'>,\n",
       " 'win32api': <module 'win32api' from 'd:\\\\ProgramData\\\\Anaconda3\\\\lib\\\\site-packages\\\\win32\\\\win32api.pyd'>,\n",
       " 'win32security': <module 'win32security' from 'd:\\\\ProgramData\\\\Anaconda3\\\\lib\\\\site-packages\\\\win32\\\\win32security.pyd'>,\n",
       " 'ntsecuritycon': <module 'ntsecuritycon' from 'd:\\\\ProgramData\\\\Anaconda3\\\\lib\\\\site-packages\\\\win32\\\\lib\\\\ntsecuritycon.py'>,\n",
       " 'faulthandler': <module 'faulthandler' (built-in)>,\n",
       " 'ipykernel.datapub': <module 'ipykernel.datapub' from 'd:\\\\ProgramData\\\\Anaconda3\\\\lib\\\\site-packages\\\\ipykernel\\\\datapub.py'>,\n",
       " 'ipykernel.serialize': <module 'ipykernel.serialize' from 'd:\\\\ProgramData\\\\Anaconda3\\\\lib\\\\site-packages\\\\ipykernel\\\\serialize.py'>,\n",
       " 'ipykernel.pickleutil': <module 'ipykernel.pickleutil' from 'd:\\\\ProgramData\\\\Anaconda3\\\\lib\\\\site-packages\\\\ipykernel\\\\pickleutil.py'>,\n",
       " 'ipykernel.codeutil': <module 'ipykernel.codeutil' from 'd:\\\\ProgramData\\\\Anaconda3\\\\lib\\\\site-packages\\\\ipykernel\\\\codeutil.py'>,\n",
       " 'IPython.core.completerlib': <module 'IPython.core.completerlib' from 'd:\\\\ProgramData\\\\Anaconda3\\\\lib\\\\site-packages\\\\IPython\\\\core\\\\completerlib.py'>,\n",
       " 'storemagic': <module 'storemagic' from 'd:\\\\ProgramData\\\\Anaconda3\\\\lib\\\\site-packages\\\\IPython\\\\extensions\\\\storemagic.py'>,\n",
       " 'Chapter10': <module 'Chapter10' (namespace)>,\n",
       " 'Chapter10.listing10_1': <module 'Chapter10.listing10_1' from 'E:\\\\MyPython_from_svn\\\\beginning-python-3ed\\\\Chapter10\\\\listing10_1.py'>,\n",
       " 'listing10_2': <module 'listing10_2' from './Chapter10\\\\listing10_2.py'>,\n",
       " 'Chapter10.listing10_2': <module 'Chapter10.listing10_2' from 'E:\\\\MyPython_from_svn\\\\beginning-python-3ed\\\\Chapter10\\\\listing10_2.py'>,\n",
       " 'listing10_3': <module 'listing10_3' from './Chapter10\\\\listing10_3.py'>,\n",
       " 'listing10_4': <module 'listing10_4' from './Chapter10\\\\listing10_4.py'>}"
      ]
     },
     "execution_count": 91,
     "metadata": {},
     "output_type": "execute_result"
    }
   ],
   "source": [
    "sys.modules"
   ]
  },
  {
   "cell_type": "code",
   "execution_count": 92,
   "metadata": {},
   "outputs": [
    {
     "data": {
      "text/plain": [
       "'win32'"
      ]
     },
     "execution_count": 92,
     "metadata": {},
     "output_type": "execute_result"
    }
   ],
   "source": [
    "sys.platform"
   ]
  },
  {
   "cell_type": "code",
   "execution_count": 93,
   "metadata": {},
   "outputs": [
    {
     "data": {
      "text/plain": [
       "<_io.TextIOWrapper name='<stdin>' mode='r' encoding='cp936'>"
      ]
     },
     "execution_count": 93,
     "metadata": {},
     "output_type": "execute_result"
    }
   ],
   "source": [
    "sys.stdin"
   ]
  },
  {
   "cell_type": "code",
   "execution_count": 94,
   "metadata": {},
   "outputs": [
    {
     "data": {
      "text/plain": [
       "<ipykernel.iostream.OutStream at 0x4450d08>"
      ]
     },
     "execution_count": 94,
     "metadata": {},
     "output_type": "execute_result"
    }
   ],
   "source": [
    "sys.stdout"
   ]
  },
  {
   "cell_type": "code",
   "execution_count": 95,
   "metadata": {},
   "outputs": [
    {
     "data": {
      "text/plain": [
       "<ipykernel.iostream.OutStream at 0x4d90988>"
      ]
     },
     "execution_count": 95,
     "metadata": {},
     "output_type": "execute_result"
    }
   ],
   "source": [
    "sys.stderr"
   ]
  },
  {
   "cell_type": "markdown",
   "metadata": {},
   "source": [
    "10.3.2 os模块os让你能够访问多个操作系统服务。它包含的内容很多，表10-3只描述了其中几个最有用的函数和变量。除此之外，os及其子模块os.path还包含多个查看、创建和删除目录及文件的函数，以及一些操作路径的函数（例如，os.path.split和os.path.join让你在大多数情况下都可忽略os.pathsep）。"
   ]
  },
  {
   "cell_type": "code",
   "execution_count": 96,
   "metadata": {},
   "outputs": [],
   "source": [
    "import os"
   ]
  },
  {
   "cell_type": "code",
   "execution_count": 97,
   "metadata": {},
   "outputs": [
    {
     "data": {
      "text/plain": [
       "['DirEntry',\n",
       " 'F_OK',\n",
       " 'MutableMapping',\n",
       " 'O_APPEND',\n",
       " 'O_BINARY',\n",
       " 'O_CREAT',\n",
       " 'O_EXCL',\n",
       " 'O_NOINHERIT',\n",
       " 'O_RANDOM',\n",
       " 'O_RDONLY',\n",
       " 'O_RDWR',\n",
       " 'O_SEQUENTIAL',\n",
       " 'O_SHORT_LIVED',\n",
       " 'O_TEMPORARY',\n",
       " 'O_TEXT',\n",
       " 'O_TRUNC',\n",
       " 'O_WRONLY',\n",
       " 'P_DETACH',\n",
       " 'P_NOWAIT',\n",
       " 'P_NOWAITO',\n",
       " 'P_OVERLAY',\n",
       " 'P_WAIT',\n",
       " 'PathLike',\n",
       " 'R_OK',\n",
       " 'SEEK_CUR',\n",
       " 'SEEK_END',\n",
       " 'SEEK_SET',\n",
       " 'TMP_MAX',\n",
       " 'W_OK',\n",
       " 'X_OK',\n",
       " '_Environ',\n",
       " '__all__',\n",
       " '__builtins__',\n",
       " '__cached__',\n",
       " '__doc__',\n",
       " '__file__',\n",
       " '__loader__',\n",
       " '__name__',\n",
       " '__package__',\n",
       " '__spec__',\n",
       " '_execvpe',\n",
       " '_exists',\n",
       " '_exit',\n",
       " '_fspath',\n",
       " '_get_exports_list',\n",
       " '_putenv',\n",
       " '_unsetenv',\n",
       " '_wrap_close',\n",
       " 'abc',\n",
       " 'abort',\n",
       " 'access',\n",
       " 'altsep',\n",
       " 'chdir',\n",
       " 'chmod',\n",
       " 'close',\n",
       " 'closerange',\n",
       " 'cpu_count',\n",
       " 'curdir',\n",
       " 'defpath',\n",
       " 'device_encoding',\n",
       " 'devnull',\n",
       " 'dup',\n",
       " 'dup2',\n",
       " 'environ',\n",
       " 'error',\n",
       " 'execl',\n",
       " 'execle',\n",
       " 'execlp',\n",
       " 'execlpe',\n",
       " 'execv',\n",
       " 'execve',\n",
       " 'execvp',\n",
       " 'execvpe',\n",
       " 'extsep',\n",
       " 'fdopen',\n",
       " 'fsdecode',\n",
       " 'fsencode',\n",
       " 'fspath',\n",
       " 'fstat',\n",
       " 'fsync',\n",
       " 'ftruncate',\n",
       " 'get_exec_path',\n",
       " 'get_handle_inheritable',\n",
       " 'get_inheritable',\n",
       " 'get_terminal_size',\n",
       " 'getcwd',\n",
       " 'getcwdb',\n",
       " 'getenv',\n",
       " 'getlogin',\n",
       " 'getpid',\n",
       " 'getppid',\n",
       " 'isatty',\n",
       " 'kill',\n",
       " 'linesep',\n",
       " 'link',\n",
       " 'listdir',\n",
       " 'lseek',\n",
       " 'lstat',\n",
       " 'makedirs',\n",
       " 'mkdir',\n",
       " 'name',\n",
       " 'open',\n",
       " 'pardir',\n",
       " 'path',\n",
       " 'pathsep',\n",
       " 'pipe',\n",
       " 'popen',\n",
       " 'putenv',\n",
       " 'read',\n",
       " 'readlink',\n",
       " 'remove',\n",
       " 'removedirs',\n",
       " 'rename',\n",
       " 'renames',\n",
       " 'replace',\n",
       " 'rmdir',\n",
       " 'scandir',\n",
       " 'sep',\n",
       " 'set_handle_inheritable',\n",
       " 'set_inheritable',\n",
       " 'spawnl',\n",
       " 'spawnle',\n",
       " 'spawnv',\n",
       " 'spawnve',\n",
       " 'st',\n",
       " 'startfile',\n",
       " 'stat',\n",
       " 'stat_result',\n",
       " 'statvfs_result',\n",
       " 'strerror',\n",
       " 'supports_bytes_environ',\n",
       " 'supports_dir_fd',\n",
       " 'supports_effective_ids',\n",
       " 'supports_fd',\n",
       " 'supports_follow_symlinks',\n",
       " 'symlink',\n",
       " 'sys',\n",
       " 'system',\n",
       " 'terminal_size',\n",
       " 'times',\n",
       " 'times_result',\n",
       " 'truncate',\n",
       " 'umask',\n",
       " 'uname_result',\n",
       " 'unlink',\n",
       " 'urandom',\n",
       " 'utime',\n",
       " 'waitpid',\n",
       " 'walk',\n",
       " 'write']"
      ]
     },
     "execution_count": 97,
     "metadata": {},
     "output_type": "execute_result"
    }
   ],
   "source": [
    "dir(os)"
   ]
  },
  {
   "cell_type": "code",
   "execution_count": 98,
   "metadata": {},
   "outputs": [
    {
     "name": "stdout",
     "output_type": "stream",
     "text": [
      "d:\\ProgramData\\Anaconda3\\lib\\os.py\n"
     ]
    }
   ],
   "source": [
    "print(os.__file__)"
   ]
  },
  {
   "cell_type": "code",
   "execution_count": 100,
   "metadata": {},
   "outputs": [],
   "source": [
    "# %load d:\\ProgramData\\Anaconda3\\lib\\os.py\n",
    "r\"\"\"OS routines for NT or Posix depending on what system we're on.\n",
    "\n",
    "This exports:\n",
    "  - all functions from posix or nt, e.g. unlink, stat, etc.\n",
    "  - os.path is either posixpath or ntpath\n",
    "  - os.name is either 'posix' or 'nt'\n",
    "  - os.curdir is a string representing the current directory (always '.')\n",
    "  - os.pardir is a string representing the parent directory (always '..')\n",
    "  - os.sep is the (or a most common) pathname separator ('/' or '\\\\')\n",
    "  - os.extsep is the extension separator (always '.')\n",
    "  - os.altsep is the alternate pathname separator (None or '/')\n",
    "  - os.pathsep is the component separator used in $PATH etc\n",
    "  - os.linesep is the line separator in text files ('\\r' or '\\n' or '\\r\\n')\n",
    "  - os.defpath is the default search path for executables\n",
    "  - os.devnull is the file path of the null device ('/dev/null', etc.)\n",
    "\n",
    "Programs that import and use 'os' stand a better chance of being\n",
    "portable between different platforms.  Of course, they must then\n",
    "only use functions that are defined by all platforms (e.g., unlink\n",
    "and opendir), and leave all pathname manipulation to os.path\n",
    "(e.g., split and join).\n",
    "\"\"\"\n",
    "\n",
    "#'\n",
    "import abc\n",
    "import sys\n",
    "import stat as st\n",
    "\n",
    "_names = sys.builtin_module_names\n",
    "\n",
    "# Note:  more names are added to __all__ later.\n",
    "__all__ = [\"altsep\", \"curdir\", \"pardir\", \"sep\", \"pathsep\", \"linesep\",\n",
    "           \"defpath\", \"name\", \"path\", \"devnull\", \"SEEK_SET\", \"SEEK_CUR\",\n",
    "           \"SEEK_END\", \"fsencode\", \"fsdecode\", \"get_exec_path\", \"fdopen\",\n",
    "           \"popen\", \"extsep\"]\n",
    "\n",
    "def _exists(name):\n",
    "    return name in globals()\n",
    "\n",
    "def _get_exports_list(module):\n",
    "    try:\n",
    "        return list(module.__all__)\n",
    "    except AttributeError:\n",
    "        return [n for n in dir(module) if n[0] != '_']\n",
    "\n",
    "# Any new dependencies of the os module and/or changes in path separator\n",
    "# requires updating importlib as well.\n",
    "if 'posix' in _names:\n",
    "    name = 'posix'\n",
    "    linesep = '\\n'\n",
    "    from posix import *\n",
    "    try:\n",
    "        from posix import _exit\n",
    "        __all__.append('_exit')\n",
    "    except ImportError:\n",
    "        pass\n",
    "    import posixpath as path\n",
    "\n",
    "    try:\n",
    "        from posix import _have_functions\n",
    "    except ImportError:\n",
    "        pass\n",
    "\n",
    "    import posix\n",
    "    __all__.extend(_get_exports_list(posix))\n",
    "    del posix\n",
    "\n",
    "elif 'nt' in _names:\n",
    "    name = 'nt'\n",
    "    linesep = '\\r\\n'\n",
    "    from nt import *\n",
    "    try:\n",
    "        from nt import _exit\n",
    "        __all__.append('_exit')\n",
    "    except ImportError:\n",
    "        pass\n",
    "    import ntpath as path\n",
    "\n",
    "    import nt\n",
    "    __all__.extend(_get_exports_list(nt))\n",
    "    del nt\n",
    "\n",
    "    try:\n",
    "        from nt import _have_functions\n",
    "    except ImportError:\n",
    "        pass\n",
    "\n",
    "else:\n",
    "    raise ImportError('no os specific module found')\n",
    "\n",
    "sys.modules['os.path'] = path\n",
    "from os.path import (curdir, pardir, sep, pathsep, defpath, extsep, altsep,\n",
    "    devnull)\n",
    "\n",
    "del _names\n",
    "\n",
    "\n",
    "if _exists(\"_have_functions\"):\n",
    "    _globals = globals()\n",
    "    def _add(str, fn):\n",
    "        if (fn in _globals) and (str in _have_functions):\n",
    "            _set.add(_globals[fn])\n",
    "\n",
    "    _set = set()\n",
    "    _add(\"HAVE_FACCESSAT\",  \"access\")\n",
    "    _add(\"HAVE_FCHMODAT\",   \"chmod\")\n",
    "    _add(\"HAVE_FCHOWNAT\",   \"chown\")\n",
    "    _add(\"HAVE_FSTATAT\",    \"stat\")\n",
    "    _add(\"HAVE_FUTIMESAT\",  \"utime\")\n",
    "    _add(\"HAVE_LINKAT\",     \"link\")\n",
    "    _add(\"HAVE_MKDIRAT\",    \"mkdir\")\n",
    "    _add(\"HAVE_MKFIFOAT\",   \"mkfifo\")\n",
    "    _add(\"HAVE_MKNODAT\",    \"mknod\")\n",
    "    _add(\"HAVE_OPENAT\",     \"open\")\n",
    "    _add(\"HAVE_READLINKAT\", \"readlink\")\n",
    "    _add(\"HAVE_RENAMEAT\",   \"rename\")\n",
    "    _add(\"HAVE_SYMLINKAT\",  \"symlink\")\n",
    "    _add(\"HAVE_UNLINKAT\",   \"unlink\")\n",
    "    _add(\"HAVE_UNLINKAT\",   \"rmdir\")\n",
    "    _add(\"HAVE_UTIMENSAT\",  \"utime\")\n",
    "    supports_dir_fd = _set\n",
    "\n",
    "    _set = set()\n",
    "    _add(\"HAVE_FACCESSAT\",  \"access\")\n",
    "    supports_effective_ids = _set\n",
    "\n",
    "    _set = set()\n",
    "    _add(\"HAVE_FCHDIR\",     \"chdir\")\n",
    "    _add(\"HAVE_FCHMOD\",     \"chmod\")\n",
    "    _add(\"HAVE_FCHOWN\",     \"chown\")\n",
    "    _add(\"HAVE_FDOPENDIR\",  \"listdir\")\n",
    "    _add(\"HAVE_FDOPENDIR\",  \"scandir\")\n",
    "    _add(\"HAVE_FEXECVE\",    \"execve\")\n",
    "    _set.add(stat) # fstat always works\n",
    "    _add(\"HAVE_FTRUNCATE\",  \"truncate\")\n",
    "    _add(\"HAVE_FUTIMENS\",   \"utime\")\n",
    "    _add(\"HAVE_FUTIMES\",    \"utime\")\n",
    "    _add(\"HAVE_FPATHCONF\",  \"pathconf\")\n",
    "    if _exists(\"statvfs\") and _exists(\"fstatvfs\"): # mac os x10.3\n",
    "        _add(\"HAVE_FSTATVFS\", \"statvfs\")\n",
    "    supports_fd = _set\n",
    "\n",
    "    _set = set()\n",
    "    _add(\"HAVE_FACCESSAT\",  \"access\")\n",
    "    # Some platforms don't support lchmod().  Often the function exists\n",
    "    # anyway, as a stub that always returns ENOSUP or perhaps EOPNOTSUPP.\n",
    "    # (No, I don't know why that's a good design.)  ./configure will detect\n",
    "    # this and reject it--so HAVE_LCHMOD still won't be defined on such\n",
    "    # platforms.  This is Very Helpful.\n",
    "    #\n",
    "    # However, sometimes platforms without a working lchmod() *do* have\n",
    "    # fchmodat().  (Examples: Linux kernel 3.2 with glibc 2.15,\n",
    "    # OpenIndiana 3.x.)  And fchmodat() has a flag that theoretically makes\n",
    "    # it behave like lchmod().  So in theory it would be a suitable\n",
    "    # replacement for lchmod().  But when lchmod() doesn't work, fchmodat()'s\n",
    "    # flag doesn't work *either*.  Sadly ./configure isn't sophisticated\n",
    "    # enough to detect this condition--it only determines whether or not\n",
    "    # fchmodat() minimally works.\n",
    "    #\n",
    "    # Therefore we simply ignore fchmodat() when deciding whether or not\n",
    "    # os.chmod supports follow_symlinks.  Just checking lchmod() is\n",
    "    # sufficient.  After all--if you have a working fchmodat(), your\n",
    "    # lchmod() almost certainly works too.\n",
    "    #\n",
    "    # _add(\"HAVE_FCHMODAT\",   \"chmod\")\n",
    "    _add(\"HAVE_FCHOWNAT\",   \"chown\")\n",
    "    _add(\"HAVE_FSTATAT\",    \"stat\")\n",
    "    _add(\"HAVE_LCHFLAGS\",   \"chflags\")\n",
    "    _add(\"HAVE_LCHMOD\",     \"chmod\")\n",
    "    if _exists(\"lchown\"): # mac os x10.3\n",
    "        _add(\"HAVE_LCHOWN\", \"chown\")\n",
    "    _add(\"HAVE_LINKAT\",     \"link\")\n",
    "    _add(\"HAVE_LUTIMES\",    \"utime\")\n",
    "    _add(\"HAVE_LSTAT\",      \"stat\")\n",
    "    _add(\"HAVE_FSTATAT\",    \"stat\")\n",
    "    _add(\"HAVE_UTIMENSAT\",  \"utime\")\n",
    "    _add(\"MS_WINDOWS\",      \"stat\")\n",
    "    supports_follow_symlinks = _set\n",
    "\n",
    "    del _set\n",
    "    del _have_functions\n",
    "    del _globals\n",
    "    del _add\n",
    "\n",
    "\n",
    "# Python uses fixed values for the SEEK_ constants; they are mapped\n",
    "# to native constants if necessary in posixmodule.c\n",
    "# Other possible SEEK values are directly imported from posixmodule.c\n",
    "SEEK_SET = 0\n",
    "SEEK_CUR = 1\n",
    "SEEK_END = 2\n",
    "\n",
    "# Super directory utilities.\n",
    "# (Inspired by Eric Raymond; the doc strings are mostly his)\n",
    "\n",
    "def makedirs(name, mode=0o777, exist_ok=False):\n",
    "    \"\"\"makedirs(name [, mode=0o777][, exist_ok=False])\n",
    "\n",
    "    Super-mkdir; create a leaf directory and all intermediate ones.  Works like\n",
    "    mkdir, except that any intermediate path segment (not just the rightmost)\n",
    "    will be created if it does not exist. If the target directory already\n",
    "    exists, raise an OSError if exist_ok is False. Otherwise no exception is\n",
    "    raised.  This is recursive.\n",
    "\n",
    "    \"\"\"\n",
    "    head, tail = path.split(name)\n",
    "    if not tail:\n",
    "        head, tail = path.split(head)\n",
    "    if head and tail and not path.exists(head):\n",
    "        try:\n",
    "            makedirs(head, exist_ok=exist_ok)\n",
    "        except FileExistsError:\n",
    "            # Defeats race condition when another thread created the path\n",
    "            pass\n",
    "        cdir = curdir\n",
    "        if isinstance(tail, bytes):\n",
    "            cdir = bytes(curdir, 'ASCII')\n",
    "        if tail == cdir:           # xxx/newdir/. exists if xxx/newdir exists\n",
    "            return\n",
    "    try:\n",
    "        mkdir(name, mode)\n",
    "    except OSError:\n",
    "        # Cannot rely on checking for EEXIST, since the operating system\n",
    "        # could give priority to other errors like EACCES or EROFS\n",
    "        if not exist_ok or not path.isdir(name):\n",
    "            raise\n",
    "\n",
    "def removedirs(name):\n",
    "    \"\"\"removedirs(name)\n",
    "\n",
    "    Super-rmdir; remove a leaf directory and all empty intermediate\n",
    "    ones.  Works like rmdir except that, if the leaf directory is\n",
    "    successfully removed, directories corresponding to rightmost path\n",
    "    segments will be pruned away until either the whole path is\n",
    "    consumed or an error occurs.  Errors during this latter phase are\n",
    "    ignored -- they generally mean that a directory was not empty.\n",
    "\n",
    "    \"\"\"\n",
    "    rmdir(name)\n",
    "    head, tail = path.split(name)\n",
    "    if not tail:\n",
    "        head, tail = path.split(head)\n",
    "    while head and tail:\n",
    "        try:\n",
    "            rmdir(head)\n",
    "        except OSError:\n",
    "            break\n",
    "        head, tail = path.split(head)\n",
    "\n",
    "def renames(old, new):\n",
    "    \"\"\"renames(old, new)\n",
    "\n",
    "    Super-rename; create directories as necessary and delete any left\n",
    "    empty.  Works like rename, except creation of any intermediate\n",
    "    directories needed to make the new pathname good is attempted\n",
    "    first.  After the rename, directories corresponding to rightmost\n",
    "    path segments of the old name will be pruned until either the\n",
    "    whole path is consumed or a nonempty directory is found.\n",
    "\n",
    "    Note: this function can fail with the new directory structure made\n",
    "    if you lack permissions needed to unlink the leaf directory or\n",
    "    file.\n",
    "\n",
    "    \"\"\"\n",
    "    head, tail = path.split(new)\n",
    "    if head and tail and not path.exists(head):\n",
    "        makedirs(head)\n",
    "    rename(old, new)\n",
    "    head, tail = path.split(old)\n",
    "    if head and tail:\n",
    "        try:\n",
    "            removedirs(head)\n",
    "        except OSError:\n",
    "            pass\n",
    "\n",
    "__all__.extend([\"makedirs\", \"removedirs\", \"renames\"])\n",
    "\n",
    "def walk(top, topdown=True, onerror=None, followlinks=False):\n",
    "    \"\"\"Directory tree generator.\n",
    "\n",
    "    For each directory in the directory tree rooted at top (including top\n",
    "    itself, but excluding '.' and '..'), yields a 3-tuple\n",
    "\n",
    "        dirpath, dirnames, filenames\n",
    "\n",
    "    dirpath is a string, the path to the directory.  dirnames is a list of\n",
    "    the names of the subdirectories in dirpath (excluding '.' and '..').\n",
    "    filenames is a list of the names of the non-directory files in dirpath.\n",
    "    Note that the names in the lists are just names, with no path components.\n",
    "    To get a full path (which begins with top) to a file or directory in\n",
    "    dirpath, do os.path.join(dirpath, name).\n",
    "\n",
    "    If optional arg 'topdown' is true or not specified, the triple for a\n",
    "    directory is generated before the triples for any of its subdirectories\n",
    "    (directories are generated top down).  If topdown is false, the triple\n",
    "    for a directory is generated after the triples for all of its\n",
    "    subdirectories (directories are generated bottom up).\n",
    "\n",
    "    When topdown is true, the caller can modify the dirnames list in-place\n",
    "    (e.g., via del or slice assignment), and walk will only recurse into the\n",
    "    subdirectories whose names remain in dirnames; this can be used to prune the\n",
    "    search, or to impose a specific order of visiting.  Modifying dirnames when\n",
    "    topdown is false has no effect on the behavior of os.walk(), since the\n",
    "    directories in dirnames have already been generated by the time dirnames\n",
    "    itself is generated. No matter the value of topdown, the list of\n",
    "    subdirectories is retrieved before the tuples for the directory and its\n",
    "    subdirectories are generated.\n",
    "\n",
    "    By default errors from the os.scandir() call are ignored.  If\n",
    "    optional arg 'onerror' is specified, it should be a function; it\n",
    "    will be called with one argument, an OSError instance.  It can\n",
    "    report the error to continue with the walk, or raise the exception\n",
    "    to abort the walk.  Note that the filename is available as the\n",
    "    filename attribute of the exception object.\n",
    "\n",
    "    By default, os.walk does not follow symbolic links to subdirectories on\n",
    "    systems that support them.  In order to get this functionality, set the\n",
    "    optional argument 'followlinks' to true.\n",
    "\n",
    "    Caution:  if you pass a relative pathname for top, don't change the\n",
    "    current working directory between resumptions of walk.  walk never\n",
    "    changes the current directory, and assumes that the client doesn't\n",
    "    either.\n",
    "\n",
    "    Example:\n",
    "\n",
    "    import os\n",
    "    from os.path import join, getsize\n",
    "    for root, dirs, files in os.walk('python/Lib/email'):\n",
    "        print(root, \"consumes\", end=\"\")\n",
    "        print(sum([getsize(join(root, name)) for name in files]), end=\"\")\n",
    "        print(\"bytes in\", len(files), \"non-directory files\")\n",
    "        if 'CVS' in dirs:\n",
    "            dirs.remove('CVS')  # don't visit CVS directories\n",
    "\n",
    "    \"\"\"\n",
    "    top = fspath(top)\n",
    "    dirs = []\n",
    "    nondirs = []\n",
    "    walk_dirs = []\n",
    "\n",
    "    # We may not have read permission for top, in which case we can't\n",
    "    # get a list of the files the directory contains.  os.walk\n",
    "    # always suppressed the exception then, rather than blow up for a\n",
    "    # minor reason when (say) a thousand readable directories are still\n",
    "    # left to visit.  That logic is copied here.\n",
    "    try:\n",
    "        # Note that scandir is global in this module due\n",
    "        # to earlier import-*.\n",
    "        scandir_it = scandir(top)\n",
    "    except OSError as error:\n",
    "        if onerror is not None:\n",
    "            onerror(error)\n",
    "        return\n",
    "\n",
    "    with scandir_it:\n",
    "        while True:\n",
    "            try:\n",
    "                try:\n",
    "                    entry = next(scandir_it)\n",
    "                except StopIteration:\n",
    "                    break\n",
    "            except OSError as error:\n",
    "                if onerror is not None:\n",
    "                    onerror(error)\n",
    "                return\n",
    "\n",
    "            try:\n",
    "                is_dir = entry.is_dir()\n",
    "            except OSError:\n",
    "                # If is_dir() raises an OSError, consider that the entry is not\n",
    "                # a directory, same behaviour than os.path.isdir().\n",
    "                is_dir = False\n",
    "\n",
    "            if is_dir:\n",
    "                dirs.append(entry.name)\n",
    "            else:\n",
    "                nondirs.append(entry.name)\n",
    "\n",
    "            if not topdown and is_dir:\n",
    "                # Bottom-up: recurse into sub-directory, but exclude symlinks to\n",
    "                # directories if followlinks is False\n",
    "                if followlinks:\n",
    "                    walk_into = True\n",
    "                else:\n",
    "                    try:\n",
    "                        is_symlink = entry.is_symlink()\n",
    "                    except OSError:\n",
    "                        # If is_symlink() raises an OSError, consider that the\n",
    "                        # entry is not a symbolic link, same behaviour than\n",
    "                        # os.path.islink().\n",
    "                        is_symlink = False\n",
    "                    walk_into = not is_symlink\n",
    "\n",
    "                if walk_into:\n",
    "                    walk_dirs.append(entry.path)\n",
    "\n",
    "    # Yield before recursion if going top down\n",
    "    if topdown:\n",
    "        yield top, dirs, nondirs\n",
    "\n",
    "        # Recurse into sub-directories\n",
    "        islink, join = path.islink, path.join\n",
    "        for dirname in dirs:\n",
    "            new_path = join(top, dirname)\n",
    "            # Issue #23605: os.path.islink() is used instead of caching\n",
    "            # entry.is_symlink() result during the loop on os.scandir() because\n",
    "            # the caller can replace the directory entry during the \"yield\"\n",
    "            # above.\n",
    "            if followlinks or not islink(new_path):\n",
    "                yield from walk(new_path, topdown, onerror, followlinks)\n",
    "    else:\n",
    "        # Recurse into sub-directories\n",
    "        for new_path in walk_dirs:\n",
    "            yield from walk(new_path, topdown, onerror, followlinks)\n",
    "        # Yield after recursion if going bottom up\n",
    "        yield top, dirs, nondirs\n",
    "\n",
    "__all__.append(\"walk\")\n",
    "\n",
    "if {open, stat} <= supports_dir_fd and {scandir, stat} <= supports_fd:\n",
    "\n",
    "    def fwalk(top=\".\", topdown=True, onerror=None, *, follow_symlinks=False, dir_fd=None):\n",
    "        \"\"\"Directory tree generator.\n",
    "\n",
    "        This behaves exactly like walk(), except that it yields a 4-tuple\n",
    "\n",
    "            dirpath, dirnames, filenames, dirfd\n",
    "\n",
    "        `dirpath`, `dirnames` and `filenames` are identical to walk() output,\n",
    "        and `dirfd` is a file descriptor referring to the directory `dirpath`.\n",
    "\n",
    "        The advantage of fwalk() over walk() is that it's safe against symlink\n",
    "        races (when follow_symlinks is False).\n",
    "\n",
    "        If dir_fd is not None, it should be a file descriptor open to a directory,\n",
    "          and top should be relative; top will then be relative to that directory.\n",
    "          (dir_fd is always supported for fwalk.)\n",
    "\n",
    "        Caution:\n",
    "        Since fwalk() yields file descriptors, those are only valid until the\n",
    "        next iteration step, so you should dup() them if you want to keep them\n",
    "        for a longer period.\n",
    "\n",
    "        Example:\n",
    "\n",
    "        import os\n",
    "        for root, dirs, files, rootfd in os.fwalk('python/Lib/email'):\n",
    "            print(root, \"consumes\", end=\"\")\n",
    "            print(sum([os.stat(name, dir_fd=rootfd).st_size for name in files]),\n",
    "                  end=\"\")\n",
    "            print(\"bytes in\", len(files), \"non-directory files\")\n",
    "            if 'CVS' in dirs:\n",
    "                dirs.remove('CVS')  # don't visit CVS directories\n",
    "        \"\"\"\n",
    "        if not isinstance(top, int) or not hasattr(top, '__index__'):\n",
    "            top = fspath(top)\n",
    "        # Note: To guard against symlink races, we use the standard\n",
    "        # lstat()/open()/fstat() trick.\n",
    "        if not follow_symlinks:\n",
    "            orig_st = stat(top, follow_symlinks=False, dir_fd=dir_fd)\n",
    "        topfd = open(top, O_RDONLY, dir_fd=dir_fd)\n",
    "        try:\n",
    "            if (follow_symlinks or (st.S_ISDIR(orig_st.st_mode) and\n",
    "                                    path.samestat(orig_st, stat(topfd)))):\n",
    "                yield from _fwalk(topfd, top, isinstance(top, bytes),\n",
    "                                  topdown, onerror, follow_symlinks)\n",
    "        finally:\n",
    "            close(topfd)\n",
    "\n",
    "    def _fwalk(topfd, toppath, isbytes, topdown, onerror, follow_symlinks):\n",
    "        # Note: This uses O(depth of the directory tree) file descriptors: if\n",
    "        # necessary, it can be adapted to only require O(1) FDs, see issue\n",
    "        # #13734.\n",
    "\n",
    "        scandir_it = scandir(topfd)\n",
    "        dirs = []\n",
    "        nondirs = []\n",
    "        entries = None if topdown or follow_symlinks else []\n",
    "        for entry in scandir_it:\n",
    "            name = entry.name\n",
    "            if isbytes:\n",
    "                name = fsencode(name)\n",
    "            try:\n",
    "                if entry.is_dir():\n",
    "                    dirs.append(name)\n",
    "                    if entries is not None:\n",
    "                        entries.append(entry)\n",
    "                else:\n",
    "                    nondirs.append(name)\n",
    "            except OSError:\n",
    "                try:\n",
    "                    # Add dangling symlinks, ignore disappeared files\n",
    "                    if entry.is_symlink():\n",
    "                        nondirs.append(name)\n",
    "                except OSError:\n",
    "                    pass\n",
    "\n",
    "        if topdown:\n",
    "            yield toppath, dirs, nondirs, topfd\n",
    "\n",
    "        for name in dirs if entries is None else zip(dirs, entries):\n",
    "            try:\n",
    "                if not follow_symlinks:\n",
    "                    if topdown:\n",
    "                        orig_st = stat(name, dir_fd=topfd, follow_symlinks=False)\n",
    "                    else:\n",
    "                        assert entries is not None\n",
    "                        name, entry = name\n",
    "                        orig_st = entry.stat(follow_symlinks=False)\n",
    "                dirfd = open(name, O_RDONLY, dir_fd=topfd)\n",
    "            except OSError as err:\n",
    "                if onerror is not None:\n",
    "                    onerror(err)\n",
    "                continue\n",
    "            try:\n",
    "                if follow_symlinks or path.samestat(orig_st, stat(dirfd)):\n",
    "                    dirpath = path.join(toppath, name)\n",
    "                    yield from _fwalk(dirfd, dirpath, isbytes,\n",
    "                                      topdown, onerror, follow_symlinks)\n",
    "            finally:\n",
    "                close(dirfd)\n",
    "\n",
    "        if not topdown:\n",
    "            yield toppath, dirs, nondirs, topfd\n",
    "\n",
    "    __all__.append(\"fwalk\")\n",
    "\n",
    "# Make sure os.environ exists, at least\n",
    "try:\n",
    "    environ\n",
    "except NameError:\n",
    "    environ = {}\n",
    "\n",
    "def execl(file, *args):\n",
    "    \"\"\"execl(file, *args)\n",
    "\n",
    "    Execute the executable file with argument list args, replacing the\n",
    "    current process. \"\"\"\n",
    "    execv(file, args)\n",
    "\n",
    "def execle(file, *args):\n",
    "    \"\"\"execle(file, *args, env)\n",
    "\n",
    "    Execute the executable file with argument list args and\n",
    "    environment env, replacing the current process. \"\"\"\n",
    "    env = args[-1]\n",
    "    execve(file, args[:-1], env)\n",
    "\n",
    "def execlp(file, *args):\n",
    "    \"\"\"execlp(file, *args)\n",
    "\n",
    "    Execute the executable file (which is searched for along $PATH)\n",
    "    with argument list args, replacing the current process. \"\"\"\n",
    "    execvp(file, args)\n",
    "\n",
    "def execlpe(file, *args):\n",
    "    \"\"\"execlpe(file, *args, env)\n",
    "\n",
    "    Execute the executable file (which is searched for along $PATH)\n",
    "    with argument list args and environment env, replacing the current\n",
    "    process. \"\"\"\n",
    "    env = args[-1]\n",
    "    execvpe(file, args[:-1], env)\n",
    "\n",
    "def execvp(file, args):\n",
    "    \"\"\"execvp(file, args)\n",
    "\n",
    "    Execute the executable file (which is searched for along $PATH)\n",
    "    with argument list args, replacing the current process.\n",
    "    args may be a list or tuple of strings. \"\"\"\n",
    "    _execvpe(file, args)\n",
    "\n",
    "def execvpe(file, args, env):\n",
    "    \"\"\"execvpe(file, args, env)\n",
    "\n",
    "    Execute the executable file (which is searched for along $PATH)\n",
    "    with argument list args and environment env, replacing the\n",
    "    current process.\n",
    "    args may be a list or tuple of strings. \"\"\"\n",
    "    _execvpe(file, args, env)\n",
    "\n",
    "__all__.extend([\"execl\",\"execle\",\"execlp\",\"execlpe\",\"execvp\",\"execvpe\"])\n",
    "\n",
    "def _execvpe(file, args, env=None):\n",
    "    if env is not None:\n",
    "        exec_func = execve\n",
    "        argrest = (args, env)\n",
    "    else:\n",
    "        exec_func = execv\n",
    "        argrest = (args,)\n",
    "        env = environ\n",
    "\n",
    "    if path.dirname(file):\n",
    "        exec_func(file, *argrest)\n",
    "        return\n",
    "    saved_exc = None\n",
    "    path_list = get_exec_path(env)\n",
    "    if name != 'nt':\n",
    "        file = fsencode(file)\n",
    "        path_list = map(fsencode, path_list)\n",
    "    for dir in path_list:\n",
    "        fullname = path.join(dir, file)\n",
    "        try:\n",
    "            exec_func(fullname, *argrest)\n",
    "        except (FileNotFoundError, NotADirectoryError) as e:\n",
    "            last_exc = e\n",
    "        except OSError as e:\n",
    "            last_exc = e\n",
    "            if saved_exc is None:\n",
    "                saved_exc = e\n",
    "    if saved_exc is not None:\n",
    "        raise saved_exc\n",
    "    raise last_exc\n",
    "\n",
    "\n",
    "def get_exec_path(env=None):\n",
    "    \"\"\"Returns the sequence of directories that will be searched for the\n",
    "    named executable (similar to a shell) when launching a process.\n",
    "\n",
    "    *env* must be an environment variable dict or None.  If *env* is None,\n",
    "    os.environ will be used.\n",
    "    \"\"\"\n",
    "    # Use a local import instead of a global import to limit the number of\n",
    "    # modules loaded at startup: the os module is always loaded at startup by\n",
    "    # Python. It may also avoid a bootstrap issue.\n",
    "    import warnings\n",
    "\n",
    "    if env is None:\n",
    "        env = environ\n",
    "\n",
    "    # {b'PATH': ...}.get('PATH') and {'PATH': ...}.get(b'PATH') emit a\n",
    "    # BytesWarning when using python -b or python -bb: ignore the warning\n",
    "    with warnings.catch_warnings():\n",
    "        warnings.simplefilter(\"ignore\", BytesWarning)\n",
    "\n",
    "        try:\n",
    "            path_list = env.get('PATH')\n",
    "        except TypeError:\n",
    "            path_list = None\n",
    "\n",
    "        if supports_bytes_environ:\n",
    "            try:\n",
    "                path_listb = env[b'PATH']\n",
    "            except (KeyError, TypeError):\n",
    "                pass\n",
    "            else:\n",
    "                if path_list is not None:\n",
    "                    raise ValueError(\n",
    "                        \"env cannot contain 'PATH' and b'PATH' keys\")\n",
    "                path_list = path_listb\n",
    "\n",
    "            if path_list is not None and isinstance(path_list, bytes):\n",
    "                path_list = fsdecode(path_list)\n",
    "\n",
    "    if path_list is None:\n",
    "        path_list = defpath\n",
    "    return path_list.split(pathsep)\n",
    "\n",
    "\n",
    "# Change environ to automatically call putenv(), unsetenv if they exist.\n",
    "from _collections_abc import MutableMapping\n",
    "\n",
    "class _Environ(MutableMapping):\n",
    "    def __init__(self, data, encodekey, decodekey, encodevalue, decodevalue, putenv, unsetenv):\n",
    "        self.encodekey = encodekey\n",
    "        self.decodekey = decodekey\n",
    "        self.encodevalue = encodevalue\n",
    "        self.decodevalue = decodevalue\n",
    "        self.putenv = putenv\n",
    "        self.unsetenv = unsetenv\n",
    "        self._data = data\n",
    "\n",
    "    def __getitem__(self, key):\n",
    "        try:\n",
    "            value = self._data[self.encodekey(key)]\n",
    "        except KeyError:\n",
    "            # raise KeyError with the original key value\n",
    "            raise KeyError(key) from None\n",
    "        return self.decodevalue(value)\n",
    "\n",
    "    def __setitem__(self, key, value):\n",
    "        key = self.encodekey(key)\n",
    "        value = self.encodevalue(value)\n",
    "        self.putenv(key, value)\n",
    "        self._data[key] = value\n",
    "\n",
    "    def __delitem__(self, key):\n",
    "        encodedkey = self.encodekey(key)\n",
    "        self.unsetenv(encodedkey)\n",
    "        try:\n",
    "            del self._data[encodedkey]\n",
    "        except KeyError:\n",
    "            # raise KeyError with the original key value\n",
    "            raise KeyError(key) from None\n",
    "\n",
    "    def __iter__(self):\n",
    "        # list() from dict object is an atomic operation\n",
    "        keys = list(self._data)\n",
    "        for key in keys:\n",
    "            yield self.decodekey(key)\n",
    "\n",
    "    def __len__(self):\n",
    "        return len(self._data)\n",
    "\n",
    "    def __repr__(self):\n",
    "        return 'environ({{{}}})'.format(', '.join(\n",
    "            ('{!r}: {!r}'.format(self.decodekey(key), self.decodevalue(value))\n",
    "            for key, value in self._data.items())))\n",
    "\n",
    "    def copy(self):\n",
    "        return dict(self)\n",
    "\n",
    "    def setdefault(self, key, value):\n",
    "        if key not in self:\n",
    "            self[key] = value\n",
    "        return self[key]\n",
    "\n",
    "try:\n",
    "    _putenv = putenv\n",
    "except NameError:\n",
    "    _putenv = lambda key, value: None\n",
    "else:\n",
    "    if \"putenv\" not in __all__:\n",
    "        __all__.append(\"putenv\")\n",
    "\n",
    "try:\n",
    "    _unsetenv = unsetenv\n",
    "except NameError:\n",
    "    _unsetenv = lambda key: _putenv(key, \"\")\n",
    "else:\n",
    "    if \"unsetenv\" not in __all__:\n",
    "        __all__.append(\"unsetenv\")\n",
    "\n",
    "def _createenviron():\n",
    "    if name == 'nt':\n",
    "        # Where Env Var Names Must Be UPPERCASE\n",
    "        def check_str(value):\n",
    "            if not isinstance(value, str):\n",
    "                raise TypeError(\"str expected, not %s\" % type(value).__name__)\n",
    "            return value\n",
    "        encode = check_str\n",
    "        decode = str\n",
    "        def encodekey(key):\n",
    "            return encode(key).upper()\n",
    "        data = {}\n",
    "        for key, value in environ.items():\n",
    "            data[encodekey(key)] = value\n",
    "    else:\n",
    "        # Where Env Var Names Can Be Mixed Case\n",
    "        encoding = sys.getfilesystemencoding()\n",
    "        def encode(value):\n",
    "            if not isinstance(value, str):\n",
    "                raise TypeError(\"str expected, not %s\" % type(value).__name__)\n",
    "            return value.encode(encoding, 'surrogateescape')\n",
    "        def decode(value):\n",
    "            return value.decode(encoding, 'surrogateescape')\n",
    "        encodekey = encode\n",
    "        data = environ\n",
    "    return _Environ(data,\n",
    "        encodekey, decode,\n",
    "        encode, decode,\n",
    "        _putenv, _unsetenv)\n",
    "\n",
    "# unicode environ\n",
    "environ = _createenviron()\n",
    "del _createenviron\n",
    "\n",
    "\n",
    "def getenv(key, default=None):\n",
    "    \"\"\"Get an environment variable, return None if it doesn't exist.\n",
    "    The optional second argument can specify an alternate default.\n",
    "    key, default and the result are str.\"\"\"\n",
    "    return environ.get(key, default)\n",
    "\n",
    "supports_bytes_environ = (name != 'nt')\n",
    "__all__.extend((\"getenv\", \"supports_bytes_environ\"))\n",
    "\n",
    "if supports_bytes_environ:\n",
    "    def _check_bytes(value):\n",
    "        if not isinstance(value, bytes):\n",
    "            raise TypeError(\"bytes expected, not %s\" % type(value).__name__)\n",
    "        return value\n",
    "\n",
    "    # bytes environ\n",
    "    environb = _Environ(environ._data,\n",
    "        _check_bytes, bytes,\n",
    "        _check_bytes, bytes,\n",
    "        _putenv, _unsetenv)\n",
    "    del _check_bytes\n",
    "\n",
    "    def getenvb(key, default=None):\n",
    "        \"\"\"Get an environment variable, return None if it doesn't exist.\n",
    "        The optional second argument can specify an alternate default.\n",
    "        key, default and the result are bytes.\"\"\"\n",
    "        return environb.get(key, default)\n",
    "\n",
    "    __all__.extend((\"environb\", \"getenvb\"))\n",
    "\n",
    "def _fscodec():\n",
    "    encoding = sys.getfilesystemencoding()\n",
    "    errors = sys.getfilesystemencodeerrors()\n",
    "\n",
    "    def fsencode(filename):\n",
    "        \"\"\"Encode filename (an os.PathLike, bytes, or str) to the filesystem\n",
    "        encoding with 'surrogateescape' error handler, return bytes unchanged.\n",
    "        On Windows, use 'strict' error handler if the file system encoding is\n",
    "        'mbcs' (which is the default encoding).\n",
    "        \"\"\"\n",
    "        filename = fspath(filename)  # Does type-checking of `filename`.\n",
    "        if isinstance(filename, str):\n",
    "            return filename.encode(encoding, errors)\n",
    "        else:\n",
    "            return filename\n",
    "\n",
    "    def fsdecode(filename):\n",
    "        \"\"\"Decode filename (an os.PathLike, bytes, or str) from the filesystem\n",
    "        encoding with 'surrogateescape' error handler, return str unchanged. On\n",
    "        Windows, use 'strict' error handler if the file system encoding is\n",
    "        'mbcs' (which is the default encoding).\n",
    "        \"\"\"\n",
    "        filename = fspath(filename)  # Does type-checking of `filename`.\n",
    "        if isinstance(filename, bytes):\n",
    "            return filename.decode(encoding, errors)\n",
    "        else:\n",
    "            return filename\n",
    "\n",
    "    return fsencode, fsdecode\n",
    "\n",
    "fsencode, fsdecode = _fscodec()\n",
    "del _fscodec\n",
    "\n",
    "# Supply spawn*() (probably only for Unix)\n",
    "if _exists(\"fork\") and not _exists(\"spawnv\") and _exists(\"execv\"):\n",
    "\n",
    "    P_WAIT = 0\n",
    "    P_NOWAIT = P_NOWAITO = 1\n",
    "\n",
    "    __all__.extend([\"P_WAIT\", \"P_NOWAIT\", \"P_NOWAITO\"])\n",
    "\n",
    "    # XXX Should we support P_DETACH?  I suppose it could fork()**2\n",
    "    # and close the std I/O streams.  Also, P_OVERLAY is the same\n",
    "    # as execv*()?\n",
    "\n",
    "    def _spawnvef(mode, file, args, env, func):\n",
    "        # Internal helper; func is the exec*() function to use\n",
    "        if not isinstance(args, (tuple, list)):\n",
    "            raise TypeError('argv must be a tuple or a list')\n",
    "        if not args or not args[0]:\n",
    "            raise ValueError('argv first element cannot be empty')\n",
    "        pid = fork()\n",
    "        if not pid:\n",
    "            # Child\n",
    "            try:\n",
    "                if env is None:\n",
    "                    func(file, args)\n",
    "                else:\n",
    "                    func(file, args, env)\n",
    "            except:\n",
    "                _exit(127)\n",
    "        else:\n",
    "            # Parent\n",
    "            if mode == P_NOWAIT:\n",
    "                return pid # Caller is responsible for waiting!\n",
    "            while 1:\n",
    "                wpid, sts = waitpid(pid, 0)\n",
    "                if WIFSTOPPED(sts):\n",
    "                    continue\n",
    "                elif WIFSIGNALED(sts):\n",
    "                    return -WTERMSIG(sts)\n",
    "                elif WIFEXITED(sts):\n",
    "                    return WEXITSTATUS(sts)\n",
    "                else:\n",
    "                    raise OSError(\"Not stopped, signaled or exited???\")\n",
    "\n",
    "    def spawnv(mode, file, args):\n",
    "        \"\"\"spawnv(mode, file, args) -> integer\n",
    "\n",
    "Execute file with arguments from args in a subprocess.\n",
    "If mode == P_NOWAIT return the pid of the process.\n",
    "If mode == P_WAIT return the process's exit code if it exits normally;\n",
    "otherwise return -SIG, where SIG is the signal that killed it. \"\"\"\n",
    "        return _spawnvef(mode, file, args, None, execv)\n",
    "\n",
    "    def spawnve(mode, file, args, env):\n",
    "        \"\"\"spawnve(mode, file, args, env) -> integer\n",
    "\n",
    "Execute file with arguments from args in a subprocess with the\n",
    "specified environment.\n",
    "If mode == P_NOWAIT return the pid of the process.\n",
    "If mode == P_WAIT return the process's exit code if it exits normally;\n",
    "otherwise return -SIG, where SIG is the signal that killed it. \"\"\"\n",
    "        return _spawnvef(mode, file, args, env, execve)\n",
    "\n",
    "    # Note: spawnvp[e] isn't currently supported on Windows\n",
    "\n",
    "    def spawnvp(mode, file, args):\n",
    "        \"\"\"spawnvp(mode, file, args) -> integer\n",
    "\n",
    "Execute file (which is looked for along $PATH) with arguments from\n",
    "args in a subprocess.\n",
    "If mode == P_NOWAIT return the pid of the process.\n",
    "If mode == P_WAIT return the process's exit code if it exits normally;\n",
    "otherwise return -SIG, where SIG is the signal that killed it. \"\"\"\n",
    "        return _spawnvef(mode, file, args, None, execvp)\n",
    "\n",
    "    def spawnvpe(mode, file, args, env):\n",
    "        \"\"\"spawnvpe(mode, file, args, env) -> integer\n",
    "\n",
    "Execute file (which is looked for along $PATH) with arguments from\n",
    "args in a subprocess with the supplied environment.\n",
    "If mode == P_NOWAIT return the pid of the process.\n",
    "If mode == P_WAIT return the process's exit code if it exits normally;\n",
    "otherwise return -SIG, where SIG is the signal that killed it. \"\"\"\n",
    "        return _spawnvef(mode, file, args, env, execvpe)\n",
    "\n",
    "\n",
    "    __all__.extend([\"spawnv\", \"spawnve\", \"spawnvp\", \"spawnvpe\"])\n",
    "\n",
    "\n",
    "if _exists(\"spawnv\"):\n",
    "    # These aren't supplied by the basic Windows code\n",
    "    # but can be easily implemented in Python\n",
    "\n",
    "    def spawnl(mode, file, *args):\n",
    "        \"\"\"spawnl(mode, file, *args) -> integer\n",
    "\n",
    "Execute file with arguments from args in a subprocess.\n",
    "If mode == P_NOWAIT return the pid of the process.\n",
    "If mode == P_WAIT return the process's exit code if it exits normally;\n",
    "otherwise return -SIG, where SIG is the signal that killed it. \"\"\"\n",
    "        return spawnv(mode, file, args)\n",
    "\n",
    "    def spawnle(mode, file, *args):\n",
    "        \"\"\"spawnle(mode, file, *args, env) -> integer\n",
    "\n",
    "Execute file with arguments from args in a subprocess with the\n",
    "supplied environment.\n",
    "If mode == P_NOWAIT return the pid of the process.\n",
    "If mode == P_WAIT return the process's exit code if it exits normally;\n",
    "otherwise return -SIG, where SIG is the signal that killed it. \"\"\"\n",
    "        env = args[-1]\n",
    "        return spawnve(mode, file, args[:-1], env)\n",
    "\n",
    "\n",
    "    __all__.extend([\"spawnl\", \"spawnle\"])\n",
    "\n",
    "\n",
    "if _exists(\"spawnvp\"):\n",
    "    # At the moment, Windows doesn't implement spawnvp[e],\n",
    "    # so it won't have spawnlp[e] either.\n",
    "    def spawnlp(mode, file, *args):\n",
    "        \"\"\"spawnlp(mode, file, *args) -> integer\n",
    "\n",
    "Execute file (which is looked for along $PATH) with arguments from\n",
    "args in a subprocess with the supplied environment.\n",
    "If mode == P_NOWAIT return the pid of the process.\n",
    "If mode == P_WAIT return the process's exit code if it exits normally;\n",
    "otherwise return -SIG, where SIG is the signal that killed it. \"\"\"\n",
    "        return spawnvp(mode, file, args)\n",
    "\n",
    "    def spawnlpe(mode, file, *args):\n",
    "        \"\"\"spawnlpe(mode, file, *args, env) -> integer\n",
    "\n",
    "Execute file (which is looked for along $PATH) with arguments from\n",
    "args in a subprocess with the supplied environment.\n",
    "If mode == P_NOWAIT return the pid of the process.\n",
    "If mode == P_WAIT return the process's exit code if it exits normally;\n",
    "otherwise return -SIG, where SIG is the signal that killed it. \"\"\"\n",
    "        env = args[-1]\n",
    "        return spawnvpe(mode, file, args[:-1], env)\n",
    "\n",
    "\n",
    "    __all__.extend([\"spawnlp\", \"spawnlpe\"])\n",
    "\n",
    "\n",
    "# Supply os.popen()\n",
    "def popen(cmd, mode=\"r\", buffering=-1):\n",
    "    if not isinstance(cmd, str):\n",
    "        raise TypeError(\"invalid cmd type (%s, expected string)\" % type(cmd))\n",
    "    if mode not in (\"r\", \"w\"):\n",
    "        raise ValueError(\"invalid mode %r\" % mode)\n",
    "    if buffering == 0 or buffering is None:\n",
    "        raise ValueError(\"popen() does not support unbuffered streams\")\n",
    "    import subprocess, io\n",
    "    if mode == \"r\":\n",
    "        proc = subprocess.Popen(cmd,\n",
    "                                shell=True,\n",
    "                                stdout=subprocess.PIPE,\n",
    "                                bufsize=buffering)\n",
    "        return _wrap_close(io.TextIOWrapper(proc.stdout), proc)\n",
    "    else:\n",
    "        proc = subprocess.Popen(cmd,\n",
    "                                shell=True,\n",
    "                                stdin=subprocess.PIPE,\n",
    "                                bufsize=buffering)\n",
    "        return _wrap_close(io.TextIOWrapper(proc.stdin), proc)\n",
    "\n",
    "# Helper for popen() -- a proxy for a file whose close waits for the process\n",
    "class _wrap_close:\n",
    "    def __init__(self, stream, proc):\n",
    "        self._stream = stream\n",
    "        self._proc = proc\n",
    "    def close(self):\n",
    "        self._stream.close()\n",
    "        returncode = self._proc.wait()\n",
    "        if returncode == 0:\n",
    "            return None\n",
    "        if name == 'nt':\n",
    "            return returncode\n",
    "        else:\n",
    "            return returncode << 8  # Shift left to match old behavior\n",
    "    def __enter__(self):\n",
    "        return self\n",
    "    def __exit__(self, *args):\n",
    "        self.close()\n",
    "    def __getattr__(self, name):\n",
    "        return getattr(self._stream, name)\n",
    "    def __iter__(self):\n",
    "        return iter(self._stream)\n",
    "\n",
    "# Supply os.fdopen()\n",
    "def fdopen(fd, *args, **kwargs):\n",
    "    if not isinstance(fd, int):\n",
    "        raise TypeError(\"invalid fd type (%s, expected integer)\" % type(fd))\n",
    "    import io\n",
    "    return io.open(fd, *args, **kwargs)\n",
    "\n",
    "\n",
    "# For testing purposes, make sure the function is available when the C\n",
    "# implementation exists.\n",
    "def _fspath(path):\n",
    "    \"\"\"Return the path representation of a path-like object.\n",
    "\n",
    "    If str or bytes is passed in, it is returned unchanged. Otherwise the\n",
    "    os.PathLike interface is used to get the path representation. If the\n",
    "    path representation is not str or bytes, TypeError is raised. If the\n",
    "    provided path is not str, bytes, or os.PathLike, TypeError is raised.\n",
    "    \"\"\"\n",
    "    if isinstance(path, (str, bytes)):\n",
    "        return path\n",
    "\n",
    "    # Work from the object's type to match method resolution of other magic\n",
    "    # methods.\n",
    "    path_type = type(path)\n",
    "    try:\n",
    "        path_repr = path_type.__fspath__(path)\n",
    "    except AttributeError:\n",
    "        if hasattr(path_type, '__fspath__'):\n",
    "            raise\n",
    "        else:\n",
    "            raise TypeError(\"expected str, bytes or os.PathLike object, \"\n",
    "                            \"not \" + path_type.__name__)\n",
    "    if isinstance(path_repr, (str, bytes)):\n",
    "        return path_repr\n",
    "    else:\n",
    "        raise TypeError(\"expected {}.__fspath__() to return str or bytes, \"\n",
    "                        \"not {}\".format(path_type.__name__,\n",
    "                                        type(path_repr).__name__))\n",
    "\n",
    "# If there is no C implementation, make the pure Python version the\n",
    "# implementation as transparently as possible.\n",
    "if not _exists('fspath'):\n",
    "    fspath = _fspath\n",
    "    fspath.__name__ = \"fspath\"\n",
    "\n",
    "\n",
    "class PathLike(abc.ABC):\n",
    "\n",
    "    \"\"\"Abstract base class for implementing the file system path protocol.\"\"\"\n",
    "\n",
    "    @abc.abstractmethod\n",
    "    def __fspath__(self):\n",
    "        \"\"\"Return the file system path representation of the object.\"\"\"\n",
    "        raise NotImplementedError\n",
    "\n",
    "    @classmethod\n",
    "    def __subclasshook__(cls, subclass):\n",
    "        return hasattr(subclass, '__fspath__')\n"
   ]
  },
  {
   "cell_type": "code",
   "execution_count": 101,
   "metadata": {},
   "outputs": [
    {
     "data": {
      "text/plain": [
       "environ{'ALLUSERSPROFILE': 'C:\\\\ProgramData',\n",
       "        'APPDATA': 'C:\\\\Users\\\\Administrator\\\\AppData\\\\Roaming',\n",
       "        'COMMONPROGRAMFILES': 'C:\\\\Program Files\\\\Common Files',\n",
       "        'COMMONPROGRAMFILES(X86)': 'C:\\\\Program Files (x86)\\\\Common Files',\n",
       "        'COMMONPROGRAMW6432': 'C:\\\\Program Files\\\\Common Files',\n",
       "        'COMPUTERNAME': 'WIN-P5THQT8CCCL',\n",
       "        'COMSPEC': 'C:\\\\Windows\\\\system32\\\\cmd.exe',\n",
       "        'FP_NO_HOST_CHECK': 'NO',\n",
       "        'HOMEDRIVE': 'C:',\n",
       "        'HOMEPATH': '\\\\Users\\\\Administrator',\n",
       "        'LOCALAPPDATA': 'C:\\\\Users\\\\Administrator\\\\AppData\\\\Local',\n",
       "        'LOGONSERVER': '\\\\\\\\WIN-P5THQT8CCCL',\n",
       "        'MOZ_PLUGIN_PATH': 'C:\\\\Program Files (x86)\\\\Foxit Software\\\\Foxit PDF Reader\\\\plugins\\\\',\n",
       "        'NUMBER_OF_PROCESSORS': '4',\n",
       "        'OS': 'Windows_NT',\n",
       "        'PATH': 'd:\\\\ProgramData\\\\Anaconda3;d:\\\\ProgramData\\\\Anaconda3\\\\Library\\\\mingw-w64\\\\bin;d:\\\\ProgramData\\\\Anaconda3\\\\Library\\\\usr\\\\bin;d:\\\\ProgramData\\\\Anaconda3\\\\Library\\\\bin;d:\\\\ProgramData\\\\Anaconda3\\\\Scripts;E:\\\\Program Files\\\\Git\\\\usr\\\\bin;C:\\\\Users\\\\Administrator\\\\.jdks\\\\openjdk-18.0.1.1\\\\bin;E:\\\\Program Files (x86)\\\\;C:\\\\Windows\\\\system32;C:\\\\Windows;C:\\\\Windows\\\\System32\\\\Wbem;C:\\\\Windows\\\\System32\\\\WindowsPowerShell\\\\v1.0\\\\;C:\\\\Program Files\\\\TortoiseSVN\\\\bin;C:\\\\Program Files\\\\VisualSVN Server\\\\bin;C:\\\\Program Files\\\\Bandizip\\\\;C:\\\\Program Files (x86)\\\\HP\\\\Common\\\\HPDestPlgIn\\\\;e:\\\\Program Files\\\\Git\\\\cmd;E:\\\\Program Files\\\\Git\\\\usr\\\\bin;C:\\\\Users\\\\Administrator\\\\.jdks\\\\openjdk-18.0.1.1\\\\bin;E:\\\\ProgramData\\\\Anaconda3\\\\;D:\\\\Program Files\\\\Microsoft VS Code\\\\bin;C:\\\\Program Files (x86)\\\\HP\\\\Common\\\\HPDestPlgIn\\\\',\n",
       "        'PATHEXT': '.COM;.EXE;.BAT;.CMD;.VBS;.VBE;.JS;.JSE;.WSF;.WSH;.MSC',\n",
       "        'PROCESSOR_ARCHITECTURE': 'AMD64',\n",
       "        'PROCESSOR_IDENTIFIER': 'Intel64 Family 6 Model 61 Stepping 4, GenuineIntel',\n",
       "        'PROCESSOR_LEVEL': '6',\n",
       "        'PROCESSOR_REVISION': '3d04',\n",
       "        'PROGRAMDATA': 'C:\\\\ProgramData',\n",
       "        'PROGRAMFILES': 'C:\\\\Program Files',\n",
       "        'PROGRAMFILES(X86)': 'C:\\\\Program Files (x86)',\n",
       "        'PROGRAMW6432': 'C:\\\\Program Files',\n",
       "        'PSMODULEPATH': 'C:\\\\Windows\\\\system32\\\\WindowsPowerShell\\\\v1.0\\\\Modules\\\\;C:\\\\Program Files\\\\VisualSVN Server\\\\PowerShellModules',\n",
       "        'PUBLIC': 'C:\\\\Users\\\\Public',\n",
       "        'SESSIONNAME': 'Console',\n",
       "        'SYSTEMDRIVE': 'C:',\n",
       "        'SYSTEMROOT': 'C:\\\\Windows',\n",
       "        'TEMP': 'C:\\\\Users\\\\ADMINI~1\\\\AppData\\\\Local\\\\Temp',\n",
       "        'TMP': 'C:\\\\Users\\\\ADMINI~1\\\\AppData\\\\Local\\\\Temp',\n",
       "        'USERDOMAIN': 'WIN-P5THQT8CCCL',\n",
       "        'USERNAME': 'Administrator',\n",
       "        'USERPROFILE': 'C:\\\\Users\\\\Administrator',\n",
       "        'VISUALSVN_SERVER': 'C:\\\\Program Files\\\\VisualSVN Server\\\\',\n",
       "        'WINDIR': 'C:\\\\Windows',\n",
       "        'WINDOWS_TRACING_FLAGS': '3',\n",
       "        'WINDOWS_TRACING_LOGFILE': 'C:\\\\BVTBin\\\\Tests\\\\installpackage\\\\csilogfile.log',\n",
       "        'WXDRIVE_START_ARGS': '--wxdrive-setting=0 --disable-gpu --disable-software-rasterizer --enable-features=NetworkServiceInProcess',\n",
       "        'CONDA_PREFIX': 'd:\\\\ProgramData\\\\Anaconda3',\n",
       "        'KERNEL_LAUNCH_TIMEOUT': '40',\n",
       "        'JPY_INTERRUPT_EVENT': '1924',\n",
       "        'IPY_INTERRUPT_EVENT': '1924',\n",
       "        'JPY_PARENT_PID': '1912',\n",
       "        'TERM': 'xterm-color',\n",
       "        'CLICOLOR': '1',\n",
       "        'PAGER': 'cat',\n",
       "        'GIT_PAGER': 'cat',\n",
       "        'MPLBACKEND': 'module://ipykernel.pylab.backend_inline'}"
      ]
     },
     "execution_count": 101,
     "metadata": {},
     "output_type": "execute_result"
    }
   ],
   "source": [
    "os.environ"
   ]
  },
  {
   "cell_type": "code",
   "execution_count": 102,
   "metadata": {},
   "outputs": [
    {
     "data": {
      "text/plain": [
       "<function nt.system(command)>"
      ]
     },
     "execution_count": 102,
     "metadata": {},
     "output_type": "execute_result"
    }
   ],
   "source": [
    "os.system"
   ]
  },
  {
   "cell_type": "code",
   "execution_count": 103,
   "metadata": {},
   "outputs": [
    {
     "data": {
      "text/plain": [
       "0"
      ]
     },
     "execution_count": 103,
     "metadata": {},
     "output_type": "execute_result"
    }
   ],
   "source": [
    "#系统调用功能，可以调用外部函数\n",
    "os.system('calc')"
   ]
  },
  {
   "cell_type": "code",
   "execution_count": 104,
   "metadata": {},
   "outputs": [
    {
     "data": {
      "text/plain": [
       "0"
      ]
     },
     "execution_count": 104,
     "metadata": {},
     "output_type": "execute_result"
    }
   ],
   "source": [
    "os.system('notepad')"
   ]
  },
  {
   "cell_type": "markdown",
   "metadata": {},
   "source": [
    "请注意，这里用引号将Program Files和Mozilla Firefox括起来了。如果不这样做，底层shell将受阻于空白处（对于PYTHONPATH中的路径，也必须这样做）。另外，这里必须使用反斜杆，因为Windows shell无法识别斜杠"
   ]
  },
  {
   "cell_type": "code",
   "execution_count": 122,
   "metadata": {},
   "outputs": [
    {
     "data": {
      "text/plain": [
       "1"
      ]
     },
     "execution_count": 122,
     "metadata": {},
     "output_type": "execute_result"
    }
   ],
   "source": [
    "os.system('C:\\\"Program Files\"\\\\Oray\\\\SunLogin\\\\SunloginClient\\\\SunloginClient.exe')"
   ]
  },
  {
   "cell_type": "markdown",
   "metadata": {},
   "source": [
    "调用本机的串口工具,注意空格部分要采用“”来隔开，而本机中Program Files (x86)和Serial Port Utility中均需“”隔开"
   ]
  },
  {
   "cell_type": "code",
   "execution_count": 124,
   "metadata": {},
   "outputs": [
    {
     "data": {
      "text/plain": [
       "0"
      ]
     },
     "execution_count": 124,
     "metadata": {},
     "output_type": "execute_result"
    }
   ],
   "source": [
    "os.system(r'C:\\\"Program Files (x86)\"\\\"Serial Port Utility\"\\SerialPortUtility.exe')"
   ]
  },
  {
   "cell_type": "code",
   "execution_count": 116,
   "metadata": {},
   "outputs": [
    {
     "data": {
      "text/plain": [
       "'\\\\'"
      ]
     },
     "execution_count": 116,
     "metadata": {},
     "output_type": "execute_result"
    }
   ],
   "source": [
    "os.sep"
   ]
  },
  {
   "cell_type": "code",
   "execution_count": 117,
   "metadata": {},
   "outputs": [
    {
     "data": {
      "text/plain": [
       "';'"
      ]
     },
     "execution_count": 117,
     "metadata": {},
     "output_type": "execute_result"
    }
   ],
   "source": [
    "os.pathsep"
   ]
  },
  {
   "cell_type": "code",
   "execution_count": 118,
   "metadata": {},
   "outputs": [
    {
     "data": {
      "text/plain": [
       "'\\r\\n'"
      ]
     },
     "execution_count": 118,
     "metadata": {},
     "output_type": "execute_result"
    }
   ],
   "source": [
    "os.linesep"
   ]
  },
  {
   "cell_type": "code",
   "execution_count": 120,
   "metadata": {},
   "outputs": [
    {
     "data": {
      "text/plain": [
       "b'\\xfa\\x12fL9C\\xec\\x8f\\xa2\\xbb\\xdel'"
      ]
     },
     "execution_count": 120,
     "metadata": {},
     "output_type": "execute_result"
    }
   ],
   "source": [
    "os.urandom(12)"
   ]
  },
  {
   "cell_type": "markdown",
   "metadata": {},
   "source": [
    "另一个函数更适合用于完成这项任务，它就是Windows特有的函数os.startfile。"
   ]
  },
  {
   "cell_type": "code",
   "execution_count": 125,
   "metadata": {},
   "outputs": [],
   "source": [
    "os.startfile(r'D:\\Program Files (x86)\\Tencent\\QQ\\Bin\\QQScLauncher.exe')"
   ]
  },
  {
   "cell_type": "markdown",
   "metadata": {},
   "source": [
    "如你所见，os.startfile接受一个普通路径，即便该路径包含空白也没关系（无需像os.system示例中那样用引号将Program Files括起）。"
   ]
  },
  {
   "cell_type": "markdown",
   "metadata": {},
   "source": [
    "函数os.system可用于完成很多任务，但就启动Web浏览器这项任务而言，有一种更佳的解决方案：使用模块webbrowser。这个模块包含一个名为open的函数，让你能够启动启动Web浏览器并打开指定的URL。例如，要让程序在Web浏览器中打开Python网站（启动浏览器或使用正在运行的浏览器，只需像下面这样做："
   ]
  },
  {
   "cell_type": "code",
   "execution_count": 126,
   "metadata": {},
   "outputs": [
    {
     "data": {
      "text/plain": [
       "True"
      ]
     },
     "execution_count": 126,
     "metadata": {},
     "output_type": "execute_result"
    }
   ],
   "source": [
    "import webbrowser\n",
    "webbrowser.open('www.sohu.com')"
   ]
  },
  {
   "cell_type": "code",
   "execution_count": 127,
   "metadata": {},
   "outputs": [],
   "source": [
    "import fileinput"
   ]
  },
  {
   "cell_type": "markdown",
   "metadata": {},
   "source": [
    "10.3.4 集合、堆和双端队列有用的数据结构有很多。Python支持一些较常用的，其中的字典（散列表）和列表（动态数组）是Python语言的有机组成部分。还有一些虽然不那么重要，但有时也能派上用场。"
   ]
  },
  {
   "cell_type": "code",
   "execution_count": 129,
   "metadata": {},
   "outputs": [
    {
     "data": {
      "text/plain": [
       "{0, 1, 2, 3, 4, 5, 6, 7, 8, 9}"
      ]
     },
     "execution_count": 129,
     "metadata": {},
     "output_type": "execute_result"
    }
   ],
   "source": [
    "set(range(10))"
   ]
  },
  {
   "cell_type": "code",
   "execution_count": 130,
   "metadata": {},
   "outputs": [
    {
     "data": {
      "text/plain": [
       "dict"
      ]
     },
     "execution_count": 130,
     "metadata": {},
     "output_type": "execute_result"
    }
   ],
   "source": [
    "type({})"
   ]
  },
  {
   "cell_type": "markdown",
   "metadata": {},
   "source": [
    "集合主要用于成员资格检查，因此将忽略重复的元素："
   ]
  },
  {
   "cell_type": "code",
   "execution_count": 131,
   "metadata": {},
   "outputs": [
    {
     "data": {
      "text/plain": [
       "{0, 1, 2, 3, 4, 5, 89}"
      ]
     },
     "execution_count": 131,
     "metadata": {},
     "output_type": "execute_result"
    }
   ],
   "source": [
    "{0,1,2,3,4,5,4,3,2,1,89}"
   ]
  },
  {
   "cell_type": "markdown",
   "metadata": {},
   "source": [
    "与字典一样，集合中元素的排列顺序是不确定的，因此不能依赖于这一点。"
   ]
  },
  {
   "cell_type": "code",
   "execution_count": 132,
   "metadata": {},
   "outputs": [
    {
     "data": {
      "text/plain": [
       "{'fee', 'fie', 'foe'}"
      ]
     },
     "execution_count": 132,
     "metadata": {},
     "output_type": "execute_result"
    }
   ],
   "source": [
    "        >>> {'fee', 'fie', 'foe'}"
   ]
  },
  {
   "cell_type": "code",
   "execution_count": 133,
   "metadata": {},
   "outputs": [
    {
     "data": {
      "text/plain": [
       "{1, 2, 3, 4}"
      ]
     },
     "execution_count": 133,
     "metadata": {},
     "output_type": "execute_result"
    }
   ],
   "source": [
    "        >>> a = {1, 2, 3}\n",
    "        >>> b = {2, 3, 4}\n",
    "        >>> a.union(b)\n",
    "    "
   ]
  },
  {
   "cell_type": "code",
   "execution_count": 134,
   "metadata": {},
   "outputs": [
    {
     "data": {
      "text/plain": [
       "{1, 2, 3, 4}"
      ]
     },
     "execution_count": 134,
     "metadata": {},
     "output_type": "execute_result"
    }
   ],
   "source": [
    "    >>> a | b"
   ]
  },
  {
   "cell_type": "code",
   "execution_count": 137,
   "metadata": {},
   "outputs": [
    {
     "data": {
      "text/plain": [
       "{2, 3}"
      ]
     },
     "execution_count": 137,
     "metadata": {},
     "output_type": "execute_result"
    }
   ],
   "source": [
    "c=a & b\n",
    "c"
   ]
  },
  {
   "cell_type": "code",
   "execution_count": 138,
   "metadata": {},
   "outputs": [
    {
     "data": {
      "text/plain": [
       "True"
      ]
     },
     "execution_count": 138,
     "metadata": {},
     "output_type": "execute_result"
    }
   ],
   "source": [
    "c.issubset(a)"
   ]
  },
  {
   "cell_type": "code",
   "execution_count": 139,
   "metadata": {},
   "outputs": [
    {
     "data": {
      "text/plain": [
       "True"
      ]
     },
     "execution_count": 139,
     "metadata": {},
     "output_type": "execute_result"
    }
   ],
   "source": [
    "c<=a"
   ]
  },
  {
   "cell_type": "code",
   "execution_count": 140,
   "metadata": {},
   "outputs": [
    {
     "data": {
      "text/plain": [
       "False"
      ]
     },
     "execution_count": 140,
     "metadata": {},
     "output_type": "execute_result"
    }
   ],
   "source": [
    "c.issuperset(a)"
   ]
  },
  {
   "cell_type": "code",
   "execution_count": 141,
   "metadata": {},
   "outputs": [
    {
     "data": {
      "text/plain": [
       "{1}"
      ]
     },
     "execution_count": 141,
     "metadata": {},
     "output_type": "execute_result"
    }
   ],
   "source": [
    "d=a-b\n",
    "d"
   ]
  },
  {
   "cell_type": "code",
   "execution_count": 142,
   "metadata": {},
   "outputs": [
    {
     "data": {
      "text/plain": [
       "{1, 4}"
      ]
     },
     "execution_count": 142,
     "metadata": {},
     "output_type": "execute_result"
    }
   ],
   "source": [
    "e=a^b\n",
    "e"
   ]
  },
  {
   "cell_type": "code",
   "execution_count": 146,
   "metadata": {},
   "outputs": [
    {
     "data": {
      "text/plain": [
       "[{0, 1, 2, 3, 4},\n",
       " {1, 2, 3, 4, 5},\n",
       " {2, 3, 4, 5, 6},\n",
       " {3, 4, 5, 6, 7},\n",
       " {4, 5, 6, 7, 8},\n",
       " {5, 6, 7, 8, 9},\n",
       " {6, 7, 8, 9, 10},\n",
       " {7, 8, 9, 10, 11},\n",
       " {8, 9, 10, 11, 12},\n",
       " {9, 10, 11, 12, 13}]"
      ]
     },
     "execution_count": 146,
     "metadata": {},
     "output_type": "execute_result"
    }
   ],
   "source": [
    "            >>> my_sets = []\n",
    "            >>> for i in range(10):\n",
    "            ...      my_sets.append(set(range(i, i+5)))\n",
    "            my_sets\n",
    "            \n",
    "         "
   ]
  },
  {
   "cell_type": "markdown",
   "metadata": {},
   "source": [
    "2. 堆另一种著名的数据结构是堆（heap），它是一种优先队列。优先队列让你能够以任意顺序添加对象，并随时（可能是在两次添加对象之间）找出（并删除）最小的元素。相比于列表方法min，这样做的效率要高得多。"
   ]
  },
  {
   "cell_type": "code",
   "execution_count": 151,
   "metadata": {},
   "outputs": [
    {
     "data": {
      "text/plain": [
       "[0, 1, 3, 4, 2, 8, 9, 7, 6, 5]"
      ]
     },
     "execution_count": 151,
     "metadata": {},
     "output_type": "execute_result"
    }
   ],
   "source": [
    "        >>> from heapq import *\n",
    "        >>> from random import shuffle\n",
    "        >>> data = list(range(10))\n",
    "        >>> shuffle(data)\n",
    "        >>> heap = []\n",
    "        >>> for n in data:\n",
    "        ...      heappush(heap, n)\n",
    "        ...\n",
    "        >>> heap\n",
    "     "
   ]
  },
  {
   "cell_type": "code",
   "execution_count": 152,
   "metadata": {},
   "outputs": [
    {
     "data": {
      "text/plain": [
       "[0, 0.5, 3, 4, 1, 8, 9, 7, 6, 5, 2]"
      ]
     },
     "execution_count": 152,
     "metadata": {},
     "output_type": "execute_result"
    }
   ],
   "source": [
    "        >>> heappush(heap, 0.5)\n",
    "        >>> heap"
   ]
  },
  {
   "cell_type": "markdown",
   "metadata": {},
   "source": [
    "函数heappop弹出最小的元素（总是位于索引0处），并确保剩余元素中最小的那个位于索引0处（保持堆特征）。"
   ]
  },
  {
   "cell_type": "code",
   "execution_count": 153,
   "metadata": {},
   "outputs": [
    {
     "data": {
      "text/plain": [
       "0"
      ]
     },
     "execution_count": 153,
     "metadata": {},
     "output_type": "execute_result"
    }
   ],
   "source": [
    "heappop(heap)"
   ]
  },
  {
   "cell_type": "code",
   "execution_count": 154,
   "metadata": {},
   "outputs": [
    {
     "data": {
      "text/plain": [
       "[0.5, 1, 3, 4, 2, 8, 9, 7, 6, 5]"
      ]
     },
     "execution_count": 154,
     "metadata": {},
     "output_type": "execute_result"
    }
   ],
   "source": [
    "heap"
   ]
  },
  {
   "cell_type": "code",
   "execution_count": 155,
   "metadata": {},
   "outputs": [
    {
     "data": {
      "text/plain": [
       "0.5"
      ]
     },
     "execution_count": 155,
     "metadata": {},
     "output_type": "execute_result"
    }
   ],
   "source": [
    "heappop(heap)"
   ]
  },
  {
   "cell_type": "code",
   "execution_count": 156,
   "metadata": {},
   "outputs": [
    {
     "data": {
      "text/plain": [
       "1"
      ]
     },
     "execution_count": 156,
     "metadata": {},
     "output_type": "execute_result"
    }
   ],
   "source": [
    "heappop(heap)"
   ]
  },
  {
   "cell_type": "code",
   "execution_count": 157,
   "metadata": {},
   "outputs": [
    {
     "data": {
      "text/plain": [
       "[2, 4, 3, 6, 5, 8, 9, 7]"
      ]
     },
     "execution_count": 157,
     "metadata": {},
     "output_type": "execute_result"
    }
   ],
   "source": [
    "heap"
   ]
  },
  {
   "cell_type": "markdown",
   "metadata": {},
   "source": [
    "函数heapify通过执行尽可能少的移位操作将列表变成合法的堆（即具备堆特征）。如果你的堆并不是使用heappush创建的，应在使用heappush和heappop之前使用这个函数。"
   ]
  },
  {
   "cell_type": "code",
   "execution_count": 158,
   "metadata": {},
   "outputs": [
    {
     "data": {
      "text/plain": [
       "[0, 1, 5, 3, 2, 7, 9, 8, 4, 6]"
      ]
     },
     "execution_count": 158,
     "metadata": {},
     "output_type": "execute_result"
    }
   ],
   "source": [
    "        >>> heap = [5, 8, 0, 3, 6, 7, 9, 1, 4, 2]\n",
    "        >>> heapify(heap)\n",
    "        >>> heap"
   ]
  },
  {
   "cell_type": "markdown",
   "metadata": {},
   "source": [
    "3. 双端队列（及其他集合）在需要按添加元素的顺序进行删除时，双端队列很有用。在模块collections中，包含类型deque以及其他几个集合（collection）类型。"
   ]
  },
  {
   "cell_type": "code",
   "execution_count": 159,
   "metadata": {},
   "outputs": [
    {
     "data": {
      "text/plain": [
       "deque([6, 0, 1, 2, 3, 4, 5])"
      ]
     },
     "execution_count": 159,
     "metadata": {},
     "output_type": "execute_result"
    }
   ],
   "source": [
    "        >>> from collections import deque\n",
    "        >>> q = deque(range(5))\n",
    "        >>> q.append(5)\n",
    "        >>> q.appendleft(6)\n",
    "        >>> q\n",
    "        deque([6, 0, 1, 2, 3, 4, 5])\n",
    "     "
   ]
  },
  {
   "cell_type": "code",
   "execution_count": 160,
   "metadata": {},
   "outputs": [
    {
     "data": {
      "text/plain": [
       "5"
      ]
     },
     "execution_count": 160,
     "metadata": {},
     "output_type": "execute_result"
    }
   ],
   "source": [
    "   >>> q.pop()\n",
    " "
   ]
  },
  {
   "cell_type": "code",
   "execution_count": 161,
   "metadata": {},
   "outputs": [
    {
     "data": {
      "text/plain": [
       "deque([2, 3, 4, 0, 1])"
      ]
     },
     "execution_count": 161,
     "metadata": {},
     "output_type": "execute_result"
    }
   ],
   "source": [
    "        >>> q.popleft()\n",
    "        >>> q.rotate(3)\n",
    "        >>> q\n",
    "     "
   ]
  },
  {
   "cell_type": "code",
   "execution_count": 162,
   "metadata": {},
   "outputs": [
    {
     "data": {
      "text/plain": [
       "deque([3, 4, 0, 1, 2])"
      ]
     },
     "execution_count": 162,
     "metadata": {},
     "output_type": "execute_result"
    }
   ],
   "source": [
    "        >>> q.rotate(-1)\n",
    "        >>> q\n",
    "     "
   ]
  },
  {
   "cell_type": "markdown",
   "metadata": {},
   "source": [
    "10.3.5 time模块time包含用于获取当前时间、操作时间和日期、从字符串中读取日期、将日期格式化为字符串的函数。日期可表示为实数（从“新纪元”1月1日0时起过去的秒数。“新纪元”是一个随平台而异的年份，在UNIX中为1970年），也"
   ]
  },
  {
   "cell_type": "code",
   "execution_count": 164,
   "metadata": {},
   "outputs": [
    {
     "data": {
      "text/plain": [
       "['_STRUCT_TM_ITEMS',\n",
       " '__doc__',\n",
       " '__loader__',\n",
       " '__name__',\n",
       " '__package__',\n",
       " '__spec__',\n",
       " 'altzone',\n",
       " 'asctime',\n",
       " 'clock',\n",
       " 'ctime',\n",
       " 'daylight',\n",
       " 'get_clock_info',\n",
       " 'gmtime',\n",
       " 'localtime',\n",
       " 'mktime',\n",
       " 'monotonic',\n",
       " 'monotonic_ns',\n",
       " 'perf_counter',\n",
       " 'perf_counter_ns',\n",
       " 'process_time',\n",
       " 'process_time_ns',\n",
       " 'sleep',\n",
       " 'strftime',\n",
       " 'strptime',\n",
       " 'struct_time',\n",
       " 'thread_time',\n",
       " 'thread_time_ns',\n",
       " 'time',\n",
       " 'time_ns',\n",
       " 'timezone',\n",
       " 'tzname']"
      ]
     },
     "execution_count": 164,
     "metadata": {},
     "output_type": "execute_result"
    }
   ],
   "source": [
    "import time\n",
    "dir(time)"
   ]
  },
  {
   "cell_type": "code",
   "execution_count": 167,
   "metadata": {},
   "outputs": [
    {
     "name": "stdout",
     "output_type": "stream",
     "text": [
      "Help on built-in function asctime in module time:\n",
      "\n",
      "asctime(...)\n",
      "    asctime([tuple]) -> string\n",
      "    \n",
      "    Convert a time tuple to a string, e.g. 'Sat Jun 06 16:26:11 1998'.\n",
      "    When the time tuple is not present, current time as returned by localtime()\n",
      "    is used.\n",
      "\n"
     ]
    }
   ],
   "source": [
    "help(time.asctime)"
   ]
  },
  {
   "cell_type": "code",
   "execution_count": 168,
   "metadata": {},
   "outputs": [
    {
     "data": {
      "text/plain": [
       "'Sun Feb 26 14:13:43 2023'"
      ]
     },
     "execution_count": 168,
     "metadata": {},
     "output_type": "execute_result"
    }
   ],
   "source": [
    "time.asctime()"
   ]
  },
  {
   "cell_type": "code",
   "execution_count": 172,
   "metadata": {},
   "outputs": [
    {
     "name": "stdout",
     "output_type": "stream",
     "text": [
      "Help on method choices in module random:\n",
      "\n",
      "choices(population, weights=None, *, cum_weights=None, k=1) method of random.Random instance\n",
      "    Return a k sized list of population elements chosen with replacement.\n",
      "    \n",
      "    If the relative weights or cumulative weights are not specified,\n",
      "    the selections are made with equal probability.\n",
      "\n"
     ]
    }
   ],
   "source": [
    "import random\n",
    "dir(random)\n",
    "help(random.choices)\n",
    "#help(random)"
   ]
  },
  {
   "cell_type": "code",
   "execution_count": 173,
   "metadata": {},
   "outputs": [],
   "source": [
    "        from random import *\n",
    "        from time import *\n",
    "        date1 = (2016, 1, 1, 0, 0, 0, -1, -1, -1)\n",
    "        time1 = mktime(date1)\n",
    "        date2 = (2017, 1, 1, 0, 0, 0, -1, -1, -1)\n",
    "        time2 = mktime(date2)"
   ]
  },
  {
   "cell_type": "code",
   "execution_count": 174,
   "metadata": {},
   "outputs": [
    {
     "data": {
      "text/plain": [
       "1451577600.0"
      ]
     },
     "execution_count": 174,
     "metadata": {},
     "output_type": "execute_result"
    }
   ],
   "source": [
    "time1"
   ]
  },
  {
   "cell_type": "code",
   "execution_count": 175,
   "metadata": {},
   "outputs": [
    {
     "data": {
      "text/plain": [
       "1483200000.0"
      ]
     },
     "execution_count": 175,
     "metadata": {},
     "output_type": "execute_result"
    }
   ],
   "source": [
    "time2"
   ]
  },
  {
   "cell_type": "markdown",
   "metadata": {},
   "source": [
    "接下来，以均匀的方式生成一个位于该范围内（不包括上限）的随机数："
   ]
  },
  {
   "cell_type": "code",
   "execution_count": 176,
   "metadata": {},
   "outputs": [],
   "source": [
    ">>> random_time = uniform(time1, time2)"
   ]
  },
  {
   "cell_type": "code",
   "execution_count": 177,
   "metadata": {},
   "outputs": [
    {
     "name": "stdout",
     "output_type": "stream",
     "text": [
      "Sat Nov 19 14:25:23 2016\n"
     ]
    }
   ],
   "source": [
    " >>> print(asctime(localtime(random_time)))"
   ]
  },
  {
   "cell_type": "markdown",
   "metadata": {},
   "source": [
    "在接下来的示例中，我们询问用户要掷多少个骰子、每个骰子有多少面。掷骰子的机制是使用randrange和for循环实现的。"
   ]
  },
  {
   "cell_type": "code",
   "execution_count": 179,
   "metadata": {},
   "outputs": [
    {
     "name": "stdout",
     "output_type": "stream",
     "text": [
      "How many dice? 3\n",
      "How many sides per die? 5\n",
      "The result is 5\n"
     ]
    }
   ],
   "source": [
    "        from random import randrange\n",
    "        num  =int(input('How many dice? '))\n",
    "        sides=int(input('How many sides per die? '))\n",
    "        sum = 0\n",
    "        for i in range(num): sum += randrange(sides) + 1\n",
    "        print('The result is', sum)"
   ]
  },
  {
   "cell_type": "code",
   "execution_count": 185,
   "metadata": {},
   "outputs": [
    {
     "data": {
      "text/plain": [
       "[1, 2, 3, 4, 5, 6, 7, 8, 9, 10, 'Jack', 'Queen', 'King']"
      ]
     },
     "execution_count": 185,
     "metadata": {},
     "output_type": "execute_result"
    }
   ],
   "source": [
    "        >>> values = list(range(1, 11)) + 'Jack Queen King'.split()\n",
    "        >>> suits = 'diamonds clubs hearts spades'.split()\n",
    "        >>> deck = ['{} of {}'.format(v, s) for v in values for s in suits]\n",
    "        deck\n",
    "        values"
   ]
  },
  {
   "cell_type": "code",
   "execution_count": 186,
   "metadata": {},
   "outputs": [
    {
     "data": {
      "text/plain": [
       "['diamonds', 'clubs', 'hearts', 'spades']"
      ]
     },
     "execution_count": 186,
     "metadata": {},
     "output_type": "execute_result"
    }
   ],
   "source": [
    "suits"
   ]
  },
  {
   "cell_type": "code",
   "execution_count": 187,
   "metadata": {},
   "outputs": [
    {
     "data": {
      "text/plain": [
       "['1 of diamonds',\n",
       " '1 of clubs',\n",
       " '1 of hearts',\n",
       " '1 of spades',\n",
       " '2 of diamonds',\n",
       " '2 of clubs',\n",
       " '2 of hearts',\n",
       " '2 of spades',\n",
       " '3 of diamonds',\n",
       " '3 of clubs',\n",
       " '3 of hearts',\n",
       " '3 of spades',\n",
       " '4 of diamonds',\n",
       " '4 of clubs',\n",
       " '4 of hearts',\n",
       " '4 of spades',\n",
       " '5 of diamonds',\n",
       " '5 of clubs',\n",
       " '5 of hearts',\n",
       " '5 of spades',\n",
       " '6 of diamonds',\n",
       " '6 of clubs',\n",
       " '6 of hearts',\n",
       " '6 of spades',\n",
       " '7 of diamonds',\n",
       " '7 of clubs',\n",
       " '7 of hearts',\n",
       " '7 of spades',\n",
       " '8 of diamonds',\n",
       " '8 of clubs',\n",
       " '8 of hearts',\n",
       " '8 of spades',\n",
       " '9 of diamonds',\n",
       " '9 of clubs',\n",
       " '9 of hearts',\n",
       " '9 of spades',\n",
       " '10 of diamonds',\n",
       " '10 of clubs',\n",
       " '10 of hearts',\n",
       " '10 of spades',\n",
       " 'Jack of diamonds',\n",
       " 'Jack of clubs',\n",
       " 'Jack of hearts',\n",
       " 'Jack of spades',\n",
       " 'Queen of diamonds',\n",
       " 'Queen of clubs',\n",
       " 'Queen of hearts',\n",
       " 'Queen of spades',\n",
       " 'King of diamonds',\n",
       " 'King of clubs',\n",
       " 'King of hearts',\n",
       " 'King of spades']"
      ]
     },
     "execution_count": 187,
     "metadata": {},
     "output_type": "execute_result"
    }
   ],
   "source": [
    "deck"
   ]
  },
  {
   "cell_type": "code",
   "execution_count": 188,
   "metadata": {},
   "outputs": [
    {
     "name": "stdout",
     "output_type": "stream",
     "text": [
      "['1 of diamonds',\n",
      " '1 of clubs',\n",
      " '1 of hearts',\n",
      " '1 of spades',\n",
      " '2 of diamonds',\n",
      " '2 of clubs',\n",
      " '2 of hearts',\n",
      " '2 of spades',\n",
      " '3 of diamonds',\n",
      " '3 of clubs',\n",
      " '3 of hearts',\n",
      " '3 of spades']\n"
     ]
    }
   ],
   "source": [
    "from pprint import pprint\n",
    "pprint(deck[:12]) #打印前12张牌"
   ]
  },
  {
   "cell_type": "markdown",
   "metadata": {},
   "source": [
    "太有规律了，对吧？这个问题很容易修复。"
   ]
  },
  {
   "cell_type": "code",
   "execution_count": 189,
   "metadata": {},
   "outputs": [
    {
     "name": "stdout",
     "output_type": "stream",
     "text": [
      "['10 of hearts',\n",
      " '10 of spades',\n",
      " 'Queen of clubs',\n",
      " '1 of diamonds',\n",
      " '1 of spades',\n",
      " 'Jack of diamonds',\n",
      " 'King of spades',\n",
      " 'King of diamonds',\n",
      " '5 of diamonds',\n",
      " '2 of diamonds',\n",
      " '9 of clubs',\n",
      " '6 of clubs']\n"
     ]
    }
   ],
   "source": [
    "from random import shuffle\n",
    "shuffle(deck)\n",
    "pprint(deck[:12])"
   ]
  },
  {
   "cell_type": "code",
   "execution_count": 191,
   "metadata": {},
   "outputs": [
    {
     "name": "stdout",
     "output_type": "stream",
     "text": [
      "Help on method shuffle in module random:\n",
      "\n",
      "shuffle(x, random=None) method of random.Random instance\n",
      "    Shuffle list x in place, and return None.\n",
      "    \n",
      "    Optional argument random is a 0-argument function returning a\n",
      "    random float in [0.0, 1.0); if it is the default None, the\n",
      "    standard random.random will be used.\n",
      "\n"
     ]
    }
   ],
   "source": [
    "help(shuffle)"
   ]
  },
  {
   "cell_type": "markdown",
   "metadata": {},
   "source": [
    "10.3.7 shelve和json"
   ]
  },
  {
   "cell_type": "code",
   "execution_count": 1,
   "metadata": {},
   "outputs": [
    {
     "name": "stdout",
     "output_type": "stream",
     "text": [
      "Enter command (? for help): lookup\n",
      "Enter ID number: 1\n",
      "What would you like to know? (name, age, phone) name\n",
      "Name: wj\n",
      "Enter command (? for help): lookup\n",
      "Enter ID number: 3\n",
      "What would you like to know? (name, age, phone) name\n",
      "Name: rjb\n",
      "Enter command (? for help): quit\n"
     ]
    }
   ],
   "source": [
    "        # database.py\n",
    "        import sys, shelve\n",
    "\n",
    "\n",
    "        def store_person(db):\n",
    "            pid = input('Enter unique ID number: ')\n",
    "            person = {}\n",
    "            person['name'] = input('Enter name: ')\n",
    "            person['age'] = input('Enter age: ')\n",
    "            person['phone'] = input('Enter phone number: ')\n",
    "            db[pid] = person\n",
    "\n",
    "\n",
    "        def lookup_person(db):\n",
    "            pid = input('Enter ID number: ')\n",
    "            field=input('What would you like to know? (name, age, phone) ')\n",
    "            field = field.strip().lower()\n",
    "\n",
    "\n",
    "            print(field.capitalize() + ':', db[pid][field])\n",
    "\n",
    "\n",
    "        def print_help():\n",
    "            print('The available commands are:')\n",
    "            print('store : Stores information about a person')\n",
    "            print('lookup : Looks up a person from ID number')\n",
    "            print('quit : Save changes and exit')\n",
    "            print('? : Prints this message')\n",
    "\n",
    "\n",
    "        def enter_command():\n",
    "            cmd=input('Enter command (? for help): ')\n",
    "            cmd = cmd.strip().lower()\n",
    "            return cmd\n",
    "\n",
    "\n",
    "        def main():\n",
    "            database = shelve.open('.\\database') # 你可能想修改这个名称\n",
    "            try:\n",
    "                while True:\n",
    "                        cmd = enter_command()\n",
    "                        if cmd == 'store':\n",
    "                            store_person(database)\n",
    "                        elif cmd == 'lookup':\n",
    "                            lookup_person(database)\n",
    "                        elif cmd == '?':\n",
    "                            print_help()\n",
    "                        elif cmd == 'quit':\n",
    "                            return\n",
    "            finally:\n",
    "                  database.close()\n",
    "\n",
    "\n",
    "if __name__ == '__main__':\n",
    "    main()"
   ]
  },
  {
   "cell_type": "markdown",
   "metadata": {},
   "source": [
    "代码清单10-8所示的程序有几个有趣的特征。\n",
    "❑ 所有代码都放在函数中，这提高了程序的结构化程度（一个可能的改进是将这些函数作为一个类的方法）。\n",
    "❑ 主程序位于函数main中，这个函数仅在__name__== '__main__'时才会被调用。这意味着可在另一个程序中将这个程序作为模块导入，再调用函数main。\n",
    "❑ 在函数main中，我打开一个数据库（shelf），再将其作为参数传递给其他需要它的函数。由于这个程序很小，我原本可以使用一个全局变量，但在大多数情况下，最好不要使用全局变量——除非你有理由这样做。\n",
    "❑ 读入一些值后，我调用strip和lower来修改它们，因为仅当提供的键与存储的键完全相同时，它们才匹配。如果对用户输入的内容都调用strip和lower，用户输入时就无需太关心大小写，且在输入开头和末尾有多余的空白也没有关系。另外，注意到打印字段名时使用了capitalize。\n",
    "❑ 为确保数据库得以妥善的关闭，我使用了try和finally。不知道什么时候就会出现问题，进而引发异常。如果程序终止时未妥善地关闭数据库，数据库文件可能受损，变得毫无用处。通过使用try和finally，可避免这样的情况发生。我原本也可像第11章介绍的那样，将shelf用作上下文管理器。"
   ]
  },
  {
   "cell_type": "markdown",
   "metadata": {},
   "source": [
    "提示如果要以这样的格式保存数据，也就是让使用其他语言编写的程序能够轻松地读取它们，可考虑使用JSON格式。Python标准库提供了用于处理JSON字符串（在这种字符串和Python值之间进行转换）的模块json。"
   ]
  },
  {
   "cell_type": "markdown",
   "metadata": {},
   "source": [
    "10.3.8 re\n",
    "模块re提供了对正则表达式的支持。如果你听说过正则表达式，就可能知道它们有多厉害；如果没有，就等着大吃一惊吧。然而，需要指出的是，要掌握正则表达式有点难。关键是每次学习一点点：只考虑完成特定任务所需的知识。预先将所有的知识牢记在心毫无意义。本节描述模块re和正则表达式的主要功能，让你能够快速上手。"
   ]
  },
  {
   "cell_type": "markdown",
   "metadata": {},
   "source": [
    "句点.只与一个字符匹配，而不与零或多个字符匹配\n",
    "● 通配符正则表达式可与多个字符串匹配，你可使用特殊字符来创建这种正则表达式。例如，句点与除换行符外的其他字符都匹配，因此正则表达式'.ython'与字符串'python'和'jython'都匹配。它还与'qython'、'+ython'和' ython'（第一个字符为空格）等字符串匹配，但不与'cpython'、'ython'等字符串匹配，因为句点只与一个字符匹配，而不与零或两个字符匹配。句点与除换行符外的任何字符都匹配，因此被称为通配符（wildcard）。"
   ]
  },
  {
   "cell_type": "markdown",
   "metadata": {},
   "source": [
    "● 对特殊字符进行转义普通字符只与自己匹配，但特殊字符的情况完全不同。例如，假设要匹配字符串'python.org'，可以直接使用模式'python.org'吗？可以，但它也与'pythonzorg'匹配（还记得吗？句点与除换行符外的其他字符都匹配），这可能不是你想要的结果。要让特殊字符的行为与普通字符一样，可对其进行转义：像第1章对字符串中的引号进行转义时所做的那样，在它前面加上一个反斜杠。因此，在这个示例中，可使用模式'python\\\\.org'，它只与'python.org'匹配。\n",
    "\n",
    "请注意，为表示模块re要求的单个反斜杠，需要在字符串中书写两个反斜杠，让解释器对其进行转义。换而言之，这里包含两层转义：解释器执行的转义和模块re执行的转义。实际上，在有些情况下也可使用单个反斜杠，让解释器自动对其进行转义，但请不要这样依赖解释器。如果你厌烦了两个反斜杆，可使用原始字符串，如r'python\\.org'。"
   ]
  },
  {
   "cell_type": "markdown",
   "metadata": {},
   "source": [
    "● 字符集匹配任何字符很有用，但有时你需要更细致地控制。为此，可以用方括号将一个子串括起，创建一个所谓的字符集。这样的字符集与其包含的字符都匹配，例如'[pj]ython'与'python'和'jython'都匹配，但不与其他字符串匹配。你还可使用范围，例如'[a-z]'与a～z的任何字母都匹配。你还可组合多个访问，方法是依次列出它们，例如'[a-zA-Z0-9]'与大写字母、小写字母和数字都匹配。请注意，字符集只能匹配一个字符。要指定排除字符集，可在开头添加一个^字符，例如'[^abc]'与除a、b和c外的其他任何字符都匹配。"
   ]
  },
  {
   "cell_type": "markdown",
   "metadata": {},
   "source": [
    "● 二选一和子模式需要以不同的方式处理每个字符时，字符集很好，但如果只想匹配字符串'python'和'perl'，该如何办呢？使用字符集或通配符无法指定这样的模式，而必须使用表示二选一的特殊字符：管道字符（|）。所需的模式为'python|perl'。然而，有时候你不想将二选一运算符用于整个模式，而只想将其用于模式的一部分。为此，可将这部分（子模式）放在圆括号内。对于前面的示例，可重写为'p(ython|erl)'。请注意，单个字符也可称为子模式。"
   ]
  },
  {
   "cell_type": "markdown",
   "metadata": {},
   "source": [
    "● 可选模式和重复模式通过在子模式后面加上问号，可将其指定为可选的，即可包含可不包含。例如，下面这个不太好懂的模式："
   ]
  },
  {
   "cell_type": "markdown",
   "metadata": {},
   "source": [
    "        r'(http://)?(www\\.)?python\\.org'"
   ]
  },
  {
   "cell_type": "markdown",
   "metadata": {},
   "source": [
    "只与下面这些字符串匹配："
   ]
  },
  {
   "cell_type": "markdown",
   "metadata": {},
   "source": [
    "        'http://www.python.org'\n",
    "        'http://python.org'\n",
    "        'www.python.org'\n",
    "        'python.org'"
   ]
  },
  {
   "cell_type": "markdown",
   "metadata": {},
   "source": [
    "对于这个示例，需要注意如下几点。\n",
    "❑ 我对句点进行了转义，以防它充当通配符。\n",
    "❑ 为减少所需的反斜杠数量，我使用了原始字符串。\n",
    "❑ 每个可选的子模式都放在圆括号内。\n",
    "❑ 每个可选的子模式都可以出现，也可以不出现。问号表示可选的子模式可出现一次，也可不出现。还有其他几个运算符用于表示子模式可重复多次。\n",
    "❑ (pattern)*：pattern可重复0、1或多次。\n",
    "❑ (pattern)+：pattern可重复1或多次。\n",
    "❑ (pattern){m,n}：模式可重复m～n次。"
   ]
  },
  {
   "cell_type": "code",
   "execution_count": null,
   "metadata": {
    "scrolled": true
   },
   "outputs": [],
   "source": [
    "# %load Chapter10/listing10_8.py\n",
    "# database.py\n",
    "import sys, shelve\n",
    "\n",
    "def store_person(db):\n",
    "    \"\"\"\n",
    "    Query user for data and store it in the shelf object\n",
    "    \"\"\"\n",
    "    pid = input('Enter unique ID number: ')\n",
    "    person = {}\n",
    "    person['name'] = input('Enter name: ')\n",
    "    person['age'] = input('Enter age: ')\n",
    "    person['phone'] = input('Enter phone number: ')\n",
    "    db[pid] = person\n",
    "\n",
    "def lookup_person(db):\n",
    "    \"\"\"\n",
    "    Query user for ID and desired field, and fetch the corresponding data from\n",
    "    the shelf object\n",
    "    \"\"\"\n",
    "    pid = input('Enter ID number: ')\n",
    "    field = input('What would you like to know? (name, age, phone) ')\n",
    "    field = field.strip().lower()\n",
    "\n",
    "    print(field.capitalize() + ':', db[pid][field])\n",
    "\n",
    "def print_help():\n",
    "    print('The available commands are:')\n",
    "    print('store  : Stores information about a person')\n",
    "    print('lookup : Looks up a person from ID number')\n",
    "    print('quit   : Save changes and exit')\n",
    "    print('?      : Prints this message')\n",
    "\n",
    "def enter_command():\n",
    "    cmd = input('Enter command (? for help): ')\n",
    "    cmd = cmd.strip().lower()\n",
    "    return cmd\n",
    "\n",
    "def main():\n",
    "    database = shelve.open('./database') # You may want to change this name\n",
    "    try:\n",
    "        while True:\n",
    "            cmd = enter_command()\n",
    "            if  cmd == 'store':\n",
    "                store_person(database)\n",
    "            elif cmd == 'lookup':\n",
    "                lookup_person(database)\n",
    "            elif cmd == '?':\n",
    "                print_help()\n",
    "            elif cmd == 'quit':\n",
    "                return\n",
    "    finally:\n",
    "        database.close()\n",
    "\n",
    "if __name__ == '__main__': main()"
   ]
  },
  {
   "cell_type": "code",
   "execution_count": null,
   "metadata": {
    "scrolled": true
   },
   "outputs": [],
   "source": [
    "%run Chapter10/listing10_8.py"
   ]
  },
  {
   "cell_type": "code",
   "execution_count": 2,
   "metadata": {},
   "outputs": [
    {
     "name": "stdout",
     "output_type": "stream",
     "text": [
      "Enter command (? for help): lookup\n",
      "Enter ID number: 1\n",
      "What would you like to know? (name, age, phone) name\n",
      "Name: yu\n",
      "Enter command (? for help): quit\n"
     ]
    }
   ],
   "source": [
    "# %load Chapter10/listing10_8.py\n",
    "# database.py\n",
    "import sys, shelve\n",
    "\n",
    "def store_person(db):\n",
    "    \"\"\"\n",
    "    Query user for data and store it in the shelf object\n",
    "    \"\"\"\n",
    "    pid = input('Enter unique ID number: ')\n",
    "    person = {}\n",
    "    person['name'] = input('Enter name: ')\n",
    "    person['age'] = input('Enter age: ')\n",
    "    person['phone'] = input('Enter phone number: ')\n",
    "    db[pid] = person\n",
    "\n",
    "def lookup_person(db):\n",
    "    \"\"\"\n",
    "    Query user for ID and desired field, and fetch the corresponding data from\n",
    "    the shelf object\n",
    "    \"\"\"\n",
    "    pid = input('Enter ID number: ')\n",
    "    field = input('What would you like to know? (name, age, phone) ')\n",
    "    field = field.strip().lower()\n",
    "\n",
    "    print(field.capitalize() + ':', db[pid][field])\n",
    "\n",
    "def print_help():\n",
    "    print('The available commands are:')\n",
    "    print('store  : Stores information about a person')\n",
    "    print('lookup : Looks up a person from ID number')\n",
    "    print('quit   : Save changes and exit')\n",
    "    print('?      : Prints this message')\n",
    "\n",
    "def enter_command():\n",
    "    cmd = input('Enter command (? for help): ')\n",
    "    cmd = cmd.strip().lower()\n",
    "    return cmd\n",
    "\n",
    "def main():\n",
    "    database = shelve.open('./database') # You may want to change this name\n",
    "    try:\n",
    "        while True:\n",
    "            cmd = enter_command()\n",
    "            if  cmd == 'store':\n",
    "                store_person(database)\n",
    "            elif cmd == 'lookup':\n",
    "                lookup_person(database)\n",
    "            elif cmd == '?':\n",
    "                print_help()\n",
    "            elif cmd == 'quit':\n",
    "                return\n",
    "    finally:\n",
    "        database.close()\n",
    "\n",
    "if __name__ == '__main__': main()"
   ]
  }
 ],
 "metadata": {
  "kernelspec": {
   "display_name": "Python 3 (ipykernel)",
   "language": "python",
   "name": "python3"
  },
  "language_info": {
   "codemirror_mode": {
    "name": "ipython",
    "version": 3
   },
   "file_extension": ".py",
   "mimetype": "text/x-python",
   "name": "python",
   "nbconvert_exporter": "python",
   "pygments_lexer": "ipython3",
   "version": "3.9.7"
  }
 },
 "nbformat": 4,
 "nbformat_minor": 4
}
