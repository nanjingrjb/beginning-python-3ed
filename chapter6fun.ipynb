{
 "cells": [
  {
   "cell_type": "markdown",
   "id": "b91f5236",
   "metadata": {},
   "source": [
    "一般而言，要判断某个对象是否可调用，可使用内置函数callable。\n"
   ]
  },
  {
   "cell_type": "code",
   "execution_count": 1,
   "id": "fdfcc31e",
   "metadata": {},
   "outputs": [
    {
     "data": {
      "text/plain": [
       "False"
      ]
     },
     "execution_count": 1,
     "metadata": {},
     "output_type": "execute_result"
    }
   ],
   "source": [
    ">>> import math\n",
    ">>> x = 1\n",
    ">>> y = math.sqrt\n",
    ">>> callable(x)\n"
   ]
  },
  {
   "cell_type": "code",
   "execution_count": 2,
   "id": "a6e92e4f",
   "metadata": {},
   "outputs": [
    {
     "data": {
      "text/plain": [
       "True"
      ]
     },
     "execution_count": 2,
     "metadata": {},
     "output_type": "execute_result"
    }
   ],
   "source": [
    ">>> callable(y)\n"
   ]
  },
  {
   "cell_type": "code",
   "execution_count": 3,
   "id": "3b3042aa",
   "metadata": {},
   "outputs": [],
   "source": [
    "def hello(name):\n",
    "            return 'Hello, ' + name + '!'\n"
   ]
  },
  {
   "cell_type": "code",
   "execution_count": 4,
   "id": "fe893033",
   "metadata": {},
   "outputs": [
    {
     "name": "stdout",
     "output_type": "stream",
     "text": [
      "Hello, world!\n"
     ]
    }
   ],
   "source": [
    ">>> print(hello('world'))\n"
   ]
  },
  {
   "cell_type": "code",
   "execution_count": 5,
   "id": "1592c085",
   "metadata": {},
   "outputs": [
    {
     "name": "stdout",
     "output_type": "stream",
     "text": [
      "Hello, Gumby!\n"
     ]
    }
   ],
   "source": [
    ">>> print(hello('Gumby'))\n"
   ]
  },
  {
   "cell_type": "code",
   "execution_count": 6,
   "id": "d9406098",
   "metadata": {},
   "outputs": [],
   "source": [
    "def fibs(num):\n",
    "            result = [0, 1]\n",
    "            for i in range(num-2):\n",
    "                result.append(result[-2] + result[-1])\n",
    "            return result\n"
   ]
  },
  {
   "cell_type": "code",
   "execution_count": 7,
   "id": "afa55612",
   "metadata": {},
   "outputs": [
    {
     "data": {
      "text/plain": [
       "[0, 1, 1, 2, 3, 5, 8, 13, 21, 34]"
      ]
     },
     "execution_count": 7,
     "metadata": {},
     "output_type": "execute_result"
    }
   ],
   "source": [
    ">>> fibs(10)\n"
   ]
  },
  {
   "cell_type": "code",
   "execution_count": 8,
   "id": "e955675e",
   "metadata": {},
   "outputs": [
    {
     "data": {
      "text/plain": [
       "[0, 1, 1, 2, 3, 5, 8, 13, 21, 34, 55, 89, 144, 233, 377]"
      ]
     },
     "execution_count": 8,
     "metadata": {},
     "output_type": "execute_result"
    }
   ],
   "source": [
    ">>> fibs(15)\n"
   ]
  },
  {
   "cell_type": "code",
   "execution_count": 10,
   "id": "bd34d929",
   "metadata": {},
   "outputs": [],
   "source": [
    "def square(x):\n",
    "            'Calculates the square of the number x.'\n",
    "            return x * x\n"
   ]
  },
  {
   "cell_type": "code",
   "execution_count": 11,
   "id": "6f7a6271",
   "metadata": {},
   "outputs": [
    {
     "data": {
      "text/plain": [
       "'Calculates the square of the number x.'"
      ]
     },
     "execution_count": 11,
     "metadata": {},
     "output_type": "execute_result"
    }
   ],
   "source": [
    ">>> square.__doc__\n"
   ]
  },
  {
   "cell_type": "code",
   "execution_count": 12,
   "id": "97f2daf6",
   "metadata": {},
   "outputs": [
    {
     "name": "stdout",
     "output_type": "stream",
     "text": [
      "Help on function square in module __main__:\n",
      "\n",
      "square(x)\n",
      "    Calculates the square of the number x.\n",
      "\n"
     ]
    }
   ],
   "source": [
    ">>> help(square)\n"
   ]
  },
  {
   "cell_type": "code",
   "execution_count": 13,
   "id": "c624c728",
   "metadata": {},
   "outputs": [],
   "source": [
    "def test():\n",
    "            print('This is printed')\n",
    "            return\n",
    "            print('This is not')\n"
   ]
  },
  {
   "cell_type": "code",
   "execution_count": 14,
   "id": "7beca180",
   "metadata": {},
   "outputs": [
    {
     "name": "stdout",
     "output_type": "stream",
     "text": [
      "This is printed\n"
     ]
    }
   ],
   "source": [
    ">>> x = test()\n"
   ]
  },
  {
   "cell_type": "code",
   "execution_count": 15,
   "id": "d5bc4969",
   "metadata": {},
   "outputs": [],
   "source": [
    ">>> x\n"
   ]
  },
  {
   "cell_type": "code",
   "execution_count": 21,
   "id": "fd73b9e3",
   "metadata": {},
   "outputs": [
    {
     "data": {
      "text/plain": [
       "NoneType"
      ]
     },
     "execution_count": 21,
     "metadata": {},
     "output_type": "execute_result"
    }
   ],
   "source": [
    "type(x)"
   ]
  },
  {
   "cell_type": "code",
   "execution_count": 22,
   "id": "ea6d5236",
   "metadata": {},
   "outputs": [
    {
     "name": "stdout",
     "output_type": "stream",
     "text": [
      "None\n"
     ]
    }
   ],
   "source": [
    ">>> print(x)\n"
   ]
  },
  {
   "cell_type": "code",
   "execution_count": 23,
   "id": "c7fb7468",
   "metadata": {},
   "outputs": [
    {
     "data": {
      "text/plain": [
       "['Mr. Gumby', 'Mrs. Thing']"
      ]
     },
     "execution_count": 23,
     "metadata": {},
     "output_type": "execute_result"
    }
   ],
   "source": [
    ">>> names = ['Mrs. Entity', 'Mrs. Thing']\n",
    ">>> n = names             # 再次假装传递名字作为参数\n",
    ">>> n[0] = 'Mr. Gumby'   # 修改列表\n",
    ">>> names\n"
   ]
  },
  {
   "cell_type": "markdown",
   "id": "c231312a",
   "metadata": {},
   "source": [
    "这样的情况你早就见过。将同一个列表赋给两个变量时，这两个变量将同时指向这个列表。就这么简单。要避免这样的结果，必须创建列表的副本。对序列执行切片操作时，返回的切片都是副本。因此，如果你创建覆盖整个列表的切片，得到的将是列表的副本。"
   ]
  },
  {
   "cell_type": "code",
   "execution_count": 24,
   "id": "88c1ccfa",
   "metadata": {},
   "outputs": [],
   "source": [
    ">>> names = ['Mrs. Entity', 'Mrs. Thing']\n",
    ">>> n = names[:]\n"
   ]
  },
  {
   "cell_type": "code",
   "execution_count": 25,
   "id": "92a04b5f",
   "metadata": {},
   "outputs": [
    {
     "data": {
      "text/plain": [
       "False"
      ]
     },
     "execution_count": 25,
     "metadata": {},
     "output_type": "execute_result"
    }
   ],
   "source": [
    "names is n"
   ]
  },
  {
   "cell_type": "code",
   "execution_count": 26,
   "id": "8219eed0",
   "metadata": {},
   "outputs": [
    {
     "data": {
      "text/plain": [
       "True"
      ]
     },
     "execution_count": 26,
     "metadata": {},
     "output_type": "execute_result"
    }
   ],
   "source": [
    "names==n"
   ]
  },
  {
   "cell_type": "code",
   "execution_count": 27,
   "id": "ee173900",
   "metadata": {},
   "outputs": [
    {
     "data": {
      "text/plain": [
       "484922913600"
      ]
     },
     "execution_count": 27,
     "metadata": {},
     "output_type": "execute_result"
    }
   ],
   "source": [
    "id(names)"
   ]
  },
  {
   "cell_type": "code",
   "execution_count": 28,
   "id": "abe4dd04",
   "metadata": {},
   "outputs": [
    {
     "data": {
      "text/plain": [
       "484922802368"
      ]
     },
     "execution_count": 28,
     "metadata": {},
     "output_type": "execute_result"
    }
   ],
   "source": [
    "id(n)"
   ]
  },
  {
   "cell_type": "code",
   "execution_count": 30,
   "id": "fd35299d",
   "metadata": {},
   "outputs": [
    {
     "data": {
      "text/plain": [
       "['Mr. Gumby', 'Mrs. Thing']"
      ]
     },
     "execution_count": 30,
     "metadata": {},
     "output_type": "execute_result"
    }
   ],
   "source": [
    ">>> n[0] = 'Mr. Gumby'\n",
    ">>> n\n"
   ]
  },
  {
   "cell_type": "code",
   "execution_count": 31,
   "id": "3bd2226b",
   "metadata": {},
   "outputs": [
    {
     "data": {
      "text/plain": [
       "['Mrs. Entity', 'Mrs. Thing']"
      ]
     },
     "execution_count": 31,
     "metadata": {},
     "output_type": "execute_result"
    }
   ],
   "source": [
    ">>> names\n"
   ]
  },
  {
   "cell_type": "code",
   "execution_count": 36,
   "id": "a5241ccd",
   "metadata": {},
   "outputs": [],
   "source": [
    "def change(n):\n",
    "         n = 'Mr. Gumby'\n"
   ]
  },
  {
   "cell_type": "code",
   "execution_count": 37,
   "id": "f159df8b",
   "metadata": {},
   "outputs": [
    {
     "data": {
      "text/plain": [
       "['Mrs. Entity', 'Mrs. Thing']"
      ]
     },
     "execution_count": 37,
     "metadata": {},
     "output_type": "execute_result"
    }
   ],
   "source": [
    ">>> change(names[:])\n",
    ">>> names\n"
   ]
  },
  {
   "cell_type": "code",
   "execution_count": 38,
   "id": "bb47e154",
   "metadata": {},
   "outputs": [],
   "source": [
    "def init(data):\n",
    "            data['first'] = {}\n",
    "            data['middle'] = {}\n",
    "            data['last'] = {}\n"
   ]
  },
  {
   "cell_type": "code",
   "execution_count": 41,
   "id": "f882e577",
   "metadata": {},
   "outputs": [],
   "source": [
    "def lookup(data, label, name):\n",
    "            return data[label].get(name)\n"
   ]
  },
  {
   "cell_type": "code",
   "execution_count": 39,
   "id": "51e68339",
   "metadata": {},
   "outputs": [
    {
     "data": {
      "text/plain": [
       "{'first': {}, 'middle': {}, 'last': {}}"
      ]
     },
     "execution_count": 39,
     "metadata": {},
     "output_type": "execute_result"
    }
   ],
   "source": [
    ">>> storage = {}\n",
    ">>> init(storage)\n",
    ">>> storage\n"
   ]
  },
  {
   "cell_type": "code",
   "execution_count": 42,
   "id": "cbebc5b6",
   "metadata": {},
   "outputs": [],
   "source": [
    "def store(data, full_name):\n",
    "            names = full_name.split()\n",
    "            if len(names) == 2: names.insert(1, '')\n",
    "            labels = 'first', 'middle', 'last'\n",
    "\n",
    "\n",
    "            for label, name in zip(labels, names):\n",
    "              people = lookup(data, label, name)\n",
    "              if people:\n",
    "                  people.append(full_name)\n",
    "              else:\n",
    "                  data[label][name] = [full_name]\n"
   ]
  },
  {
   "cell_type": "code",
   "execution_count": 43,
   "id": "832e7037",
   "metadata": {},
   "outputs": [
    {
     "data": {
      "text/plain": [
       "['Magnus Lie Hetland']"
      ]
     },
     "execution_count": 43,
     "metadata": {},
     "output_type": "execute_result"
    }
   ],
   "source": [
    ">>> MyNames = {}\n",
    ">>> init(MyNames)\n",
    ">>> store(MyNames, 'Magnus Lie Hetland')\n",
    ">>> lookup(MyNames, 'middle', 'Lie')\n"
   ]
  },
  {
   "cell_type": "code",
   "execution_count": 44,
   "id": "c856f6d1",
   "metadata": {},
   "outputs": [
    {
     "data": {
      "text/plain": [
       "['Robin Hood', 'Robin Locksley']"
      ]
     },
     "execution_count": 44,
     "metadata": {},
     "output_type": "execute_result"
    }
   ],
   "source": [
    ">>> store(MyNames, 'Robin Hood')\n",
    ">>> store(MyNames, 'Robin Locksley')\n",
    ">>> lookup(MyNames, 'first', 'Robin')\n"
   ]
  },
  {
   "cell_type": "code",
   "execution_count": 46,
   "id": "a260c462",
   "metadata": {},
   "outputs": [
    {
     "data": {
      "text/plain": [
       "{'first': {'Magnus': ['Magnus Lie Hetland'],\n",
       "  'Robin': ['Robin Hood', 'Robin Locksley']},\n",
       " 'middle': {'Lie': ['Magnus Lie Hetland'],\n",
       "  '': ['Robin Hood', 'Robin Locksley']},\n",
       " 'last': {'Hetland': ['Magnus Lie Hetland'],\n",
       "  'Hood': ['Robin Hood'],\n",
       "  'Locksley': ['Robin Locksley']}}"
      ]
     },
     "execution_count": 46,
     "metadata": {},
     "output_type": "execute_result"
    }
   ],
   "source": [
    "MyNames"
   ]
  }
 ],
 "metadata": {
  "kernelspec": {
   "display_name": "Python 3 (ipykernel)",
   "language": "python",
   "name": "python3"
  },
  "language_info": {
   "codemirror_mode": {
    "name": "ipython",
    "version": 3
   },
   "file_extension": ".py",
   "mimetype": "text/x-python",
   "name": "python",
   "nbconvert_exporter": "python",
   "pygments_lexer": "ipython3",
   "version": "3.9.7"
  }
 },
 "nbformat": 4,
 "nbformat_minor": 5
}
